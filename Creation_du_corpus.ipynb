{
  "nbformat": 4,
  "nbformat_minor": 0,
  "metadata": {
    "colab": {
      "name": "creation du corpus",
      "provenance": [],
      "collapsed_sections": []
    },
    "kernelspec": {
      "name": "python3",
      "display_name": "Python 3"
    },
    "language_info": {
      "name": "python"
    }
  },
  "cells": [
    {
      "cell_type": "markdown",
      "source": [
        "# Data Scraping en utilisant la librairie Snscrape\n",
        "> #### [Snscrape](https://github.com/JustAnotherArchivist/snscrape) est un scraper pour les services de réseaux sociaux. Il récupère des éléments tels que les profils d'utilisateurs, les hashtags ou les recherches et renvoie les éléments découverts, par ex. les postes concernés.\n",
        "\n"
      ],
      "metadata": {
        "id": "nAbEqfgOzQzf"
      }
    },
    {
      "cell_type": "markdown",
      "source": [
        "### Installation du dernier version de la librairie Snscrape"
      ],
      "metadata": {
        "id": "VoVf3VIJzs3e"
      }
    },
    {
      "cell_type": "code",
      "execution_count": null,
      "metadata": {
        "id": "rX8-Y-67zKl2"
      },
      "outputs": [],
      "source": [
        "! pip install git+https://github.com/JustAnotherArchivist/snscrape.git"
      ]
    },
    {
      "cell_type": "markdown",
      "source": [
        "### Importation des librairies"
      ],
      "metadata": {
        "id": "8D3H3N6rz7ys"
      }
    },
    {
      "cell_type": "code",
      "source": [
        "import os\n",
        "import shutil\n",
        "import pandas as pd\n",
        "import json\n",
        "import zipfile"
      ],
      "metadata": {
        "id": "UQJPKoWc0CNd"
      },
      "execution_count": 2,
      "outputs": []
    },
    {
      "cell_type": "markdown",
      "source": [
        "### Snscraping"
      ],
      "metadata": {
        "id": "kEyAIFKJ0UZ9"
      }
    },
    {
      "cell_type": "markdown",
      "source": [
        "##### Définition des paramètres de Scraper des données"
      ],
      "metadata": {
        "id": "JtCKAPhbz5Sd"
      }
    },
    {
      "cell_type": "code",
      "source": [
        "# Requête (recherche de texte)\n",
        "  # Chercher les tweets du dernier mois\n",
        "tweet_count = 100000\n",
        "text_query = \"covid lang:fr\"\n",
        "since_date = \"2021-12-06\"\n",
        "until_date = \"2022-01-08\"\n",
        "output_file = \"covid-tweets.json\""
      ],
      "metadata": {
        "id": "kTOvzHb-0LiM"
      },
      "execution_count": 3,
      "outputs": []
    },
    {
      "cell_type": "markdown",
      "source": [
        "##### Utilisation de la bibliothèque OS pour appeler des commandes CLI en Python"
      ],
      "metadata": {
        "id": "jGQJ6N4p0azl"
      }
    },
    {
      "cell_type": "code",
      "source": [
        "os.system(f'snscrape --jsonl --max-results { tweet_count } twitter-search \"{ text_query } since:{ since_date }  until:{ until_date }\" > { output_file }')"
      ],
      "metadata": {
        "id": "hJuCUT7F0brd"
      },
      "execution_count": null,
      "outputs": []
    },
    {
      "cell_type": "markdown",
      "source": [
        "##### Lecture du fichier json généré à partir de la commande CLI ci-dessus et crée une dataframe pandas"
      ],
      "metadata": {
        "id": "JoiHi-Bw0f3l"
      }
    },
    {
      "cell_type": "code",
      "source": [
        "tweets_file = output_file\n",
        "cols = ['date', 'content']\n",
        "data = []\n",
        "\n",
        "with open(tweets_file, encoding='utf-16') as file: # Enlever le encoding s'il y'a une erreur.\n",
        "    for line in file.readlines():\n",
        "      doc = json.loads(line)\n",
        "      lst = [doc['date'], doc['content']]\n",
        "      data.append(lst)\n",
        "\n",
        "tweets_df = pd.DataFrame(data = data, columns = cols)"
      ],
      "metadata": {
        "id": "EiZKHfsw0jUN"
      },
      "execution_count": 5,
      "outputs": []
    },
    {
      "cell_type": "markdown",
      "source": [
        "##### Echantillon de données"
      ],
      "metadata": {
        "id": "mPJP0Cbf0v-9"
      }
    },
    {
      "cell_type": "code",
      "source": [
        "tweets_df.head()"
      ],
      "metadata": {
        "colab": {
          "base_uri": "https://localhost:8080/",
          "height": 206
        },
        "id": "94nUgJvW0yqH",
        "outputId": "d68d43be-f7b4-4cc3-b7da-8a1978a085c8"
      },
      "execution_count": 6,
      "outputs": [
        {
          "output_type": "execute_result",
          "data": {
            "text/html": [
              "\n",
              "  <div id=\"df-8e63c515-2c4e-420a-b269-0b8134d0ab8b\">\n",
              "    <div class=\"colab-df-container\">\n",
              "      <div>\n",
              "<style scoped>\n",
              "    .dataframe tbody tr th:only-of-type {\n",
              "        vertical-align: middle;\n",
              "    }\n",
              "\n",
              "    .dataframe tbody tr th {\n",
              "        vertical-align: top;\n",
              "    }\n",
              "\n",
              "    .dataframe thead th {\n",
              "        text-align: right;\n",
              "    }\n",
              "</style>\n",
              "<table border=\"1\" class=\"dataframe\">\n",
              "  <thead>\n",
              "    <tr style=\"text-align: right;\">\n",
              "      <th></th>\n",
              "      <th>date</th>\n",
              "      <th>content</th>\n",
              "    </tr>\n",
              "  </thead>\n",
              "  <tbody>\n",
              "    <tr>\n",
              "      <th>0</th>\n",
              "      <td>2022-01-07T08:56:07+00:00</td>\n",
              "      <td>M. le 1er Ministre @JeanCASTEX \\nM. le Ministr...</td>\n",
              "    </tr>\n",
              "    <tr>\n",
              "      <th>1</th>\n",
              "      <td>2022-01-07T08:55:59+00:00</td>\n",
              "      <td>Qui est l’ancêtre du père Noël ?! 🎅🏾😂 @Bengous...</td>\n",
              "    </tr>\n",
              "    <tr>\n",
              "      <th>2</th>\n",
              "      <td>2022-01-07T08:54:53+00:00</td>\n",
              "      <td>Non, le vaccin contre la #Covid19 n’est plus e...</td>\n",
              "    </tr>\n",
              "    <tr>\n",
              "      <th>3</th>\n",
              "      <td>2022-01-07T08:54:53+00:00</td>\n",
              "      <td>@FEvan96488906 @herve66pinson @christinedorin ...</td>\n",
              "    </tr>\n",
              "    <tr>\n",
              "      <th>4</th>\n",
              "      <td>2022-01-07T08:54:49+00:00</td>\n",
              "      <td>Football. Covid19. Le Syli enregistre de nouve...</td>\n",
              "    </tr>\n",
              "  </tbody>\n",
              "</table>\n",
              "</div>\n",
              "      <button class=\"colab-df-convert\" onclick=\"convertToInteractive('df-8e63c515-2c4e-420a-b269-0b8134d0ab8b')\"\n",
              "              title=\"Convert this dataframe to an interactive table.\"\n",
              "              style=\"display:none;\">\n",
              "        \n",
              "  <svg xmlns=\"http://www.w3.org/2000/svg\" height=\"24px\"viewBox=\"0 0 24 24\"\n",
              "       width=\"24px\">\n",
              "    <path d=\"M0 0h24v24H0V0z\" fill=\"none\"/>\n",
              "    <path d=\"M18.56 5.44l.94 2.06.94-2.06 2.06-.94-2.06-.94-.94-2.06-.94 2.06-2.06.94zm-11 1L8.5 8.5l.94-2.06 2.06-.94-2.06-.94L8.5 2.5l-.94 2.06-2.06.94zm10 10l.94 2.06.94-2.06 2.06-.94-2.06-.94-.94-2.06-.94 2.06-2.06.94z\"/><path d=\"M17.41 7.96l-1.37-1.37c-.4-.4-.92-.59-1.43-.59-.52 0-1.04.2-1.43.59L10.3 9.45l-7.72 7.72c-.78.78-.78 2.05 0 2.83L4 21.41c.39.39.9.59 1.41.59.51 0 1.02-.2 1.41-.59l7.78-7.78 2.81-2.81c.8-.78.8-2.07 0-2.86zM5.41 20L4 18.59l7.72-7.72 1.47 1.35L5.41 20z\"/>\n",
              "  </svg>\n",
              "      </button>\n",
              "      \n",
              "  <style>\n",
              "    .colab-df-container {\n",
              "      display:flex;\n",
              "      flex-wrap:wrap;\n",
              "      gap: 12px;\n",
              "    }\n",
              "\n",
              "    .colab-df-convert {\n",
              "      background-color: #E8F0FE;\n",
              "      border: none;\n",
              "      border-radius: 50%;\n",
              "      cursor: pointer;\n",
              "      display: none;\n",
              "      fill: #1967D2;\n",
              "      height: 32px;\n",
              "      padding: 0 0 0 0;\n",
              "      width: 32px;\n",
              "    }\n",
              "\n",
              "    .colab-df-convert:hover {\n",
              "      background-color: #E2EBFA;\n",
              "      box-shadow: 0px 1px 2px rgba(60, 64, 67, 0.3), 0px 1px 3px 1px rgba(60, 64, 67, 0.15);\n",
              "      fill: #174EA6;\n",
              "    }\n",
              "\n",
              "    [theme=dark] .colab-df-convert {\n",
              "      background-color: #3B4455;\n",
              "      fill: #D2E3FC;\n",
              "    }\n",
              "\n",
              "    [theme=dark] .colab-df-convert:hover {\n",
              "      background-color: #434B5C;\n",
              "      box-shadow: 0px 1px 3px 1px rgba(0, 0, 0, 0.15);\n",
              "      filter: drop-shadow(0px 1px 2px rgba(0, 0, 0, 0.3));\n",
              "      fill: #FFFFFF;\n",
              "    }\n",
              "  </style>\n",
              "\n",
              "      <script>\n",
              "        const buttonEl =\n",
              "          document.querySelector('#df-8e63c515-2c4e-420a-b269-0b8134d0ab8b button.colab-df-convert');\n",
              "        buttonEl.style.display =\n",
              "          google.colab.kernel.accessAllowed ? 'block' : 'none';\n",
              "\n",
              "        async function convertToInteractive(key) {\n",
              "          const element = document.querySelector('#df-8e63c515-2c4e-420a-b269-0b8134d0ab8b');\n",
              "          const dataTable =\n",
              "            await google.colab.kernel.invokeFunction('convertToInteractive',\n",
              "                                                     [key], {});\n",
              "          if (!dataTable) return;\n",
              "\n",
              "          const docLinkHtml = 'Like what you see? Visit the ' +\n",
              "            '<a target=\"_blank\" href=https://colab.research.google.com/notebooks/data_table.ipynb>data table notebook</a>'\n",
              "            + ' to learn more about interactive tables.';\n",
              "          element.innerHTML = '';\n",
              "          dataTable['output_type'] = 'display_data';\n",
              "          await google.colab.output.renderOutput(dataTable, element);\n",
              "          const docLink = document.createElement('div');\n",
              "          docLink.innerHTML = docLinkHtml;\n",
              "          element.appendChild(docLink);\n",
              "        }\n",
              "      </script>\n",
              "    </div>\n",
              "  </div>\n",
              "  "
            ],
            "text/plain": [
              "                        date                                            content\n",
              "0  2022-01-07T08:56:07+00:00  M. le 1er Ministre @JeanCASTEX \\nM. le Ministr...\n",
              "1  2022-01-07T08:55:59+00:00  Qui est l’ancêtre du père Noël ?! 🎅🏾😂 @Bengous...\n",
              "2  2022-01-07T08:54:53+00:00  Non, le vaccin contre la #Covid19 n’est plus e...\n",
              "3  2022-01-07T08:54:53+00:00  @FEvan96488906 @herve66pinson @christinedorin ...\n",
              "4  2022-01-07T08:54:49+00:00  Football. Covid19. Le Syli enregistre de nouve..."
            ]
          },
          "metadata": {},
          "execution_count": 6
        }
      ]
    },
    {
      "cell_type": "markdown",
      "source": [
        "### Création du corpus"
      ],
      "metadata": {
        "id": "vJMGdz9q06z-"
      }
    },
    {
      "cell_type": "markdown",
      "source": [
        "##### Création du répertoire"
      ],
      "metadata": {
        "id": "HGuKxMdB0-x9"
      }
    },
    {
      "cell_type": "code",
      "source": [
        "corpusdir = 'tweets/'\n",
        "if not os.path.isdir(corpusdir):\n",
        "    os.mkdir(corpusdir)"
      ],
      "metadata": {
        "id": "K_LcW4DR07eX"
      },
      "execution_count": 7,
      "outputs": []
    },
    {
      "cell_type": "markdown",
      "source": [
        "##### Exportation des tweets dans un fichier de nom 'tweet_{id}_{date}.txt'"
      ],
      "metadata": {
        "id": "LNvBiFSO1Hvs"
      }
    },
    {
      "cell_type": "code",
      "source": [
        "for id, row in tweets_df.iterrows():\n",
        "  filename = f'tweet_{ id }_{ pd.to_datetime(row[\"date\"]).date() }.txt'\n",
        "  with open(corpusdir + filename, 'w', encoding=\"utf-8\") as file:\n",
        "    file.write(row['content'])\n",
        "  with zipfile.ZipFile(\"corpus_tweets.zip\", \"a\", compression = zipfile.ZIP_DEFLATED) as zf:\n",
        "    zf.write(corpusdir + filename)"
      ],
      "metadata": {
        "id": "nJ5qP7vY1HEE"
      },
      "execution_count": null,
      "outputs": []
    },
    {
      "cell_type": "markdown",
      "source": [
        "##### Suppréssion des fichiers inutiles"
      ],
      "metadata": {
        "id": "iMnc8PzS5J1k"
      }
    },
    {
      "cell_type": "code",
      "source": [
        "if os.path.isdir(corpusdir):\n",
        "  shutil.rmtree(corpusdir)\n",
        "\n",
        "os.remove(tweets_file)"
      ],
      "metadata": {
        "id": "2pVmmPTW5Jb4"
      },
      "execution_count": 9,
      "outputs": []
    }
  ]
}