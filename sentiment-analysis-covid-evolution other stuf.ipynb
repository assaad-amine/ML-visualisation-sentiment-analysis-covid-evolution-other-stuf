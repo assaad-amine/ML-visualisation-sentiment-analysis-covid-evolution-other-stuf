{
 "cells": [
  {
   "cell_type": "markdown",
   "id": "109112d8",
   "metadata": {
    "papermill": {
     "duration": 0.085052,
     "end_time": "2022-01-25T15:46:03.504516",
     "exception": false,
     "start_time": "2022-01-25T15:46:03.419464",
     "status": "completed"
    },
    "tags": []
   },
   "source": [
    "![center](https://bensonruan.com/wp-content/uploads/2019/10/Twitter-Sentiment-Analysis.jpg)"
   ]
  },
  {
   "cell_type": "markdown",
   "id": "8903ae6f",
   "metadata": {
    "papermill": {
     "duration": 0.082753,
     "end_time": "2022-01-25T15:46:03.672557",
     "exception": false,
     "start_time": "2022-01-25T15:46:03.589804",
     "status": "completed"
    },
    "tags": []
   },
   "source": [
    "**Business Goal**\n",
    "\n",
    "Create classification models that will be used to predict population behavior in relation to new changes in the corona virus \n",
    "\n",
    "**Below are the steps which we will be basically following:**\n",
    "\n",
    "> 1. Step 1: Reading and Understanding the Data\n",
    ">\n",
    "> 2. Step 2: Text Pre-Proces\n",
    ">\n",
    ">    * Sentiment Analysis\n",
    ">    * Stop-Word Removal \n",
    ">    * Lower Casing \n",
    ">    * Stemming \n",
    ">    * Lemmatization \n",
    ">    * Tokenization \n",
    ">\n",
    ">\n",
    "> 3. Step 3: BAG OF WORDS\n",
    ">\n",
    ">     * Split Data\n",
    ">     * Training ML Models\n",
    ">         1. Naive Bayes\n",
    ">         2. Decision Tree\n",
    ">         3. Random Forest\n",
    ">         4. Gradient Boosting\n",
    ">         5. Logistic Regression\n",
    ">\n",
    "> \n",
    "> 4. Step 4: TF-IDF\n",
    ">\n",
    ">     * Split Data\n",
    ">     * Training ML Models\n",
    ">         1. Naive Bayes\n",
    ">         2. Decision Tree\n",
    ">         3. Random Forest\n",
    ">         4. Gradient Boosting\n",
    ">         5. Logistic Regression\n",
    "> \n",
    "> \n",
    "> 5. Step 5: Bigrams\n",
    "> \n",
    "> 6. Step 6: Gensim Word2Vec\n",
    "> \n",
    ">     * Building the Vocabulary Table\n",
    ">     * Training of the model:\n",
    ">     * Exploring the model\n",
    ">     * Similarities\n",
    ">     * Odd-One-Out\n",
    ">     * t-SNE visualizations\n",
    ">     * Train ML models\n",
    ">         1. Naive Bayes\n",
    ">         2. Decision Tree\n",
    ">         3. Random Forest\n",
    ">         4. Gradient Boosting\n",
    ">         5. Logistic Regression\n",
    ">         6. SVM\n",
    "> \n",
    ">\n",
    "> 7. Step 7: Gensim FastText\n",
    "> \n",
    ">     * Building the Vocabulary Table\n",
    ">     * Training of the model:\n",
    ">     * Exploring the model\n",
    ">     * t-SNE visualizations\n",
    ">     * Train ML models\n",
    ">         1. Naive Bayes\n",
    ">         2. Decision Tree\n",
    ">         3. Random Forest\n",
    ">         4. Gradient Boosting\n",
    ">         5. Logistic Regression\n",
    ">         6. SVM\n",
    ">\n",
    ">\n",
    "> 8. Step 8: Evaluation\n",
    "\n"
   ]
  },
  {
   "cell_type": "code",
   "execution_count": 1,
   "id": "cb633556",
   "metadata": {
    "execution": {
     "iopub.execute_input": "2022-01-25T15:46:03.865351Z",
     "iopub.status.busy": "2022-01-25T15:46:03.844587Z",
     "iopub.status.idle": "2022-01-25T15:46:27.498945Z",
     "shell.execute_reply": "2022-01-25T15:46:27.498248Z",
     "shell.execute_reply.started": "2022-01-25T14:31:24.582773Z"
    },
    "papermill": {
     "duration": 23.743255,
     "end_time": "2022-01-25T15:46:27.499130",
     "exception": false,
     "start_time": "2022-01-25T15:46:03.755875",
     "status": "completed"
    },
    "tags": []
   },
   "outputs": [
    {
     "name": "stdout",
     "output_type": "stream",
     "text": [
      "[nltk_data] Downloading package stopwords to /usr/share/nltk_data...\n",
      "[nltk_data]   Package stopwords is already up-to-date!\n",
      "[nltk_data] Downloading package wordnet to /usr/share/nltk_data...\n",
      "[nltk_data]   Package wordnet is already up-to-date!\n",
      "[nltk_data] Downloading package omw-1.4 to /usr/share/nltk_data...\n",
      "[nltk_data]   Unzipping corpora/omw-1.4.zip.\n",
      "Collecting neattext\r\n",
      "  Downloading neattext-0.1.2-py3-none-any.whl (114 kB)\r\n",
      "     |████████████████████████████████| 114 kB 5.2 MB/s            \r\n",
      "\u001b[?25hInstalling collected packages: neattext\r\n",
      "Successfully installed neattext-0.1.2\r\n",
      "\u001b[33mWARNING: Running pip as the 'root' user can result in broken permissions and conflicting behaviour with the system package manager. It is recommended to use a virtual environment instead: https://pip.pypa.io/warnings/venv\u001b[0m\r\n",
      "Collecting vaderSentiment\r\n",
      "  Downloading vaderSentiment-3.3.2-py2.py3-none-any.whl (125 kB)\r\n",
      "     |████████████████████████████████| 125 kB 5.1 MB/s            \r\n",
      "\u001b[?25hRequirement already satisfied: requests in /opt/conda/lib/python3.7/site-packages (from vaderSentiment) (2.26.0)\r\n",
      "Requirement already satisfied: charset-normalizer~=2.0.0 in /opt/conda/lib/python3.7/site-packages (from requests->vaderSentiment) (2.0.8)\r\n",
      "Requirement already satisfied: certifi>=2017.4.17 in /opt/conda/lib/python3.7/site-packages (from requests->vaderSentiment) (2021.10.8)\r\n",
      "Requirement already satisfied: idna<4,>=2.5 in /opt/conda/lib/python3.7/site-packages (from requests->vaderSentiment) (3.1)\r\n",
      "Requirement already satisfied: urllib3<1.27,>=1.21.1 in /opt/conda/lib/python3.7/site-packages (from requests->vaderSentiment) (1.26.7)\r\n",
      "Installing collected packages: vaderSentiment\r\n",
      "Successfully installed vaderSentiment-3.3.2\r\n",
      "\u001b[33mWARNING: Running pip as the 'root' user can result in broken permissions and conflicting behaviour with the system package manager. It is recommended to use a virtual environment instead: https://pip.pypa.io/warnings/venv\u001b[0m\r\n"
     ]
    }
   ],
   "source": [
    "import numpy as np # linear algebra\n",
    "import pandas as pd # data processing, CSV file I/O (e.g. pd.read_csv)\n",
    "import re \n",
    "import matplotlib.pyplot as plt\n",
    "import seaborn as sns \n",
    "\n",
    "# Cleaning Data Tools\n",
    "import nltk\n",
    "from nltk.corpus import stopwords\n",
    "from nltk.stem import WordNetLemmatizer\n",
    "from nltk.stem import SnowballStemmer \n",
    "from nltk.tokenize import RegexpTokenizer\n",
    "nltk.download('stopwords')\n",
    "nltk.download('wordnet')\n",
    "nltk.download('omw-1.4')\n",
    "stopwords = stopwords.words('english')\n",
    "\n",
    "# Sentiment Analysis \n",
    "!pip install neattext\n",
    "!pip install vaderSentiment\n",
    "from vaderSentiment.vaderSentiment import SentimentIntensityAnalyzer\n",
    "import neattext.functions as nfx\n",
    "from textblob import TextBlob\n",
    "import emoji\n",
    "\n",
    "from gensim.models.phrases import Phrases, Phraser\n",
    "\n",
    "# Word Embedding\n",
    "from sklearn.feature_extraction.text import TfidfVectorizer, CountVectorizer #for TF-IDF\n",
    "from sklearn.feature_extraction.text import CountVectorizer  #For Bag of words\n",
    "from gensim.models import Word2Vec  #For Word2Vec\n",
    "from gensim.models import FastText  #For Fast Text\n",
    "\n",
    "# Scaling and Evaluation Methods\n",
    "from sklearn import preprocessing\n",
    "from sklearn.metrics import precision_score, recall_score, f1_score, accuracy_score,confusion_matrix\n",
    "from sklearn.model_selection import cross_val_score\n",
    "from sklearn.preprocessing import StandardScaler\n",
    "from sklearn.model_selection import train_test_split\n",
    "from sklearn.model_selection import GridSearchCV\n",
    "\n",
    "# ML Models\n",
    "from sklearn.tree import DecisionTreeClassifier\n",
    "from sklearn.ensemble import RandomForestClassifier\n",
    "from sklearn.ensemble import GradientBoostingClassifier\n",
    "from sklearn.linear_model import LogisticRegression\n",
    "from sklearn.naive_bayes import MultinomialNB\n",
    "from sklearn.naive_bayes import GaussianNB\n",
    "from sklearn.svm import SVC\n",
    "from sklearn.pipeline import Pipeline"
   ]
  },
  {
   "cell_type": "code",
   "execution_count": 2,
   "id": "0b1671a9",
   "metadata": {
    "execution": {
     "iopub.execute_input": "2022-01-25T15:46:27.680641Z",
     "iopub.status.busy": "2022-01-25T15:46:27.680012Z",
     "iopub.status.idle": "2022-01-25T15:46:30.157704Z",
     "shell.execute_reply": "2022-01-25T15:46:30.157164Z",
     "shell.execute_reply.started": "2022-01-25T14:31:43.208330Z"
    },
    "papermill": {
     "duration": 2.570579,
     "end_time": "2022-01-25T15:46:30.157896",
     "exception": false,
     "start_time": "2022-01-25T15:46:27.587317",
     "status": "completed"
    },
    "tags": []
   },
   "outputs": [],
   "source": [
    "tweet_data = pd.read_csv(\"/kaggle/input/covid19-tweets/covid_tweets_anglais.csv\") "
   ]
  },
  {
   "cell_type": "code",
   "execution_count": 3,
   "id": "efd58cd3",
   "metadata": {
    "execution": {
     "iopub.execute_input": "2022-01-25T15:46:30.334988Z",
     "iopub.status.busy": "2022-01-25T15:46:30.333972Z",
     "iopub.status.idle": "2022-01-25T15:46:30.371061Z",
     "shell.execute_reply": "2022-01-25T15:46:30.371563Z",
     "shell.execute_reply.started": "2022-01-25T14:31:44.670251Z"
    },
    "papermill": {
     "duration": 0.127279,
     "end_time": "2022-01-25T15:46:30.371746",
     "exception": false,
     "start_time": "2022-01-25T15:46:30.244467",
     "status": "completed"
    },
    "tags": []
   },
   "outputs": [
    {
     "data": {
      "text/html": [
       "<div>\n",
       "<style scoped>\n",
       "    .dataframe tbody tr th:only-of-type {\n",
       "        vertical-align: middle;\n",
       "    }\n",
       "\n",
       "    .dataframe tbody tr th {\n",
       "        vertical-align: top;\n",
       "    }\n",
       "\n",
       "    .dataframe thead th {\n",
       "        text-align: right;\n",
       "    }\n",
       "</style>\n",
       "<table border=\"1\" class=\"dataframe\">\n",
       "  <thead>\n",
       "    <tr style=\"text-align: right;\">\n",
       "      <th></th>\n",
       "      <th>url</th>\n",
       "      <th>date</th>\n",
       "      <th>content</th>\n",
       "      <th>renderedContent</th>\n",
       "      <th>id</th>\n",
       "      <th>user</th>\n",
       "      <th>replyCount</th>\n",
       "      <th>retweetCount</th>\n",
       "      <th>likeCount</th>\n",
       "      <th>quoteCount</th>\n",
       "      <th>...</th>\n",
       "      <th>media</th>\n",
       "      <th>retweetedTweet</th>\n",
       "      <th>quotedTweet</th>\n",
       "      <th>inReplyToTweetId</th>\n",
       "      <th>inReplyToUser</th>\n",
       "      <th>mentionedUsers</th>\n",
       "      <th>coordinates</th>\n",
       "      <th>place</th>\n",
       "      <th>hashtags</th>\n",
       "      <th>cashtags</th>\n",
       "    </tr>\n",
       "  </thead>\n",
       "  <tbody>\n",
       "    <tr>\n",
       "      <th>0</th>\n",
       "      <td>https://twitter.com/huanyigeni1/status/1483251...</td>\n",
       "      <td>2022-01-18 01:34:49+00:00</td>\n",
       "      <td>#COVID19\\n#COVID-19\\n#COVID\\n#Omicron The trut...</td>\n",
       "      <td>#COVID19\\n#COVID-19\\n#COVID\\n#Omicron The trut...</td>\n",
       "      <td>1483251497223659521</td>\n",
       "      <td>{'_type': 'snscrape.modules.twitter.User', 'us...</td>\n",
       "      <td>0</td>\n",
       "      <td>0</td>\n",
       "      <td>0</td>\n",
       "      <td>0</td>\n",
       "      <td>...</td>\n",
       "      <td>NaN</td>\n",
       "      <td>NaN</td>\n",
       "      <td>NaN</td>\n",
       "      <td>NaN</td>\n",
       "      <td>NaN</td>\n",
       "      <td>NaN</td>\n",
       "      <td>NaN</td>\n",
       "      <td>NaN</td>\n",
       "      <td>['COVID19', 'COVID', 'COVID', 'Omicron']</td>\n",
       "      <td>NaN</td>\n",
       "    </tr>\n",
       "    <tr>\n",
       "      <th>1</th>\n",
       "      <td>https://twitter.com/JustmeAnybody/status/14832...</td>\n",
       "      <td>2022-01-18 01:34:46+00:00</td>\n",
       "      <td>This man is vaccinated himself yet tells other...</td>\n",
       "      <td>This man is vaccinated himself yet tells other...</td>\n",
       "      <td>1483251487572701188</td>\n",
       "      <td>{'_type': 'snscrape.modules.twitter.User', 'us...</td>\n",
       "      <td>0</td>\n",
       "      <td>0</td>\n",
       "      <td>0</td>\n",
       "      <td>0</td>\n",
       "      <td>...</td>\n",
       "      <td>NaN</td>\n",
       "      <td>NaN</td>\n",
       "      <td>{'_type': 'snscrape.modules.twitter.Tweet', 'u...</td>\n",
       "      <td>NaN</td>\n",
       "      <td>NaN</td>\n",
       "      <td>NaN</td>\n",
       "      <td>NaN</td>\n",
       "      <td>NaN</td>\n",
       "      <td>['Covid19']</td>\n",
       "      <td>NaN</td>\n",
       "    </tr>\n",
       "    <tr>\n",
       "      <th>2</th>\n",
       "      <td>https://twitter.com/Brittne57690783/status/148...</td>\n",
       "      <td>2022-01-18 01:34:45+00:00</td>\n",
       "      <td>Jack kept saying that the COVID-19 came from F...</td>\n",
       "      <td>Jack kept saying that the COVID-19 came from F...</td>\n",
       "      <td>1483251483881918464</td>\n",
       "      <td>{'_type': 'snscrape.modules.twitter.User', 'us...</td>\n",
       "      <td>0</td>\n",
       "      <td>0</td>\n",
       "      <td>0</td>\n",
       "      <td>0</td>\n",
       "      <td>...</td>\n",
       "      <td>NaN</td>\n",
       "      <td>NaN</td>\n",
       "      <td>NaN</td>\n",
       "      <td>NaN</td>\n",
       "      <td>NaN</td>\n",
       "      <td>NaN</td>\n",
       "      <td>NaN</td>\n",
       "      <td>NaN</td>\n",
       "      <td>['COVID19', 'COVID', 'COVID', 'Omicron']</td>\n",
       "      <td>NaN</td>\n",
       "    </tr>\n",
       "    <tr>\n",
       "      <th>3</th>\n",
       "      <td>https://twitter.com/PeoplesDailyapp/status/148...</td>\n",
       "      <td>2022-01-18 01:34:43+00:00</td>\n",
       "      <td>At least 2 #Omicron cases, one in #Beijing and...</td>\n",
       "      <td>At least 2 #Omicron cases, one in #Beijing and...</td>\n",
       "      <td>1483251474167922688</td>\n",
       "      <td>{'_type': 'snscrape.modules.twitter.User', 'us...</td>\n",
       "      <td>0</td>\n",
       "      <td>0</td>\n",
       "      <td>0</td>\n",
       "      <td>0</td>\n",
       "      <td>...</td>\n",
       "      <td>[{'_type': 'snscrape.modules.twitter.Photo', '...</td>\n",
       "      <td>NaN</td>\n",
       "      <td>NaN</td>\n",
       "      <td>NaN</td>\n",
       "      <td>NaN</td>\n",
       "      <td>NaN</td>\n",
       "      <td>NaN</td>\n",
       "      <td>NaN</td>\n",
       "      <td>['Omicron', 'Beijing', 'Shenzhen', 'NorthAmeri...</td>\n",
       "      <td>NaN</td>\n",
       "    </tr>\n",
       "    <tr>\n",
       "      <th>4</th>\n",
       "      <td>https://twitter.com/TaraBar02987206/status/148...</td>\n",
       "      <td>2022-01-18 01:34:37+00:00</td>\n",
       "      <td>https://t.co/QOehPdE1qd #COVID19  died of COVI...</td>\n",
       "      <td>teamilk951.tumblr.com/post/670802564… #COVID19...</td>\n",
       "      <td>1483251450084196356</td>\n",
       "      <td>{'_type': 'snscrape.modules.twitter.User', 'us...</td>\n",
       "      <td>0</td>\n",
       "      <td>0</td>\n",
       "      <td>0</td>\n",
       "      <td>0</td>\n",
       "      <td>...</td>\n",
       "      <td>NaN</td>\n",
       "      <td>NaN</td>\n",
       "      <td>NaN</td>\n",
       "      <td>NaN</td>\n",
       "      <td>NaN</td>\n",
       "      <td>NaN</td>\n",
       "      <td>NaN</td>\n",
       "      <td>NaN</td>\n",
       "      <td>['COVID19']</td>\n",
       "      <td>NaN</td>\n",
       "    </tr>\n",
       "  </tbody>\n",
       "</table>\n",
       "<p>5 rows × 27 columns</p>\n",
       "</div>"
      ],
      "text/plain": [
       "                                                 url  \\\n",
       "0  https://twitter.com/huanyigeni1/status/1483251...   \n",
       "1  https://twitter.com/JustmeAnybody/status/14832...   \n",
       "2  https://twitter.com/Brittne57690783/status/148...   \n",
       "3  https://twitter.com/PeoplesDailyapp/status/148...   \n",
       "4  https://twitter.com/TaraBar02987206/status/148...   \n",
       "\n",
       "                        date  \\\n",
       "0  2022-01-18 01:34:49+00:00   \n",
       "1  2022-01-18 01:34:46+00:00   \n",
       "2  2022-01-18 01:34:45+00:00   \n",
       "3  2022-01-18 01:34:43+00:00   \n",
       "4  2022-01-18 01:34:37+00:00   \n",
       "\n",
       "                                             content  \\\n",
       "0  #COVID19\\n#COVID-19\\n#COVID\\n#Omicron The trut...   \n",
       "1  This man is vaccinated himself yet tells other...   \n",
       "2  Jack kept saying that the COVID-19 came from F...   \n",
       "3  At least 2 #Omicron cases, one in #Beijing and...   \n",
       "4  https://t.co/QOehPdE1qd #COVID19  died of COVI...   \n",
       "\n",
       "                                     renderedContent                   id  \\\n",
       "0  #COVID19\\n#COVID-19\\n#COVID\\n#Omicron The trut...  1483251497223659521   \n",
       "1  This man is vaccinated himself yet tells other...  1483251487572701188   \n",
       "2  Jack kept saying that the COVID-19 came from F...  1483251483881918464   \n",
       "3  At least 2 #Omicron cases, one in #Beijing and...  1483251474167922688   \n",
       "4  teamilk951.tumblr.com/post/670802564… #COVID19...  1483251450084196356   \n",
       "\n",
       "                                                user  replyCount  \\\n",
       "0  {'_type': 'snscrape.modules.twitter.User', 'us...           0   \n",
       "1  {'_type': 'snscrape.modules.twitter.User', 'us...           0   \n",
       "2  {'_type': 'snscrape.modules.twitter.User', 'us...           0   \n",
       "3  {'_type': 'snscrape.modules.twitter.User', 'us...           0   \n",
       "4  {'_type': 'snscrape.modules.twitter.User', 'us...           0   \n",
       "\n",
       "   retweetCount  likeCount  quoteCount  ...  \\\n",
       "0             0          0           0  ...   \n",
       "1             0          0           0  ...   \n",
       "2             0          0           0  ...   \n",
       "3             0          0           0  ...   \n",
       "4             0          0           0  ...   \n",
       "\n",
       "                                               media retweetedTweet  \\\n",
       "0                                                NaN            NaN   \n",
       "1                                                NaN            NaN   \n",
       "2                                                NaN            NaN   \n",
       "3  [{'_type': 'snscrape.modules.twitter.Photo', '...            NaN   \n",
       "4                                                NaN            NaN   \n",
       "\n",
       "                                         quotedTweet inReplyToTweetId  \\\n",
       "0                                                NaN              NaN   \n",
       "1  {'_type': 'snscrape.modules.twitter.Tweet', 'u...              NaN   \n",
       "2                                                NaN              NaN   \n",
       "3                                                NaN              NaN   \n",
       "4                                                NaN              NaN   \n",
       "\n",
       "  inReplyToUser mentionedUsers coordinates place  \\\n",
       "0           NaN            NaN         NaN   NaN   \n",
       "1           NaN            NaN         NaN   NaN   \n",
       "2           NaN            NaN         NaN   NaN   \n",
       "3           NaN            NaN         NaN   NaN   \n",
       "4           NaN            NaN         NaN   NaN   \n",
       "\n",
       "                                            hashtags cashtags  \n",
       "0           ['COVID19', 'COVID', 'COVID', 'Omicron']      NaN  \n",
       "1                                        ['Covid19']      NaN  \n",
       "2           ['COVID19', 'COVID', 'COVID', 'Omicron']      NaN  \n",
       "3  ['Omicron', 'Beijing', 'Shenzhen', 'NorthAmeri...      NaN  \n",
       "4                                        ['COVID19']      NaN  \n",
       "\n",
       "[5 rows x 27 columns]"
      ]
     },
     "execution_count": 3,
     "metadata": {},
     "output_type": "execute_result"
    }
   ],
   "source": [
    "tweet_data.head()"
   ]
  },
  {
   "cell_type": "code",
   "execution_count": 4,
   "id": "3896c0ed",
   "metadata": {
    "execution": {
     "iopub.execute_input": "2022-01-25T15:46:30.555346Z",
     "iopub.status.busy": "2022-01-25T15:46:30.554667Z",
     "iopub.status.idle": "2022-01-25T15:46:30.630950Z",
     "shell.execute_reply": "2022-01-25T15:46:30.631700Z",
     "shell.execute_reply.started": "2022-01-25T14:31:44.710208Z"
    },
    "papermill": {
     "duration": 0.172031,
     "end_time": "2022-01-25T15:46:30.631967",
     "exception": false,
     "start_time": "2022-01-25T15:46:30.459936",
     "status": "completed"
    },
    "tags": []
   },
   "outputs": [
    {
     "name": "stdout",
     "output_type": "stream",
     "text": [
      "<class 'pandas.core.frame.DataFrame'>\n",
      "RangeIndex: 30000 entries, 0 to 29999\n",
      "Data columns (total 27 columns):\n",
      " #   Column            Non-Null Count  Dtype  \n",
      "---  ------            --------------  -----  \n",
      " 0   url               30000 non-null  object \n",
      " 1   date              30000 non-null  object \n",
      " 2   content           30000 non-null  object \n",
      " 3   renderedContent   30000 non-null  object \n",
      " 4   id                30000 non-null  int64  \n",
      " 5   user              30000 non-null  object \n",
      " 6   replyCount        30000 non-null  int64  \n",
      " 7   retweetCount      30000 non-null  int64  \n",
      " 8   likeCount         30000 non-null  int64  \n",
      " 9   quoteCount        30000 non-null  int64  \n",
      " 10  conversationId    30000 non-null  int64  \n",
      " 11  lang              30000 non-null  object \n",
      " 12  source            30000 non-null  object \n",
      " 13  sourceUrl         30000 non-null  object \n",
      " 14  sourceLabel       30000 non-null  object \n",
      " 15  outlinks          14627 non-null  object \n",
      " 16  tcooutlinks       14627 non-null  object \n",
      " 17  media             8870 non-null   object \n",
      " 18  retweetedTweet    0 non-null      float64\n",
      " 19  quotedTweet       3962 non-null   object \n",
      " 20  inReplyToTweetId  5463 non-null   float64\n",
      " 21  inReplyToUser     5463 non-null   object \n",
      " 22  mentionedUsers    10437 non-null  object \n",
      " 23  coordinates       633 non-null    object \n",
      " 24  place             633 non-null    object \n",
      " 25  hashtags          25775 non-null  object \n",
      " 26  cashtags          57 non-null     object \n",
      "dtypes: float64(2), int64(6), object(19)\n",
      "memory usage: 6.2+ MB\n"
     ]
    }
   ],
   "source": [
    "tweet_data.info()"
   ]
  },
  {
   "cell_type": "code",
   "execution_count": 5,
   "id": "d0b2876e",
   "metadata": {
    "execution": {
     "iopub.execute_input": "2022-01-25T15:46:30.816257Z",
     "iopub.status.busy": "2022-01-25T15:46:30.815414Z",
     "iopub.status.idle": "2022-01-25T15:46:30.818592Z",
     "shell.execute_reply": "2022-01-25T15:46:30.819092Z",
     "shell.execute_reply.started": "2022-01-25T14:31:44.794388Z"
    },
    "papermill": {
     "duration": 0.097675,
     "end_time": "2022-01-25T15:46:30.819268",
     "exception": false,
     "start_time": "2022-01-25T15:46:30.721593",
     "status": "completed"
    },
    "tags": []
   },
   "outputs": [
    {
     "data": {
      "text/plain": [
       "Index(['url', 'date', 'content', 'renderedContent', 'id', 'user', 'replyCount',\n",
       "       'retweetCount', 'likeCount', 'quoteCount', 'conversationId', 'lang',\n",
       "       'source', 'sourceUrl', 'sourceLabel', 'outlinks', 'tcooutlinks',\n",
       "       'media', 'retweetedTweet', 'quotedTweet', 'inReplyToTweetId',\n",
       "       'inReplyToUser', 'mentionedUsers', 'coordinates', 'place', 'hashtags',\n",
       "       'cashtags'],\n",
       "      dtype='object')"
      ]
     },
     "execution_count": 5,
     "metadata": {},
     "output_type": "execute_result"
    }
   ],
   "source": [
    "tweet_data.columns"
   ]
  },
  {
   "cell_type": "markdown",
   "id": "9fc03635",
   "metadata": {
    "execution": {
     "iopub.execute_input": "2022-01-18T00:56:20.755074Z",
     "iopub.status.busy": "2022-01-18T00:56:20.754261Z",
     "iopub.status.idle": "2022-01-18T00:56:20.796185Z",
     "shell.execute_reply": "2022-01-18T00:56:20.795259Z",
     "shell.execute_reply.started": "2022-01-18T00:56:20.755031Z"
    },
    "papermill": {
     "duration": 0.08793,
     "end_time": "2022-01-25T15:46:30.996396",
     "exception": false,
     "start_time": "2022-01-25T15:46:30.908466",
     "status": "completed"
    },
    "tags": []
   },
   "source": [
    "##### "
   ]
  },
  {
   "cell_type": "markdown",
   "id": "7a862dbb",
   "metadata": {
    "papermill": {
     "duration": 0.088759,
     "end_time": "2022-01-25T15:46:31.174358",
     "exception": false,
     "start_time": "2022-01-25T15:46:31.085599",
     "status": "completed"
    },
    "tags": []
   },
   "source": [
    "# Text Pre-Proces\n",
    "\n",
    "**1. Sentiment Analysis**\n",
    "\n",
    "**2. Stop-Word Removal :** In English words like a, an, the, as, in, on, etc. are considered as stop-words so according to our requirements we can remove them to reduce vocabulary size as these words don't have some specific meaning\n",
    "\n",
    "**3. Lower Casing :** Convert all words into the lower case because the upper or lower case may not make a difference for the problem. And we are reducing vocabulary size by doing so.\n",
    "\n",
    "**4. Stemming :** Stemming refers to the process of removing suffixes and reducing a word to some base form such that all different variants of that word can be represented by the same form (e.g., “walk” and “walking” are both reduced to “walk”).\n",
    "\n",
    "**5. Tokenization :** NLP software typically analyzes text by breaking it up into words (tokens) and sentences.\n",
    "\n"
   ]
  },
  {
   "cell_type": "code",
   "execution_count": 6,
   "id": "c16d86ae",
   "metadata": {
    "execution": {
     "iopub.execute_input": "2022-01-25T15:46:31.353720Z",
     "iopub.status.busy": "2022-01-25T15:46:31.352754Z",
     "iopub.status.idle": "2022-01-25T15:46:31.357428Z",
     "shell.execute_reply": "2022-01-25T15:46:31.357888Z",
     "shell.execute_reply.started": "2022-01-25T14:31:44.803191Z"
    },
    "papermill": {
     "duration": 0.095777,
     "end_time": "2022-01-25T15:46:31.358061",
     "exception": false,
     "start_time": "2022-01-25T15:46:31.262284",
     "status": "completed"
    },
    "tags": []
   },
   "outputs": [],
   "source": [
    "# First of all let's drop the columns which we don't required\n",
    "\n",
    "waste_col =[\n",
    "           'url', 'date', 'renderedContent', 'id', 'user', 'replyCount',\n",
    "           'retweetCount', 'likeCount', 'quoteCount', 'conversationId', 'lang',\n",
    "           'source', 'sourceUrl', 'sourceLabel', 'outlinks', 'tcooutlinks',\n",
    "           'media', 'retweetedTweet', 'quotedTweet', 'inReplyToTweetId',\n",
    "           'inReplyToUser', 'mentionedUsers', 'coordinates', 'place', 'hashtags',\n",
    "           'cashtags'\n",
    "           ]\n"
   ]
  },
  {
   "cell_type": "code",
   "execution_count": 7,
   "id": "47942b83",
   "metadata": {
    "execution": {
     "iopub.execute_input": "2022-01-25T15:46:31.542895Z",
     "iopub.status.busy": "2022-01-25T15:46:31.542118Z",
     "iopub.status.idle": "2022-01-25T15:46:31.544894Z",
     "shell.execute_reply": "2022-01-25T15:46:31.544339Z",
     "shell.execute_reply.started": "2022-01-25T14:31:44.814304Z"
    },
    "papermill": {
     "duration": 0.09752,
     "end_time": "2022-01-25T15:46:31.545039",
     "exception": false,
     "start_time": "2022-01-25T15:46:31.447519",
     "status": "completed"
    },
    "tags": []
   },
   "outputs": [],
   "source": [
    "data = tweet_data.drop(waste_col,axis=1)"
   ]
  },
  {
   "cell_type": "code",
   "execution_count": 8,
   "id": "7dd2e6d5",
   "metadata": {
    "execution": {
     "iopub.execute_input": "2022-01-25T15:46:31.725558Z",
     "iopub.status.busy": "2022-01-25T15:46:31.724937Z",
     "iopub.status.idle": "2022-01-25T15:46:31.762886Z",
     "shell.execute_reply": "2022-01-25T15:46:31.763332Z",
     "shell.execute_reply.started": "2022-01-25T14:31:44.836039Z"
    },
    "papermill": {
     "duration": 0.129448,
     "end_time": "2022-01-25T15:46:31.763504",
     "exception": false,
     "start_time": "2022-01-25T15:46:31.634056",
     "status": "completed"
    },
    "tags": []
   },
   "outputs": [
    {
     "data": {
      "text/plain": [
       "178"
      ]
     },
     "execution_count": 8,
     "metadata": {},
     "output_type": "execute_result"
    }
   ],
   "source": [
    "len(data.loc[data.duplicated()])"
   ]
  },
  {
   "cell_type": "code",
   "execution_count": 9,
   "id": "dd10ad22",
   "metadata": {
    "execution": {
     "iopub.execute_input": "2022-01-25T15:46:31.951230Z",
     "iopub.status.busy": "2022-01-25T15:46:31.950582Z",
     "iopub.status.idle": "2022-01-25T15:46:31.973402Z",
     "shell.execute_reply": "2022-01-25T15:46:31.973941Z",
     "shell.execute_reply.started": "2022-01-25T14:31:44.888493Z"
    },
    "papermill": {
     "duration": 0.120947,
     "end_time": "2022-01-25T15:46:31.974112",
     "exception": false,
     "start_time": "2022-01-25T15:46:31.853165",
     "status": "completed"
    },
    "tags": []
   },
   "outputs": [],
   "source": [
    "data.drop_duplicates(keep=\"first\",inplace=True)\n",
    "data.reset_index(drop=True , inplace = True)"
   ]
  },
  {
   "cell_type": "markdown",
   "id": "10105a40",
   "metadata": {
    "papermill": {
     "duration": 0.089474,
     "end_time": "2022-01-25T15:46:32.153057",
     "exception": false,
     "start_time": "2022-01-25T15:46:32.063583",
     "status": "completed"
    },
    "tags": []
   },
   "source": [
    "**1. Sentiment Analysis**"
   ]
  },
  {
   "cell_type": "code",
   "execution_count": 10,
   "id": "9d059533",
   "metadata": {
    "execution": {
     "iopub.execute_input": "2022-01-25T15:46:32.333078Z",
     "iopub.status.busy": "2022-01-25T15:46:32.332410Z",
     "iopub.status.idle": "2022-01-25T15:46:32.339187Z",
     "shell.execute_reply": "2022-01-25T15:46:32.339675Z",
     "shell.execute_reply.started": "2022-01-25T14:31:44.934414Z"
    },
    "papermill": {
     "duration": 0.09823,
     "end_time": "2022-01-25T15:46:32.339875",
     "exception": false,
     "start_time": "2022-01-25T15:46:32.241645",
     "status": "completed"
    },
    "tags": []
   },
   "outputs": [],
   "source": [
    "#input\n",
    "# 1  aaaa\n",
    "# 2  wwwwwwww\n",
    "# 3  helloooooooo\n",
    "\n",
    "# output\n",
    "# 1       \n",
    "# 2   \n",
    "# 3  hello\n",
    "\n",
    "def clean(string):\n",
    "    if (len(string)==0):\n",
    "        return ''\n",
    "    if (set(string) == set(string[0])):\n",
    "        return ''    \n",
    "    prev = None\n",
    "    letters = [l for l in string]\n",
    "    counter = 1\n",
    "    new = []\n",
    "    for l in letters:\n",
    "        if l==prev:\n",
    "            counter+=1\n",
    "        else:\n",
    "            if (counter==2):\n",
    "                new.append(prev)\n",
    "            counter=1\n",
    "            new.append(l)\n",
    "            prev = l\n",
    "    return ''.join(new)"
   ]
  },
  {
   "cell_type": "code",
   "execution_count": 11,
   "id": "30180f5a",
   "metadata": {
    "execution": {
     "iopub.execute_input": "2022-01-25T15:46:32.524373Z",
     "iopub.status.busy": "2022-01-25T15:46:32.523701Z",
     "iopub.status.idle": "2022-01-25T15:46:38.509072Z",
     "shell.execute_reply": "2022-01-25T15:46:38.508311Z",
     "shell.execute_reply.started": "2022-01-25T14:31:44.947459Z"
    },
    "papermill": {
     "duration": 6.078318,
     "end_time": "2022-01-25T15:46:38.509220",
     "exception": false,
     "start_time": "2022-01-25T15:46:32.430902",
     "status": "completed"
    },
    "tags": []
   },
   "outputs": [],
   "source": [
    "# Cleaning Text: Multiple hashtags\n",
    "data['clean_tweet'] = data['content'].apply(nfx.remove_hashtags)\n",
    "\n",
    "# Cleaning Text: userhandles\n",
    "data['clean_tweet'] = data['clean_tweet'].apply(lambda x: nfx.remove_userhandles(x))\n",
    "\n",
    "# Cleaning Text : Remove urls\n",
    "data['clean_tweet'] = data['clean_tweet'].apply(nfx.remove_urls)\n",
    "\n",
    "# Cleaning Text : custom remove special characters (':', ',', ';', '.', '|','-','_','^', [&amp, &yen, ....])\n",
    "data['clean_tweet'] = data['clean_tweet'].apply(lambda x: nfx.remove_custom_pattern(x,':+|\\,+|\\;+|\\.+|\\\"+|\\|+|\\-+|\\_+|\\%+|\\^|\\*|\\&[a-zA-Z]*'))\n",
    "data['clean_tweet'] = data['clean_tweet'].apply(lambda x: nfx.remove_custom_words(x,'\\n'))\n",
    "\n",
    "# Cleaning Text: Punctuations\n",
    "data['clean_tweet'] = data['clean_tweet'].apply(nfx.remove_puncts)\n",
    "data['clean_tweet'] = data['clean_tweet'].apply(nfx.remove_punctuations)\n",
    "\n",
    "# Cleaning Text: dates\n",
    "data['clean_tweet'] = data['clean_tweet'].apply(nfx.remove_dates)\n",
    "\n",
    "# Cleaning Text: Emails\n",
    "data['clean_tweet'] = data['clean_tweet'].apply(nfx.remove_emails)\n",
    "\n",
    "# Cleaning Text: Numbers\n",
    "data['clean_tweet'] = data['clean_tweet'].apply(nfx.remove_numbers)\n",
    "\n",
    "# data['clean_tweet'] = data['clean_tweet'].apply(nfx.remove_special_characters)\n",
    "\n",
    "#Remove words made up of repetitive letters\n",
    "data['clean_tweet'] = data['clean_tweet'].fillna('').map(clean)\n",
    "\n",
    "# Cleaning Text: Multiple WhiteSpaces\n",
    "data['clean_tweet'] = data['clean_tweet'].apply(nfx.remove_multiple_spaces)\n"
   ]
  },
  {
   "cell_type": "code",
   "execution_count": 12,
   "id": "37f98337",
   "metadata": {
    "execution": {
     "iopub.execute_input": "2022-01-25T15:46:38.696820Z",
     "iopub.status.busy": "2022-01-25T15:46:38.695960Z",
     "iopub.status.idle": "2022-01-25T15:46:38.699461Z",
     "shell.execute_reply": "2022-01-25T15:46:38.699952Z",
     "shell.execute_reply.started": "2022-01-25T14:31:50.997746Z"
    },
    "papermill": {
     "duration": 0.098041,
     "end_time": "2022-01-25T15:46:38.700121",
     "exception": false,
     "start_time": "2022-01-25T15:46:38.602080",
     "status": "completed"
    },
    "tags": []
   },
   "outputs": [
    {
     "name": "stdout",
     "output_type": "stream",
     "text": [
      "New COVID-19 Data at 2022-01-17 08:30:00 pm EST #Coronavirus #COVID19 #COVID_19 https://t.co/nac1fsbTJA\n",
      "=====\n",
      "New COVID Data at pm EST\n"
     ]
    }
   ],
   "source": [
    "print(data.content[58])\n",
    "print(\"=====\")\n",
    "print(data.clean_tweet[58])"
   ]
  },
  {
   "cell_type": "code",
   "execution_count": 13,
   "id": "33f9e635",
   "metadata": {
    "execution": {
     "iopub.execute_input": "2022-01-25T15:46:38.896413Z",
     "iopub.status.busy": "2022-01-25T15:46:38.895665Z",
     "iopub.status.idle": "2022-01-25T15:46:38.905611Z",
     "shell.execute_reply": "2022-01-25T15:46:38.906120Z",
     "shell.execute_reply.started": "2022-01-25T14:31:51.007562Z"
    },
    "papermill": {
     "duration": 0.11297,
     "end_time": "2022-01-25T15:46:38.906314",
     "exception": false,
     "start_time": "2022-01-25T15:46:38.793344",
     "status": "completed"
    },
    "tags": []
   },
   "outputs": [],
   "source": [
    "vader_obj = SentimentIntensityAnalyzer()"
   ]
  },
  {
   "cell_type": "code",
   "execution_count": 14,
   "id": "186352f4",
   "metadata": {
    "execution": {
     "iopub.execute_input": "2022-01-25T15:46:39.091758Z",
     "iopub.status.busy": "2022-01-25T15:46:39.090751Z",
     "iopub.status.idle": "2022-01-25T15:46:39.097315Z",
     "shell.execute_reply": "2022-01-25T15:46:39.097801Z",
     "shell.execute_reply.started": "2022-01-25T14:31:51.040595Z"
    },
    "papermill": {
     "duration": 0.101207,
     "end_time": "2022-01-25T15:46:39.097984",
     "exception": false,
     "start_time": "2022-01-25T15:46:38.996777",
     "status": "completed"
    },
    "tags": []
   },
   "outputs": [],
   "source": [
    "def get_sentiment(tweet):\n",
    "    \n",
    "    text = emoji.demojize(tweet, delimiters=(\"\", \"\")).replace(\"_\" , \" \")\n",
    "    \n",
    "    blob = TextBlob(text)\n",
    "    sentiment_dict = vader_obj.polarity_scores(text)\n",
    "    \n",
    "    Compound = sentiment_dict['compound']\n",
    "    sentiment_subjectivity = blob.sentiment.subjectivity\n",
    "    \n",
    "    if sentiment_subjectivity >= 0.25:\n",
    "        if Compound >= 0.05:\n",
    "            sentiment_label = 'Positive'\n",
    "        elif Compound <= - 0.05:\n",
    "            sentiment_label = 'Negative'\n",
    "        else:\n",
    "            sentiment_label = 'Neutral'\n",
    "    else: \n",
    "        sentiment_label = 'Objective'\n",
    "        \n",
    "\n",
    "    return sentiment_label"
   ]
  },
  {
   "cell_type": "code",
   "execution_count": 15,
   "id": "513d0ac8",
   "metadata": {
    "execution": {
     "iopub.execute_input": "2022-01-25T15:46:39.281631Z",
     "iopub.status.busy": "2022-01-25T15:46:39.280643Z",
     "iopub.status.idle": "2022-01-25T15:46:39.286137Z",
     "shell.execute_reply": "2022-01-25T15:46:39.286745Z",
     "shell.execute_reply.started": "2022-01-25T14:31:51.049552Z"
    },
    "papermill": {
     "duration": 0.098542,
     "end_time": "2022-01-25T15:46:39.286920",
     "exception": false,
     "start_time": "2022-01-25T15:46:39.188378",
     "status": "completed"
    },
    "tags": []
   },
   "outputs": [
    {
     "data": {
      "text/plain": [
       "'The COVID come from Fort Detrick and theyve been trying to cover up the truth'"
      ]
     },
     "execution_count": 15,
     "metadata": {},
     "output_type": "execute_result"
    }
   ],
   "source": [
    "# Text\n",
    "ex1 = data['clean_tweet'][17]\n",
    "ex1 "
   ]
  },
  {
   "cell_type": "code",
   "execution_count": 16,
   "id": "094ba317",
   "metadata": {
    "execution": {
     "iopub.execute_input": "2022-01-25T15:46:39.480122Z",
     "iopub.status.busy": "2022-01-25T15:46:39.479386Z",
     "iopub.status.idle": "2022-01-25T15:46:39.640356Z",
     "shell.execute_reply": "2022-01-25T15:46:39.639825Z",
     "shell.execute_reply.started": "2022-01-25T14:31:51.070745Z"
    },
    "papermill": {
     "duration": 0.260141,
     "end_time": "2022-01-25T15:46:39.640496",
     "exception": false,
     "start_time": "2022-01-25T15:46:39.380355",
     "status": "completed"
    },
    "tags": []
   },
   "outputs": [
    {
     "data": {
      "text/plain": [
       "'Objective'"
      ]
     },
     "execution_count": 16,
     "metadata": {},
     "output_type": "execute_result"
    }
   ],
   "source": [
    "get_sentiment(ex1)"
   ]
  },
  {
   "cell_type": "code",
   "execution_count": 17,
   "id": "06d05ebe",
   "metadata": {
    "execution": {
     "iopub.execute_input": "2022-01-25T15:46:39.843594Z",
     "iopub.status.busy": "2022-01-25T15:46:39.842922Z",
     "iopub.status.idle": "2022-01-25T15:47:21.445430Z",
     "shell.execute_reply": "2022-01-25T15:47:21.445957Z",
     "shell.execute_reply.started": "2022-01-25T14:31:51.087725Z"
    },
    "papermill": {
     "duration": 41.715097,
     "end_time": "2022-01-25T15:47:21.446132",
     "exception": false,
     "start_time": "2022-01-25T15:46:39.731035",
     "status": "completed"
    },
    "tags": []
   },
   "outputs": [
    {
     "name": "stdout",
     "output_type": "stream",
     "text": [
      "CPU times: user 41.5 s, sys: 6.15 ms, total: 41.5 s\n",
      "Wall time: 41.5 s\n"
     ]
    }
   ],
   "source": [
    "%%time\n",
    "data['sentiment'] = data['clean_tweet'].apply(get_sentiment)"
   ]
  },
  {
   "cell_type": "code",
   "execution_count": 18,
   "id": "78a81e12",
   "metadata": {
    "execution": {
     "iopub.execute_input": "2022-01-25T15:47:21.637231Z",
     "iopub.status.busy": "2022-01-25T15:47:21.636504Z",
     "iopub.status.idle": "2022-01-25T15:47:21.640943Z",
     "shell.execute_reply": "2022-01-25T15:47:21.640390Z",
     "shell.execute_reply.started": "2022-01-25T14:32:33.849435Z"
    },
    "papermill": {
     "duration": 0.105151,
     "end_time": "2022-01-25T15:47:21.641098",
     "exception": false,
     "start_time": "2022-01-25T15:47:21.535947",
     "status": "completed"
    },
    "tags": []
   },
   "outputs": [
    {
     "data": {
      "text/html": [
       "<div>\n",
       "<style scoped>\n",
       "    .dataframe tbody tr th:only-of-type {\n",
       "        vertical-align: middle;\n",
       "    }\n",
       "\n",
       "    .dataframe tbody tr th {\n",
       "        vertical-align: top;\n",
       "    }\n",
       "\n",
       "    .dataframe thead th {\n",
       "        text-align: right;\n",
       "    }\n",
       "</style>\n",
       "<table border=\"1\" class=\"dataframe\">\n",
       "  <thead>\n",
       "    <tr style=\"text-align: right;\">\n",
       "      <th></th>\n",
       "      <th>content</th>\n",
       "      <th>clean_tweet</th>\n",
       "      <th>sentiment</th>\n",
       "    </tr>\n",
       "  </thead>\n",
       "  <tbody>\n",
       "    <tr>\n",
       "      <th>0</th>\n",
       "      <td>#COVID19\\n#COVID-19\\n#COVID\\n#Omicron The trut...</td>\n",
       "      <td>The truth is in this report and we have been l...</td>\n",
       "      <td>Objective</td>\n",
       "    </tr>\n",
       "    <tr>\n",
       "      <th>1</th>\n",
       "      <td>This man is vaccinated himself yet tells other...</td>\n",
       "      <td>This man is vaccinated himself yet tells other...</td>\n",
       "      <td>Objective</td>\n",
       "    </tr>\n",
       "    <tr>\n",
       "      <th>2</th>\n",
       "      <td>Jack kept saying that the COVID-19 came from F...</td>\n",
       "      <td>Jack kept saying that the COVID came from Fort...</td>\n",
       "      <td>Neutral</td>\n",
       "    </tr>\n",
       "    <tr>\n",
       "      <th>3</th>\n",
       "      <td>At least 2 #Omicron cases, one in #Beijing and...</td>\n",
       "      <td>At least cases one in and another one in were ...</td>\n",
       "      <td>Negative</td>\n",
       "    </tr>\n",
       "    <tr>\n",
       "      <th>4</th>\n",
       "      <td>https://t.co/QOehPdE1qd #COVID19  died of COVI...</td>\n",
       "      <td>died of COVID Who should bear the responsibility</td>\n",
       "      <td>Objective</td>\n",
       "    </tr>\n",
       "  </tbody>\n",
       "</table>\n",
       "</div>"
      ],
      "text/plain": [
       "                                             content  \\\n",
       "0  #COVID19\\n#COVID-19\\n#COVID\\n#Omicron The trut...   \n",
       "1  This man is vaccinated himself yet tells other...   \n",
       "2  Jack kept saying that the COVID-19 came from F...   \n",
       "3  At least 2 #Omicron cases, one in #Beijing and...   \n",
       "4  https://t.co/QOehPdE1qd #COVID19  died of COVI...   \n",
       "\n",
       "                                         clean_tweet  sentiment  \n",
       "0  The truth is in this report and we have been l...  Objective  \n",
       "1  This man is vaccinated himself yet tells other...  Objective  \n",
       "2  Jack kept saying that the COVID came from Fort...    Neutral  \n",
       "3  At least cases one in and another one in were ...   Negative  \n",
       "4   died of COVID Who should bear the responsibility  Objective  "
      ]
     },
     "execution_count": 18,
     "metadata": {},
     "output_type": "execute_result"
    }
   ],
   "source": [
    "data.head()"
   ]
  },
  {
   "cell_type": "code",
   "execution_count": 19,
   "id": "0c8a0918",
   "metadata": {
    "execution": {
     "iopub.execute_input": "2022-01-25T15:47:21.828138Z",
     "iopub.status.busy": "2022-01-25T15:47:21.827432Z",
     "iopub.status.idle": "2022-01-25T15:47:21.830392Z",
     "shell.execute_reply": "2022-01-25T15:47:21.831002Z",
     "shell.execute_reply.started": "2022-01-25T14:32:33.865991Z"
    },
    "papermill": {
     "duration": 0.098882,
     "end_time": "2022-01-25T15:47:21.831197",
     "exception": false,
     "start_time": "2022-01-25T15:47:21.732315",
     "status": "completed"
    },
    "tags": []
   },
   "outputs": [],
   "source": [
    "# data = data.join(pd.json_normalize(data['sentiment_results']))"
   ]
  },
  {
   "cell_type": "code",
   "execution_count": 20,
   "id": "cadcfa55",
   "metadata": {
    "execution": {
     "iopub.execute_input": "2022-01-25T15:47:22.016599Z",
     "iopub.status.busy": "2022-01-25T15:47:22.015944Z",
     "iopub.status.idle": "2022-01-25T15:47:22.031569Z",
     "shell.execute_reply": "2022-01-25T15:47:22.032120Z",
     "shell.execute_reply.started": "2022-01-25T14:32:33.877825Z"
    },
    "papermill": {
     "duration": 0.110506,
     "end_time": "2022-01-25T15:47:22.032350",
     "exception": false,
     "start_time": "2022-01-25T15:47:21.921844",
     "status": "completed"
    },
    "tags": []
   },
   "outputs": [],
   "source": [
    "data = data.loc[data.sentiment != \"Objective\"]"
   ]
  },
  {
   "cell_type": "code",
   "execution_count": 21,
   "id": "baa63ad3",
   "metadata": {
    "execution": {
     "iopub.execute_input": "2022-01-25T15:47:22.218458Z",
     "iopub.status.busy": "2022-01-25T15:47:22.217775Z",
     "iopub.status.idle": "2022-01-25T15:47:22.227498Z",
     "shell.execute_reply": "2022-01-25T15:47:22.227990Z",
     "shell.execute_reply.started": "2022-01-25T14:32:33.906039Z"
    },
    "papermill": {
     "duration": 0.105086,
     "end_time": "2022-01-25T15:47:22.228177",
     "exception": false,
     "start_time": "2022-01-25T15:47:22.123091",
     "status": "completed"
    },
    "tags": []
   },
   "outputs": [
    {
     "data": {
      "text/html": [
       "<div>\n",
       "<style scoped>\n",
       "    .dataframe tbody tr th:only-of-type {\n",
       "        vertical-align: middle;\n",
       "    }\n",
       "\n",
       "    .dataframe tbody tr th {\n",
       "        vertical-align: top;\n",
       "    }\n",
       "\n",
       "    .dataframe thead th {\n",
       "        text-align: right;\n",
       "    }\n",
       "</style>\n",
       "<table border=\"1\" class=\"dataframe\">\n",
       "  <thead>\n",
       "    <tr style=\"text-align: right;\">\n",
       "      <th></th>\n",
       "      <th>content</th>\n",
       "      <th>clean_tweet</th>\n",
       "      <th>sentiment</th>\n",
       "    </tr>\n",
       "  </thead>\n",
       "  <tbody>\n",
       "    <tr>\n",
       "      <th>2</th>\n",
       "      <td>Jack kept saying that the COVID-19 came from F...</td>\n",
       "      <td>Jack kept saying that the COVID came from Fort...</td>\n",
       "      <td>Neutral</td>\n",
       "    </tr>\n",
       "    <tr>\n",
       "      <th>3</th>\n",
       "      <td>At least 2 #Omicron cases, one in #Beijing and...</td>\n",
       "      <td>At least cases one in and another one in were ...</td>\n",
       "      <td>Negative</td>\n",
       "    </tr>\n",
       "    <tr>\n",
       "      <th>5</th>\n",
       "      <td>Let's keep it simple. The obvious fix for rura...</td>\n",
       "      <td>Lets keep it simple The obvious fix for rural ...</td>\n",
       "      <td>Positive</td>\n",
       "    </tr>\n",
       "    <tr>\n",
       "      <th>6</th>\n",
       "      <td>The COVID-19 come from Fort Detrick and they'v...</td>\n",
       "      <td>The COVID come from Fort Detrick and theyve be...</td>\n",
       "      <td>Negative</td>\n",
       "    </tr>\n",
       "    <tr>\n",
       "      <th>10</th>\n",
       "      <td>@fordnation we good now?\\n#ontariolockdown #CO...</td>\n",
       "      <td>we good now</td>\n",
       "      <td>Positive</td>\n",
       "    </tr>\n",
       "  </tbody>\n",
       "</table>\n",
       "</div>"
      ],
      "text/plain": [
       "                                              content  \\\n",
       "2   Jack kept saying that the COVID-19 came from F...   \n",
       "3   At least 2 #Omicron cases, one in #Beijing and...   \n",
       "5   Let's keep it simple. The obvious fix for rura...   \n",
       "6   The COVID-19 come from Fort Detrick and they'v...   \n",
       "10  @fordnation we good now?\\n#ontariolockdown #CO...   \n",
       "\n",
       "                                          clean_tweet sentiment  \n",
       "2   Jack kept saying that the COVID came from Fort...   Neutral  \n",
       "3   At least cases one in and another one in were ...  Negative  \n",
       "5   Lets keep it simple The obvious fix for rural ...  Positive  \n",
       "6   The COVID come from Fort Detrick and theyve be...  Negative  \n",
       "10                                        we good now  Positive  "
      ]
     },
     "execution_count": 21,
     "metadata": {},
     "output_type": "execute_result"
    }
   ],
   "source": [
    "data.head()"
   ]
  },
  {
   "cell_type": "code",
   "execution_count": 22,
   "id": "e6112267",
   "metadata": {
    "execution": {
     "iopub.execute_input": "2022-01-25T15:47:22.424005Z",
     "iopub.status.busy": "2022-01-25T15:47:22.423253Z",
     "iopub.status.idle": "2022-01-25T15:47:22.426289Z",
     "shell.execute_reply": "2022-01-25T15:47:22.426746Z",
     "shell.execute_reply.started": "2022-01-25T14:32:33.923968Z"
    },
    "papermill": {
     "duration": 0.105435,
     "end_time": "2022-01-25T15:47:22.426922",
     "exception": false,
     "start_time": "2022-01-25T15:47:22.321487",
     "status": "completed"
    },
    "tags": []
   },
   "outputs": [],
   "source": [
    "final_data = data.drop([\"content\"],axis=1)"
   ]
  },
  {
   "cell_type": "code",
   "execution_count": 23,
   "id": "ee9826fd",
   "metadata": {
    "execution": {
     "iopub.execute_input": "2022-01-25T15:47:22.616062Z",
     "iopub.status.busy": "2022-01-25T15:47:22.615327Z",
     "iopub.status.idle": "2022-01-25T15:47:22.623609Z",
     "shell.execute_reply": "2022-01-25T15:47:22.624090Z",
     "shell.execute_reply.started": "2022-01-25T14:32:33.934986Z"
    },
    "papermill": {
     "duration": 0.105172,
     "end_time": "2022-01-25T15:47:22.624287",
     "exception": false,
     "start_time": "2022-01-25T15:47:22.519115",
     "status": "completed"
    },
    "tags": []
   },
   "outputs": [
    {
     "data": {
      "text/html": [
       "<div>\n",
       "<style scoped>\n",
       "    .dataframe tbody tr th:only-of-type {\n",
       "        vertical-align: middle;\n",
       "    }\n",
       "\n",
       "    .dataframe tbody tr th {\n",
       "        vertical-align: top;\n",
       "    }\n",
       "\n",
       "    .dataframe thead th {\n",
       "        text-align: right;\n",
       "    }\n",
       "</style>\n",
       "<table border=\"1\" class=\"dataframe\">\n",
       "  <thead>\n",
       "    <tr style=\"text-align: right;\">\n",
       "      <th></th>\n",
       "      <th>clean_tweet</th>\n",
       "      <th>sentiment</th>\n",
       "    </tr>\n",
       "  </thead>\n",
       "  <tbody>\n",
       "    <tr>\n",
       "      <th>0</th>\n",
       "      <td>Jack kept saying that the COVID came from Fort...</td>\n",
       "      <td>Neutral</td>\n",
       "    </tr>\n",
       "    <tr>\n",
       "      <th>1</th>\n",
       "      <td>At least cases one in and another one in were ...</td>\n",
       "      <td>Negative</td>\n",
       "    </tr>\n",
       "    <tr>\n",
       "      <th>2</th>\n",
       "      <td>Lets keep it simple The obvious fix for rural ...</td>\n",
       "      <td>Positive</td>\n",
       "    </tr>\n",
       "    <tr>\n",
       "      <th>3</th>\n",
       "      <td>The COVID come from Fort Detrick and theyve be...</td>\n",
       "      <td>Negative</td>\n",
       "    </tr>\n",
       "    <tr>\n",
       "      <th>4</th>\n",
       "      <td>we good now</td>\n",
       "      <td>Positive</td>\n",
       "    </tr>\n",
       "    <tr>\n",
       "      <th>...</th>\n",
       "      <td>...</td>\n",
       "      <td>...</td>\n",
       "    </tr>\n",
       "    <tr>\n",
       "      <th>20619</th>\n",
       "      <td>Welcome to nd Time group Get well Soon</td>\n",
       "      <td>Positive</td>\n",
       "    </tr>\n",
       "    <tr>\n",
       "      <th>20620</th>\n",
       "      <td>In Britain the ruling class has launched a ver...</td>\n",
       "      <td>Negative</td>\n",
       "    </tr>\n",
       "    <tr>\n",
       "      <th>20621</th>\n",
       "      <td>One of the fittest athletes in the world depor...</td>\n",
       "      <td>Negative</td>\n",
       "    </tr>\n",
       "    <tr>\n",
       "      <th>20622</th>\n",
       "      <td>Off Samsung Class QTS Series QLED K UHD Smart...</td>\n",
       "      <td>Positive</td>\n",
       "    </tr>\n",
       "    <tr>\n",
       "      <th>20623</th>\n",
       "      <td>It’s not a detention facility you potato It’s ...</td>\n",
       "      <td>Positive</td>\n",
       "    </tr>\n",
       "  </tbody>\n",
       "</table>\n",
       "<p>20624 rows × 2 columns</p>\n",
       "</div>"
      ],
      "text/plain": [
       "                                             clean_tweet sentiment\n",
       "0      Jack kept saying that the COVID came from Fort...   Neutral\n",
       "1      At least cases one in and another one in were ...  Negative\n",
       "2      Lets keep it simple The obvious fix for rural ...  Positive\n",
       "3      The COVID come from Fort Detrick and theyve be...  Negative\n",
       "4                                            we good now  Positive\n",
       "...                                                  ...       ...\n",
       "20619             Welcome to nd Time group Get well Soon  Positive\n",
       "20620  In Britain the ruling class has launched a ver...  Negative\n",
       "20621  One of the fittest athletes in the world depor...  Negative\n",
       "20622   Off Samsung Class QTS Series QLED K UHD Smart...  Positive\n",
       "20623  It’s not a detention facility you potato It’s ...  Positive\n",
       "\n",
       "[20624 rows x 2 columns]"
      ]
     },
     "execution_count": 23,
     "metadata": {},
     "output_type": "execute_result"
    }
   ],
   "source": [
    "final_data.reset_index(drop=True , inplace = True)\n",
    "final_data"
   ]
  },
  {
   "cell_type": "markdown",
   "id": "117d2f48",
   "metadata": {
    "papermill": {
     "duration": 0.09447,
     "end_time": "2022-01-25T15:47:22.812457",
     "exception": false,
     "start_time": "2022-01-25T15:47:22.717987",
     "status": "completed"
    },
    "tags": []
   },
   "source": [
    "**Stop-Word Removal, Lower Casing, Stemming, Tokenization.**"
   ]
  },
  {
   "cell_type": "code",
   "execution_count": 24,
   "id": "0fb4f0a6",
   "metadata": {
    "execution": {
     "iopub.execute_input": "2022-01-25T15:47:23.000262Z",
     "iopub.status.busy": "2022-01-25T15:47:22.999462Z",
     "iopub.status.idle": "2022-01-25T15:47:23.008141Z",
     "shell.execute_reply": "2022-01-25T15:47:23.008648Z",
     "shell.execute_reply.started": "2022-01-25T14:32:33.959736Z"
    },
    "papermill": {
     "duration": 0.104484,
     "end_time": "2022-01-25T15:47:23.008855",
     "exception": false,
     "start_time": "2022-01-25T15:47:22.904371",
     "status": "completed"
    },
    "tags": []
   },
   "outputs": [],
   "source": [
    "lemmatizer = WordNetLemmatizer()\n",
    "stemmer = SnowballStemmer('english')\n",
    "tags = \"[^A-Za-z]+\"\n",
    "\n",
    "days=['monday','tuesday','wednesday','thursday','friday','saturday','sunday']\n",
    "months=['january','february','march', 'april','may','june','july','august','september','october','november','december']\n",
    "\n",
    "\n",
    "def preprocess_text(sentence, stem = True):\n",
    "    \n",
    "    sentence = re.sub(tags,' ', str(sentence).lower()).strip()\n",
    "    text = []\n",
    "    w=\"\"\n",
    "    for word in sentence.split():\n",
    "        \n",
    "        if word not in stopwords + days + months and len(word) >= 3:\n",
    "            \n",
    "            if stem:\n",
    "                w=lemmatizer.lemmatize(word)\n",
    "                text.append(stemmer.stem(w))\n",
    "                w=\"\"\n",
    "            else:\n",
    "                text.append(word)\n",
    "                \n",
    "    return \" \".join([str(i) for i in text])"
   ]
  },
  {
   "cell_type": "code",
   "execution_count": 25,
   "id": "56d4247c",
   "metadata": {
    "execution": {
     "iopub.execute_input": "2022-01-25T15:47:23.197117Z",
     "iopub.status.busy": "2022-01-25T15:47:23.196364Z",
     "iopub.status.idle": "2022-01-25T15:47:25.374047Z",
     "shell.execute_reply": "2022-01-25T15:47:25.372964Z",
     "shell.execute_reply.started": "2022-01-25T14:32:33.974218Z"
    },
    "papermill": {
     "duration": 2.27241,
     "end_time": "2022-01-25T15:47:25.374318",
     "exception": false,
     "start_time": "2022-01-25T15:47:23.101908",
     "status": "completed"
    },
    "tags": []
   },
   "outputs": [
    {
     "name": "stdout",
     "output_type": "stream",
     "text": [
      "Orignal Text : Well keep you in our thoughts And I sure wish we could do to cancer what weve been doing during our ongoing battle against go into higher higher gears with research funding\n",
      "\n",
      "After Preprocessed : \n",
      "\n",
      "Preprocessed Text : well keep thought sure wish could cancer weve ongo battl higher higher gear research fund\n"
     ]
    }
   ],
   "source": [
    "print(f\"Orignal Text : {final_data.clean_tweet[7]}\")\n",
    "print(\"\\nAfter Preprocessed : \\n\")\n",
    "print(f\"Preprocessed Text : {preprocess_text(final_data.clean_tweet[7])}\")"
   ]
  },
  {
   "cell_type": "code",
   "execution_count": 26,
   "id": "6ed31f74",
   "metadata": {
    "execution": {
     "iopub.execute_input": "2022-01-25T15:47:25.593483Z",
     "iopub.status.busy": "2022-01-25T15:47:25.592726Z",
     "iopub.status.idle": "2022-01-25T15:47:35.091201Z",
     "shell.execute_reply": "2022-01-25T15:47:35.091680Z",
     "shell.execute_reply.started": "2022-01-25T14:32:33.993766Z"
    },
    "papermill": {
     "duration": 9.617668,
     "end_time": "2022-01-25T15:47:35.091866",
     "exception": false,
     "start_time": "2022-01-25T15:47:25.474198",
     "status": "completed"
    },
    "tags": []
   },
   "outputs": [
    {
     "name": "stdout",
     "output_type": "stream",
     "text": [
      "CPU times: user 9.5 s, sys: 7.72 ms, total: 9.5 s\n",
      "Wall time: 9.51 s\n"
     ]
    },
    {
     "data": {
      "text/html": [
       "<div>\n",
       "<style scoped>\n",
       "    .dataframe tbody tr th:only-of-type {\n",
       "        vertical-align: middle;\n",
       "    }\n",
       "\n",
       "    .dataframe tbody tr th {\n",
       "        vertical-align: top;\n",
       "    }\n",
       "\n",
       "    .dataframe thead th {\n",
       "        text-align: right;\n",
       "    }\n",
       "</style>\n",
       "<table border=\"1\" class=\"dataframe\">\n",
       "  <thead>\n",
       "    <tr style=\"text-align: right;\">\n",
       "      <th></th>\n",
       "      <th>clean_tweet</th>\n",
       "      <th>sentiment</th>\n",
       "    </tr>\n",
       "  </thead>\n",
       "  <tbody>\n",
       "    <tr>\n",
       "      <th>0</th>\n",
       "      <td>jack kept say covid came fort detrick tell you...</td>\n",
       "      <td>Neutral</td>\n",
       "    </tr>\n",
       "    <tr>\n",
       "      <th>1</th>\n",
       "      <td>least case one anoth one suspect track back pa...</td>\n",
       "      <td>Negative</td>\n",
       "    </tr>\n",
       "    <tr>\n",
       "      <th>2</th>\n",
       "      <td>let keep simpl obvious fix rural remot practic...</td>\n",
       "      <td>Positive</td>\n",
       "    </tr>\n",
       "    <tr>\n",
       "      <th>3</th>\n",
       "      <td>covid come fort detrick theyv tri cover truth ...</td>\n",
       "      <td>Negative</td>\n",
       "    </tr>\n",
       "    <tr>\n",
       "      <th>4</th>\n",
       "      <td>good</td>\n",
       "      <td>Positive</td>\n",
       "    </tr>\n",
       "  </tbody>\n",
       "</table>\n",
       "</div>"
      ],
      "text/plain": [
       "                                         clean_tweet sentiment\n",
       "0  jack kept say covid came fort detrick tell you...   Neutral\n",
       "1  least case one anoth one suspect track back pa...  Negative\n",
       "2  let keep simpl obvious fix rural remot practic...  Positive\n",
       "3  covid come fort detrick theyv tri cover truth ...  Negative\n",
       "4                                               good  Positive"
      ]
     },
     "execution_count": 26,
     "metadata": {},
     "output_type": "execute_result"
    }
   ],
   "source": [
    "%%time\n",
    "final_data.clean_tweet = final_data.clean_tweet.map(preprocess_text)\n",
    "final_data.head()"
   ]
  },
  {
   "cell_type": "code",
   "execution_count": 27,
   "id": "6e31a188",
   "metadata": {
    "execution": {
     "iopub.execute_input": "2022-01-25T15:47:35.286860Z",
     "iopub.status.busy": "2022-01-25T15:47:35.286160Z",
     "iopub.status.idle": "2022-01-25T15:47:35.401818Z",
     "shell.execute_reply": "2022-01-25T15:47:35.401226Z",
     "shell.execute_reply.started": "2022-01-25T14:32:43.591113Z"
    },
    "papermill": {
     "duration": 0.217285,
     "end_time": "2022-01-25T15:47:35.401964",
     "exception": false,
     "start_time": "2022-01-25T15:47:35.184679",
     "status": "completed"
    },
    "tags": []
   },
   "outputs": [],
   "source": [
    "from collections import defaultdict\n",
    "sentiment_positive_unigrams = defaultdict(int)\n",
    "for tweet in final_data.loc[final_data.sentiment == 'Positive'].clean_tweet:\n",
    "    for word in tweet.split(\" \"):\n",
    "        sentiment_positive_unigrams[word] += 1\n",
    "        \n",
    "df_sentiment_positive_unigrams = pd.DataFrame(sorted(sentiment_positive_unigrams.items(), key=lambda x: x[1])[::-1])\n",
    "\n",
    "unigrams_positive_100 = df_sentiment_positive_unigrams[:20]\n",
    "\n",
    "\n",
    "\n",
    "\n",
    "sentiment_negative_unigrams = defaultdict(int)\n",
    "for tweet in final_data.loc[final_data.sentiment == 'Negative'].clean_tweet:\n",
    "    for word in tweet.split(\" \"):\n",
    "        sentiment_negative_unigrams[word] += 1\n",
    "        \n",
    "df_sentiment_negative_unigrams = pd.DataFrame(sorted(sentiment_negative_unigrams.items(), key=lambda x: x[1])[::-1])\n",
    "\n",
    "unigrams_negative_100 = df_sentiment_negative_unigrams[:20]\n"
   ]
  },
  {
   "cell_type": "code",
   "execution_count": 28,
   "id": "63178147",
   "metadata": {
    "execution": {
     "iopub.execute_input": "2022-01-25T15:47:35.590708Z",
     "iopub.status.busy": "2022-01-25T15:47:35.590079Z",
     "iopub.status.idle": "2022-01-25T15:47:36.282053Z",
     "shell.execute_reply": "2022-01-25T15:47:36.281512Z",
     "shell.execute_reply.started": "2022-01-25T14:32:43.738779Z"
    },
    "papermill": {
     "duration": 0.787533,
     "end_time": "2022-01-25T15:47:36.282202",
     "exception": false,
     "start_time": "2022-01-25T15:47:35.494669",
     "status": "completed"
    },
    "tags": []
   },
   "outputs": [
    {
     "data": {
      "image/png": "[encoded data removed]",
      "text/plain": [
       "<Figure size 1440x800 with 2 Axes>"
      ]
     },
     "metadata": {
      "needs_background": "light"
     },
     "output_type": "display_data"
    }
   ],
   "source": [
    "fig, axes = plt.subplots(ncols=2, figsize=(18, 20//2), dpi=80)\n",
    "plt.tight_layout()\n",
    "\n",
    "sns.barplot(y=unigrams_positive_100[0], x=unigrams_positive_100[1], ax=axes[0], color='green')\n",
    "sns.barplot(y=unigrams_negative_100[0], x=unigrams_negative_100[1], ax=axes[1], color='red')\n",
    "\n",
    "for i in range(2):\n",
    "    axes[i].spines['right'].set_visible(False)\n",
    "    axes[i].set_xlabel('')\n",
    "    axes[i].set_ylabel('')\n",
    "    axes[i].tick_params(axis='x', labelsize=13)\n",
    "    axes[i].tick_params(axis='y', labelsize=13)\n",
    "\n",
    "axes[0].set_title(f'Top {20} most common unigrams in positive tweets', fontsize=13)\n",
    "axes[1].set_title(f'Top {20} most common unigrams in negative tweets', fontsize=13)\n",
    "\n",
    "plt.show()"
   ]
  },
  {
   "cell_type": "code",
   "execution_count": 29,
   "id": "521dbd76",
   "metadata": {
    "execution": {
     "iopub.execute_input": "2022-01-25T15:47:36.478096Z",
     "iopub.status.busy": "2022-01-25T15:47:36.476820Z",
     "iopub.status.idle": "2022-01-25T15:47:41.215464Z",
     "shell.execute_reply": "2022-01-25T15:47:41.215976Z",
     "shell.execute_reply.started": "2022-01-25T14:32:44.955730Z"
    },
    "papermill": {
     "duration": 4.839219,
     "end_time": "2022-01-25T15:47:41.216149",
     "exception": false,
     "start_time": "2022-01-25T15:47:36.376930",
     "status": "completed"
    },
    "tags": []
   },
   "outputs": [
    {
     "data": {
      "image/png": "[encoded data removed]",
      "text/plain": [
       "<Figure size 1080x1080 with 1 Axes>"
      ]
     },
     "metadata": {
      "needs_background": "light"
     },
     "output_type": "display_data"
    }
   ],
   "source": [
    "import requests\n",
    "from io import BytesIO\n",
    "from wordcloud import WordCloud\n",
    "from PIL import Image\n",
    "try:\n",
    "    url=\"https://user-images.githubusercontent.com/74188336/142692890-641ebc21-2e47-4556-9d37-1c0b9e1a0587.jpeg\"\n",
    "    response = requests.get(url)\n",
    "    img = Image.open(BytesIO(response.content))\n",
    "\n",
    "    text = ' '.join(final_data.clean_tweet.values)\n",
    "    mask = np.array(img)\n",
    "    wordcloud = WordCloud(max_font_size=50, max_words=1000, background_color=\"white\",mask=mask,  colormap='BuGn').generate(text.lower())\n",
    "    plt.figure(figsize=(15,15))\n",
    "    plt.imshow(wordcloud, interpolation=\"bilinear\")\n",
    "    plt.axis(\"off\")\n",
    "    plt.show()\n",
    "except Exception as e:\n",
    "    pass"
   ]
  },
  {
   "cell_type": "code",
   "execution_count": 30,
   "id": "3a47a987",
   "metadata": {
    "execution": {
     "iopub.execute_input": "2022-01-25T15:47:41.428423Z",
     "iopub.status.busy": "2022-01-25T15:47:41.427781Z",
     "iopub.status.idle": "2022-01-25T15:47:41.439477Z",
     "shell.execute_reply": "2022-01-25T15:47:41.440111Z",
     "shell.execute_reply.started": "2022-01-25T14:32:49.884883Z"
    },
    "papermill": {
     "duration": 0.11932,
     "end_time": "2022-01-25T15:47:41.440281",
     "exception": false,
     "start_time": "2022-01-25T15:47:41.320961",
     "status": "completed"
    },
    "tags": []
   },
   "outputs": [
    {
     "data": {
      "text/plain": [
       "clean_tweet    0\n",
       "sentiment      0\n",
       "dtype: int64"
      ]
     },
     "execution_count": 30,
     "metadata": {},
     "output_type": "execute_result"
    }
   ],
   "source": [
    "final_data.isnull().sum()"
   ]
  },
  {
   "cell_type": "markdown",
   "id": "2d161aae",
   "metadata": {
    "papermill": {
     "duration": 0.113813,
     "end_time": "2022-01-25T15:47:41.658361",
     "exception": false,
     "start_time": "2022-01-25T15:47:41.544548",
     "status": "completed"
    },
    "tags": []
   },
   "source": [
    "Now we have preprocessed textual data so now we can proceed further in this notebook and discuss various text representation approaches in detail"
   ]
  },
  {
   "cell_type": "markdown",
   "id": "36b29835",
   "metadata": {
    "papermill": {
     "duration": 0.10834,
     "end_time": "2022-01-25T15:47:41.891808",
     "exception": false,
     "start_time": "2022-01-25T15:47:41.783468",
     "status": "completed"
    },
    "tags": []
   },
   "source": [
    "# BAG OF WORDS\n",
    "\n",
    "In BoW we construct a dictionary that contains set of all unique words from our text review dataset.The frequency of the word is counted here. if there are d unique words in our dictionary then for every sentence or review the vector will be of length d and count of word from review is stored at its particular location in vector. The vector will be highly sparse in such case.\n"
   ]
  },
  {
   "cell_type": "code",
   "execution_count": 31,
   "id": "35c2fd7a",
   "metadata": {
    "execution": {
     "iopub.execute_input": "2022-01-25T15:47:42.103584Z",
     "iopub.status.busy": "2022-01-25T15:47:42.102954Z",
     "iopub.status.idle": "2022-01-25T15:47:42.114984Z",
     "shell.execute_reply": "2022-01-25T15:47:42.115501Z",
     "shell.execute_reply.started": "2022-01-25T14:32:49.902409Z"
    },
    "papermill": {
     "duration": 0.120031,
     "end_time": "2022-01-25T15:47:42.115677",
     "exception": false,
     "start_time": "2022-01-25T15:47:41.995646",
     "status": "completed"
    },
    "tags": []
   },
   "outputs": [],
   "source": [
    "le = preprocessing.LabelEncoder()\n",
    "final_data.sentiment = le.fit_transform(final_data.sentiment)"
   ]
  },
  {
   "cell_type": "code",
   "execution_count": 32,
   "id": "f80b886d",
   "metadata": {
    "execution": {
     "iopub.execute_input": "2022-01-25T15:47:42.327761Z",
     "iopub.status.busy": "2022-01-25T15:47:42.327108Z",
     "iopub.status.idle": "2022-01-25T15:47:42.334867Z",
     "shell.execute_reply": "2022-01-25T15:47:42.335445Z",
     "shell.execute_reply.started": "2022-01-25T14:32:49.918836Z"
    },
    "papermill": {
     "duration": 0.116258,
     "end_time": "2022-01-25T15:47:42.335615",
     "exception": false,
     "start_time": "2022-01-25T15:47:42.219357",
     "status": "completed"
    },
    "tags": []
   },
   "outputs": [
    {
     "data": {
      "text/html": [
       "<div>\n",
       "<style scoped>\n",
       "    .dataframe tbody tr th:only-of-type {\n",
       "        vertical-align: middle;\n",
       "    }\n",
       "\n",
       "    .dataframe tbody tr th {\n",
       "        vertical-align: top;\n",
       "    }\n",
       "\n",
       "    .dataframe thead th {\n",
       "        text-align: right;\n",
       "    }\n",
       "</style>\n",
       "<table border=\"1\" class=\"dataframe\">\n",
       "  <thead>\n",
       "    <tr style=\"text-align: right;\">\n",
       "      <th></th>\n",
       "      <th>clean_tweet</th>\n",
       "      <th>sentiment</th>\n",
       "    </tr>\n",
       "  </thead>\n",
       "  <tbody>\n",
       "    <tr>\n",
       "      <th>0</th>\n",
       "      <td>jack kept say covid came fort detrick tell you...</td>\n",
       "      <td>1</td>\n",
       "    </tr>\n",
       "    <tr>\n",
       "      <th>1</th>\n",
       "      <td>least case one anoth one suspect track back pa...</td>\n",
       "      <td>0</td>\n",
       "    </tr>\n",
       "    <tr>\n",
       "      <th>2</th>\n",
       "      <td>let keep simpl obvious fix rural remot practic...</td>\n",
       "      <td>2</td>\n",
       "    </tr>\n",
       "    <tr>\n",
       "      <th>3</th>\n",
       "      <td>covid come fort detrick theyv tri cover truth ...</td>\n",
       "      <td>0</td>\n",
       "    </tr>\n",
       "    <tr>\n",
       "      <th>4</th>\n",
       "      <td>good</td>\n",
       "      <td>2</td>\n",
       "    </tr>\n",
       "  </tbody>\n",
       "</table>\n",
       "</div>"
      ],
      "text/plain": [
       "                                         clean_tweet  sentiment\n",
       "0  jack kept say covid came fort detrick tell you...          1\n",
       "1  least case one anoth one suspect track back pa...          0\n",
       "2  let keep simpl obvious fix rural remot practic...          2\n",
       "3  covid come fort detrick theyv tri cover truth ...          0\n",
       "4                                               good          2"
      ]
     },
     "execution_count": 32,
     "metadata": {},
     "output_type": "execute_result"
    }
   ],
   "source": [
    "final_data.head()"
   ]
  },
  {
   "cell_type": "code",
   "execution_count": 33,
   "id": "9ca27a1c",
   "metadata": {
    "execution": {
     "iopub.execute_input": "2022-01-25T15:47:42.549063Z",
     "iopub.status.busy": "2022-01-25T15:47:42.548346Z",
     "iopub.status.idle": "2022-01-25T15:47:42.553650Z",
     "shell.execute_reply": "2022-01-25T15:47:42.554245Z",
     "shell.execute_reply.started": "2022-01-25T14:32:49.936566Z"
    },
    "papermill": {
     "duration": 0.11423,
     "end_time": "2022-01-25T15:47:42.554415",
     "exception": false,
     "start_time": "2022-01-25T15:47:42.440185",
     "status": "completed"
    },
    "tags": []
   },
   "outputs": [
    {
     "name": "stdout",
     "output_type": "stream",
     "text": [
      "Samples per class [7113 3842 9669]\n"
     ]
    }
   ],
   "source": [
    "print(\"Samples per class {}\".format(np.bincount(final_data.sentiment)))"
   ]
  },
  {
   "cell_type": "code",
   "execution_count": 34,
   "id": "c3932e7a",
   "metadata": {
    "execution": {
     "iopub.execute_input": "2022-01-25T15:47:42.771316Z",
     "iopub.status.busy": "2022-01-25T15:47:42.770610Z",
     "iopub.status.idle": "2022-01-25T15:47:43.073729Z",
     "shell.execute_reply": "2022-01-25T15:47:43.072837Z",
     "shell.execute_reply.started": "2022-01-25T14:32:49.945110Z"
    },
    "papermill": {
     "duration": 0.413779,
     "end_time": "2022-01-25T15:47:43.073985",
     "exception": false,
     "start_time": "2022-01-25T15:47:42.660206",
     "status": "completed"
    },
    "tags": []
   },
   "outputs": [
    {
     "data": {
      "image/png": "[encoded data removed]",
      "text/plain": [
       "<Figure size 432x288 with 1 Axes>"
      ]
     },
     "metadata": {},
     "output_type": "display_data"
    }
   ],
   "source": [
    "final_data.sentiment.value_counts().plot.pie(autopct='%1.1f%%', labels=None, legend=True)\n",
    "plt.tight_layout ()"
   ]
  },
  {
   "cell_type": "code",
   "execution_count": 35,
   "id": "8cecf831",
   "metadata": {
    "execution": {
     "iopub.execute_input": "2022-01-25T15:47:43.312279Z",
     "iopub.status.busy": "2022-01-25T15:47:43.311573Z",
     "iopub.status.idle": "2022-01-25T15:47:43.314498Z",
     "shell.execute_reply": "2022-01-25T15:47:43.313928Z",
     "shell.execute_reply.started": "2022-01-25T14:32:50.248609Z"
    },
    "papermill": {
     "duration": 0.114017,
     "end_time": "2022-01-25T15:47:43.314660",
     "exception": false,
     "start_time": "2022-01-25T15:47:43.200643",
     "status": "completed"
    },
    "tags": []
   },
   "outputs": [],
   "source": [
    "vect = CountVectorizer()"
   ]
  },
  {
   "cell_type": "markdown",
   "id": "7eb02f1e",
   "metadata": {
    "papermill": {
     "duration": 0.105715,
     "end_time": "2022-01-25T15:47:43.526357",
     "exception": false,
     "start_time": "2022-01-25T15:47:43.420642",
     "status": "completed"
    },
    "tags": []
   },
   "source": [
    "**Training ML Models**\n",
    "* 1. Naive Bayes\n",
    "* 2. Decision Tree\n",
    "* 3. Random Forest\n",
    "* 4. Gradient Boosting\n",
    "* 5. Logistic Regression"
   ]
  },
  {
   "cell_type": "code",
   "execution_count": 36,
   "id": "591037c5",
   "metadata": {
    "execution": {
     "iopub.execute_input": "2022-01-25T15:47:43.744442Z",
     "iopub.status.busy": "2022-01-25T15:47:43.741683Z",
     "iopub.status.idle": "2022-01-25T15:47:43.755446Z",
     "shell.execute_reply": "2022-01-25T15:47:43.754721Z",
     "shell.execute_reply.started": "2022-01-25T14:32:50.266718Z"
    },
    "papermill": {
     "duration": 0.123115,
     "end_time": "2022-01-25T15:47:43.755636",
     "exception": false,
     "start_time": "2022-01-25T15:47:43.632521",
     "status": "completed"
    },
    "tags": []
   },
   "outputs": [
    {
     "name": "stdout",
     "output_type": "stream",
     "text": [
      "(16499,) (4125,)\n"
     ]
    }
   ],
   "source": [
    "#we need first to split our data to train and test sets\n",
    "X_train, X_test, y_train, y_test = train_test_split(final_data.clean_tweet, final_data.sentiment, random_state=42, test_size=0.2)\n",
    "\n",
    "print(X_train.shape, X_test.shape)"
   ]
  },
  {
   "cell_type": "code",
   "execution_count": 37,
   "id": "48e6deb1",
   "metadata": {
    "execution": {
     "iopub.execute_input": "2022-01-25T15:47:43.972302Z",
     "iopub.status.busy": "2022-01-25T15:47:43.971307Z",
     "iopub.status.idle": "2022-01-25T15:47:43.977196Z",
     "shell.execute_reply": "2022-01-25T15:47:43.977624Z",
     "shell.execute_reply.started": "2022-01-25T14:32:50.298139Z"
    },
    "papermill": {
     "duration": 0.115417,
     "end_time": "2022-01-25T15:47:43.977820",
     "exception": false,
     "start_time": "2022-01-25T15:47:43.862403",
     "status": "completed"
    },
    "tags": []
   },
   "outputs": [
    {
     "name": "stdout",
     "output_type": "stream",
     "text": [
      "Samples per class in train [5741 3014 7744]\n",
      "Samples per class in test [1372  828 1925]\n"
     ]
    }
   ],
   "source": [
    "print(\"Samples per class in train {}\".format(np.bincount(y_train)))\n",
    "print(\"Samples per class in test {}\".format(np.bincount(y_test)))"
   ]
  },
  {
   "cell_type": "code",
   "execution_count": 38,
   "id": "8fa8acc2",
   "metadata": {
    "execution": {
     "iopub.execute_input": "2022-01-25T15:47:44.194433Z",
     "iopub.status.busy": "2022-01-25T15:47:44.193454Z",
     "iopub.status.idle": "2022-01-25T15:47:44.676379Z",
     "shell.execute_reply": "2022-01-25T15:47:44.675856Z",
     "shell.execute_reply.started": "2022-01-25T14:32:50.307865Z"
    },
    "papermill": {
     "duration": 0.59217,
     "end_time": "2022-01-25T15:47:44.676526",
     "exception": false,
     "start_time": "2022-01-25T15:47:44.084356",
     "status": "completed"
    },
    "tags": []
   },
   "outputs": [],
   "source": [
    "X_train = vect.fit_transform(X_train)\n",
    "X_test = vect.transform(X_test)"
   ]
  },
  {
   "cell_type": "code",
   "execution_count": 39,
   "id": "8cbe2560",
   "metadata": {
    "execution": {
     "iopub.execute_input": "2022-01-25T15:47:44.894653Z",
     "iopub.status.busy": "2022-01-25T15:47:44.893926Z",
     "iopub.status.idle": "2022-01-25T15:47:45.339163Z",
     "shell.execute_reply": "2022-01-25T15:47:45.338614Z",
     "shell.execute_reply.started": "2022-01-25T14:32:50.860642Z"
    },
    "papermill": {
     "duration": 0.556192,
     "end_time": "2022-01-25T15:47:45.339323",
     "exception": false,
     "start_time": "2022-01-25T15:47:44.783131",
     "status": "completed"
    },
    "tags": []
   },
   "outputs": [],
   "source": [
    "bow_df = pd.DataFrame(X_train.toarray(), columns = vect.get_feature_names())"
   ]
  },
  {
   "cell_type": "code",
   "execution_count": 40,
   "id": "7ad15027",
   "metadata": {
    "execution": {
     "iopub.execute_input": "2022-01-25T15:47:45.560938Z",
     "iopub.status.busy": "2022-01-25T15:47:45.555551Z",
     "iopub.status.idle": "2022-01-25T15:47:45.575924Z",
     "shell.execute_reply": "2022-01-25T15:47:45.575404Z",
     "shell.execute_reply.started": "2022-01-25T14:32:51.403538Z"
    },
    "papermill": {
     "duration": 0.129892,
     "end_time": "2022-01-25T15:47:45.576072",
     "exception": false,
     "start_time": "2022-01-25T15:47:45.446180",
     "status": "completed"
    },
    "tags": []
   },
   "outputs": [
    {
     "data": {
      "text/html": [
       "<div>\n",
       "<style scoped>\n",
       "    .dataframe tbody tr th:only-of-type {\n",
       "        vertical-align: middle;\n",
       "    }\n",
       "\n",
       "    .dataframe tbody tr th {\n",
       "        vertical-align: top;\n",
       "    }\n",
       "\n",
       "    .dataframe thead th {\n",
       "        text-align: right;\n",
       "    }\n",
       "</style>\n",
       "<table border=\"1\" class=\"dataframe\">\n",
       "  <thead>\n",
       "    <tr style=\"text-align: right;\">\n",
       "      <th></th>\n",
       "      <th>aaj</th>\n",
       "      <th>aakash</th>\n",
       "      <th>aand</th>\n",
       "      <th>aanganwadi</th>\n",
       "      <th>aap</th>\n",
       "      <th>aapl</th>\n",
       "      <th>aapm</th>\n",
       "      <th>aardvark</th>\n",
       "      <th>aarogya</th>\n",
       "      <th>aaron</th>\n",
       "      <th>...</th>\n",
       "      <th>zoe</th>\n",
       "      <th>zoho</th>\n",
       "      <th>zombi</th>\n",
       "      <th>zone</th>\n",
       "      <th>zoo</th>\n",
       "      <th>zoom</th>\n",
       "      <th>zoso</th>\n",
       "      <th>zuckerberg</th>\n",
       "      <th>zuma</th>\n",
       "      <th>zuru</th>\n",
       "    </tr>\n",
       "  </thead>\n",
       "  <tbody>\n",
       "    <tr>\n",
       "      <th>0</th>\n",
       "      <td>0</td>\n",
       "      <td>0</td>\n",
       "      <td>0</td>\n",
       "      <td>0</td>\n",
       "      <td>0</td>\n",
       "      <td>0</td>\n",
       "      <td>0</td>\n",
       "      <td>0</td>\n",
       "      <td>0</td>\n",
       "      <td>0</td>\n",
       "      <td>...</td>\n",
       "      <td>0</td>\n",
       "      <td>0</td>\n",
       "      <td>0</td>\n",
       "      <td>0</td>\n",
       "      <td>0</td>\n",
       "      <td>0</td>\n",
       "      <td>0</td>\n",
       "      <td>0</td>\n",
       "      <td>0</td>\n",
       "      <td>0</td>\n",
       "    </tr>\n",
       "    <tr>\n",
       "      <th>1</th>\n",
       "      <td>0</td>\n",
       "      <td>0</td>\n",
       "      <td>0</td>\n",
       "      <td>0</td>\n",
       "      <td>0</td>\n",
       "      <td>0</td>\n",
       "      <td>0</td>\n",
       "      <td>0</td>\n",
       "      <td>0</td>\n",
       "      <td>0</td>\n",
       "      <td>...</td>\n",
       "      <td>0</td>\n",
       "      <td>0</td>\n",
       "      <td>0</td>\n",
       "      <td>0</td>\n",
       "      <td>0</td>\n",
       "      <td>0</td>\n",
       "      <td>0</td>\n",
       "      <td>0</td>\n",
       "      <td>0</td>\n",
       "      <td>0</td>\n",
       "    </tr>\n",
       "    <tr>\n",
       "      <th>2</th>\n",
       "      <td>0</td>\n",
       "      <td>0</td>\n",
       "      <td>0</td>\n",
       "      <td>0</td>\n",
       "      <td>0</td>\n",
       "      <td>0</td>\n",
       "      <td>0</td>\n",
       "      <td>0</td>\n",
       "      <td>0</td>\n",
       "      <td>0</td>\n",
       "      <td>...</td>\n",
       "      <td>0</td>\n",
       "      <td>0</td>\n",
       "      <td>0</td>\n",
       "      <td>0</td>\n",
       "      <td>0</td>\n",
       "      <td>0</td>\n",
       "      <td>0</td>\n",
       "      <td>0</td>\n",
       "      <td>0</td>\n",
       "      <td>0</td>\n",
       "    </tr>\n",
       "    <tr>\n",
       "      <th>3</th>\n",
       "      <td>0</td>\n",
       "      <td>0</td>\n",
       "      <td>0</td>\n",
       "      <td>0</td>\n",
       "      <td>0</td>\n",
       "      <td>0</td>\n",
       "      <td>0</td>\n",
       "      <td>0</td>\n",
       "      <td>0</td>\n",
       "      <td>0</td>\n",
       "      <td>...</td>\n",
       "      <td>0</td>\n",
       "      <td>0</td>\n",
       "      <td>0</td>\n",
       "      <td>0</td>\n",
       "      <td>0</td>\n",
       "      <td>0</td>\n",
       "      <td>0</td>\n",
       "      <td>0</td>\n",
       "      <td>0</td>\n",
       "      <td>0</td>\n",
       "    </tr>\n",
       "    <tr>\n",
       "      <th>4</th>\n",
       "      <td>0</td>\n",
       "      <td>0</td>\n",
       "      <td>0</td>\n",
       "      <td>0</td>\n",
       "      <td>0</td>\n",
       "      <td>0</td>\n",
       "      <td>0</td>\n",
       "      <td>0</td>\n",
       "      <td>0</td>\n",
       "      <td>0</td>\n",
       "      <td>...</td>\n",
       "      <td>0</td>\n",
       "      <td>0</td>\n",
       "      <td>0</td>\n",
       "      <td>0</td>\n",
       "      <td>0</td>\n",
       "      <td>0</td>\n",
       "      <td>0</td>\n",
       "      <td>0</td>\n",
       "      <td>0</td>\n",
       "      <td>0</td>\n",
       "    </tr>\n",
       "  </tbody>\n",
       "</table>\n",
       "<p>5 rows × 14101 columns</p>\n",
       "</div>"
      ],
      "text/plain": [
       "   aaj  aakash  aand  aanganwadi  aap  aapl  aapm  aardvark  aarogya  aaron  \\\n",
       "0    0       0     0           0    0     0     0         0        0      0   \n",
       "1    0       0     0           0    0     0     0         0        0      0   \n",
       "2    0       0     0           0    0     0     0         0        0      0   \n",
       "3    0       0     0           0    0     0     0         0        0      0   \n",
       "4    0       0     0           0    0     0     0         0        0      0   \n",
       "\n",
       "   ...  zoe  zoho  zombi  zone  zoo  zoom  zoso  zuckerberg  zuma  zuru  \n",
       "0  ...    0     0      0     0    0     0     0           0     0     0  \n",
       "1  ...    0     0      0     0    0     0     0           0     0     0  \n",
       "2  ...    0     0      0     0    0     0     0           0     0     0  \n",
       "3  ...    0     0      0     0    0     0     0           0     0     0  \n",
       "4  ...    0     0      0     0    0     0     0           0     0     0  \n",
       "\n",
       "[5 rows x 14101 columns]"
      ]
     },
     "execution_count": 40,
     "metadata": {},
     "output_type": "execute_result"
    }
   ],
   "source": [
    "bow_df.head()"
   ]
  },
  {
   "cell_type": "code",
   "execution_count": 41,
   "id": "a521daab",
   "metadata": {
    "execution": {
     "iopub.execute_input": "2022-01-25T15:47:45.804067Z",
     "iopub.status.busy": "2022-01-25T15:47:45.800709Z",
     "iopub.status.idle": "2022-01-25T15:47:45.807831Z",
     "shell.execute_reply": "2022-01-25T15:47:45.807269Z",
     "shell.execute_reply.started": "2022-01-25T14:32:51.426053Z"
    },
    "papermill": {
     "duration": 0.125284,
     "end_time": "2022-01-25T15:47:45.807971",
     "exception": false,
     "start_time": "2022-01-25T15:47:45.682687",
     "status": "completed"
    },
    "tags": []
   },
   "outputs": [
    {
     "name": "stdout",
     "output_type": "stream",
     "text": [
      "Number of features: 14101\n"
     ]
    }
   ],
   "source": [
    "feature_names = vect.get_feature_names()\n",
    "print(\"Number of features: {}\".format(len(feature_names)))"
   ]
  },
  {
   "cell_type": "code",
   "execution_count": 42,
   "id": "9a5b0f90",
   "metadata": {
    "_kg_hide-input": true,
    "_kg_hide-output": true,
    "execution": {
     "iopub.execute_input": "2022-01-25T15:47:46.029756Z",
     "iopub.status.busy": "2022-01-25T15:47:46.028451Z",
     "iopub.status.idle": "2022-01-25T15:47:46.031527Z",
     "shell.execute_reply": "2022-01-25T15:47:46.032107Z",
     "shell.execute_reply.started": "2022-01-25T14:32:51.461969Z"
    },
    "papermill": {
     "duration": 0.114967,
     "end_time": "2022-01-25T15:47:46.032284",
     "exception": false,
     "start_time": "2022-01-25T15:47:45.917317",
     "status": "completed"
    },
    "tags": []
   },
   "outputs": [],
   "source": [
    "# vect.vocabulary_"
   ]
  },
  {
   "cell_type": "code",
   "execution_count": 43,
   "id": "3070dfe2",
   "metadata": {
    "execution": {
     "iopub.execute_input": "2022-01-25T15:47:46.259447Z",
     "iopub.status.busy": "2022-01-25T15:47:46.258487Z",
     "iopub.status.idle": "2022-01-25T15:47:46.261582Z",
     "shell.execute_reply": "2022-01-25T15:47:46.261055Z",
     "shell.execute_reply.started": "2022-01-25T14:32:51.475026Z"
    },
    "papermill": {
     "duration": 0.121929,
     "end_time": "2022-01-25T15:47:46.261725",
     "exception": false,
     "start_time": "2022-01-25T15:47:46.139796",
     "status": "completed"
    },
    "tags": []
   },
   "outputs": [],
   "source": [
    "# Use multiple classifiers and grid search for prediction\n",
    "def ML_modeling(models, params, X_train, X_test, y_train, y_test):    \n",
    "    \n",
    "    if not set(models.keys()).issubset(set(params.keys())):\n",
    "        raise ValueError('Some estimators are missing parameters')\n",
    "\n",
    "    for key in models.keys():\n",
    "    \n",
    "        model = models[key]\n",
    "        param = params[key]\n",
    "        gs = GridSearchCV(model, param, cv=5, error_score=0, refit=True)\n",
    "        gs.fit(X_train, y_train)\n",
    "        y_pred = gs.predict(X_test)\n",
    "        \n",
    "        # Print scores for the classifier\n",
    "        print(key, ':', gs.best_params_)\n",
    "        print(\"Accuracy: %1.3f \\tPrecision: %1.3f \\tRecall: %1.3f \\t\\tF1: %1.3f\\n\" % (accuracy_score(y_test, y_pred), precision_score(y_test, y_pred, average='macro'), recall_score(y_test, y_pred, average='macro'), f1_score(y_test, y_pred, average='macro')))\n",
    "    \n",
    "    return"
   ]
  },
  {
   "cell_type": "code",
   "execution_count": 44,
   "id": "762ed270",
   "metadata": {
    "execution": {
     "iopub.execute_input": "2022-01-25T15:47:46.487156Z",
     "iopub.status.busy": "2022-01-25T15:47:46.486184Z",
     "iopub.status.idle": "2022-01-25T15:47:46.489221Z",
     "shell.execute_reply": "2022-01-25T15:47:46.488563Z",
     "shell.execute_reply.started": "2022-01-25T14:32:51.500367Z"
    },
    "papermill": {
     "duration": 0.119177,
     "end_time": "2022-01-25T15:47:46.489362",
     "exception": false,
     "start_time": "2022-01-25T15:47:46.370185",
     "status": "completed"
    },
    "tags": []
   },
   "outputs": [],
   "source": [
    "## Preparing to make a pipeline \n",
    "models = {\n",
    "    'Random Forest Classifier': RandomForestClassifier(),\n",
    "    'Naive Bayes': MultinomialNB(),\n",
    "    'logistic regression' : LogisticRegression(),\n",
    "    'Decision Tree': DecisionTreeClassifier(),  \n",
    "    'Gradient Boosting': GradientBoostingClassifier()\n",
    "}\n",
    "\n",
    "params = {\n",
    "    'Random Forest Classifier': {'criterion': ['gini', 'entropy']},\n",
    "    'Naive Bayes': { 'alpha': [0.5, 1], 'fit_prior': [True, False] }, \n",
    "    'logistic regression' : {'max_iter':[2000]},\n",
    "    'Decision Tree': { 'min_samples_split': [2, 5, 7] }, \n",
    "    'Gradient Boosting': { 'learning_rate': [0.05, 0.1] }\n",
    "}"
   ]
  },
  {
   "cell_type": "code",
   "execution_count": 45,
   "id": "8ace984b",
   "metadata": {
    "execution": {
     "iopub.execute_input": "2022-01-25T15:47:46.712971Z",
     "iopub.status.busy": "2022-01-25T15:47:46.711234Z",
     "iopub.status.idle": "2022-01-25T16:00:12.023019Z",
     "shell.execute_reply": "2022-01-25T16:00:12.023617Z",
     "shell.execute_reply.started": "2022-01-25T14:32:51.516907Z"
    },
    "papermill": {
     "duration": 745.427013,
     "end_time": "2022-01-25T16:00:12.024018",
     "exception": false,
     "start_time": "2022-01-25T15:47:46.597005",
     "status": "completed"
    },
    "tags": []
   },
   "outputs": [
    {
     "name": "stdout",
     "output_type": "stream",
     "text": [
      "==============Bag of Words==============\n",
      "\n",
      "Random Forest Classifier : {'criterion': 'gini'}\n",
      "Accuracy: 0.778 \tPrecision: 0.774 \tRecall: 0.759 \t\tF1: 0.765\n",
      "\n",
      "Naive Bayes : {'alpha': 1, 'fit_prior': False}\n",
      "Accuracy: 0.721 \tPrecision: 0.710 \tRecall: 0.688 \t\tF1: 0.695\n",
      "\n",
      "logistic regression : {'max_iter': 2000}\n",
      "Accuracy: 0.790 \tPrecision: 0.777 \tRecall: 0.770 \t\tF1: 0.773\n",
      "\n",
      "Decision Tree : {'min_samples_split': 5}\n",
      "Accuracy: 0.712 \tPrecision: 0.702 \tRecall: 0.704 \t\tF1: 0.703\n",
      "\n",
      "Gradient Boosting : {'learning_rate': 0.1}\n",
      "Accuracy: 0.659 \tPrecision: 0.747 \tRecall: 0.574 \t\tF1: 0.594\n",
      "\n",
      "CPU times: user 12min 47s, sys: 42.1 s, total: 13min 29s\n",
      "Wall time: 12min 25s\n"
     ]
    }
   ],
   "source": [
    "%%time\n",
    "print(\"==============Bag of Words==============\\n\")\n",
    "ML_modeling(models, params, X_train, X_test, y_train, y_test)"
   ]
  },
  {
   "cell_type": "markdown",
   "id": "bc503b10",
   "metadata": {
    "papermill": {
     "duration": 0.109407,
     "end_time": "2022-01-25T16:00:12.243917",
     "exception": false,
     "start_time": "2022-01-25T16:00:12.134510",
     "status": "completed"
    },
    "tags": []
   },
   "source": [
    "# TF-IDF"
   ]
  },
  {
   "cell_type": "code",
   "execution_count": 46,
   "id": "ce2b4f47",
   "metadata": {
    "execution": {
     "iopub.execute_input": "2022-01-25T16:00:12.469963Z",
     "iopub.status.busy": "2022-01-25T16:00:12.466705Z",
     "iopub.status.idle": "2022-01-25T16:00:12.471603Z",
     "shell.execute_reply": "2022-01-25T16:00:12.472218Z",
     "shell.execute_reply.started": "2022-01-25T14:45:21.278269Z"
    },
    "papermill": {
     "duration": 0.11948,
     "end_time": "2022-01-25T16:00:12.472399",
     "exception": false,
     "start_time": "2022-01-25T16:00:12.352919",
     "status": "completed"
    },
    "tags": []
   },
   "outputs": [],
   "source": [
    "tfidf_vec = TfidfVectorizer(stop_words='english', ngram_range=(1,2))"
   ]
  },
  {
   "cell_type": "code",
   "execution_count": 47,
   "id": "9162eeea",
   "metadata": {
    "execution": {
     "iopub.execute_input": "2022-01-25T16:00:12.694421Z",
     "iopub.status.busy": "2022-01-25T16:00:12.693373Z",
     "iopub.status.idle": "2022-01-25T16:00:12.704299Z",
     "shell.execute_reply": "2022-01-25T16:00:12.704909Z",
     "shell.execute_reply.started": "2022-01-25T14:45:21.286792Z"
    },
    "papermill": {
     "duration": 0.12419,
     "end_time": "2022-01-25T16:00:12.705081",
     "exception": false,
     "start_time": "2022-01-25T16:00:12.580891",
     "status": "completed"
    },
    "tags": []
   },
   "outputs": [
    {
     "name": "stdout",
     "output_type": "stream",
     "text": [
      "(16499,) (4125,)\n"
     ]
    }
   ],
   "source": [
    "# #we need first to split our data to train and test sets\n",
    "X_train, X_test, y_train, y_test = train_test_split(final_data.clean_tweet, final_data.sentiment, random_state=42, test_size=0.2)\n",
    "\n",
    "print(X_train.shape, X_test.shape)"
   ]
  },
  {
   "cell_type": "code",
   "execution_count": 48,
   "id": "02933caa",
   "metadata": {
    "execution": {
     "iopub.execute_input": "2022-01-25T16:00:12.946243Z",
     "iopub.status.busy": "2022-01-25T16:00:12.945502Z",
     "iopub.status.idle": "2022-01-25T16:00:14.347020Z",
     "shell.execute_reply": "2022-01-25T16:00:14.346362Z",
     "shell.execute_reply.started": "2022-01-25T14:45:21.312756Z"
    },
    "papermill": {
     "duration": 1.531823,
     "end_time": "2022-01-25T16:00:14.347184",
     "exception": false,
     "start_time": "2022-01-25T16:00:12.815361",
     "status": "completed"
    },
    "tags": []
   },
   "outputs": [],
   "source": [
    "X_train = tfidf_vec.fit_transform(X_train)\n",
    "X_test = tfidf_vec.transform(X_test)"
   ]
  },
  {
   "cell_type": "code",
   "execution_count": 49,
   "id": "9e3e6ef1",
   "metadata": {
    "execution": {
     "iopub.execute_input": "2022-01-25T16:00:14.571937Z",
     "iopub.status.busy": "2022-01-25T16:00:14.570862Z",
     "iopub.status.idle": "2022-01-25T16:00:16.913323Z",
     "shell.execute_reply": "2022-01-25T16:00:16.912720Z",
     "shell.execute_reply.started": "2022-01-25T14:45:22.799533Z"
    },
    "papermill": {
     "duration": 2.456522,
     "end_time": "2022-01-25T16:00:16.913472",
     "exception": false,
     "start_time": "2022-01-25T16:00:14.456950",
     "status": "completed"
    },
    "tags": []
   },
   "outputs": [],
   "source": [
    "tfidf_df = pd.DataFrame(X_train.toarray(), columns = tfidf_vec.get_feature_names())"
   ]
  },
  {
   "cell_type": "code",
   "execution_count": 50,
   "id": "a914dfbd",
   "metadata": {
    "execution": {
     "iopub.execute_input": "2022-01-25T16:00:17.252881Z",
     "iopub.status.busy": "2022-01-25T16:00:17.247764Z",
     "iopub.status.idle": "2022-01-25T16:00:17.301771Z",
     "shell.execute_reply": "2022-01-25T16:00:17.301182Z",
     "shell.execute_reply.started": "2022-01-25T14:45:24.285803Z"
    },
    "papermill": {
     "duration": 0.275396,
     "end_time": "2022-01-25T16:00:17.301924",
     "exception": false,
     "start_time": "2022-01-25T16:00:17.026528",
     "status": "completed"
    },
    "tags": []
   },
   "outputs": [
    {
     "data": {
      "text/plain": [
       "142668"
      ]
     },
     "execution_count": 50,
     "metadata": {},
     "output_type": "execute_result"
    }
   ],
   "source": [
    "len(tfidf_vec.get_feature_names())"
   ]
  },
  {
   "cell_type": "code",
   "execution_count": 51,
   "id": "a931083e",
   "metadata": {
    "execution": {
     "iopub.execute_input": "2022-01-25T16:00:17.560814Z",
     "iopub.status.busy": "2022-01-25T16:00:17.560094Z",
     "iopub.status.idle": "2022-01-25T16:00:17.591316Z",
     "shell.execute_reply": "2022-01-25T16:00:17.590756Z",
     "shell.execute_reply.started": "2022-01-25T14:45:24.467159Z"
    },
    "papermill": {
     "duration": 0.178074,
     "end_time": "2022-01-25T16:00:17.591458",
     "exception": false,
     "start_time": "2022-01-25T16:00:17.413384",
     "status": "completed"
    },
    "tags": []
   },
   "outputs": [
    {
     "data": {
      "text/html": [
       "<div>\n",
       "<style scoped>\n",
       "    .dataframe tbody tr th:only-of-type {\n",
       "        vertical-align: middle;\n",
       "    }\n",
       "\n",
       "    .dataframe tbody tr th {\n",
       "        vertical-align: top;\n",
       "    }\n",
       "\n",
       "    .dataframe thead th {\n",
       "        text-align: right;\n",
       "    }\n",
       "</style>\n",
       "<table border=\"1\" class=\"dataframe\">\n",
       "  <thead>\n",
       "    <tr style=\"text-align: right;\">\n",
       "      <th></th>\n",
       "      <th>aaj</th>\n",
       "      <th>aaj news</th>\n",
       "      <th>aakash</th>\n",
       "      <th>aakash healthcar</th>\n",
       "      <th>aand</th>\n",
       "      <th>aand younger</th>\n",
       "      <th>aanganwadi</th>\n",
       "      <th>aanganwadi staff</th>\n",
       "      <th>aap</th>\n",
       "      <th>aap ganja</th>\n",
       "      <th>...</th>\n",
       "      <th>zuckerberg</th>\n",
       "      <th>zuckerberg amazon</th>\n",
       "      <th>zuckerberg anti</th>\n",
       "      <th>zuckerberg chang</th>\n",
       "      <th>zuckerberg doubl</th>\n",
       "      <th>zuma</th>\n",
       "      <th>zuma extend</th>\n",
       "      <th>zuma suspens</th>\n",
       "      <th>zuru</th>\n",
       "      <th>zuru pack</th>\n",
       "    </tr>\n",
       "  </thead>\n",
       "  <tbody>\n",
       "    <tr>\n",
       "      <th>0</th>\n",
       "      <td>0.0</td>\n",
       "      <td>0.0</td>\n",
       "      <td>0.0</td>\n",
       "      <td>0.0</td>\n",
       "      <td>0.0</td>\n",
       "      <td>0.0</td>\n",
       "      <td>0.0</td>\n",
       "      <td>0.0</td>\n",
       "      <td>0.0</td>\n",
       "      <td>0.0</td>\n",
       "      <td>...</td>\n",
       "      <td>0.0</td>\n",
       "      <td>0.0</td>\n",
       "      <td>0.0</td>\n",
       "      <td>0.0</td>\n",
       "      <td>0.0</td>\n",
       "      <td>0.0</td>\n",
       "      <td>0.0</td>\n",
       "      <td>0.0</td>\n",
       "      <td>0.0</td>\n",
       "      <td>0.0</td>\n",
       "    </tr>\n",
       "    <tr>\n",
       "      <th>1</th>\n",
       "      <td>0.0</td>\n",
       "      <td>0.0</td>\n",
       "      <td>0.0</td>\n",
       "      <td>0.0</td>\n",
       "      <td>0.0</td>\n",
       "      <td>0.0</td>\n",
       "      <td>0.0</td>\n",
       "      <td>0.0</td>\n",
       "      <td>0.0</td>\n",
       "      <td>0.0</td>\n",
       "      <td>...</td>\n",
       "      <td>0.0</td>\n",
       "      <td>0.0</td>\n",
       "      <td>0.0</td>\n",
       "      <td>0.0</td>\n",
       "      <td>0.0</td>\n",
       "      <td>0.0</td>\n",
       "      <td>0.0</td>\n",
       "      <td>0.0</td>\n",
       "      <td>0.0</td>\n",
       "      <td>0.0</td>\n",
       "    </tr>\n",
       "    <tr>\n",
       "      <th>2</th>\n",
       "      <td>0.0</td>\n",
       "      <td>0.0</td>\n",
       "      <td>0.0</td>\n",
       "      <td>0.0</td>\n",
       "      <td>0.0</td>\n",
       "      <td>0.0</td>\n",
       "      <td>0.0</td>\n",
       "      <td>0.0</td>\n",
       "      <td>0.0</td>\n",
       "      <td>0.0</td>\n",
       "      <td>...</td>\n",
       "      <td>0.0</td>\n",
       "      <td>0.0</td>\n",
       "      <td>0.0</td>\n",
       "      <td>0.0</td>\n",
       "      <td>0.0</td>\n",
       "      <td>0.0</td>\n",
       "      <td>0.0</td>\n",
       "      <td>0.0</td>\n",
       "      <td>0.0</td>\n",
       "      <td>0.0</td>\n",
       "    </tr>\n",
       "    <tr>\n",
       "      <th>3</th>\n",
       "      <td>0.0</td>\n",
       "      <td>0.0</td>\n",
       "      <td>0.0</td>\n",
       "      <td>0.0</td>\n",
       "      <td>0.0</td>\n",
       "      <td>0.0</td>\n",
       "      <td>0.0</td>\n",
       "      <td>0.0</td>\n",
       "      <td>0.0</td>\n",
       "      <td>0.0</td>\n",
       "      <td>...</td>\n",
       "      <td>0.0</td>\n",
       "      <td>0.0</td>\n",
       "      <td>0.0</td>\n",
       "      <td>0.0</td>\n",
       "      <td>0.0</td>\n",
       "      <td>0.0</td>\n",
       "      <td>0.0</td>\n",
       "      <td>0.0</td>\n",
       "      <td>0.0</td>\n",
       "      <td>0.0</td>\n",
       "    </tr>\n",
       "    <tr>\n",
       "      <th>4</th>\n",
       "      <td>0.0</td>\n",
       "      <td>0.0</td>\n",
       "      <td>0.0</td>\n",
       "      <td>0.0</td>\n",
       "      <td>0.0</td>\n",
       "      <td>0.0</td>\n",
       "      <td>0.0</td>\n",
       "      <td>0.0</td>\n",
       "      <td>0.0</td>\n",
       "      <td>0.0</td>\n",
       "      <td>...</td>\n",
       "      <td>0.0</td>\n",
       "      <td>0.0</td>\n",
       "      <td>0.0</td>\n",
       "      <td>0.0</td>\n",
       "      <td>0.0</td>\n",
       "      <td>0.0</td>\n",
       "      <td>0.0</td>\n",
       "      <td>0.0</td>\n",
       "      <td>0.0</td>\n",
       "      <td>0.0</td>\n",
       "    </tr>\n",
       "  </tbody>\n",
       "</table>\n",
       "<p>5 rows × 142668 columns</p>\n",
       "</div>"
      ],
      "text/plain": [
       "   aaj  aaj news  aakash  aakash healthcar  aand  aand younger  aanganwadi  \\\n",
       "0  0.0       0.0     0.0               0.0   0.0           0.0         0.0   \n",
       "1  0.0       0.0     0.0               0.0   0.0           0.0         0.0   \n",
       "2  0.0       0.0     0.0               0.0   0.0           0.0         0.0   \n",
       "3  0.0       0.0     0.0               0.0   0.0           0.0         0.0   \n",
       "4  0.0       0.0     0.0               0.0   0.0           0.0         0.0   \n",
       "\n",
       "   aanganwadi staff  aap  aap ganja  ...  zuckerberg  zuckerberg amazon  \\\n",
       "0               0.0  0.0        0.0  ...         0.0                0.0   \n",
       "1               0.0  0.0        0.0  ...         0.0                0.0   \n",
       "2               0.0  0.0        0.0  ...         0.0                0.0   \n",
       "3               0.0  0.0        0.0  ...         0.0                0.0   \n",
       "4               0.0  0.0        0.0  ...         0.0                0.0   \n",
       "\n",
       "   zuckerberg anti  zuckerberg chang  zuckerberg doubl  zuma  zuma extend  \\\n",
       "0              0.0               0.0               0.0   0.0          0.0   \n",
       "1              0.0               0.0               0.0   0.0          0.0   \n",
       "2              0.0               0.0               0.0   0.0          0.0   \n",
       "3              0.0               0.0               0.0   0.0          0.0   \n",
       "4              0.0               0.0               0.0   0.0          0.0   \n",
       "\n",
       "   zuma suspens  zuru  zuru pack  \n",
       "0           0.0   0.0        0.0  \n",
       "1           0.0   0.0        0.0  \n",
       "2           0.0   0.0        0.0  \n",
       "3           0.0   0.0        0.0  \n",
       "4           0.0   0.0        0.0  \n",
       "\n",
       "[5 rows x 142668 columns]"
      ]
     },
     "execution_count": 51,
     "metadata": {},
     "output_type": "execute_result"
    }
   ],
   "source": [
    "tfidf_df.head()"
   ]
  },
  {
   "cell_type": "markdown",
   "id": "554edcd6",
   "metadata": {
    "papermill": {
     "duration": 0.112402,
     "end_time": "2022-01-25T16:00:17.817373",
     "exception": false,
     "start_time": "2022-01-25T16:00:17.704971",
     "status": "completed"
    },
    "tags": []
   },
   "source": [
    "**Train Models**"
   ]
  },
  {
   "cell_type": "code",
   "execution_count": 52,
   "id": "b37763a9",
   "metadata": {
    "execution": {
     "iopub.execute_input": "2022-01-25T16:00:18.043541Z",
     "iopub.status.busy": "2022-01-25T16:00:18.042898Z",
     "iopub.status.idle": "2022-01-25T16:00:18.046249Z",
     "shell.execute_reply": "2022-01-25T16:00:18.046780Z",
     "shell.execute_reply.started": "2022-01-25T14:45:24.536541Z"
    },
    "papermill": {
     "duration": 0.118935,
     "end_time": "2022-01-25T16:00:18.046952",
     "exception": false,
     "start_time": "2022-01-25T16:00:17.928017",
     "status": "completed"
    },
    "tags": []
   },
   "outputs": [],
   "source": [
    "# %%time\n",
    "# print(\"==============TF-IDF==============\\n\")\n",
    "# ML_modeling(models, params, X_train, X_test, y_train, y_test)"
   ]
  },
  {
   "cell_type": "markdown",
   "id": "cb07b059",
   "metadata": {
    "papermill": {
     "duration": 0.109843,
     "end_time": "2022-01-25T16:00:18.267750",
     "exception": false,
     "start_time": "2022-01-25T16:00:18.157907",
     "status": "completed"
    },
    "tags": []
   },
   "source": [
    "# Bigrams\n",
    "\n",
    "We are using Gensim Phrases package to automatically detect common phrases (bigrams) from a list of sentences."
   ]
  },
  {
   "cell_type": "markdown",
   "id": "17a4be81",
   "metadata": {
    "papermill": {
     "duration": 0.109858,
     "end_time": "2022-01-25T16:00:18.487822",
     "exception": false,
     "start_time": "2022-01-25T16:00:18.377964",
     "status": "completed"
    },
    "tags": []
   },
   "source": [
    "As Phrases() takes a list of list of words as input:"
   ]
  },
  {
   "cell_type": "code",
   "execution_count": 53,
   "id": "06f5e770",
   "metadata": {
    "execution": {
     "iopub.execute_input": "2022-01-25T16:00:18.755207Z",
     "iopub.status.busy": "2022-01-25T16:00:18.733455Z",
     "iopub.status.idle": "2022-01-25T16:00:18.772554Z",
     "shell.execute_reply": "2022-01-25T16:00:18.771831Z",
     "shell.execute_reply.started": "2022-01-25T14:45:24.541573Z"
    },
    "papermill": {
     "duration": 0.174276,
     "end_time": "2022-01-25T16:00:18.772708",
     "exception": false,
     "start_time": "2022-01-25T16:00:18.598432",
     "status": "completed"
    },
    "tags": []
   },
   "outputs": [],
   "source": [
    "sent = [row.split() for row in final_data['clean_tweet']]"
   ]
  },
  {
   "cell_type": "markdown",
   "id": "801a5c0d",
   "metadata": {
    "papermill": {
     "duration": 0.11043,
     "end_time": "2022-01-25T16:00:18.994657",
     "exception": false,
     "start_time": "2022-01-25T16:00:18.884227",
     "status": "completed"
    },
    "tags": []
   },
   "source": [
    "Creates the relevant phrases from the list of sentences:"
   ]
  },
  {
   "cell_type": "code",
   "execution_count": 54,
   "id": "99ea3baa",
   "metadata": {
    "execution": {
     "iopub.execute_input": "2022-01-25T16:00:19.253609Z",
     "iopub.status.busy": "2022-01-25T16:00:19.243159Z",
     "iopub.status.idle": "2022-01-25T16:00:19.858524Z",
     "shell.execute_reply": "2022-01-25T16:00:19.859082Z",
     "shell.execute_reply.started": "2022-01-25T14:45:24.606029Z"
    },
    "papermill": {
     "duration": 0.752992,
     "end_time": "2022-01-25T16:00:19.859268",
     "exception": false,
     "start_time": "2022-01-25T16:00:19.106276",
     "status": "completed"
    },
    "tags": []
   },
   "outputs": [],
   "source": [
    "phrases = Phrases(sent, min_count=30, progress_per=10000)"
   ]
  },
  {
   "cell_type": "markdown",
   "id": "32d2d900",
   "metadata": {
    "papermill": {
     "duration": 0.110167,
     "end_time": "2022-01-25T16:00:20.080170",
     "exception": false,
     "start_time": "2022-01-25T16:00:19.970003",
     "status": "completed"
    },
    "tags": []
   },
   "source": [
    "The goal of Phraser() is to cut down memory consumption of Phrases(), by discarding model state not strictly needed for the bigram detection task:"
   ]
  },
  {
   "cell_type": "code",
   "execution_count": 55,
   "id": "49752acf",
   "metadata": {
    "execution": {
     "iopub.execute_input": "2022-01-25T16:00:20.306554Z",
     "iopub.status.busy": "2022-01-25T16:00:20.305926Z",
     "iopub.status.idle": "2022-01-25T16:00:20.887717Z",
     "shell.execute_reply": "2022-01-25T16:00:20.888372Z",
     "shell.execute_reply.started": "2022-01-25T14:45:25.208278Z"
    },
    "papermill": {
     "duration": 0.697701,
     "end_time": "2022-01-25T16:00:20.888568",
     "exception": false,
     "start_time": "2022-01-25T16:00:20.190867",
     "status": "completed"
    },
    "tags": []
   },
   "outputs": [],
   "source": [
    "bigram = Phraser(phrases)"
   ]
  },
  {
   "cell_type": "markdown",
   "id": "561cc91e",
   "metadata": {
    "papermill": {
     "duration": 0.112387,
     "end_time": "2022-01-25T16:00:21.112653",
     "exception": false,
     "start_time": "2022-01-25T16:00:21.000266",
     "status": "completed"
    },
    "tags": []
   },
   "source": [
    "Transform the corpus based on the bigrams detected:"
   ]
  },
  {
   "cell_type": "code",
   "execution_count": 56,
   "id": "b776f4ae",
   "metadata": {
    "execution": {
     "iopub.execute_input": "2022-01-25T16:00:21.337207Z",
     "iopub.status.busy": "2022-01-25T16:00:21.336182Z",
     "iopub.status.idle": "2022-01-25T16:00:21.340076Z",
     "shell.execute_reply": "2022-01-25T16:00:21.340665Z",
     "shell.execute_reply.started": "2022-01-25T14:45:25.779871Z"
    },
    "papermill": {
     "duration": 0.117519,
     "end_time": "2022-01-25T16:00:21.340871",
     "exception": false,
     "start_time": "2022-01-25T16:00:21.223352",
     "status": "completed"
    },
    "tags": []
   },
   "outputs": [],
   "source": [
    "sentences = bigram[sent]"
   ]
  },
  {
   "cell_type": "markdown",
   "id": "78ac756c",
   "metadata": {
    "papermill": {
     "duration": 0.110961,
     "end_time": "2022-01-25T16:00:21.562145",
     "exception": false,
     "start_time": "2022-01-25T16:00:21.451184",
     "status": "completed"
    },
    "tags": []
   },
   "source": [
    "# Gensim Word2Vec Implementation\n",
    "\n",
    "**Word Embeddings :** They are a real-valued vector representation of words that allows words with the same meaning to have similar representation. Thus we can say word embeddings are the projection of meanings of words in a real-valued vector\n",
    "\n",
    "Word2vec is a Word Embedding Technique published in 2013. The word2vec algorithm uses a neural network model to learn word associations from a large corpus of text.\n",
    "\n",
    "It is the representation of words that allows words with the same meaning to have similar representation, Word2vec operationalizes this by projecting the meaning of the words in a vector space where words with similar meanings will tend to cluster together, and works with very different meanings are far from one another."
   ]
  },
  {
   "cell_type": "markdown",
   "id": "a471ba42",
   "metadata": {
    "papermill": {
     "duration": 0.111275,
     "end_time": "2022-01-25T16:00:21.785057",
     "exception": false,
     "start_time": "2022-01-25T16:00:21.673782",
     "status": "completed"
    },
    "tags": []
   },
   "source": [
    "**The parameters:**<br>\n",
    "> * ***min_count*** = int - Ignores all words with total absolute frequency lower than this - (2, 100)<br>\n",
    "> * ***window*** = int - The maximum distance between the current and predicted word within a sentence. E.g. window words on the left and window words on the left of our target - (2, 10)<br>\n",
    "> * ***size*** = int - Dimensionality of the feature vectors. - (50, 300)<br>\n",
    "> * ***sample*** = float - The threshold for configuring which higher-frequency words are randomly downsampled. Highly influencial. - (0, 1e-5)<br>\n",
    "> * ***alpha*** = float - The initial learning rate - (0.01, 0.05)<br>\n",
    "> * ***min_alpha*** = float - Learning rate will linearly drop to min_alpha as training progresses. To set it: alpha - (min_alpha * epochs) ~ 0.00<br>\n",
    "> * ***negative*** = int - If > 0, negative sampling will be used, the int for negative specifies how many \"noise words\" should be drown. If set to 0, no negative sampling is used. - (5, 20)<br>\n",
    "> * ***workers*** = int - Use these many worker threads to train the model (=faster training with multicore machines)<br>"
   ]
  },
  {
   "cell_type": "code",
   "execution_count": 57,
   "id": "fbb7f1c9",
   "metadata": {
    "execution": {
     "iopub.execute_input": "2022-01-25T16:00:22.048154Z",
     "iopub.status.busy": "2022-01-25T16:00:22.043013Z",
     "iopub.status.idle": "2022-01-25T16:00:26.970085Z",
     "shell.execute_reply": "2022-01-25T16:00:26.970684Z",
     "shell.execute_reply.started": "2022-01-25T14:45:25.792423Z"
    },
    "papermill": {
     "duration": 5.075281,
     "end_time": "2022-01-25T16:00:26.970964",
     "exception": false,
     "start_time": "2022-01-25T16:00:21.895683",
     "status": "completed"
    },
    "tags": []
   },
   "outputs": [],
   "source": [
    "w2v_model = Word2Vec(sentences=sentences,\n",
    "                     min_count=9,\n",
    "                     vector_size=300,\n",
    "                     window=2,\n",
    "                     sample=6e-5, \n",
    "                     alpha=0.03, \n",
    "                     min_alpha=0.0007, \n",
    "                     negative=20\n",
    "                    )"
   ]
  },
  {
   "cell_type": "markdown",
   "id": "5e7577ec",
   "metadata": {
    "papermill": {
     "duration": 0.110064,
     "end_time": "2022-01-25T16:00:27.192645",
     "exception": false,
     "start_time": "2022-01-25T16:00:27.082581",
     "status": "completed"
    },
    "tags": []
   },
   "source": [
    "**Building the Vocabulary Table:**<br>\n",
    "\n",
    "\n",
    "Word2Vec requires us to build the vocabulary table (simply digesting all the words and filtering out the unique words, and doing some basic counts on them):"
   ]
  },
  {
   "cell_type": "code",
   "execution_count": 58,
   "id": "ebec84ad",
   "metadata": {
    "execution": {
     "iopub.execute_input": "2022-01-25T16:00:27.416364Z",
     "iopub.status.busy": "2022-01-25T16:00:27.415651Z",
     "iopub.status.idle": "2022-01-25T16:00:28.100696Z",
     "shell.execute_reply": "2022-01-25T16:00:28.101203Z",
     "shell.execute_reply.started": "2022-01-25T14:45:31.232063Z"
    },
    "papermill": {
     "duration": 0.798688,
     "end_time": "2022-01-25T16:00:28.101387",
     "exception": false,
     "start_time": "2022-01-25T16:00:27.302699",
     "status": "completed"
    },
    "tags": []
   },
   "outputs": [],
   "source": [
    "w2v_model.build_vocab(sentences, progress_per=20000)"
   ]
  },
  {
   "cell_type": "markdown",
   "id": "b69563dd",
   "metadata": {
    "papermill": {
     "duration": 0.10958,
     "end_time": "2022-01-25T16:00:28.320935",
     "exception": false,
     "start_time": "2022-01-25T16:00:28.211355",
     "status": "completed"
    },
    "tags": []
   },
   "source": [
    "**Training of the model:**\n",
    "\n",
    "\n",
    "Parameters of the training:\n",
    "\n",
    "* **total_examples** = int - Count of sentences.\n",
    "* **epochs** = int - Number of iterations (epochs)."
   ]
  },
  {
   "cell_type": "code",
   "execution_count": 59,
   "id": "b33a902f",
   "metadata": {
    "execution": {
     "iopub.execute_input": "2022-01-25T16:00:28.543511Z",
     "iopub.status.busy": "2022-01-25T16:00:28.542872Z",
     "iopub.status.idle": "2022-01-25T16:01:07.737389Z",
     "shell.execute_reply": "2022-01-25T16:01:07.737992Z",
     "shell.execute_reply.started": "2022-01-25T14:45:31.932134Z"
    },
    "papermill": {
     "duration": 39.307555,
     "end_time": "2022-01-25T16:01:07.738212",
     "exception": false,
     "start_time": "2022-01-25T16:00:28.430657",
     "status": "completed"
    },
    "tags": []
   },
   "outputs": [
    {
     "data": {
      "text/plain": [
       "(5421421, 12850470)"
      ]
     },
     "execution_count": 59,
     "metadata": {},
     "output_type": "execute_result"
    }
   ],
   "source": [
    "w2v_model.train(sentences, total_examples=w2v_model.corpus_count, epochs=45, report_delay=1)"
   ]
  },
  {
   "cell_type": "markdown",
   "id": "88bc1bb6",
   "metadata": {
    "papermill": {
     "duration": 0.110759,
     "end_time": "2022-01-25T16:01:07.960289",
     "exception": false,
     "start_time": "2022-01-25T16:01:07.849530",
     "status": "completed"
    },
    "tags": []
   },
   "source": [
    "**Exploring the model**\n",
    "\n",
    "*Most similar to:*\n",
    "\n",
    "Here, we will ask our model to find the word most similar to Corona!"
   ]
  },
  {
   "cell_type": "code",
   "execution_count": 60,
   "id": "49287f72",
   "metadata": {
    "execution": {
     "iopub.execute_input": "2022-01-25T16:01:08.187083Z",
     "iopub.status.busy": "2022-01-25T16:01:08.186076Z",
     "iopub.status.idle": "2022-01-25T16:01:08.189355Z",
     "shell.execute_reply": "2022-01-25T16:01:08.189959Z",
     "shell.execute_reply.started": "2022-01-25T14:46:12.421879Z"
    },
    "papermill": {
     "duration": 0.118201,
     "end_time": "2022-01-25T16:01:08.190137",
     "exception": false,
     "start_time": "2022-01-25T16:01:08.071936",
     "status": "completed"
    },
    "tags": []
   },
   "outputs": [],
   "source": [
    "# w2v_model.wv.key_to_index"
   ]
  },
  {
   "cell_type": "code",
   "execution_count": 61,
   "id": "bcf8da40",
   "metadata": {
    "execution": {
     "iopub.execute_input": "2022-01-25T16:01:08.416272Z",
     "iopub.status.busy": "2022-01-25T16:01:08.415196Z",
     "iopub.status.idle": "2022-01-25T16:01:08.436381Z",
     "shell.execute_reply": "2022-01-25T16:01:08.437901Z",
     "shell.execute_reply.started": "2022-01-25T14:46:12.427815Z"
    },
    "papermill": {
     "duration": 0.137291,
     "end_time": "2022-01-25T16:01:08.438201",
     "exception": false,
     "start_time": "2022-01-25T16:01:08.300910",
     "status": "completed"
    },
    "tags": []
   },
   "outputs": [
    {
     "data": {
      "text/plain": [
       "[('booster', 0.6280817985534668),\n",
       " ('dose', 0.5934867858886719),\n",
       " ('jab', 0.5686115622520447),\n",
       " ('vaccin_fulli', 0.5671303272247314),\n",
       " ('receiv', 0.556220531463623),\n",
       " ('shot', 0.5522089600563049),\n",
       " ('fulli_vaccin', 0.5371532440185547),\n",
       " ('qld', 0.5264730453491211),\n",
       " ('teenag', 0.522010326385498),\n",
       " ('regardless', 0.514203667640686)]"
      ]
     },
     "execution_count": 61,
     "metadata": {},
     "output_type": "execute_result"
    }
   ],
   "source": [
    "w2v_model.wv.most_similar(\"vaccin\")"
   ]
  },
  {
   "cell_type": "markdown",
   "id": "6a760e1d",
   "metadata": {
    "papermill": {
     "duration": 0.111812,
     "end_time": "2022-01-25T16:01:08.711058",
     "exception": false,
     "start_time": "2022-01-25T16:01:08.599246",
     "status": "completed"
    },
    "tags": []
   },
   "source": [
    "**Similarities:**\n",
    "\n",
    "Here, we will see how similar are two words to each other :"
   ]
  },
  {
   "cell_type": "code",
   "execution_count": 62,
   "id": "96a6b540",
   "metadata": {
    "execution": {
     "iopub.execute_input": "2022-01-25T16:01:08.941070Z",
     "iopub.status.busy": "2022-01-25T16:01:08.940167Z",
     "iopub.status.idle": "2022-01-25T16:01:08.943348Z",
     "shell.execute_reply": "2022-01-25T16:01:08.943838Z",
     "shell.execute_reply.started": "2022-01-25T14:46:12.457995Z"
    },
    "papermill": {
     "duration": 0.121445,
     "end_time": "2022-01-25T16:01:08.944009",
     "exception": false,
     "start_time": "2022-01-25T16:01:08.822564",
     "status": "completed"
    },
    "tags": []
   },
   "outputs": [
    {
     "data": {
      "text/plain": [
       "0.2489984"
      ]
     },
     "execution_count": 62,
     "metadata": {},
     "output_type": "execute_result"
    }
   ],
   "source": [
    "w2v_model.wv.similarity(\"covid\", 'patient')"
   ]
  },
  {
   "cell_type": "markdown",
   "id": "5a19a17a",
   "metadata": {
    "papermill": {
     "duration": 0.110771,
     "end_time": "2022-01-25T16:01:09.167329",
     "exception": false,
     "start_time": "2022-01-25T16:01:09.056558",
     "status": "completed"
    },
    "tags": []
   },
   "source": [
    "**Odd-One-Out:**\n",
    "\n",
    "Here, we ask our model to give us the word that does not belong to the list!"
   ]
  },
  {
   "cell_type": "code",
   "execution_count": 63,
   "id": "9da58240",
   "metadata": {
    "execution": {
     "iopub.execute_input": "2022-01-25T16:01:09.488671Z",
     "iopub.status.busy": "2022-01-25T16:01:09.487768Z",
     "iopub.status.idle": "2022-01-25T16:01:09.491019Z",
     "shell.execute_reply": "2022-01-25T16:01:09.491529Z",
     "shell.execute_reply.started": "2022-01-25T14:46:12.479351Z"
    },
    "papermill": {
     "duration": 0.212377,
     "end_time": "2022-01-25T16:01:09.491713",
     "exception": false,
     "start_time": "2022-01-25T16:01:09.279336",
     "status": "completed"
    },
    "tags": []
   },
   "outputs": [
    {
     "data": {
      "text/plain": [
       "'world'"
      ]
     },
     "execution_count": 63,
     "metadata": {},
     "output_type": "execute_result"
    }
   ],
   "source": [
    "w2v_model.wv.doesnt_match(['world', 'vaccin', 'covid'])"
   ]
  },
  {
   "cell_type": "markdown",
   "id": "8070649a",
   "metadata": {
    "papermill": {
     "duration": 0.112568,
     "end_time": "2022-01-25T16:01:09.716450",
     "exception": false,
     "start_time": "2022-01-25T16:01:09.603882",
     "status": "completed"
    },
    "tags": []
   },
   "source": [
    "**t-SNE visualizations**"
   ]
  },
  {
   "cell_type": "markdown",
   "id": "27184a25",
   "metadata": {
    "papermill": {
     "duration": 0.112365,
     "end_time": "2022-01-25T16:01:09.941043",
     "exception": false,
     "start_time": "2022-01-25T16:01:09.828678",
     "status": "completed"
    },
    "tags": []
   },
   "source": [
    "* **word2vec makes each word a vector**"
   ]
  },
  {
   "cell_type": "code",
   "execution_count": 64,
   "id": "463e39c8",
   "metadata": {
    "execution": {
     "iopub.execute_input": "2022-01-25T16:01:10.173342Z",
     "iopub.status.busy": "2022-01-25T16:01:10.172407Z",
     "iopub.status.idle": "2022-01-25T16:01:10.175273Z",
     "shell.execute_reply": "2022-01-25T16:01:10.174691Z",
     "shell.execute_reply.started": "2022-01-25T14:46:12.501085Z"
    },
    "papermill": {
     "duration": 0.120155,
     "end_time": "2022-01-25T16:01:10.175431",
     "exception": false,
     "start_time": "2022-01-25T16:01:10.055276",
     "status": "completed"
    },
    "tags": []
   },
   "outputs": [],
   "source": [
    "w=w2v_model.wv[\"covid\"]"
   ]
  },
  {
   "cell_type": "code",
   "execution_count": 65,
   "id": "27f4fcb5",
   "metadata": {
    "execution": {
     "iopub.execute_input": "2022-01-25T16:01:10.402794Z",
     "iopub.status.busy": "2022-01-25T16:01:10.402107Z",
     "iopub.status.idle": "2022-01-25T16:01:10.406610Z",
     "shell.execute_reply": "2022-01-25T16:01:10.407157Z",
     "shell.execute_reply.started": "2022-01-25T14:46:12.516443Z"
    },
    "papermill": {
     "duration": 0.119578,
     "end_time": "2022-01-25T16:01:10.407340",
     "exception": false,
     "start_time": "2022-01-25T16:01:10.287762",
     "status": "completed"
    },
    "tags": []
   },
   "outputs": [
    {
     "data": {
      "text/plain": [
       "300"
      ]
     },
     "execution_count": 65,
     "metadata": {},
     "output_type": "execute_result"
    }
   ],
   "source": [
    "len(w)"
   ]
  },
  {
   "cell_type": "markdown",
   "id": "36f65348",
   "metadata": {
    "papermill": {
     "duration": 0.114857,
     "end_time": "2022-01-25T16:01:10.634562",
     "exception": false,
     "start_time": "2022-01-25T16:01:10.519705",
     "status": "completed"
    },
    "tags": []
   },
   "source": [
    "* **So, we are using the 100 number vector, which can be seen for the word covid**"
   ]
  },
  {
   "cell_type": "code",
   "execution_count": 66,
   "id": "6a1278c5",
   "metadata": {
    "execution": {
     "iopub.execute_input": "2022-01-25T16:01:10.871551Z",
     "iopub.status.busy": "2022-01-25T16:01:10.870903Z",
     "iopub.status.idle": "2022-01-25T16:01:10.901783Z",
     "shell.execute_reply": "2022-01-25T16:01:10.902363Z",
     "shell.execute_reply.started": "2022-01-25T14:46:12.535609Z"
    },
    "papermill": {
     "duration": 0.147606,
     "end_time": "2022-01-25T16:01:10.902556",
     "exception": false,
     "start_time": "2022-01-25T16:01:10.754950",
     "status": "completed"
    },
    "tags": []
   },
   "outputs": [],
   "source": [
    "sns.set_style(\"darkgrid\")\n",
    "\n",
    "from sklearn.decomposition import PCA\n",
    "from sklearn.manifold import TSNE"
   ]
  },
  {
   "cell_type": "markdown",
   "id": "2861ecf7",
   "metadata": {
    "papermill": {
     "duration": 0.11303,
     "end_time": "2022-01-25T16:01:11.128613",
     "exception": false,
     "start_time": "2022-01-25T16:01:11.015583",
     "status": "completed"
    },
    "tags": []
   },
   "source": [
    "Our goal in this section is to plot our 100 dimensions vectors into 2 dimensional graphs, and see if we can spot interesting patterns.\n",
    "For that we are going to use t-SNE implementation from scikit-learn.\n",
    "\n",
    "To make the visualizations more relevant, we will look at the relationships between a query word (in **red**), its most similar words in the model (in **blue**), and other words from the vocabulary (in **green**)."
   ]
  },
  {
   "cell_type": "code",
   "execution_count": 67,
   "id": "25186bcf",
   "metadata": {
    "execution": {
     "iopub.execute_input": "2022-01-25T16:01:11.357221Z",
     "iopub.status.busy": "2022-01-25T16:01:11.356423Z",
     "iopub.status.idle": "2022-01-25T16:01:11.374507Z",
     "shell.execute_reply": "2022-01-25T16:01:11.373923Z",
     "shell.execute_reply.started": "2022-01-25T14:46:12.553804Z"
    },
    "papermill": {
     "duration": 0.133688,
     "end_time": "2022-01-25T16:01:11.374682",
     "exception": false,
     "start_time": "2022-01-25T16:01:11.240994",
     "status": "completed"
    },
    "tags": []
   },
   "outputs": [],
   "source": [
    "def tsnescatterplot(model, word, list_names):\n",
    "    \"\"\" Plot in seaborn the results from the t-SNE dimensionality reduction algorithm of the vectors of a query word,\n",
    "    its list of most similar words, and a list of words.\n",
    "    \"\"\"\n",
    "    arrays = np.empty((0, 300), dtype='f')\n",
    "    word_labels = [word]\n",
    "    color_list  = ['red']\n",
    "\n",
    "    # adds the vector of the query word\n",
    "    arrays = np.append(arrays, model.wv.__getitem__([word]), axis=0)\n",
    "    \n",
    "    # gets list of most similar words\n",
    "    close_words = model.wv.most_similar([word])\n",
    "    \n",
    "    # adds the vector for each of the closest words to the array\n",
    "    for wrd_score in close_words:\n",
    "        wrd_vector = model.wv.__getitem__([wrd_score[0]])\n",
    "        word_labels.append(wrd_score[0])\n",
    "        color_list.append('blue')\n",
    "        arrays = np.append(arrays, wrd_vector, axis=0)\n",
    "    \n",
    "    # adds the vector for each of the words from list_names to the array\n",
    "    for wrd in list_names:\n",
    "        wrd_vector = model.wv.__getitem__([wrd])\n",
    "        word_labels.append(wrd)\n",
    "        color_list.append('green')\n",
    "        arrays = np.append(arrays, wrd_vector, axis=0)\n",
    "        \n",
    "    # Reduces the dimensionality from 300 to 17 dimensions with PCA\n",
    "    reduc = PCA(n_components=20).fit_transform(arrays)\n",
    "    \n",
    "    # Finds t-SNE coordinates for 2 dimensions\n",
    "    np.set_printoptions(suppress=True)\n",
    "    \n",
    "    Y = TSNE(n_components=2, random_state=0, perplexity=15).fit_transform(reduc)\n",
    "    \n",
    "    # Sets everything up to plot\n",
    "    df = pd.DataFrame({'x': [x for x in Y[:, 0]],\n",
    "                       'y': [y for y in Y[:, 1]],\n",
    "                       'words': word_labels,\n",
    "                       'color': color_list})\n",
    "    \n",
    "    fig, _ = plt.subplots()\n",
    "    fig.set_size_inches(14, 9)\n",
    "    \n",
    "    # Basic plot\n",
    "    p1 = sns.regplot(data=df,\n",
    "                     x=\"x\",\n",
    "                     y=\"y\",\n",
    "                     fit_reg=False,\n",
    "                     marker=\"o\",\n",
    "                     scatter_kws={'s': 30,\n",
    "                                  'facecolors': df['color']\n",
    "                                 }\n",
    "                    )\n",
    "    \n",
    "    # Adds annotations one by one with a loop\n",
    "    for line in range(0, df.shape[0]):\n",
    "         p1.text(df[\"x\"][line],\n",
    "                 df['y'][line],\n",
    "                 '  ' + df[\"words\"][line].title(),\n",
    "                 horizontalalignment='left',\n",
    "                 verticalalignment='bottom', size='medium',\n",
    "                 color=df['color'][line],\n",
    "                 weight='normal'\n",
    "                ).set_size(15)\n",
    "            \n",
    "    plt.xlim(Y[:, 0].min()-50, Y[:, 0].max()+50)\n",
    "    plt.ylim(Y[:, 1].min()-50, Y[:, 1].max()+50)\n",
    "            \n",
    "    plt.title('t-SNE visualization for {}'.format(word.title()))\n",
    "    "
   ]
  },
  {
   "cell_type": "markdown",
   "id": "5e50d37b",
   "metadata": {
    "papermill": {
     "duration": 0.112068,
     "end_time": "2022-01-25T16:01:11.599178",
     "exception": false,
     "start_time": "2022-01-25T16:01:11.487110",
     "status": "completed"
    },
    "tags": []
   },
   "source": [
    "**10 Most similar words vs. 10 Random words**"
   ]
  },
  {
   "cell_type": "code",
   "execution_count": 68,
   "id": "95fdafa6",
   "metadata": {
    "execution": {
     "iopub.execute_input": "2022-01-25T16:01:11.830812Z",
     "iopub.status.busy": "2022-01-25T16:01:11.829789Z",
     "iopub.status.idle": "2022-01-25T16:01:12.562951Z",
     "shell.execute_reply": "2022-01-25T16:01:12.563530Z",
     "shell.execute_reply.started": "2022-01-25T14:46:12.581842Z"
    },
    "papermill": {
     "duration": 0.851305,
     "end_time": "2022-01-25T16:01:12.563774",
     "exception": false,
     "start_time": "2022-01-25T16:01:11.712469",
     "status": "completed"
    },
    "tags": []
   },
   "outputs": [
    {
     "data": {
      "image/png": "[encoded data removed]",
      "text/plain": [
       "<Figure size 1008x648 with 1 Axes>"
      ]
     },
     "metadata": {},
     "output_type": "display_data"
    }
   ],
   "source": [
    "tsnescatterplot(w2v_model, 'covid', ['die', 'test', 'stop', 'china', 'good', 'year', 'medic', 'lockdown', 'friend', 'peopl'])"
   ]
  },
  {
   "cell_type": "markdown",
   "id": "6cf8c8d9",
   "metadata": {
    "papermill": {
     "duration": 0.141937,
     "end_time": "2022-01-25T16:01:12.843511",
     "exception": false,
     "start_time": "2022-01-25T16:01:12.701574",
     "status": "completed"
    },
    "tags": []
   },
   "source": [
    "the 10 most similar words to Homer ends up around him"
   ]
  },
  {
   "cell_type": "code",
   "execution_count": 69,
   "id": "1def4496",
   "metadata": {
    "execution": {
     "iopub.execute_input": "2022-01-25T16:01:13.127981Z",
     "iopub.status.busy": "2022-01-25T16:01:13.127127Z",
     "iopub.status.idle": "2022-01-25T16:01:13.129181Z",
     "shell.execute_reply": "2022-01-25T16:01:13.128593Z",
     "shell.execute_reply.started": "2022-01-25T14:46:13.372488Z"
    },
    "papermill": {
     "duration": 0.146665,
     "end_time": "2022-01-25T16:01:13.129334",
     "exception": false,
     "start_time": "2022-01-25T16:01:12.982669",
     "status": "completed"
    },
    "tags": []
   },
   "outputs": [],
   "source": [
    "# tsnescatterplot(w2v_model, 'covid',list(w2v_model.wv.key_to_index.keys())[100:1000:12])"
   ]
  },
  {
   "cell_type": "markdown",
   "id": "d2a9f955",
   "metadata": {
    "papermill": {
     "duration": 0.126019,
     "end_time": "2022-01-25T16:01:13.391415",
     "exception": false,
     "start_time": "2022-01-25T16:01:13.265396",
     "status": "completed"
    },
    "tags": []
   },
   "source": [
    "**10 Most similar words vs. 10 Most dissimilar**<br>\n",
    "This time, let's compare where the vector representation of \"*vaccine*\" and her 10 most similar words from the model lies compare to the vector representation of the 10 most dissimilar words to \"*vaccine*\""
   ]
  },
  {
   "cell_type": "code",
   "execution_count": 70,
   "id": "a216e7fb",
   "metadata": {
    "execution": {
     "iopub.execute_input": "2022-01-25T16:01:13.626467Z",
     "iopub.status.busy": "2022-01-25T16:01:13.625774Z",
     "iopub.status.idle": "2022-01-25T16:01:14.395227Z",
     "shell.execute_reply": "2022-01-25T16:01:14.395843Z",
     "shell.execute_reply.started": "2022-01-25T14:46:13.383144Z"
    },
    "papermill": {
     "duration": 0.890867,
     "end_time": "2022-01-25T16:01:14.396052",
     "exception": false,
     "start_time": "2022-01-25T16:01:13.505185",
     "status": "completed"
    },
    "tags": []
   },
   "outputs": [
    {
     "data": {
      "image/png": "[encoded data removed]",
      "text/plain": [
       "<Figure size 1008x648 with 1 Axes>"
      ]
     },
     "metadata": {},
     "output_type": "display_data"
    }
   ],
   "source": [
    "tsnescatterplot(w2v_model, 'vaccin', [i[0] for i in w2v_model.wv.most_similar(negative=[\"vaccin\"])])"
   ]
  },
  {
   "cell_type": "markdown",
   "id": "29a42236",
   "metadata": {
    "papermill": {
     "duration": 0.142978,
     "end_time": "2022-01-25T16:01:14.679894",
     "exception": false,
     "start_time": "2022-01-25T16:01:14.536916",
     "status": "completed"
    },
    "tags": []
   },
   "source": [
    "**Use Word2vec to train a machine learning classifier**\n",
    "* 1. Naive Bayes\n",
    "* 2. Decision Tree\n",
    "* 3. Random Forest\n",
    "* 4. Gradient Boosting\n",
    "* 5. Logistic Regression\n",
    "* 6. SVM\n"
   ]
  },
  {
   "cell_type": "code",
   "execution_count": 71,
   "id": "0ee8241a",
   "metadata": {
    "execution": {
     "iopub.execute_input": "2022-01-25T16:01:14.984366Z",
     "iopub.status.busy": "2022-01-25T16:01:14.983541Z",
     "iopub.status.idle": "2022-01-25T16:01:15.501891Z",
     "shell.execute_reply": "2022-01-25T16:01:15.501183Z",
     "shell.execute_reply.started": "2022-01-25T14:46:14.166852Z"
    },
    "papermill": {
     "duration": 0.673802,
     "end_time": "2022-01-25T16:01:15.502045",
     "exception": false,
     "start_time": "2022-01-25T16:01:14.828243",
     "status": "completed"
    },
    "tags": []
   },
   "outputs": [],
   "source": [
    "sentences_df = pd.DataFrame({\"sentences\":sentences,\"sentiment\":final_data.sentiment})"
   ]
  },
  {
   "cell_type": "code",
   "execution_count": 72,
   "id": "2e070cea",
   "metadata": {
    "execution": {
     "iopub.execute_input": "2022-01-25T16:01:15.770193Z",
     "iopub.status.busy": "2022-01-25T16:01:15.769470Z",
     "iopub.status.idle": "2022-01-25T16:01:15.777639Z",
     "shell.execute_reply": "2022-01-25T16:01:15.778254Z",
     "shell.execute_reply.started": "2022-01-25T14:46:14.805948Z"
    },
    "papermill": {
     "duration": 0.155907,
     "end_time": "2022-01-25T16:01:15.778436",
     "exception": false,
     "start_time": "2022-01-25T16:01:15.622529",
     "status": "completed"
    },
    "tags": []
   },
   "outputs": [],
   "source": [
    "## splitting the dataset into 80:20.  have kept shuffle=True , so that the data is randomly sampled or simply said shuffled , and then split.\n",
    "X_train, X_test, y_train, y_test = train_test_split(sentences_df.sentences, sentences_df.sentiment, test_size=0.2, shuffle=True)"
   ]
  },
  {
   "cell_type": "code",
   "execution_count": 73,
   "id": "6cb9855f",
   "metadata": {
    "execution": {
     "iopub.execute_input": "2022-01-25T16:01:16.021557Z",
     "iopub.status.busy": "2022-01-25T16:01:16.017115Z",
     "iopub.status.idle": "2022-01-25T16:01:16.024378Z",
     "shell.execute_reply": "2022-01-25T16:01:16.023699Z",
     "shell.execute_reply.started": "2022-01-25T14:46:14.831859Z"
    },
    "papermill": {
     "duration": 0.126013,
     "end_time": "2022-01-25T16:01:16.024522",
     "exception": false,
     "start_time": "2022-01-25T16:01:15.898509",
     "status": "completed"
    },
    "tags": []
   },
   "outputs": [],
   "source": [
    "w2v = dict(zip(w2v_model.wv.index_to_key, w2v_model.wv.vectors))"
   ]
  },
  {
   "cell_type": "code",
   "execution_count": 74,
   "id": "a49e4adb",
   "metadata": {
    "execution": {
     "iopub.execute_input": "2022-01-25T16:01:16.266989Z",
     "iopub.status.busy": "2022-01-25T16:01:16.266246Z",
     "iopub.status.idle": "2022-01-25T16:01:16.274061Z",
     "shell.execute_reply": "2022-01-25T16:01:16.273477Z",
     "shell.execute_reply.started": "2022-01-25T14:46:14.844793Z"
    },
    "papermill": {
     "duration": 0.13234,
     "end_time": "2022-01-25T16:01:16.274226",
     "exception": false,
     "start_time": "2022-01-25T16:01:16.141886",
     "status": "completed"
    },
    "tags": []
   },
   "outputs": [],
   "source": [
    "class Vectorizer(object):\n",
    "    \n",
    "    def __init__(self, vec):\n",
    "        self.vec = vec\n",
    "        self.dim = 300\n",
    "\n",
    "    def fit(self, X, y):\n",
    "        return self\n",
    "\n",
    "    def transform(self, X):\n",
    "        return np.array([np.mean([self.vec[w] for w in words if w in self.vec] or [np.zeros(self.dim)], axis=0) for words in X])\n",
    "\n",
    "\n",
    "## for any Classifier , we need intialise the model with the parameters. \n",
    "## Further I am applying GridSearchCV for 5 runs (i.e 1/5th data used each time for testing) \n",
    "## So the model gets trained over 5 runs \n",
    "## as well we are predicting also over 5 runs\n",
    "class Classifier(object):\n",
    "    \n",
    "    def __init__(self, model, param):\n",
    "        self.model = model\n",
    "        self.param = param\n",
    "        self.gs = GridSearchCV(self.model, self.param, cv=5, error_score=0, refit=True)        \n",
    "\n",
    "    def fit(self, X, y):   \n",
    "        return self.gs.fit(X, y)\n",
    "\n",
    "    def predict(self, X):\n",
    "        return self.gs.predict(X)\n",
    "    \n",
    "\n",
    "## Preparing to make a pipeline \n",
    "## What to know about Pipelining : see this https://www.youtube.com/watch?v=Y4iJfKX_QeQ&t=52s\n",
    "clf_models = {\n",
    "    'SVM': SVC(),\n",
    "    'Random Forest Classifier': RandomForestClassifier(),\n",
    "    'Naive Bayes': GaussianNB(),  \n",
    "    'logistic regression' : LogisticRegression(),\n",
    "    'Decision Tree': DecisionTreeClassifier()\n",
    "#     'Gradient Boosting': GradientBoostingClassifier()\n",
    "}\n",
    "\n",
    "clf_params = {\n",
    "    'SVM': { 'kernel': ['linear', 'rbf'] },\n",
    "    'Random Forest Classifier': {'criterion': ['gini', 'entropy'] },\n",
    "    'Naive Bayes': { }, \n",
    "    'logistic regression' : {'max_iter':[2000]},\n",
    "    'Decision Tree': { 'min_samples_split': [2, 5] }, \n",
    "    'Gradient Boosting': { 'learning_rate': [0.05, 0.1]}\n",
    "}"
   ]
  },
  {
   "cell_type": "code",
   "execution_count": 75,
   "id": "66d1d408",
   "metadata": {
    "execution": {
     "iopub.execute_input": "2022-01-25T16:01:16.520608Z",
     "iopub.status.busy": "2022-01-25T16:01:16.519869Z",
     "iopub.status.idle": "2022-01-25T16:29:03.001349Z",
     "shell.execute_reply": "2022-01-25T16:29:03.001991Z",
     "shell.execute_reply.started": "2022-01-25T14:46:14.870899Z"
    },
    "papermill": {
     "duration": 1666.60806,
     "end_time": "2022-01-25T16:29:03.002214",
     "exception": false,
     "start_time": "2022-01-25T16:01:16.394154",
     "status": "completed"
    },
    "tags": []
   },
   "outputs": [
    {
     "name": "stdout",
     "output_type": "stream",
     "text": [
      "==============Word2Vec==============\n",
      "\n",
      "SVM :\n",
      "Accuracy: 0.691 \tPrecision: 0.729 \tRecall: 0.636 \t\tF1: 0.656\n",
      "\n",
      "Random Forest Classifier :\n",
      "Accuracy: 0.670 \tPrecision: 0.728 \tRecall: 0.615 \t\tF1: 0.638\n",
      "\n",
      "Naive Bayes :\n",
      "Accuracy: 0.502 \tPrecision: 0.515 \tRecall: 0.524 \t\tF1: 0.487\n",
      "\n",
      "logistic regression :\n",
      "Accuracy: 0.654 \tPrecision: 0.666 \tRecall: 0.602 \t\tF1: 0.617\n",
      "\n",
      "Decision Tree :\n",
      "Accuracy: 0.558 \tPrecision: 0.544 \tRecall: 0.537 \t\tF1: 0.540\n",
      "\n",
      "CPU times: user 28min 43s, sys: 29.8 s, total: 29min 12s\n",
      "Wall time: 27min 46s\n"
     ]
    }
   ],
   "source": [
    "%%time\n",
    "import warnings\n",
    "warnings.filterwarnings(\"ignore\")\n",
    "\n",
    "print(\"==============Word2Vec==============\\n\")\n",
    "## for loop traverses , each and every classifier and its corresponding parameters.\n",
    "for key in clf_models.keys():\n",
    "    \n",
    "    clf = Pipeline([('Word2Vec vectorizer', Vectorizer(w2v)), ('Classifier', Classifier(clf_models[key], clf_params[key]))])\n",
    "    \n",
    "    clf.fit(X_train, y_train)  ## Note : we are calling user defined fit method. This fit method uses Cross Validation\n",
    "    y_pred = clf.predict(X_test)  ## Note : we are calling user defined predict method. This predict method uses Cross Validation\n",
    "    \n",
    "    ## printing performance metrics for each classifier \n",
    "    print(key, ':')\n",
    "    print(\"Accuracy: %1.3f \\tPrecision: %1.3f \\tRecall: %1.3f \\t\\tF1: %1.3f\\n\" % (accuracy_score(y_test, y_pred), precision_score(y_test, y_pred, average='macro'), recall_score(y_test, y_pred, average='macro'), f1_score(y_test, y_pred, average='macro')))"
   ]
  },
  {
   "cell_type": "markdown",
   "id": "e9ea5d68",
   "metadata": {
    "papermill": {
     "duration": 0.121327,
     "end_time": "2022-01-25T16:29:03.246756",
     "exception": false,
     "start_time": "2022-01-25T16:29:03.125429",
     "status": "completed"
    },
    "tags": []
   },
   "source": [
    "# Gensim FastText Implementation\n",
    "A word can be represented by its constituent character ngrams. Following a similar architecture to Word2vec, fastText learns embeddings for words and character n-grams together and views a word’s embedding vector as an aggregation of its constituent character n-grams. This makes it possible to generate embeddings even for words that are not present in the vocabulary. Say there’s a word, “gregarious,” that’s not found in the embedding’s word vocabulary. We break it into character n-grams—gre, reg, ega, ….ous—and combine these embeddings of the ngrams to arrive at the embedding of “gregarious.”\n",
    "\n",
    "How FastText Works?\n",
    "\n",
    "FastText is a modified version of word2vec (i.e.. Skip-Gram and CBOW). The only difference between fastText vs word2vec is its pooling strategies (what are the input, output, and dictionary of the model). In word2vec each word is represented as a bag of words but in FastText each word is represented as a bag of character n-gram."
   ]
  },
  {
   "cell_type": "code",
   "execution_count": 76,
   "id": "a5800953",
   "metadata": {
    "execution": {
     "iopub.execute_input": "2022-01-25T16:29:03.510185Z",
     "iopub.status.busy": "2022-01-25T16:29:03.499512Z",
     "iopub.status.idle": "2022-01-25T16:29:18.193691Z",
     "shell.execute_reply": "2022-01-25T16:29:18.193100Z",
     "shell.execute_reply.started": "2022-01-25T15:44:44.875803Z"
    },
    "papermill": {
     "duration": 14.829254,
     "end_time": "2022-01-25T16:29:18.193854",
     "exception": false,
     "start_time": "2022-01-25T16:29:03.364600",
     "status": "completed"
    },
    "tags": []
   },
   "outputs": [],
   "source": [
    "fasttext_model = FastText(sentences=sentences,\n",
    "                          window=2,\n",
    "                          vector_size=300,\n",
    "                          min_count=6,\n",
    "                          sample=6e-5,\n",
    "                          alpha=0.03, \n",
    "                          min_alpha=0.0007,\n",
    "                          epochs=10\n",
    "                         )"
   ]
  },
  {
   "cell_type": "markdown",
   "id": "4ea2c4c5",
   "metadata": {
    "papermill": {
     "duration": 0.119248,
     "end_time": "2022-01-25T16:29:18.432122",
     "exception": false,
     "start_time": "2022-01-25T16:29:18.312874",
     "status": "completed"
    },
    "tags": []
   },
   "source": [
    "**Building the Vocabulary Table**"
   ]
  },
  {
   "cell_type": "code",
   "execution_count": 77,
   "id": "927b56ed",
   "metadata": {
    "execution": {
     "iopub.execute_input": "2022-01-25T16:29:18.692034Z",
     "iopub.status.busy": "2022-01-25T16:29:18.691200Z",
     "iopub.status.idle": "2022-01-25T16:29:19.750173Z",
     "shell.execute_reply": "2022-01-25T16:29:19.749617Z",
     "shell.execute_reply.started": "2022-01-25T15:45:00.038406Z"
    },
    "papermill": {
     "duration": 1.198695,
     "end_time": "2022-01-25T16:29:19.750337",
     "exception": false,
     "start_time": "2022-01-25T16:29:18.551642",
     "status": "completed"
    },
    "tags": []
   },
   "outputs": [],
   "source": [
    "fasttext_model.build_vocab(sentences, progress_per=20000)"
   ]
  },
  {
   "cell_type": "markdown",
   "id": "4e3fc20b",
   "metadata": {
    "papermill": {
     "duration": 0.117836,
     "end_time": "2022-01-25T16:29:19.986336",
     "exception": false,
     "start_time": "2022-01-25T16:29:19.868500",
     "status": "completed"
    },
    "tags": []
   },
   "source": [
    "**Training of the model:**"
   ]
  },
  {
   "cell_type": "code",
   "execution_count": 78,
   "id": "839c966f",
   "metadata": {
    "execution": {
     "iopub.execute_input": "2022-01-25T16:29:20.225935Z",
     "iopub.status.busy": "2022-01-25T16:29:20.225264Z",
     "iopub.status.idle": "2022-01-25T16:30:05.503844Z",
     "shell.execute_reply": "2022-01-25T16:30:05.504389Z"
    },
    "papermill": {
     "duration": 45.399589,
     "end_time": "2022-01-25T16:30:05.504572",
     "exception": false,
     "start_time": "2022-01-25T16:29:20.104983",
     "status": "completed"
    },
    "tags": []
   },
   "outputs": [
    {
     "data": {
      "text/plain": [
       "(5732622, 12850470)"
      ]
     },
     "execution_count": 78,
     "metadata": {},
     "output_type": "execute_result"
    }
   ],
   "source": [
    "fasttext_model.train(sentences, total_examples=fasttext_model.corpus_count, epochs=45, report_delay=1)"
   ]
  },
  {
   "cell_type": "markdown",
   "id": "73302105",
   "metadata": {
    "papermill": {
     "duration": 0.117524,
     "end_time": "2022-01-25T16:30:05.740643",
     "exception": false,
     "start_time": "2022-01-25T16:30:05.623119",
     "status": "completed"
    },
    "tags": []
   },
   "source": [
    "**Exploring the model**"
   ]
  },
  {
   "cell_type": "code",
   "execution_count": 79,
   "id": "2f827854",
   "metadata": {
    "execution": {
     "iopub.execute_input": "2022-01-25T16:30:05.984305Z",
     "iopub.status.busy": "2022-01-25T16:30:05.983046Z",
     "iopub.status.idle": "2022-01-25T16:30:05.996976Z",
     "shell.execute_reply": "2022-01-25T16:30:05.997801Z"
    },
    "papermill": {
     "duration": 0.138325,
     "end_time": "2022-01-25T16:30:05.998095",
     "exception": false,
     "start_time": "2022-01-25T16:30:05.859770",
     "status": "completed"
    },
    "tags": []
   },
   "outputs": [
    {
     "data": {
      "text/plain": [
       "[('coronavirus', 0.8070240616798401),\n",
       " ('sourc_coronatrackernep', 0.6854993104934692),\n",
       " ('sourc', 0.5694473385810852),\n",
       " ('total_activ', 0.5615239143371582),\n",
       " ('corp', 0.5595676898956299),\n",
       " ('cov', 0.5219590067863464),\n",
       " ('today_activ', 0.5066999197006226),\n",
       " ('corpor', 0.503876268863678),\n",
       " ('core', 0.49152323603630066),\n",
       " ('recov_activ', 0.49072813987731934)]"
      ]
     },
     "execution_count": 79,
     "metadata": {},
     "output_type": "execute_result"
    }
   ],
   "source": [
    "fasttext_model.wv.most_similar(\"corona\")"
   ]
  },
  {
   "cell_type": "markdown",
   "id": "6efda7f3",
   "metadata": {
    "papermill": {
     "duration": 0.1189,
     "end_time": "2022-01-25T16:30:06.287309",
     "exception": false,
     "start_time": "2022-01-25T16:30:06.168409",
     "status": "completed"
    },
    "tags": []
   },
   "source": [
    "**t-SNE visualizations**"
   ]
  },
  {
   "cell_type": "markdown",
   "id": "1fc2c90e",
   "metadata": {
    "papermill": {
     "duration": 0.117499,
     "end_time": "2022-01-25T16:30:06.522657",
     "exception": false,
     "start_time": "2022-01-25T16:30:06.405158",
     "status": "completed"
    },
    "tags": []
   },
   "source": [
    "* 10 Most similar words vs. 10 Random words"
   ]
  },
  {
   "cell_type": "code",
   "execution_count": 80,
   "id": "a121574c",
   "metadata": {
    "execution": {
     "iopub.execute_input": "2022-01-25T16:30:06.768225Z",
     "iopub.status.busy": "2022-01-25T16:30:06.767136Z",
     "iopub.status.idle": "2022-01-25T16:30:07.537501Z",
     "shell.execute_reply": "2022-01-25T16:30:07.538505Z"
    },
    "papermill": {
     "duration": 0.897894,
     "end_time": "2022-01-25T16:30:07.538711",
     "exception": false,
     "start_time": "2022-01-25T16:30:06.640817",
     "status": "completed"
    },
    "tags": []
   },
   "outputs": [
    {
     "data": {
      "image/png": "[encoded data removed]",
      "text/plain": [
       "<Figure size 1008x648 with 1 Axes>"
      ]
     },
     "metadata": {},
     "output_type": "display_data"
    }
   ],
   "source": [
    "tsnescatterplot(fasttext_model, 'covid', ['die', 'test', 'stop', 'china', 'good', 'year', 'medic', 'lockdown', 'friend', 'peopl'])"
   ]
  },
  {
   "cell_type": "markdown",
   "id": "2ae5f61c",
   "metadata": {
    "papermill": {
     "duration": 0.144877,
     "end_time": "2022-01-25T16:30:07.829204",
     "exception": false,
     "start_time": "2022-01-25T16:30:07.684327",
     "status": "completed"
    },
    "tags": []
   },
   "source": [
    "**10 Most similar words vs. 10 Most dissimilar**"
   ]
  },
  {
   "cell_type": "code",
   "execution_count": 81,
   "id": "cc8add67",
   "metadata": {
    "execution": {
     "iopub.execute_input": "2022-01-25T16:30:08.165279Z",
     "iopub.status.busy": "2022-01-25T16:30:08.164177Z",
     "iopub.status.idle": "2022-01-25T16:30:08.811316Z",
     "shell.execute_reply": "2022-01-25T16:30:08.812220Z"
    },
    "papermill": {
     "duration": 0.838344,
     "end_time": "2022-01-25T16:30:08.812429",
     "exception": false,
     "start_time": "2022-01-25T16:30:07.974085",
     "status": "completed"
    },
    "tags": []
   },
   "outputs": [
    {
     "data": {
      "image/png": "[encoded data removed]",
      "text/plain": [
       "<Figure size 1008x648 with 1 Axes>"
      ]
     },
     "metadata": {},
     "output_type": "display_data"
    }
   ],
   "source": [
    "tsnescatterplot(fasttext_model, 'covid', [i[0] for i in w2v_model.wv.most_similar(negative=[\"covid\"])])"
   ]
  },
  {
   "cell_type": "markdown",
   "id": "ffd69060",
   "metadata": {
    "papermill": {
     "duration": 0.147925,
     "end_time": "2022-01-25T16:30:09.108019",
     "exception": false,
     "start_time": "2022-01-25T16:30:08.960094",
     "status": "completed"
    },
    "tags": []
   },
   "source": [
    "**Ml Models**"
   ]
  },
  {
   "cell_type": "code",
   "execution_count": 82,
   "id": "0692f6c2",
   "metadata": {
    "execution": {
     "iopub.execute_input": "2022-01-25T16:30:09.415848Z",
     "iopub.status.busy": "2022-01-25T16:30:09.415083Z",
     "iopub.status.idle": "2022-01-25T16:30:09.418242Z",
     "shell.execute_reply": "2022-01-25T16:30:09.418753Z"
    },
    "papermill": {
     "duration": 0.163724,
     "end_time": "2022-01-25T16:30:09.418954",
     "exception": false,
     "start_time": "2022-01-25T16:30:09.255230",
     "status": "completed"
    },
    "tags": []
   },
   "outputs": [],
   "source": [
    "## splitting the dataset into 80:20.  have kept shuffle=True , so that the data is randomly sampled or simply said shuffled , and then split.\n",
    "X_train, X_test, y_train, y_test = train_test_split(sentences_df.sentences, sentences_df.sentiment, test_size=0.2, shuffle=True)"
   ]
  },
  {
   "cell_type": "code",
   "execution_count": 83,
   "id": "059f8912",
   "metadata": {
    "execution": {
     "iopub.execute_input": "2022-01-25T16:30:09.712356Z",
     "iopub.status.busy": "2022-01-25T16:30:09.711639Z",
     "iopub.status.idle": "2022-01-25T16:30:09.713475Z",
     "shell.execute_reply": "2022-01-25T16:30:09.714068Z"
    },
    "papermill": {
     "duration": 0.147396,
     "end_time": "2022-01-25T16:30:09.714243",
     "exception": false,
     "start_time": "2022-01-25T16:30:09.566847",
     "status": "completed"
    },
    "tags": []
   },
   "outputs": [],
   "source": [
    "ftv = dict(zip(fasttext_model.wv.index_to_key, fasttext_model.wv.vectors))"
   ]
  },
  {
   "cell_type": "code",
   "execution_count": 84,
   "id": "8738b5d0",
   "metadata": {
    "execution": {
     "iopub.execute_input": "2022-01-25T16:30:09.964279Z",
     "iopub.status.busy": "2022-01-25T16:30:09.963597Z",
     "iopub.status.idle": "2022-01-25T16:58:14.037322Z",
     "shell.execute_reply": "2022-01-25T16:58:14.038108Z"
    },
    "papermill": {
     "duration": 1684.202085,
     "end_time": "2022-01-25T16:58:14.038371",
     "exception": false,
     "start_time": "2022-01-25T16:30:09.836286",
     "status": "completed"
    },
    "tags": []
   },
   "outputs": [
    {
     "name": "stdout",
     "output_type": "stream",
     "text": [
      "==============FastText==============\n",
      "\n",
      "SVM :\n",
      "Accuracy: 0.675 \tPrecision: 0.710 \tRecall: 0.619 \t\tF1: 0.638\n",
      "\n",
      "Random Forest Classifier :\n",
      "Accuracy: 0.655 \tPrecision: 0.711 \tRecall: 0.600 \t\tF1: 0.623\n",
      "\n",
      "Naive Bayes :\n",
      "Accuracy: 0.485 \tPrecision: 0.493 \tRecall: 0.500 \t\tF1: 0.467\n",
      "\n",
      "logistic regression :\n",
      "Accuracy: 0.638 \tPrecision: 0.643 \tRecall: 0.583 \t\tF1: 0.596\n",
      "\n",
      "Decision Tree :\n",
      "Accuracy: 0.559 \tPrecision: 0.540 \tRecall: 0.539 \t\tF1: 0.539\n",
      "\n",
      "CPU times: user 29min 4s, sys: 32.7 s, total: 29min 37s\n",
      "Wall time: 28min 3s\n"
     ]
    }
   ],
   "source": [
    "%%time\n",
    "import warnings\n",
    "warnings.filterwarnings(\"ignore\")\n",
    "\n",
    "print(\"==============FastText==============\\n\")\n",
    "## for loop traverses , each and every classifier and its corresponding parameters.\n",
    "for key in clf_models.keys():\n",
    "    \n",
    "    clf = Pipeline([('FastText vectorizer', Vectorizer(ftv)), ('Classifier', Classifier(clf_models[key], clf_params[key]))])\n",
    "    \n",
    "    clf.fit(X_train, y_train)  ## Note : we are calling user defined fit method. This fit method uses Cross Validation\n",
    "    y_pred = clf.predict(X_test)  ## Note : we are calling user defined predict method. This predict method uses Cross Validation\n",
    "    \n",
    "    ## printing performance metrics for each classifier \n",
    "    print(key, ':')\n",
    "    print(\"Accuracy: %1.3f \\tPrecision: %1.3f \\tRecall: %1.3f \\t\\tF1: %1.3f\\n\" % (accuracy_score(y_test, y_pred), precision_score(y_test, y_pred, average='macro'), recall_score(y_test, y_pred, average='macro'), f1_score(y_test, y_pred, average='macro')))"
   ]
  }
 ],
 "metadata": {
  "kernelspec": {
   "display_name": "Python 3",
   "language": "python",
   "name": "python3"
  },
  "language_info": {
   "codemirror_mode": {
    "name": "ipython",
    "version": 3
   },
   "file_extension": ".py",
   "mimetype": "text/x-python",
   "name": "python",
   "nbconvert_exporter": "python",
   "pygments_lexer": "ipython3",
   "version": "3.7.12"
  },
  "papermill": {
   "default_parameters": {},
   "duration": 4342.218278,
   "end_time": "2022-01-25T16:58:15.652247",
   "environment_variables": {},
   "exception": null,
   "input_path": "__notebook__.ipynb",
   "output_path": "__notebook__.ipynb",
   "parameters": {},
   "start_time": "2022-01-25T15:45:53.433969",
   "version": "2.3.3"
  }
 },
 "nbformat": 4,
 "nbformat_minor": 5
}
