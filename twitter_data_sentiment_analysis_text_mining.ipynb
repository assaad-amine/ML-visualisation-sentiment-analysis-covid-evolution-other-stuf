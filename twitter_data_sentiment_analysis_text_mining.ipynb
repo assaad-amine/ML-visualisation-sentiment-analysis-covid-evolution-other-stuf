{
  "metadata": {
    "kernelspec": {
      "language": "python",
      "display_name": "Python 3",
      "name": "python3"
    },
    "language_info": {
      "name": "python",
      "version": "3.7.12",
      "mimetype": "text/x-python",
      "codemirror_mode": {
        "name": "ipython",
        "version": 3
      },
      "pygments_lexer": "ipython3",
      "nbconvert_exporter": "python",
      "file_extension": ".py"
    },
    "colab": {
      "name": "twitter-data-sentiment-analysis-text-mining.ipynb",
      "provenance": [],
      "collapsed_sections": []
    }
  },
  "nbformat_minor": 0,
  "nbformat": 4,
  "cells": [
    {
      "cell_type": "markdown",
      "source": [
        "# Téléchargement de bibliothèques"
      ],
      "metadata": {
        "id": "BxyLCriESVqw",
        "_kg_hide-input": false
      }
    },
    {
      "cell_type": "code",
      "source": [
        "! pip install -q -U --upgrade scikit-learn==0.24 sklearn statsmodels hypertools pdpbox matplotlib==3.2.2 spacy==3.1.0 nltk==3.2.4 gensim scipy stopwordsiso pyspellchecker textblob_fr vaderSentiment-fr\n",
        "! pip install -q -U git+https://github.com/ClaudeCoulombe/FrenchLefffLemmatizer.git\n",
        "! pip install -q -U python-Levenshtein # Le module d'extension C contient des fonctions pour accélérer le calcul (word2vec, fasttext...)\n",
        "! pip install -q -U gdown"
      ],
      "metadata": {
        "id": "C4KIoqp7UXQs",
        "outputId": "09eeba44-a69f-46f5-d254-8313a7611f13",
        "_kg_hide-input": false,
        "_kg_hide-output": true,
        "execution": {
          "iopub.status.busy": "2022-01-26T14:07:47.265331Z",
          "iopub.execute_input": "2022-01-26T14:07:47.265563Z",
          "iopub.status.idle": "2022-01-26T14:08:23.125786Z",
          "shell.execute_reply.started": "2022-01-26T14:07:47.265523Z",
          "shell.execute_reply": "2022-01-26T14:08:23.124990Z"
        },
        "trusted": true,
        "colab": {
          "base_uri": "https://localhost:8080/"
        }
      },
      "execution_count": 1,
      "outputs": [
        {
          "output_type": "stream",
          "name": "stdout",
          "text": [
            "\u001b[K     |████████████████████████████████| 22.3 MB 1.3 MB/s \n",
            "\u001b[K     |████████████████████████████████| 9.8 MB 52.7 MB/s \n",
            "\u001b[K     |████████████████████████████████| 59 kB 5.6 MB/s \n",
            "\u001b[K     |████████████████████████████████| 34.0 MB 93 kB/s \n",
            "\u001b[K     |████████████████████████████████| 6.4 MB 22.1 MB/s \n",
            "\u001b[K     |████████████████████████████████| 1.2 MB 51.4 MB/s \n",
            "\u001b[K     |████████████████████████████████| 24.1 MB 1.1 MB/s \n",
            "\u001b[K     |████████████████████████████████| 38.1 MB 1.2 MB/s \n",
            "\u001b[K     |████████████████████████████████| 73 kB 1.5 MB/s \n",
            "\u001b[K     |████████████████████████████████| 2.7 MB 46.4 MB/s \n",
            "\u001b[K     |████████████████████████████████| 561 kB 48.9 MB/s \n",
            "\u001b[K     |████████████████████████████████| 187 kB 58.5 MB/s \n",
            "\u001b[K     |████████████████████████████████| 628 kB 59.5 MB/s \n",
            "\u001b[K     |████████████████████████████████| 42 kB 1.2 MB/s \n",
            "\u001b[K     |████████████████████████████████| 10.1 MB 50.8 MB/s \n",
            "\u001b[K     |████████████████████████████████| 451 kB 60.2 MB/s \n",
            "\u001b[K     |████████████████████████████████| 86 kB 5.4 MB/s \n",
            "\u001b[K     |████████████████████████████████| 1.1 MB 55.8 MB/s \n",
            "\u001b[K     |████████████████████████████████| 57.7 MB 1.1 MB/s \n",
            "\u001b[K     |████████████████████████████████| 235 kB 53.6 MB/s \n",
            "\u001b[?25h  Building wheel for nltk (setup.py) ... \u001b[?25l\u001b[?25hdone\n",
            "  Building wheel for hypertools (setup.py) ... \u001b[?25l\u001b[?25hdone\n",
            "  Building wheel for umap-learn (setup.py) ... \u001b[?25l\u001b[?25hdone\n",
            "  Building wheel for pynndescent (setup.py) ... \u001b[?25l\u001b[?25hdone\n",
            "  Building wheel for pdpbox (setup.py) ... \u001b[?25l\u001b[?25hdone\n",
            "  Building wheel for vaderSentiment-fr (setup.py) ... \u001b[?25l\u001b[?25hdone\n",
            "\u001b[31mERROR: pip's dependency resolver does not currently take into account all the packages that are installed. This behaviour is the source of the following dependency conflicts.\n",
            "albumentations 0.1.12 requires imgaug<0.2.7,>=0.2.5, but you have imgaug 0.2.9 which is incompatible.\u001b[0m\n",
            "  Building wheel for FrenchLefffLemmatizer (setup.py) ... \u001b[?25l\u001b[?25hdone\n",
            "\u001b[K     |████████████████████████████████| 50 kB 2.8 MB/s \n",
            "\u001b[?25h  Building wheel for python-Levenshtein (setup.py) ... \u001b[?25l\u001b[?25hdone\n",
            "  Installing build dependencies ... \u001b[?25l\u001b[?25hdone\n",
            "  Getting requirements to build wheel ... \u001b[?25l\u001b[?25hdone\n",
            "    Preparing wheel metadata ... \u001b[?25l\u001b[?25hdone\n",
            "  Building wheel for gdown (PEP 517) ... \u001b[?25l\u001b[?25hdone\n"
          ]
        }
      ]
    },
    {
      "cell_type": "markdown",
      "source": [
        "# Script de création de corpus\n",
        "### https://colab.research.google.com/drive/18eT1u6dcCVYelNR9sbeXzeQNEHT02tGh"
      ],
      "metadata": {
        "id": "gH5XliieMyY_"
      }
    },
    {
      "cell_type": "markdown",
      "source": [
        "# Téléchargement de corpus (résultat du script)"
      ],
      "metadata": {
        "id": "k06B3qF5xP0X"
      }
    },
    {
      "cell_type": "code",
      "source": [
        "# ! gdown --id 1FrMd6HSVlLSk0Dj7fv-qJcZ0s9ZpNtVV"
      ],
      "metadata": {
        "id": "r1OCb03Dkj78",
        "execution": {
          "iopub.status.busy": "2022-01-26T14:25:56.951432Z",
          "iopub.execute_input": "2022-01-26T14:25:56.952258Z",
          "iopub.status.idle": "2022-01-26T14:25:59.007600Z",
          "shell.execute_reply.started": "2022-01-26T14:25:56.952208Z",
          "shell.execute_reply": "2022-01-26T14:25:59.006691Z"
        },
        "trusted": true
      },
      "execution_count": null,
      "outputs": []
    },
    {
      "cell_type": "markdown",
      "source": [
        "# Importation des bibliothèques"
      ],
      "metadata": {
        "id": "GAn4LskJShd3"
      }
    },
    {
      "cell_type": "code",
      "source": [
        "from multiprocessing import cpu_count\n",
        "import os\n",
        "from zipfile import ZipFile\n",
        "\n",
        "import re\n",
        "import pandas as pd\n",
        "import numpy as np\n",
        "\n",
        "import matplotlib.pyplot as plt\n",
        "\n",
        "from spellchecker import SpellChecker\n",
        "from spacy.lang.fr import stop_words as fr_stop\n",
        "import stopwordsiso\n",
        "\n",
        "import nltk\n",
        "from nltk.tokenize import word_tokenize\n",
        "from nltk.stem import SnowballStemmer\n",
        "from french_lefff_lemmatizer.french_lefff_lemmatizer import FrenchLefffLemmatizer\n",
        "\n",
        "from sklearn.feature_extraction.text import CountVectorizer\n",
        "from gensim.models import Word2Vec\n",
        "from gensim.models.fasttext import FastText\n",
        "\n",
        "from sklearn.manifold import TSNE\n",
        "\n",
        "from textblob import Blobber\n",
        "from textblob_fr import PatternTagger, PatternAnalyzer\n",
        "from vaderSentiment_fr.vaderSentiment import SentimentIntensityAnalyzer\n",
        "from textblob.sentiments import NaiveBayesAnalyzer\n",
        "\n",
        "from sklearn.decomposition import TruncatedSVD\n",
        "from sklearn.model_selection import train_test_split, GridSearchCV\n",
        "\n",
        "from sklearn.linear_model import SGDClassifier, LogisticRegression\n",
        "from sklearn.tree import DecisionTreeClassifier\n",
        "from sklearn.ensemble import RandomForestClassifier\n",
        "from sklearn.neighbors import KNeighborsClassifier\n",
        "\n",
        "from sklearn.metrics import accuracy_score, f1_score, precision_score, recall_score, auc, roc_curve\n",
        "\n",
        "import warnings\n",
        "warnings.filterwarnings(\"ignore\", category = FutureWarning)"
      ],
      "metadata": {
        "id": "PAbjbgDiBpi5",
        "execution": {
          "iopub.status.busy": "2022-01-26T14:26:18.345351Z",
          "iopub.execute_input": "2022-01-26T14:26:18.345622Z",
          "iopub.status.idle": "2022-01-26T14:26:30.942358Z",
          "shell.execute_reply.started": "2022-01-26T14:26:18.345589Z",
          "shell.execute_reply": "2022-01-26T14:26:30.941861Z"
        },
        "trusted": true
      },
      "execution_count": 499,
      "outputs": []
    },
    {
      "cell_type": "markdown",
      "source": [
        "# Extraction du corpus"
      ],
      "metadata": {
        "id": "Qv15FtOzSaod"
      }
    },
    {
      "cell_type": "code",
      "source": [
        "with ZipFile('c_tweets.zip', 'r') as zf:\n",
        "    zf.extractall('./')"
      ],
      "metadata": {
        "id": "cH7DNaCOKpKk",
        "execution": {
          "iopub.status.busy": "2022-01-26T14:26:35.400892Z",
          "iopub.execute_input": "2022-01-26T14:26:35.401241Z",
          "iopub.status.idle": "2022-01-26T14:27:14.042394Z",
          "shell.execute_reply.started": "2022-01-26T14:26:35.401207Z",
          "shell.execute_reply": "2022-01-26T14:27:14.041556Z"
        },
        "trusted": true
      },
      "execution_count": 500,
      "outputs": []
    },
    {
      "cell_type": "markdown",
      "source": [
        "# Telechargement des bibliothèque de NLTK\n",
        "\n",
        "- punkt: NLTK tokenizer\n",
        "- stopwords\n",
        "- movie_reviews: dataset pour l'analyseur de sentiments naïf bayes\n",
        "- vader_lexicon: outil d'analyse de sentiments basé sur des règles et un lexique"
      ],
      "metadata": {
        "id": "ReSdbkdkbF_r"
      }
    },
    {
      "cell_type": "code",
      "source": [
        "nltk.download(['punkt', 'stopwords', 'movie_reviews', 'vader_lexicon'], quiet = True)"
      ],
      "metadata": {
        "id": "pVzmF8aiklUD",
        "outputId": "fa9c3b48-9b13-4549-b7b8-43db9cf3ae30",
        "execution": {
          "iopub.status.busy": "2022-01-26T14:27:16.669825Z",
          "iopub.execute_input": "2022-01-26T14:27:16.670087Z",
          "iopub.status.idle": "2022-01-26T14:27:16.858754Z",
          "shell.execute_reply.started": "2022-01-26T14:27:16.670060Z",
          "shell.execute_reply": "2022-01-26T14:27:16.858236Z"
        },
        "trusted": true,
        "colab": {
          "base_uri": "https://localhost:8080/"
        }
      },
      "execution_count": 502,
      "outputs": [
        {
          "output_type": "execute_result",
          "data": {
            "text/plain": [
              "True"
            ]
          },
          "metadata": {},
          "execution_count": 502
        }
      ]
    },
    {
      "cell_type": "markdown",
      "source": [
        "# Création d'un répertoire pour l'exportation de données"
      ],
      "metadata": {
        "id": "f7sfd61HTHgO"
      }
    },
    {
      "cell_type": "code",
      "source": [
        "export_dir = 'exports/'\n",
        "if not os.path.isdir(export_dir):\n",
        "   os.mkdir(export_dir)"
      ],
      "metadata": {
        "id": "m5GNr6UrexUy",
        "execution": {
          "iopub.status.busy": "2022-01-26T14:27:19.758639Z",
          "iopub.execute_input": "2022-01-26T14:27:19.759068Z",
          "iopub.status.idle": "2022-01-26T14:27:19.829866Z",
          "shell.execute_reply.started": "2022-01-26T14:27:19.759022Z",
          "shell.execute_reply": "2022-01-26T14:27:19.828856Z"
        },
        "trusted": true
      },
      "execution_count": 503,
      "outputs": []
    },
    {
      "cell_type": "markdown",
      "source": [
        "# Importation et chargement du corpus"
      ],
      "metadata": {
        "id": "GsdqGu2i7tIf"
      }
    },
    {
      "cell_type": "code",
      "source": [
        "corpusdir = 'c_tweets/'\n",
        "data = []\n",
        "\n",
        "for filename in os.listdir(corpusdir):\n",
        "  with open(corpusdir + filename, mode='r') as file:\n",
        "    data.append(file.read())\n",
        "\n",
        "tweets_df = pd.DataFrame(data, columns = ['tweet'])"
      ],
      "metadata": {
        "id": "UAWK9S0X7T9b",
        "execution": {
          "iopub.status.busy": "2022-01-26T14:27:22.063845Z",
          "iopub.execute_input": "2022-01-26T14:27:22.064430Z",
          "iopub.status.idle": "2022-01-26T14:27:34.421839Z",
          "shell.execute_reply.started": "2022-01-26T14:27:22.064399Z",
          "shell.execute_reply": "2022-01-26T14:27:34.421108Z"
        },
        "trusted": true
      },
      "execution_count": 504,
      "outputs": []
    },
    {
      "cell_type": "code",
      "source": [
        "print(f'{tweets_df.shape[0]} tweets')"
      ],
      "metadata": {
        "id": "8TW4gUwxBMi2",
        "outputId": "9a8bda61-f8b7-4e62-cec8-bbab58f5cc7f",
        "execution": {
          "iopub.status.busy": "2022-01-26T14:27:37.538809Z",
          "iopub.execute_input": "2022-01-26T14:27:37.539832Z",
          "iopub.status.idle": "2022-01-26T14:27:37.545196Z",
          "shell.execute_reply.started": "2022-01-26T14:27:37.539781Z",
          "shell.execute_reply": "2022-01-26T14:27:37.544532Z"
        },
        "trusted": true,
        "colab": {
          "base_uri": "https://localhost:8080/"
        }
      },
      "execution_count": 505,
      "outputs": [
        {
          "output_type": "stream",
          "name": "stdout",
          "text": [
            "4930 tweets\n"
          ]
        }
      ]
    },
    {
      "cell_type": "markdown",
      "source": [
        "# Supprimer les tweets en double"
      ],
      "metadata": {
        "id": "qQnvpZnxxJRq"
      }
    },
    {
      "cell_type": "code",
      "source": [
        "print(f'{len(tweets_df.loc[tweets_df.duplicated()])} duplicated tweets')"
      ],
      "metadata": {
        "id": "K0p6c3rLxUHD",
        "outputId": "fcf4d6df-c14e-4c21-a709-8b8d561d6610",
        "execution": {
          "iopub.status.busy": "2022-01-26T14:27:41.897843Z",
          "iopub.execute_input": "2022-01-26T14:27:41.898286Z",
          "iopub.status.idle": "2022-01-26T14:27:42.273648Z",
          "shell.execute_reply.started": "2022-01-26T14:27:41.898243Z",
          "shell.execute_reply": "2022-01-26T14:27:42.272632Z"
        },
        "trusted": true,
        "colab": {
          "base_uri": "https://localhost:8080/"
        }
      },
      "execution_count": 506,
      "outputs": [
        {
          "output_type": "stream",
          "name": "stdout",
          "text": [
            "15 duplicated tweets\n"
          ]
        }
      ]
    },
    {
      "cell_type": "code",
      "source": [
        "tweets_df.drop_duplicates(inplace = True)"
      ],
      "metadata": {
        "id": "Prv56SebxAoL",
        "execution": {
          "iopub.status.busy": "2022-01-26T14:27:44.542705Z",
          "iopub.execute_input": "2022-01-26T14:27:44.543624Z",
          "iopub.status.idle": "2022-01-26T14:27:44.800989Z",
          "shell.execute_reply.started": "2022-01-26T14:27:44.543589Z",
          "shell.execute_reply": "2022-01-26T14:27:44.800196Z"
        },
        "trusted": true
      },
      "execution_count": 507,
      "outputs": []
    },
    {
      "cell_type": "code",
      "source": [
        "pd.set_option('display.max_colwidth', None)\n",
        "\n",
        "tweets_df.sample(10)"
      ],
      "metadata": {
        "id": "3G1blWoI_Zi-",
        "outputId": "96e377fa-34c7-4eca-886a-8f5af96297e5",
        "execution": {
          "iopub.status.busy": "2022-01-26T14:27:47.024318Z",
          "iopub.execute_input": "2022-01-26T14:27:47.024779Z",
          "iopub.status.idle": "2022-01-26T14:27:47.050430Z",
          "shell.execute_reply.started": "2022-01-26T14:27:47.024749Z",
          "shell.execute_reply": "2022-01-26T14:27:47.049945Z"
        },
        "trusted": true,
        "colab": {
          "base_uri": "https://localhost:8080/",
          "height": 362
        }
      },
      "execution_count": 508,
      "outputs": [
        {
          "output_type": "execute_result",
          "data": {
            "text/html": [
              "\n",
              "  <div id=\"df-0649eaf0-bd4d-4bc8-9163-d8134a5ffc95\">\n",
              "    <div class=\"colab-df-container\">\n",
              "      <div>\n",
              "<style scoped>\n",
              "    .dataframe tbody tr th:only-of-type {\n",
              "        vertical-align: middle;\n",
              "    }\n",
              "\n",
              "    .dataframe tbody tr th {\n",
              "        vertical-align: top;\n",
              "    }\n",
              "\n",
              "    .dataframe thead th {\n",
              "        text-align: right;\n",
              "    }\n",
              "</style>\n",
              "<table border=\"1\" class=\"dataframe\">\n",
              "  <thead>\n",
              "    <tr style=\"text-align: right;\">\n",
              "      <th></th>\n",
              "      <th>tweet</th>\n",
              "    </tr>\n",
              "  </thead>\n",
              "  <tbody>\n",
              "    <tr>\n",
              "      <th>257</th>\n",
              "      <td>@mompontet Je m'isole en attendant le résultat du Test PCR. J'informe mes cas contacts d'aller se faire tester. Les tests d'hier soir indiquent peut-être la fin du covid19. Ne pas oublier que les autotests ne sont pas fiables à 100%. Je précise que cette réponse vient d'un médecin.</td>\n",
              "    </tr>\n",
              "    <tr>\n",
              "      <th>3030</th>\n",
              "      <td>Depuis l’intervention indécente de #Macron, je suis encore plus fier d’être un pur sang ! Et vous ? \\n#PasseVaccinalDeLaHonte #COVID19</td>\n",
              "    </tr>\n",
              "    <tr>\n",
              "      <th>3500</th>\n",
              "      <td>admettons que les Français soient vaccinés à 90% ... et de nouveau les vols commerciaux et touristiques reprendront \"Flight of #Covid19\" ... vu le faible pourcentage de vaccinés dans certains continents c'est peine perdue.</td>\n",
              "    </tr>\n",
              "    <tr>\n",
              "      <th>314</th>\n",
              "      <td>🇫🇷 FLASH - Pas de véritables mesures pour les collèges et les lycées aujourd'hui. #Fermezlesecoles #COVID19 \\nhttps://t.co/QVxcywTS2a</td>\n",
              "    </tr>\n",
              "    <tr>\n",
              "      <th>1577</th>\n",
              "      <td>#COVID19 Un nouveau centre de vaccination ouvre à Mérignac \\n➡️ https://t.co/EZLiWWOeAU https://t.co/NXJ4fhVtDC</td>\n",
              "    </tr>\n",
              "    <tr>\n",
              "      <th>3718</th>\n",
              "      <td>#Covid19 À #Rouen le centre Becquerel suspend les visites aux patients : « On déteste faire ça » https://t.co/6j97PfyBbY</td>\n",
              "    </tr>\n",
              "    <tr>\n",
              "      <th>805</th>\n",
              "      <td>@ToyWax_35 @geniegn @Gblbvalot @Le___Doc Mais si \"associé au covid19\"</td>\n",
              "    </tr>\n",
              "    <tr>\n",
              "      <th>470</th>\n",
              "      <td>Les Réfugiés du Cameroun réclament #JUSTICE# pour détournement de fonds COVID19 de 2020 et trafic des enfants Réfugiés par un petit groupe du personnel HCR. Association pour la protection du Droit des Réfugiés au Cameroun.President DINAYE Laurent https://t.co/8RcKPlcfqv</td>\n",
              "    </tr>\n",
              "    <tr>\n",
              "      <th>1747</th>\n",
              "      <td>On vous recommande chaudement cet ouvrage, carnet de bord de la première vague de #COVID19 aux Hôpitaux de @villecolmar \\nDes témoignages qui éclairent sur la situation d'un hôpital, transposable ailleurs en France. #Edition \\n⬇️⬇️❤️\\nhttps://t.co/tEd5YQT8hN</td>\n",
              "    </tr>\n",
              "    <tr>\n",
              "      <th>3632</th>\n",
              "      <td>#Vaccination 💉contre le #Covid19 : le point sur la dose de rappel et l’impact sur le passe sanitaire https://t.co/2YzqWCHK8D @cpam_01</td>\n",
              "    </tr>\n",
              "  </tbody>\n",
              "</table>\n",
              "</div>\n",
              "      <button class=\"colab-df-convert\" onclick=\"convertToInteractive('df-0649eaf0-bd4d-4bc8-9163-d8134a5ffc95')\"\n",
              "              title=\"Convert this dataframe to an interactive table.\"\n",
              "              style=\"display:none;\">\n",
              "        \n",
              "  <svg xmlns=\"http://www.w3.org/2000/svg\" height=\"24px\"viewBox=\"0 0 24 24\"\n",
              "       width=\"24px\">\n",
              "    <path d=\"M0 0h24v24H0V0z\" fill=\"none\"/>\n",
              "    <path d=\"M18.56 5.44l.94 2.06.94-2.06 2.06-.94-2.06-.94-.94-2.06-.94 2.06-2.06.94zm-11 1L8.5 8.5l.94-2.06 2.06-.94-2.06-.94L8.5 2.5l-.94 2.06-2.06.94zm10 10l.94 2.06.94-2.06 2.06-.94-2.06-.94-.94-2.06-.94 2.06-2.06.94z\"/><path d=\"M17.41 7.96l-1.37-1.37c-.4-.4-.92-.59-1.43-.59-.52 0-1.04.2-1.43.59L10.3 9.45l-7.72 7.72c-.78.78-.78 2.05 0 2.83L4 21.41c.39.39.9.59 1.41.59.51 0 1.02-.2 1.41-.59l7.78-7.78 2.81-2.81c.8-.78.8-2.07 0-2.86zM5.41 20L4 18.59l7.72-7.72 1.47 1.35L5.41 20z\"/>\n",
              "  </svg>\n",
              "      </button>\n",
              "      \n",
              "  <style>\n",
              "    .colab-df-container {\n",
              "      display:flex;\n",
              "      flex-wrap:wrap;\n",
              "      gap: 12px;\n",
              "    }\n",
              "\n",
              "    .colab-df-convert {\n",
              "      background-color: #E8F0FE;\n",
              "      border: none;\n",
              "      border-radius: 50%;\n",
              "      cursor: pointer;\n",
              "      display: none;\n",
              "      fill: #1967D2;\n",
              "      height: 32px;\n",
              "      padding: 0 0 0 0;\n",
              "      width: 32px;\n",
              "    }\n",
              "\n",
              "    .colab-df-convert:hover {\n",
              "      background-color: #E2EBFA;\n",
              "      box-shadow: 0px 1px 2px rgba(60, 64, 67, 0.3), 0px 1px 3px 1px rgba(60, 64, 67, 0.15);\n",
              "      fill: #174EA6;\n",
              "    }\n",
              "\n",
              "    [theme=dark] .colab-df-convert {\n",
              "      background-color: #3B4455;\n",
              "      fill: #D2E3FC;\n",
              "    }\n",
              "\n",
              "    [theme=dark] .colab-df-convert:hover {\n",
              "      background-color: #434B5C;\n",
              "      box-shadow: 0px 1px 3px 1px rgba(0, 0, 0, 0.15);\n",
              "      filter: drop-shadow(0px 1px 2px rgba(0, 0, 0, 0.3));\n",
              "      fill: #FFFFFF;\n",
              "    }\n",
              "  </style>\n",
              "\n",
              "      <script>\n",
              "        const buttonEl =\n",
              "          document.querySelector('#df-0649eaf0-bd4d-4bc8-9163-d8134a5ffc95 button.colab-df-convert');\n",
              "        buttonEl.style.display =\n",
              "          google.colab.kernel.accessAllowed ? 'block' : 'none';\n",
              "\n",
              "        async function convertToInteractive(key) {\n",
              "          const element = document.querySelector('#df-0649eaf0-bd4d-4bc8-9163-d8134a5ffc95');\n",
              "          const dataTable =\n",
              "            await google.colab.kernel.invokeFunction('convertToInteractive',\n",
              "                                                     [key], {});\n",
              "          if (!dataTable) return;\n",
              "\n",
              "          const docLinkHtml = 'Like what you see? Visit the ' +\n",
              "            '<a target=\"_blank\" href=https://colab.research.google.com/notebooks/data_table.ipynb>data table notebook</a>'\n",
              "            + ' to learn more about interactive tables.';\n",
              "          element.innerHTML = '';\n",
              "          dataTable['output_type'] = 'display_data';\n",
              "          await google.colab.output.renderOutput(dataTable, element);\n",
              "          const docLink = document.createElement('div');\n",
              "          docLink.innerHTML = docLinkHtml;\n",
              "          element.appendChild(docLink);\n",
              "        }\n",
              "      </script>\n",
              "    </div>\n",
              "  </div>\n",
              "  "
            ],
            "text/plain": [
              "                                                                                                                                                                                                                                                                                           tweet\n",
              "257   @mompontet Je m'isole en attendant le résultat du Test PCR. J'informe mes cas contacts d'aller se faire tester. Les tests d'hier soir indiquent peut-être la fin du covid19. Ne pas oublier que les autotests ne sont pas fiables à 100%. Je précise que cette réponse vient d'un médecin.\n",
              "3030                                                                                                                                                      Depuis l’intervention indécente de #Macron, je suis encore plus fier d’être un pur sang ! Et vous ? \\n#PasseVaccinalDeLaHonte #COVID19\n",
              "3500                                                              admettons que les Français soient vaccinés à 90% ... et de nouveau les vols commerciaux et touristiques reprendront \"Flight of #Covid19\" ... vu le faible pourcentage de vaccinés dans certains continents c'est peine perdue.\n",
              "314                                                                                                                                                        🇫🇷 FLASH - Pas de véritables mesures pour les collèges et les lycées aujourd'hui. #Fermezlesecoles #COVID19 \\nhttps://t.co/QVxcywTS2a\n",
              "1577                                                                                                                                                                             #COVID19 Un nouveau centre de vaccination ouvre à Mérignac \\n➡️ https://t.co/EZLiWWOeAU https://t.co/NXJ4fhVtDC\n",
              "3718                                                                                                                                                                    #Covid19 À #Rouen le centre Becquerel suspend les visites aux patients : « On déteste faire ça » https://t.co/6j97PfyBbY\n",
              "805                                                                                                                                                                                                                        @ToyWax_35 @geniegn @Gblbvalot @Le___Doc Mais si \"associé au covid19\"\n",
              "470               Les Réfugiés du Cameroun réclament #JUSTICE# pour détournement de fonds COVID19 de 2020 et trafic des enfants Réfugiés par un petit groupe du personnel HCR. Association pour la protection du Droit des Réfugiés au Cameroun.President DINAYE Laurent https://t.co/8RcKPlcfqv\n",
              "1747                          On vous recommande chaudement cet ouvrage, carnet de bord de la première vague de #COVID19 aux Hôpitaux de @villecolmar \\nDes témoignages qui éclairent sur la situation d'un hôpital, transposable ailleurs en France. #Edition \\n⬇️⬇️❤️\\nhttps://t.co/tEd5YQT8hN\n",
              "3632                                                                                                                                                       #Vaccination 💉contre le #Covid19 : le point sur la dose de rappel et l’impact sur le passe sanitaire https://t.co/2YzqWCHK8D @cpam_01"
            ]
          },
          "metadata": {},
          "execution_count": 508
        }
      ]
    },
    {
      "cell_type": "code",
      "source": [
        "tweets = tweets_df.copy()"
      ],
      "metadata": {
        "id": "3hRtBT8NO7Os",
        "execution": {
          "iopub.status.busy": "2022-01-26T14:28:19.016474Z",
          "iopub.execute_input": "2022-01-26T14:28:19.017397Z",
          "iopub.status.idle": "2022-01-26T14:28:19.025600Z",
          "shell.execute_reply.started": "2022-01-26T14:28:19.017354Z",
          "shell.execute_reply": "2022-01-26T14:28:19.024948Z"
        },
        "trusted": true
      },
      "execution_count": 509,
      "outputs": []
    },
    {
      "cell_type": "markdown",
      "source": [
        "# Traitement des émojis"
      ],
      "metadata": {
        "id": "m8PllHqdGYKl"
      }
    },
    {
      "cell_type": "markdown",
      "source": [
        "## Décodage ses emojis et les traduire en français"
      ],
      "metadata": {
        "id": "Wl9Ptudmv094"
      }
    },
    {
      "cell_type": "markdown",
      "source": [
        "## Demande de récuperation des émojis au site :\n",
        "### https://emojiterra.com/fr/points-de-code"
      ],
      "metadata": {
        "id": "4gFwi8V31XUG"
      }
    },
    {
      "cell_type": "code",
      "source": [
        "import urllib.request\n",
        "from bs4 import BeautifulSoup\n",
        "\n",
        "user_agent = 'Mozilla/5.0 (Windows; U; Windows NT 5.1; en-US; rv:1.9.0.7) Gecko/2009021910 Firefox/3.0.7'\n",
        "url = \"https://emojiterra.com/fr/points-de-code/\"\n",
        "headers = {'User-Agent': user_agent} \n",
        "\n",
        "request=urllib.request.Request(url, None, headers)\n",
        "response = urllib.request.urlopen(request)\n",
        "data = response.read()"
      ],
      "metadata": {
        "id": "L3ENi77kq9CW",
        "execution": {
          "iopub.status.busy": "2022-01-26T14:28:23.118569Z",
          "iopub.execute_input": "2022-01-26T14:28:23.119418Z",
          "iopub.status.idle": "2022-01-26T14:28:23.947376Z",
          "shell.execute_reply.started": "2022-01-26T14:28:23.119381Z",
          "shell.execute_reply": "2022-01-26T14:28:23.946406Z"
        },
        "trusted": true
      },
      "execution_count": 510,
      "outputs": []
    },
    {
      "cell_type": "markdown",
      "source": [
        "## Récupération du tableau des émojis"
      ],
      "metadata": {
        "id": "3zHPPPFEqSym"
      }
    },
    {
      "cell_type": "code",
      "source": [
        "soup = BeautifulSoup(data, 'html.parser')\n",
        "table = soup.find('table')\n",
        "emojis_df = pd.read_html(str(table))[0]"
      ],
      "metadata": {
        "id": "GJ-niQrqvKZQ",
        "execution": {
          "iopub.status.busy": "2022-01-26T14:28:27.033378Z",
          "iopub.execute_input": "2022-01-26T14:28:27.033997Z",
          "iopub.status.idle": "2022-01-26T14:28:28.128828Z",
          "shell.execute_reply.started": "2022-01-26T14:28:27.033965Z",
          "shell.execute_reply": "2022-01-26T14:28:28.128135Z"
        },
        "trusted": true
      },
      "execution_count": 511,
      "outputs": []
    },
    {
      "cell_type": "code",
      "source": [
        "emojis_df.sample(10)"
      ],
      "metadata": {
        "id": "DbWIabCE10Hf",
        "outputId": "4e6557d3-3ba0-4199-caf8-5dfd14a0ed89",
        "execution": {
          "iopub.status.busy": "2022-01-26T14:28:30.682905Z",
          "iopub.execute_input": "2022-01-26T14:28:30.683206Z",
          "iopub.status.idle": "2022-01-26T14:28:30.696254Z",
          "shell.execute_reply.started": "2022-01-26T14:28:30.683172Z",
          "shell.execute_reply": "2022-01-26T14:28:30.695188Z"
        },
        "trusted": true,
        "colab": {
          "base_uri": "https://localhost:8080/",
          "height": 362
        }
      },
      "execution_count": 512,
      "outputs": [
        {
          "output_type": "execute_result",
          "data": {
            "text/html": [
              "\n",
              "  <div id=\"df-323afac2-b431-4adf-b277-b967cea8dc8d\">\n",
              "    <div class=\"colab-df-container\">\n",
              "      <div>\n",
              "<style scoped>\n",
              "    .dataframe tbody tr th:only-of-type {\n",
              "        vertical-align: middle;\n",
              "    }\n",
              "\n",
              "    .dataframe tbody tr th {\n",
              "        vertical-align: top;\n",
              "    }\n",
              "\n",
              "    .dataframe thead th {\n",
              "        text-align: right;\n",
              "    }\n",
              "</style>\n",
              "<table border=\"1\" class=\"dataframe\">\n",
              "  <thead>\n",
              "    <tr style=\"text-align: right;\">\n",
              "      <th></th>\n",
              "      <th>#</th>\n",
              "      <th>Emoji + Unicode CLDR Short Name</th>\n",
              "      <th>Point(s) de code Unicode</th>\n",
              "    </tr>\n",
              "  </thead>\n",
              "  <tbody>\n",
              "    <tr>\n",
              "      <th>1260</th>\n",
              "      <td>1261</td>\n",
              "      <td>🔨 Marteau</td>\n",
              "      <td>U+1F528</td>\n",
              "    </tr>\n",
              "    <tr>\n",
              "      <th>1181</th>\n",
              "      <td>1182</td>\n",
              "      <td>🔦 Torche</td>\n",
              "      <td>U+1F526</td>\n",
              "    </tr>\n",
              "    <tr>\n",
              "      <th>1094</th>\n",
              "      <td>1095</td>\n",
              "      <td>🩳 Short</td>\n",
              "      <td>U+1FA73</td>\n",
              "    </tr>\n",
              "    <tr>\n",
              "      <th>1953</th>\n",
              "      <td>1954</td>\n",
              "      <td>👐🏽 Mains Ouvertes : Peau Légèrement Mate</td>\n",
              "      <td>U+1F450 U+1F3FD</td>\n",
              "    </tr>\n",
              "    <tr>\n",
              "      <th>2534</th>\n",
              "      <td>2535</td>\n",
              "      <td>👨🏾‍🚒 Pompier Homme : Peau Mate</td>\n",
              "      <td>U+1F468 U+1F3FE U+200D U+1F692</td>\n",
              "    </tr>\n",
              "    <tr>\n",
              "      <th>2107</th>\n",
              "      <td>2108</td>\n",
              "      <td>👩🏼‍🦳 Femme : Peau Moyennement Claire Et Cheveux Blancs</td>\n",
              "      <td>U+1F469 U+1F3FC U+200D U+1F9B3</td>\n",
              "    </tr>\n",
              "    <tr>\n",
              "      <th>3447</th>\n",
              "      <td>3448</td>\n",
              "      <td>👩🏼‍❤️‍👨🏼 Couple Avec Cœur : Femme, Homme Et Peau Moyennement Claire</td>\n",
              "      <td>U+1F469 U+1F3FC U+200D U+2764 U+FE0F U+200D U+1F468 U+1F3FC</td>\n",
              "    </tr>\n",
              "    <tr>\n",
              "      <th>2053</th>\n",
              "      <td>2054</td>\n",
              "      <td>🧔🏽‍♂️ Homme Barbu : Peau Légèrement Mate</td>\n",
              "      <td>U+1F9D4 U+1F3FD U+200D U+2642 U+FE0F</td>\n",
              "    </tr>\n",
              "    <tr>\n",
              "      <th>1449</th>\n",
              "      <td>1450</td>\n",
              "      <td>✔️ Coche</td>\n",
              "      <td>U+2714 U+FE0F</td>\n",
              "    </tr>\n",
              "    <tr>\n",
              "      <th>2034</th>\n",
              "      <td>2035</td>\n",
              "      <td>🧑🏾 Adulte : Peau Mate</td>\n",
              "      <td>U+1F9D1 U+1F3FE</td>\n",
              "    </tr>\n",
              "  </tbody>\n",
              "</table>\n",
              "</div>\n",
              "      <button class=\"colab-df-convert\" onclick=\"convertToInteractive('df-323afac2-b431-4adf-b277-b967cea8dc8d')\"\n",
              "              title=\"Convert this dataframe to an interactive table.\"\n",
              "              style=\"display:none;\">\n",
              "        \n",
              "  <svg xmlns=\"http://www.w3.org/2000/svg\" height=\"24px\"viewBox=\"0 0 24 24\"\n",
              "       width=\"24px\">\n",
              "    <path d=\"M0 0h24v24H0V0z\" fill=\"none\"/>\n",
              "    <path d=\"M18.56 5.44l.94 2.06.94-2.06 2.06-.94-2.06-.94-.94-2.06-.94 2.06-2.06.94zm-11 1L8.5 8.5l.94-2.06 2.06-.94-2.06-.94L8.5 2.5l-.94 2.06-2.06.94zm10 10l.94 2.06.94-2.06 2.06-.94-2.06-.94-.94-2.06-.94 2.06-2.06.94z\"/><path d=\"M17.41 7.96l-1.37-1.37c-.4-.4-.92-.59-1.43-.59-.52 0-1.04.2-1.43.59L10.3 9.45l-7.72 7.72c-.78.78-.78 2.05 0 2.83L4 21.41c.39.39.9.59 1.41.59.51 0 1.02-.2 1.41-.59l7.78-7.78 2.81-2.81c.8-.78.8-2.07 0-2.86zM5.41 20L4 18.59l7.72-7.72 1.47 1.35L5.41 20z\"/>\n",
              "  </svg>\n",
              "      </button>\n",
              "      \n",
              "  <style>\n",
              "    .colab-df-container {\n",
              "      display:flex;\n",
              "      flex-wrap:wrap;\n",
              "      gap: 12px;\n",
              "    }\n",
              "\n",
              "    .colab-df-convert {\n",
              "      background-color: #E8F0FE;\n",
              "      border: none;\n",
              "      border-radius: 50%;\n",
              "      cursor: pointer;\n",
              "      display: none;\n",
              "      fill: #1967D2;\n",
              "      height: 32px;\n",
              "      padding: 0 0 0 0;\n",
              "      width: 32px;\n",
              "    }\n",
              "\n",
              "    .colab-df-convert:hover {\n",
              "      background-color: #E2EBFA;\n",
              "      box-shadow: 0px 1px 2px rgba(60, 64, 67, 0.3), 0px 1px 3px 1px rgba(60, 64, 67, 0.15);\n",
              "      fill: #174EA6;\n",
              "    }\n",
              "\n",
              "    [theme=dark] .colab-df-convert {\n",
              "      background-color: #3B4455;\n",
              "      fill: #D2E3FC;\n",
              "    }\n",
              "\n",
              "    [theme=dark] .colab-df-convert:hover {\n",
              "      background-color: #434B5C;\n",
              "      box-shadow: 0px 1px 3px 1px rgba(0, 0, 0, 0.15);\n",
              "      filter: drop-shadow(0px 1px 2px rgba(0, 0, 0, 0.3));\n",
              "      fill: #FFFFFF;\n",
              "    }\n",
              "  </style>\n",
              "\n",
              "      <script>\n",
              "        const buttonEl =\n",
              "          document.querySelector('#df-323afac2-b431-4adf-b277-b967cea8dc8d button.colab-df-convert');\n",
              "        buttonEl.style.display =\n",
              "          google.colab.kernel.accessAllowed ? 'block' : 'none';\n",
              "\n",
              "        async function convertToInteractive(key) {\n",
              "          const element = document.querySelector('#df-323afac2-b431-4adf-b277-b967cea8dc8d');\n",
              "          const dataTable =\n",
              "            await google.colab.kernel.invokeFunction('convertToInteractive',\n",
              "                                                     [key], {});\n",
              "          if (!dataTable) return;\n",
              "\n",
              "          const docLinkHtml = 'Like what you see? Visit the ' +\n",
              "            '<a target=\"_blank\" href=https://colab.research.google.com/notebooks/data_table.ipynb>data table notebook</a>'\n",
              "            + ' to learn more about interactive tables.';\n",
              "          element.innerHTML = '';\n",
              "          dataTable['output_type'] = 'display_data';\n",
              "          await google.colab.output.renderOutput(dataTable, element);\n",
              "          const docLink = document.createElement('div');\n",
              "          docLink.innerHTML = docLinkHtml;\n",
              "          element.appendChild(docLink);\n",
              "        }\n",
              "      </script>\n",
              "    </div>\n",
              "  </div>\n",
              "  "
            ],
            "text/plain": [
              "         #  ...                                     Point(s) de code Unicode\n",
              "1260  1261  ...                                                      U+1F528\n",
              "1181  1182  ...                                                      U+1F526\n",
              "1094  1095  ...                                                      U+1FA73\n",
              "1953  1954  ...                                              U+1F450 U+1F3FD\n",
              "2534  2535  ...                               U+1F468 U+1F3FE U+200D U+1F692\n",
              "2107  2108  ...                               U+1F469 U+1F3FC U+200D U+1F9B3\n",
              "3447  3448  ...  U+1F469 U+1F3FC U+200D U+2764 U+FE0F U+200D U+1F468 U+1F3FC\n",
              "2053  2054  ...                         U+1F9D4 U+1F3FD U+200D U+2642 U+FE0F\n",
              "1449  1450  ...                                                U+2714 U+FE0F\n",
              "2034  2035  ...                                              U+1F9D1 U+1F3FE\n",
              "\n",
              "[10 rows x 3 columns]"
            ]
          },
          "metadata": {},
          "execution_count": 512
        }
      ]
    },
    {
      "cell_type": "markdown",
      "source": [
        "## Séparation des emojis de leurs textes respectifs"
      ],
      "metadata": {
        "id": "Kj0X5gPA1qD3"
      }
    },
    {
      "cell_type": "code",
      "source": [
        "emojis_table = emojis_df['Emoji + Unicode CLDR Short Name'].values.tolist()\n",
        "emojis = {}\n",
        "for line in emojis_table:\n",
        "  emoji, text = line.split(' ', 1)\n",
        "  emojis[emoji] = text"
      ],
      "metadata": {
        "id": "u9U2WylAwLke",
        "execution": {
          "iopub.status.busy": "2022-01-26T14:28:46.408426Z",
          "iopub.execute_input": "2022-01-26T14:28:46.409261Z",
          "iopub.status.idle": "2022-01-26T14:28:46.416764Z",
          "shell.execute_reply.started": "2022-01-26T14:28:46.409201Z",
          "shell.execute_reply": "2022-01-26T14:28:46.415983Z"
        },
        "trusted": true
      },
      "execution_count": 513,
      "outputs": []
    },
    {
      "cell_type": "code",
      "source": [
        "emojis.get('😇')"
      ],
      "metadata": {
        "id": "Nk36pcRyzk44",
        "outputId": "83bdea67-9a92-4f24-a275-f9101833e99a",
        "execution": {
          "iopub.status.busy": "2022-01-26T14:28:51.763394Z",
          "iopub.execute_input": "2022-01-26T14:28:51.763874Z",
          "iopub.status.idle": "2022-01-26T14:28:51.769321Z",
          "shell.execute_reply.started": "2022-01-26T14:28:51.763843Z",
          "shell.execute_reply": "2022-01-26T14:28:51.768679Z"
        },
        "trusted": true,
        "colab": {
          "base_uri": "https://localhost:8080/",
          "height": 35
        }
      },
      "execution_count": 514,
      "outputs": [
        {
          "output_type": "execute_result",
          "data": {
            "application/vnd.google.colaboratory.intrinsic+json": {
              "type": "string"
            },
            "text/plain": [
              "'Visage Souriant Avec Auréole'"
            ]
          },
          "metadata": {},
          "execution_count": 514
        }
      ]
    },
    {
      "cell_type": "markdown",
      "source": [
        "## Définition d'une fonction qui convertit les emojis récupérés en texte"
      ],
      "metadata": {
        "id": "e44uPI5_0lKP"
      }
    },
    {
      "cell_type": "code",
      "source": [
        "def demojize(text):\n",
        "  global emojis\n",
        "  words = text.split()\n",
        "  for idx, word in enumerate(words):\n",
        "    word_ = ''\n",
        "    for char in word:\n",
        "      if char in emojis.keys():\n",
        "        char = \" \" + emojis[char] + \" \"\n",
        "      word_ += char\n",
        "    words[idx] = word_\n",
        "  return \" \".join(words)"
      ],
      "metadata": {
        "id": "3X0eXTfxyw_O",
        "execution": {
          "iopub.status.busy": "2022-01-26T14:28:59.709081Z",
          "iopub.execute_input": "2022-01-26T14:28:59.709974Z",
          "iopub.status.idle": "2022-01-26T14:28:59.715146Z",
          "shell.execute_reply.started": "2022-01-26T14:28:59.709938Z",
          "shell.execute_reply": "2022-01-26T14:28:59.714359Z"
        },
        "trusted": true
      },
      "execution_count": 515,
      "outputs": []
    },
    {
      "cell_type": "code",
      "source": [
        "demojize('😁vaccin 😁😁 Bon, 😉')"
      ],
      "metadata": {
        "id": "BECIW2Tn4d_T",
        "outputId": "8a57f54d-3bec-4fe5-d64f-161a23ef66d2",
        "execution": {
          "iopub.status.busy": "2022-01-26T14:29:02.251586Z",
          "iopub.execute_input": "2022-01-26T14:29:02.252507Z",
          "iopub.status.idle": "2022-01-26T14:29:02.256371Z",
          "shell.execute_reply.started": "2022-01-26T14:29:02.252474Z",
          "shell.execute_reply": "2022-01-26T14:29:02.255940Z"
        },
        "trusted": true,
        "colab": {
          "base_uri": "https://localhost:8080/",
          "height": 35
        }
      },
      "execution_count": 516,
      "outputs": [
        {
          "output_type": "execute_result",
          "data": {
            "application/vnd.google.colaboratory.intrinsic+json": {
              "type": "string"
            },
            "text/plain": [
              "' Visage Souriant Aux Yeux Rieurs vaccin  Visage Souriant Aux Yeux Rieurs  Visage Souriant Aux Yeux Rieurs  Bon,  Visage Faisant Un Clin D’œil '"
            ]
          },
          "metadata": {},
          "execution_count": 516
        }
      ]
    },
    {
      "cell_type": "markdown",
      "source": [
        "## Conversion des emojis en texte pour l'analyse des sentiments"
      ],
      "metadata": {
        "id": "YufkR7NpEHLv"
      }
    },
    {
      "cell_type": "code",
      "source": [
        "tweets['tweet_emojis'] = tweets['tweet'].apply(lambda tweet: demojize(tweet))"
      ],
      "metadata": {
        "id": "JlP0_acYD8tf",
        "execution": {
          "iopub.status.busy": "2022-01-26T14:29:08.608881Z",
          "iopub.execute_input": "2022-01-26T14:29:08.609260Z",
          "iopub.status.idle": "2022-01-26T14:29:20.157008Z",
          "shell.execute_reply.started": "2022-01-26T14:29:08.609230Z",
          "shell.execute_reply": "2022-01-26T14:29:20.156483Z"
        },
        "trusted": true
      },
      "execution_count": 517,
      "outputs": []
    },
    {
      "cell_type": "markdown",
      "source": [
        "# Test de subjectivité"
      ],
      "metadata": {
        "id": "3WJfN0dcnUAZ"
      }
    },
    {
      "cell_type": "markdown",
      "source": [
        "## *Simple french analyzer*"
      ],
      "metadata": {
        "id": "iQhNSYhBiURE"
      }
    },
    {
      "cell_type": "markdown",
      "source": [
        "### *Blobber* documentation :\n",
        "#### https://textblob.readthedocs.io/en/dev/advanced_usage.html, https://stackoverflow.com/questions/33241842/textblob-naivebayesanalyzer-extremely-slow-compared-to-pattern"
      ],
      "metadata": {
        "id": "Uv-oURksxP0i"
      }
    },
    {
      "cell_type": "code",
      "source": [
        "tb_fr = Blobber(pos_tagger = PatternTagger(), analyzer = PatternAnalyzer())\n",
        "tweets['subjectivité'] = tweets['tweet_emojis'].apply(lambda tweet: tb_fr(tweet).sentiment[0])"
      ],
      "metadata": {
        "id": "mBPfIarjnWV9",
        "execution": {
          "iopub.status.busy": "2022-01-26T14:29:25.905829Z",
          "iopub.execute_input": "2022-01-26T14:29:25.906767Z",
          "iopub.status.idle": "2022-01-26T14:30:57.515729Z",
          "shell.execute_reply.started": "2022-01-26T14:29:25.906673Z",
          "shell.execute_reply": "2022-01-26T14:30:57.514924Z"
        },
        "trusted": true
      },
      "execution_count": 518,
      "outputs": []
    },
    {
      "cell_type": "code",
      "source": [
        "tweets.sample(10)"
      ],
      "metadata": {
        "id": "Bq0o3vQDnZE6",
        "execution": {
          "iopub.status.busy": "2022-01-26T14:31:29.089619Z",
          "iopub.execute_input": "2022-01-26T14:31:29.090580Z",
          "iopub.status.idle": "2022-01-26T14:31:29.107115Z",
          "shell.execute_reply.started": "2022-01-26T14:31:29.090528Z",
          "shell.execute_reply": "2022-01-26T14:31:29.106478Z"
        },
        "trusted": true,
        "colab": {
          "base_uri": "https://localhost:8080/",
          "height": 546
        },
        "outputId": "74e467d5-5373-4328-9395-ff2add544ac1"
      },
      "execution_count": 519,
      "outputs": [
        {
          "output_type": "execute_result",
          "data": {
            "text/html": [
              "\n",
              "  <div id=\"df-ca3dfd1d-1df8-4ec4-b029-427e35899506\">\n",
              "    <div class=\"colab-df-container\">\n",
              "      <div>\n",
              "<style scoped>\n",
              "    .dataframe tbody tr th:only-of-type {\n",
              "        vertical-align: middle;\n",
              "    }\n",
              "\n",
              "    .dataframe tbody tr th {\n",
              "        vertical-align: top;\n",
              "    }\n",
              "\n",
              "    .dataframe thead th {\n",
              "        text-align: right;\n",
              "    }\n",
              "</style>\n",
              "<table border=\"1\" class=\"dataframe\">\n",
              "  <thead>\n",
              "    <tr style=\"text-align: right;\">\n",
              "      <th></th>\n",
              "      <th>tweet</th>\n",
              "      <th>tweet_emojis</th>\n",
              "      <th>subjectivité</th>\n",
              "    </tr>\n",
              "  </thead>\n",
              "  <tbody>\n",
              "    <tr>\n",
              "      <th>172</th>\n",
              "      <td>#CAN2021  | Au moins 4️⃣ joueurs du #BurkinaFaso et le coach positifs au #COVID19 . Le staff burkinabè conteste la fiabilité des tests effectués et l’indépendance des préleveurs. Il parle de manipulation. \\n#TotalEnergiesAFCON2021 https://t.co/eybhBk3G4W</td>\n",
              "      <td>#CAN2021 | Au moins 4️⃣ joueurs du #BurkinaFaso et le coach positifs au #COVID19 . Le staff burkinabè conteste la fiabilité des tests effectués et l’indépendance des préleveurs. Il parle de manipulation. #TotalEnergiesAFCON2021 https://t.co/eybhBk3G4W</td>\n",
              "      <td>0.000000</td>\n",
              "    </tr>\n",
              "    <tr>\n",
              "      <th>4801</th>\n",
              "      <td>@Mediavenir 🇫🇷 FLASH - Les #Vaccinés représentaient 58% des décès et 44% des entrées à l'hôpital en soins critiques en décembre. (BFMTV) #COVID19France #COVID19</td>\n",
              "      <td>@Mediavenir 🇫🇷 FLASH - Les #Vaccinés représentaient 58% des décès et 44% des entrées à l'hôpital en soins critiques en décembre. (BFMTV) #COVID19France #COVID19</td>\n",
              "      <td>0.000000</td>\n",
              "    </tr>\n",
              "    <tr>\n",
              "      <th>1040</th>\n",
              "      <td>URGENT - Jean Castex : \"La vaccination de tous les enfants, sous réserve des avis médicaux, sera ouverte d'ici la fin de l'année\" #Coronavirus #covid19 #école #vacances https://t.co/xI0CcdXaoW</td>\n",
              "      <td>URGENT - Jean Castex : \"La vaccination de tous les enfants, sous réserve des avis médicaux, sera ouverte d'ici la fin de l'année\" #Coronavirus #covid19 #école #vacances https://t.co/xI0CcdXaoW</td>\n",
              "      <td>0.066000</td>\n",
              "    </tr>\n",
              "    <tr>\n",
              "      <th>1004</th>\n",
              "      <td>Importante réflexion sur la crise de l'hôpital : rigide par nature, l'🏥 ne peut pas seul faire face à des tensions ↗️ liées au vieillissement davantage qu'au #COVID19\\n\\n➡️Réinstaurer la permanence des soins ambulatoires de médecine de ville\\n\\n#JPNordmann\\n\\nhttps://t.co/SkSubDnaxB</td>\n",
              "      <td>Importante réflexion sur la crise de l'hôpital : rigide par nature, l' Hôpital  ne peut pas seul faire face à des tensions ↗️ liées au vieillissement davantage qu'au #COVID19 ➡️Réinstaurer la permanence des soins ambulatoires de médecine de ville #JPNordmann https://t.co/SkSubDnaxB</td>\n",
              "      <td>0.150000</td>\n",
              "    </tr>\n",
              "    <tr>\n",
              "      <th>4731</th>\n",
              "      <td>Bonjour @cnb @Avocats_Paris @CPAM_75 @syndicatavocats @UJAdeParis \\n \\nArrêt de travail #COVID19 indemnisé pour tous les travailleurs indépendants et professions libérales…sauf pour les avocats ?\\n\\nC’est une erreur ou il y a une explication logique qui m’échappe ? https://t.co/mWIg4E85Ua</td>\n",
              "      <td>Bonjour @cnb @Avocats_Paris @CPAM_75 @syndicatavocats @UJAdeParis Arrêt de travail #COVID19 indemnisé pour tous les travailleurs indépendants et professions libérales…sauf pour les avocats ? C’est une erreur ou il y a une explication logique qui m’échappe ? https://t.co/mWIg4E85Ua</td>\n",
              "      <td>0.140000</td>\n",
              "    </tr>\n",
              "    <tr>\n",
              "      <th>2299</th>\n",
              "      <td>@Elishev18121042 @Seempleetoo @sciensano Comme par hazard , il faut retirer se qui fait paniquer ....la verite</td>\n",
              "      <td>@Elishev18121042 @Seempleetoo @sciensano Comme par hazard , il faut retirer se qui fait paniquer ....la verite</td>\n",
              "      <td>0.000000</td>\n",
              "    </tr>\n",
              "    <tr>\n",
              "      <th>3078</th>\n",
              "      <td>@Actu17 Au lieu de se focaliser sur le covid19, ils se secouent ou cela va continuer ?</td>\n",
              "      <td>@Actu17 Au lieu de se focaliser sur le covid19, ils se secouent ou cela va continuer ?</td>\n",
              "      <td>0.000000</td>\n",
              "    </tr>\n",
              "    <tr>\n",
              "      <th>1607</th>\n",
              "      <td>#COVID19 est-ce que nos gouvernants ont carrément lâché l'affaire ??\\n#208k #coronavirus #France #Pandemie</td>\n",
              "      <td>#COVID19 est-ce que nos gouvernants ont carrément lâché l'affaire ?? #208k #coronavirus #France #Pandemie</td>\n",
              "      <td>0.000000</td>\n",
              "    </tr>\n",
              "    <tr>\n",
              "      <th>555</th>\n",
              "      <td>Ligue 1 : Vers une jauge proportionnelle à la taille du stade ? https://t.co/QCO4o0USjL #Foot #COVID19 #Ligue1</td>\n",
              "      <td>Ligue 1 : Vers une jauge proportionnelle à la taille du stade ? https://t.co/QCO4o0USjL #Foot #COVID19 #Ligue1</td>\n",
              "      <td>0.000000</td>\n",
              "    </tr>\n",
              "    <tr>\n",
              "      <th>3996</th>\n",
              "      <td>@LeHuffPost Je vais faire 38kms pour faire ma 3ème dose!😤 Parce que le vaccinodrome qui était plus près de chez moi a fermé en octobre et ne rouvrira pas! 😡 #gouvernement @olivierveran #COVID19</td>\n",
              "      <td>@LeHuffPost Je vais faire 38kms pour faire ma 3ème dose! Visage Avec Fumée Sortant Des Narines  Parce que le vaccinodrome qui était plus près de chez moi a fermé en octobre et ne rouvrira pas!  Visage Boudeur  #gouvernement @olivierveran #COVID19</td>\n",
              "      <td>-0.066667</td>\n",
              "    </tr>\n",
              "  </tbody>\n",
              "</table>\n",
              "</div>\n",
              "      <button class=\"colab-df-convert\" onclick=\"convertToInteractive('df-ca3dfd1d-1df8-4ec4-b029-427e35899506')\"\n",
              "              title=\"Convert this dataframe to an interactive table.\"\n",
              "              style=\"display:none;\">\n",
              "        \n",
              "  <svg xmlns=\"http://www.w3.org/2000/svg\" height=\"24px\"viewBox=\"0 0 24 24\"\n",
              "       width=\"24px\">\n",
              "    <path d=\"M0 0h24v24H0V0z\" fill=\"none\"/>\n",
              "    <path d=\"M18.56 5.44l.94 2.06.94-2.06 2.06-.94-2.06-.94-.94-2.06-.94 2.06-2.06.94zm-11 1L8.5 8.5l.94-2.06 2.06-.94-2.06-.94L8.5 2.5l-.94 2.06-2.06.94zm10 10l.94 2.06.94-2.06 2.06-.94-2.06-.94-.94-2.06-.94 2.06-2.06.94z\"/><path d=\"M17.41 7.96l-1.37-1.37c-.4-.4-.92-.59-1.43-.59-.52 0-1.04.2-1.43.59L10.3 9.45l-7.72 7.72c-.78.78-.78 2.05 0 2.83L4 21.41c.39.39.9.59 1.41.59.51 0 1.02-.2 1.41-.59l7.78-7.78 2.81-2.81c.8-.78.8-2.07 0-2.86zM5.41 20L4 18.59l7.72-7.72 1.47 1.35L5.41 20z\"/>\n",
              "  </svg>\n",
              "      </button>\n",
              "      \n",
              "  <style>\n",
              "    .colab-df-container {\n",
              "      display:flex;\n",
              "      flex-wrap:wrap;\n",
              "      gap: 12px;\n",
              "    }\n",
              "\n",
              "    .colab-df-convert {\n",
              "      background-color: #E8F0FE;\n",
              "      border: none;\n",
              "      border-radius: 50%;\n",
              "      cursor: pointer;\n",
              "      display: none;\n",
              "      fill: #1967D2;\n",
              "      height: 32px;\n",
              "      padding: 0 0 0 0;\n",
              "      width: 32px;\n",
              "    }\n",
              "\n",
              "    .colab-df-convert:hover {\n",
              "      background-color: #E2EBFA;\n",
              "      box-shadow: 0px 1px 2px rgba(60, 64, 67, 0.3), 0px 1px 3px 1px rgba(60, 64, 67, 0.15);\n",
              "      fill: #174EA6;\n",
              "    }\n",
              "\n",
              "    [theme=dark] .colab-df-convert {\n",
              "      background-color: #3B4455;\n",
              "      fill: #D2E3FC;\n",
              "    }\n",
              "\n",
              "    [theme=dark] .colab-df-convert:hover {\n",
              "      background-color: #434B5C;\n",
              "      box-shadow: 0px 1px 3px 1px rgba(0, 0, 0, 0.15);\n",
              "      filter: drop-shadow(0px 1px 2px rgba(0, 0, 0, 0.3));\n",
              "      fill: #FFFFFF;\n",
              "    }\n",
              "  </style>\n",
              "\n",
              "      <script>\n",
              "        const buttonEl =\n",
              "          document.querySelector('#df-ca3dfd1d-1df8-4ec4-b029-427e35899506 button.colab-df-convert');\n",
              "        buttonEl.style.display =\n",
              "          google.colab.kernel.accessAllowed ? 'block' : 'none';\n",
              "\n",
              "        async function convertToInteractive(key) {\n",
              "          const element = document.querySelector('#df-ca3dfd1d-1df8-4ec4-b029-427e35899506');\n",
              "          const dataTable =\n",
              "            await google.colab.kernel.invokeFunction('convertToInteractive',\n",
              "                                                     [key], {});\n",
              "          if (!dataTable) return;\n",
              "\n",
              "          const docLinkHtml = 'Like what you see? Visit the ' +\n",
              "            '<a target=\"_blank\" href=https://colab.research.google.com/notebooks/data_table.ipynb>data table notebook</a>'\n",
              "            + ' to learn more about interactive tables.';\n",
              "          element.innerHTML = '';\n",
              "          dataTable['output_type'] = 'display_data';\n",
              "          await google.colab.output.renderOutput(dataTable, element);\n",
              "          const docLink = document.createElement('div');\n",
              "          docLink.innerHTML = docLinkHtml;\n",
              "          element.appendChild(docLink);\n",
              "        }\n",
              "      </script>\n",
              "    </div>\n",
              "  </div>\n",
              "  "
            ],
            "text/plain": [
              "                                                                                                                                                                                                                                                                                                  tweet  ... subjectivité\n",
              "172                                      #CAN2021  | Au moins 4️⃣ joueurs du #BurkinaFaso et le coach positifs au #COVID19 . Le staff burkinabè conteste la fiabilité des tests effectués et l’indépendance des préleveurs. Il parle de manipulation. \\n#TotalEnergiesAFCON2021 https://t.co/eybhBk3G4W  ...     0.000000\n",
              "4801                                                                                                                                   @Mediavenir 🇫🇷 FLASH - Les #Vaccinés représentaient 58% des décès et 44% des entrées à l'hôpital en soins critiques en décembre. (BFMTV) #COVID19France #COVID19  ...     0.000000\n",
              "1040                                                                                                   URGENT - Jean Castex : \"La vaccination de tous les enfants, sous réserve des avis médicaux, sera ouverte d'ici la fin de l'année\" #Coronavirus #covid19 #école #vacances https://t.co/xI0CcdXaoW  ...     0.066000\n",
              "1004        Importante réflexion sur la crise de l'hôpital : rigide par nature, l'🏥 ne peut pas seul faire face à des tensions ↗️ liées au vieillissement davantage qu'au #COVID19\\n\\n➡️Réinstaurer la permanence des soins ambulatoires de médecine de ville\\n\\n#JPNordmann\\n\\nhttps://t.co/SkSubDnaxB  ...     0.150000\n",
              "4731  Bonjour @cnb @Avocats_Paris @CPAM_75 @syndicatavocats @UJAdeParis \\n \\nArrêt de travail #COVID19 indemnisé pour tous les travailleurs indépendants et professions libérales…sauf pour les avocats ?\\n\\nC’est une erreur ou il y a une explication logique qui m’échappe ? https://t.co/mWIg4E85Ua  ...     0.140000\n",
              "2299                                                                                                                                                                                     @Elishev18121042 @Seempleetoo @sciensano Comme par hazard , il faut retirer se qui fait paniquer ....la verite  ...     0.000000\n",
              "3078                                                                                                                                                                                                             @Actu17 Au lieu de se focaliser sur le covid19, ils se secouent ou cela va continuer ?  ...     0.000000\n",
              "1607                                                                                                                                                                                         #COVID19 est-ce que nos gouvernants ont carrément lâché l'affaire ??\\n#208k #coronavirus #France #Pandemie  ...     0.000000\n",
              "555                                                                                                                                                                                      Ligue 1 : Vers une jauge proportionnelle à la taille du stade ? https://t.co/QCO4o0USjL #Foot #COVID19 #Ligue1  ...     0.000000\n",
              "3996                                                                                                  @LeHuffPost Je vais faire 38kms pour faire ma 3ème dose!😤 Parce que le vaccinodrome qui était plus près de chez moi a fermé en octobre et ne rouvrira pas! 😡 #gouvernement @olivierveran #COVID19  ...    -0.066667\n",
              "\n",
              "[10 rows x 3 columns]"
            ]
          },
          "metadata": {},
          "execution_count": 519
        }
      ]
    },
    {
      "cell_type": "markdown",
      "source": [
        "> Un score élevé de *subjectivité* indique qu'il s'agit principalement d'une opinion publique et non d'une information factuelle"
      ],
      "metadata": {
        "id": "-S1cNoW9xP0j"
      }
    },
    {
      "cell_type": "markdown",
      "source": [
        "## Filtrer les tweets subjectifs\n",
        "- Seuil (*Threshold*) : 35%"
      ],
      "metadata": {
        "id": "7017k5pancF3"
      }
    },
    {
      "cell_type": "code",
      "source": [
        "tweets = tweets[tweets['subjectivité'] >= 0.35]"
      ],
      "metadata": {
        "id": "N7dNcNOpnfEv",
        "execution": {
          "iopub.status.busy": "2022-01-26T14:33:25.274367Z",
          "iopub.execute_input": "2022-01-26T14:33:25.274643Z",
          "iopub.status.idle": "2022-01-26T14:33:25.300606Z",
          "shell.execute_reply.started": "2022-01-26T14:33:25.274616Z",
          "shell.execute_reply": "2022-01-26T14:33:25.299829Z"
        },
        "trusted": true
      },
      "execution_count": 520,
      "outputs": []
    },
    {
      "cell_type": "code",
      "source": [
        "print(f'{tweets.shape[0]} subjective tweets')"
      ],
      "metadata": {
        "id": "T92u7SgTV7W_",
        "execution": {
          "iopub.status.busy": "2022-01-26T14:33:28.535617Z",
          "iopub.execute_input": "2022-01-26T14:33:28.536415Z",
          "iopub.status.idle": "2022-01-26T14:33:28.540774Z",
          "shell.execute_reply.started": "2022-01-26T14:33:28.536364Z",
          "shell.execute_reply": "2022-01-26T14:33:28.539965Z"
        },
        "trusted": true,
        "colab": {
          "base_uri": "https://localhost:8080/"
        },
        "outputId": "065962ed-0b3e-41ed-c044-64e34b124054"
      },
      "execution_count": 521,
      "outputs": [
        {
          "output_type": "stream",
          "name": "stdout",
          "text": [
            "286 subjective tweets\n"
          ]
        }
      ]
    },
    {
      "cell_type": "code",
      "source": [
        "tweets.drop('subjectivité', axis = 1, inplace = True)\n",
        "tweets.reset_index(inplace = True, drop = True)"
      ],
      "metadata": {
        "id": "AK0dytE8BGsu",
        "_kg_hide-input": true,
        "_kg_hide-output": true,
        "trusted": true,
        "colab": {
          "base_uri": "https://localhost:8080/"
        },
        "outputId": "43989e06-32a1-40ed-fd4b-dc9817b851a5"
      },
      "execution_count": 522,
      "outputs": [
        {
          "output_type": "stream",
          "name": "stderr",
          "text": [
            "/usr/local/lib/python3.7/dist-packages/pandas/core/frame.py:4174: SettingWithCopyWarning: \n",
            "A value is trying to be set on a copy of a slice from a DataFrame\n",
            "\n",
            "See the caveats in the documentation: https://pandas.pydata.org/pandas-docs/stable/user_guide/indexing.html#returning-a-view-versus-a-copy\n",
            "  errors=errors,\n"
          ]
        }
      ]
    },
    {
      "cell_type": "markdown",
      "source": [
        "# Analyse des sentiments"
      ],
      "metadata": {
        "id": "KbJfk8idl_CM"
      }
    },
    {
      "cell_type": "markdown",
      "source": [
        "## *Simple analyzer*"
      ],
      "metadata": {
        "id": "Z8sneCbGaoOs"
      }
    },
    {
      "cell_type": "code",
      "source": [
        "tweets['polarité_simple'] = tweets['tweet_emojis'].apply(lambda text: tb_fr(text).sentiment[1])"
      ],
      "metadata": {
        "id": "1-ww4-zcanuT",
        "execution": {
          "iopub.status.busy": "2022-01-26T14:34:03.227783Z",
          "iopub.execute_input": "2022-01-26T14:34:03.228593Z",
          "iopub.status.idle": "2022-01-26T14:34:08.573131Z",
          "shell.execute_reply.started": "2022-01-26T14:34:03.228558Z",
          "shell.execute_reply": "2022-01-26T14:34:08.572457Z"
        },
        "trusted": true
      },
      "execution_count": 523,
      "outputs": []
    },
    {
      "cell_type": "code",
      "source": [
        "tweets['sentiment_simple'] = tweets['polarité_simple'].apply(lambda x: 'Negative' if x < 0 else ('Neutre' if x == 0 else 'Positive'))"
      ],
      "metadata": {
        "id": "kUgAgsX3oV-Y",
        "execution": {
          "iopub.status.busy": "2022-01-26T14:34:11.034545Z",
          "iopub.execute_input": "2022-01-26T14:34:11.034815Z",
          "iopub.status.idle": "2022-01-26T14:34:11.046367Z",
          "shell.execute_reply.started": "2022-01-26T14:34:11.034780Z",
          "shell.execute_reply": "2022-01-26T14:34:11.044925Z"
        },
        "trusted": true
      },
      "execution_count": 524,
      "outputs": []
    },
    {
      "cell_type": "code",
      "source": [
        "tweets[['tweet', 'sentiment_simple']].sample(10)"
      ],
      "metadata": {
        "id": "ptL69-I8mhgr",
        "outputId": "d91e39ec-f676-4da4-ae1e-9438383ca9d8",
        "execution": {
          "iopub.status.busy": "2022-01-26T14:40:31.558989Z",
          "iopub.execute_input": "2022-01-26T14:40:31.559571Z",
          "iopub.status.idle": "2022-01-26T14:40:31.574470Z",
          "shell.execute_reply.started": "2022-01-26T14:40:31.559538Z",
          "shell.execute_reply": "2022-01-26T14:40:31.573684Z"
        },
        "trusted": true,
        "colab": {
          "base_uri": "https://localhost:8080/",
          "height": 441
        }
      },
      "execution_count": 525,
      "outputs": [
        {
          "output_type": "execute_result",
          "data": {
            "text/html": [
              "\n",
              "  <div id=\"df-dfda718b-1409-4954-9081-bcaf801e91b6\">\n",
              "    <div class=\"colab-df-container\">\n",
              "      <div>\n",
              "<style scoped>\n",
              "    .dataframe tbody tr th:only-of-type {\n",
              "        vertical-align: middle;\n",
              "    }\n",
              "\n",
              "    .dataframe tbody tr th {\n",
              "        vertical-align: top;\n",
              "    }\n",
              "\n",
              "    .dataframe thead th {\n",
              "        text-align: right;\n",
              "    }\n",
              "</style>\n",
              "<table border=\"1\" class=\"dataframe\">\n",
              "  <thead>\n",
              "    <tr style=\"text-align: right;\">\n",
              "      <th></th>\n",
              "      <th>tweet</th>\n",
              "      <th>sentiment_simple</th>\n",
              "    </tr>\n",
              "  </thead>\n",
              "  <tbody>\n",
              "    <tr>\n",
              "      <th>30</th>\n",
              "      <td>@SanteBelgique #BeGov à quand la 4e dose de \"vaccin\" #COVID19 ?\\n\\nFaisons preuve d’anticipation pour une fois ! 😅😂 https://t.co/MAXoYCBAL1</td>\n",
              "      <td>Positive</td>\n",
              "    </tr>\n",
              "    <tr>\n",
              "      <th>235</th>\n",
              "      <td>T’es un ancien si t’as connu ça.\\n#castex #COVID19 #touchezpasauxenfants #conseildedefense https://t.co/GKKY7pyg3p</td>\n",
              "      <td>Positive</td>\n",
              "    </tr>\n",
              "    <tr>\n",
              "      <th>97</th>\n",
              "      <td>Nous sommes devenus ce jour en @Mairie10Paris avec 17 blocs de vaccination un des plus + gros centre de #paris qui  accueille 1.700 pers./jour soit 12.000  parisien.nes/sem. 7/7j\\nUn immense 🙏 aux volontaires pour cette superbe organisation \\n#COVID19 #VaccinezVous #COVID19France https://t.co/neUERL50xZ</td>\n",
              "      <td>Positive</td>\n",
              "    </tr>\n",
              "    <tr>\n",
              "      <th>129</th>\n",
              "      <td>[Presse] Après avoir réactivé sa cellule de crise le 25/11, l’@HNordOuest, le CH de Belleville et l’hôpital de Beaujeu, déclenchent aujourd’hui le niveau 2 du #PlanBlanc pour faire face à une situation de forte tension ➡️ https://t.co/D0hQ8kflzm\\n#COVID19</td>\n",
              "      <td>Positive</td>\n",
              "    </tr>\n",
              "    <tr>\n",
              "      <th>12</th>\n",
              "      <td>Ah nostalgie quand tu nous tiens 🤣 #COVID19 https://t.co/9eZzezI6fV</td>\n",
              "      <td>Neutre</td>\n",
              "    </tr>\n",
              "    <tr>\n",
              "      <th>255</th>\n",
              "      <td>#PAYSBAS 🇳🇱 \\n\\nVous dites, efficacité du vaccin? #Veran #Castex #Conseildedefense😅\\nNEXT!\\n\\n➡️ L'ex-reine Beatrix des #PaysBas est positive au #COVID19. \\nElle a déclaré avoir été vaccinée à deux reprises et avoir déjà reçu une dose de rappel. #3emeDose #RT\\n\\nhttps://t.co/6gSYwV6HnQ https://t.co/v6M0SzEohh</td>\n",
              "      <td>Positive</td>\n",
              "    </tr>\n",
              "    <tr>\n",
              "      <th>31</th>\n",
              "      <td>Les intoxicateurs sur le podium : #FranceSoir, Sputnik, RT France... Meilleurs alliés du #COVID19 et de l'extrême-droite 😬 https://t.co/h4uWPoBQH7</td>\n",
              "      <td>Positive</td>\n",
              "    </tr>\n",
              "    <tr>\n",
              "      <th>238</th>\n",
              "      <td>➡#Covid19 : de nouveaux efforts pour sauver #Noel ?\\n\\n🗣️@dupontaignan : \"Il faut plutôt du bon sens, par ex, la gratuité des tests (...) En plein rebond épidémique, laisser des tests payants est une aberration\"\\n\\n📺 #LesMatinsLCI | @EliMartichoux https://t.co/xwdkRaiVWV</td>\n",
              "      <td>Positive</td>\n",
              "    </tr>\n",
              "    <tr>\n",
              "      <th>201</th>\n",
              "      <td>(1/2) Vous pouvez aider vos enfants à avoir une bonne expérience de vaccination contre la #Covid19. Voici des conseils pour apaiser leurs inquiétudes et les vôtres lors du rendez-vous de vaccination : https://t.co/8VJQh2NqNw</td>\n",
              "      <td>Positive</td>\n",
              "    </tr>\n",
              "    <tr>\n",
              "      <th>265</th>\n",
              "      <td>La pandémie n'existe pas, elle a été organisée artificiellement. https://t.co/egX0dIBAAC #pandémie #COVID19 #PaulCraigRoberts</td>\n",
              "      <td>Positive</td>\n",
              "    </tr>\n",
              "  </tbody>\n",
              "</table>\n",
              "</div>\n",
              "      <button class=\"colab-df-convert\" onclick=\"convertToInteractive('df-dfda718b-1409-4954-9081-bcaf801e91b6')\"\n",
              "              title=\"Convert this dataframe to an interactive table.\"\n",
              "              style=\"display:none;\">\n",
              "        \n",
              "  <svg xmlns=\"http://www.w3.org/2000/svg\" height=\"24px\"viewBox=\"0 0 24 24\"\n",
              "       width=\"24px\">\n",
              "    <path d=\"M0 0h24v24H0V0z\" fill=\"none\"/>\n",
              "    <path d=\"M18.56 5.44l.94 2.06.94-2.06 2.06-.94-2.06-.94-.94-2.06-.94 2.06-2.06.94zm-11 1L8.5 8.5l.94-2.06 2.06-.94-2.06-.94L8.5 2.5l-.94 2.06-2.06.94zm10 10l.94 2.06.94-2.06 2.06-.94-2.06-.94-.94-2.06-.94 2.06-2.06.94z\"/><path d=\"M17.41 7.96l-1.37-1.37c-.4-.4-.92-.59-1.43-.59-.52 0-1.04.2-1.43.59L10.3 9.45l-7.72 7.72c-.78.78-.78 2.05 0 2.83L4 21.41c.39.39.9.59 1.41.59.51 0 1.02-.2 1.41-.59l7.78-7.78 2.81-2.81c.8-.78.8-2.07 0-2.86zM5.41 20L4 18.59l7.72-7.72 1.47 1.35L5.41 20z\"/>\n",
              "  </svg>\n",
              "      </button>\n",
              "      \n",
              "  <style>\n",
              "    .colab-df-container {\n",
              "      display:flex;\n",
              "      flex-wrap:wrap;\n",
              "      gap: 12px;\n",
              "    }\n",
              "\n",
              "    .colab-df-convert {\n",
              "      background-color: #E8F0FE;\n",
              "      border: none;\n",
              "      border-radius: 50%;\n",
              "      cursor: pointer;\n",
              "      display: none;\n",
              "      fill: #1967D2;\n",
              "      height: 32px;\n",
              "      padding: 0 0 0 0;\n",
              "      width: 32px;\n",
              "    }\n",
              "\n",
              "    .colab-df-convert:hover {\n",
              "      background-color: #E2EBFA;\n",
              "      box-shadow: 0px 1px 2px rgba(60, 64, 67, 0.3), 0px 1px 3px 1px rgba(60, 64, 67, 0.15);\n",
              "      fill: #174EA6;\n",
              "    }\n",
              "\n",
              "    [theme=dark] .colab-df-convert {\n",
              "      background-color: #3B4455;\n",
              "      fill: #D2E3FC;\n",
              "    }\n",
              "\n",
              "    [theme=dark] .colab-df-convert:hover {\n",
              "      background-color: #434B5C;\n",
              "      box-shadow: 0px 1px 3px 1px rgba(0, 0, 0, 0.15);\n",
              "      filter: drop-shadow(0px 1px 2px rgba(0, 0, 0, 0.3));\n",
              "      fill: #FFFFFF;\n",
              "    }\n",
              "  </style>\n",
              "\n",
              "      <script>\n",
              "        const buttonEl =\n",
              "          document.querySelector('#df-dfda718b-1409-4954-9081-bcaf801e91b6 button.colab-df-convert');\n",
              "        buttonEl.style.display =\n",
              "          google.colab.kernel.accessAllowed ? 'block' : 'none';\n",
              "\n",
              "        async function convertToInteractive(key) {\n",
              "          const element = document.querySelector('#df-dfda718b-1409-4954-9081-bcaf801e91b6');\n",
              "          const dataTable =\n",
              "            await google.colab.kernel.invokeFunction('convertToInteractive',\n",
              "                                                     [key], {});\n",
              "          if (!dataTable) return;\n",
              "\n",
              "          const docLinkHtml = 'Like what you see? Visit the ' +\n",
              "            '<a target=\"_blank\" href=https://colab.research.google.com/notebooks/data_table.ipynb>data table notebook</a>'\n",
              "            + ' to learn more about interactive tables.';\n",
              "          element.innerHTML = '';\n",
              "          dataTable['output_type'] = 'display_data';\n",
              "          await google.colab.output.renderOutput(dataTable, element);\n",
              "          const docLink = document.createElement('div');\n",
              "          docLink.innerHTML = docLinkHtml;\n",
              "          element.appendChild(docLink);\n",
              "        }\n",
              "      </script>\n",
              "    </div>\n",
              "  </div>\n",
              "  "
            ],
            "text/plain": [
              "                                                                                                                                                                                                                                                                                                                      tweet sentiment_simple\n",
              "30                                                                                                                                                                              @SanteBelgique #BeGov à quand la 4e dose de \"vaccin\" #COVID19 ?\\n\\nFaisons preuve d’anticipation pour une fois ! 😅😂 https://t.co/MAXoYCBAL1         Positive\n",
              "235                                                                                                                                                                                                      T’es un ancien si t’as connu ça.\\n#castex #COVID19 #touchezpasauxenfants #conseildedefense https://t.co/GKKY7pyg3p         Positive\n",
              "97         Nous sommes devenus ce jour en @Mairie10Paris avec 17 blocs de vaccination un des plus + gros centre de #paris qui  accueille 1.700 pers./jour soit 12.000  parisien.nes/sem. 7/7j\\nUn immense 🙏 aux volontaires pour cette superbe organisation \\n#COVID19 #VaccinezVous #COVID19France https://t.co/neUERL50xZ         Positive\n",
              "129                                                         [Presse] Après avoir réactivé sa cellule de crise le 25/11, l’@HNordOuest, le CH de Belleville et l’hôpital de Beaujeu, déclenchent aujourd’hui le niveau 2 du #PlanBlanc pour faire face à une situation de forte tension ➡️ https://t.co/D0hQ8kflzm\\n#COVID19         Positive\n",
              "12                                                                                                                                                                                                                                                      Ah nostalgie quand tu nous tiens 🤣 #COVID19 https://t.co/9eZzezI6fV           Neutre\n",
              "255  #PAYSBAS 🇳🇱 \\n\\nVous dites, efficacité du vaccin? #Veran #Castex #Conseildedefense😅\\nNEXT!\\n\\n➡️ L'ex-reine Beatrix des #PaysBas est positive au #COVID19. \\nElle a déclaré avoir été vaccinée à deux reprises et avoir déjà reçu une dose de rappel. #3emeDose #RT\\n\\nhttps://t.co/6gSYwV6HnQ https://t.co/v6M0SzEohh         Positive\n",
              "31                                                                                                                                                                       Les intoxicateurs sur le podium : #FranceSoir, Sputnik, RT France... Meilleurs alliés du #COVID19 et de l'extrême-droite 😬 https://t.co/h4uWPoBQH7         Positive\n",
              "238                                         ➡#Covid19 : de nouveaux efforts pour sauver #Noel ?\\n\\n🗣️@dupontaignan : \"Il faut plutôt du bon sens, par ex, la gratuité des tests (...) En plein rebond épidémique, laisser des tests payants est une aberration\"\\n\\n📺 #LesMatinsLCI | @EliMartichoux https://t.co/xwdkRaiVWV         Positive\n",
              "201                                                                                        (1/2) Vous pouvez aider vos enfants à avoir une bonne expérience de vaccination contre la #Covid19. Voici des conseils pour apaiser leurs inquiétudes et les vôtres lors du rendez-vous de vaccination : https://t.co/8VJQh2NqNw         Positive\n",
              "265                                                                                                                                                                                           La pandémie n'existe pas, elle a été organisée artificiellement. https://t.co/egX0dIBAAC #pandémie #COVID19 #PaulCraigRoberts         Positive"
            ]
          },
          "metadata": {},
          "execution_count": 525
        }
      ]
    },
    {
      "cell_type": "markdown",
      "source": [
        "> *Simple Sentiment Analyzer* ne donne pas de résultats exacts, et ne fait pas la distinction entre les opinions et les informations factuelles"
      ],
      "metadata": {
        "id": "CHiBLNn2xP0k"
      }
    },
    {
      "cell_type": "markdown",
      "source": [
        "> Nous utiliserons l'analyseur de sentiments *Vader* (Valence Aware Dictionary et sEntiment Reasoner)"
      ],
      "metadata": {
        "id": "ExHZTsTTk4uw"
      }
    },
    {
      "cell_type": "markdown",
      "source": [
        "## *VADER*"
      ],
      "metadata": {
        "id": "UQKTiMSHlHLn"
      }
    },
    {
      "cell_type": "markdown",
      "source": [
        "#### Le *compound score* est la somme des scores positifs, négatifs et neutres, le score est ensuite normalisé entre -1 (négatif le plus extrême) et +1 (positif le plus extrême)"
      ],
      "metadata": {
        "id": "9poj2rWlxP0l"
      }
    },
    {
      "cell_type": "code",
      "source": [
        "SIA = SentimentIntensityAnalyzer()\n",
        "tweets['polarité_vader'] = tweets['tweet_emojis'].apply(lambda text: SIA.polarity_scores(text)['compound']) # compound = agrégé"
      ],
      "metadata": {
        "id": "yvbdvh6ElGkB",
        "execution": {
          "iopub.status.busy": "2022-01-26T14:41:42.097923Z",
          "iopub.execute_input": "2022-01-26T14:41:42.098355Z",
          "iopub.status.idle": "2022-01-26T14:41:49.320191Z",
          "shell.execute_reply.started": "2022-01-26T14:41:42.098313Z",
          "shell.execute_reply": "2022-01-26T14:41:49.319436Z"
        },
        "trusted": true
      },
      "execution_count": 526,
      "outputs": []
    },
    {
      "cell_type": "code",
      "source": [
        "tweets['sentiment_vader'] = tweets['polarité_vader'].apply(lambda x: 'Negative' if x < 0 else ('Neutre' if x == 0 else 'Positive'))"
      ],
      "metadata": {
        "id": "Efcooeeal8ls",
        "execution": {
          "iopub.status.busy": "2022-01-26T14:41:52.158280Z",
          "iopub.execute_input": "2022-01-26T14:41:52.158702Z",
          "iopub.status.idle": "2022-01-26T14:41:52.174425Z",
          "shell.execute_reply.started": "2022-01-26T14:41:52.158668Z",
          "shell.execute_reply": "2022-01-26T14:41:52.173775Z"
        },
        "trusted": true
      },
      "execution_count": 527,
      "outputs": []
    },
    {
      "cell_type": "markdown",
      "source": [
        "> Plus le *compound score* est proche de +1, plus la positivité du texte est élevée"
      ],
      "metadata": {
        "id": "RR8dagDLxP0l"
      }
    },
    {
      "cell_type": "code",
      "source": [
        "tweets[['tweet', 'sentiment_simple', 'sentiment_vader']].sample(10)"
      ],
      "metadata": {
        "id": "35xr7-mgnGrk",
        "outputId": "96fc2438-c3f2-47d9-cd55-f7354d231666",
        "execution": {
          "iopub.status.busy": "2022-01-26T14:43:29.158352Z",
          "iopub.execute_input": "2022-01-26T14:43:29.158593Z",
          "iopub.status.idle": "2022-01-26T14:43:29.171465Z",
          "shell.execute_reply.started": "2022-01-26T14:43:29.158569Z",
          "shell.execute_reply": "2022-01-26T14:43:29.170810Z"
        },
        "trusted": true,
        "colab": {
          "base_uri": "https://localhost:8080/",
          "height": 441
        }
      },
      "execution_count": 528,
      "outputs": [
        {
          "output_type": "execute_result",
          "data": {
            "text/html": [
              "\n",
              "  <div id=\"df-3a475eca-e1e7-47b4-b9fe-d94d747bb8b7\">\n",
              "    <div class=\"colab-df-container\">\n",
              "      <div>\n",
              "<style scoped>\n",
              "    .dataframe tbody tr th:only-of-type {\n",
              "        vertical-align: middle;\n",
              "    }\n",
              "\n",
              "    .dataframe tbody tr th {\n",
              "        vertical-align: top;\n",
              "    }\n",
              "\n",
              "    .dataframe thead th {\n",
              "        text-align: right;\n",
              "    }\n",
              "</style>\n",
              "<table border=\"1\" class=\"dataframe\">\n",
              "  <thead>\n",
              "    <tr style=\"text-align: right;\">\n",
              "      <th></th>\n",
              "      <th>tweet</th>\n",
              "      <th>sentiment_simple</th>\n",
              "      <th>sentiment_vader</th>\n",
              "    </tr>\n",
              "  </thead>\n",
              "  <tbody>\n",
              "    <tr>\n",
              "      <th>285</th>\n",
              "      <td>@lionnelluca06 NORMAL, DANS LE VACCIN CONTRE LA COVID19 IL Y A DES EMBRYONS DE CHIMPANZÉS ET DES OGM GÉNÉTIQUEMENT MODIFIÉS, ET JE VOUS PARLE PAS DU RESTE 😁😁</td>\n",
              "      <td>Positive</td>\n",
              "      <td>Positive</td>\n",
              "    </tr>\n",
              "    <tr>\n",
              "      <th>41</th>\n",
              "      <td>Un bon et joyeux Noël🎄 aux petits Français de 5 à 11 ans qui auront comme cadeau par l’état Français une dose Pfizer !! #PassDeLaHonte #COVID19 #VeranDemission</td>\n",
              "      <td>Positive</td>\n",
              "      <td>Positive</td>\n",
              "    </tr>\n",
              "    <tr>\n",
              "      <th>166</th>\n",
              "      <td>La France... \\nCe pays qui n'a pas de vaccin #COVID19\\nMais qui fait presque 40 #conseildedefense !!\\nC'est beau la Macronie.\\nC'est beau... https://t.co/bpCfLQLxon</td>\n",
              "      <td>Positive</td>\n",
              "      <td>Positive</td>\n",
              "    </tr>\n",
              "    <tr>\n",
              "      <th>155</th>\n",
              "      <td>Fermeture des #discothèques !! Merci monsieur #Castex on va pas m’obliger à aller « en boîte » le soir du 31 !!! 👏👏👏😂😂😂 #COVID19</td>\n",
              "      <td>Positive</td>\n",
              "      <td>Negative</td>\n",
              "    </tr>\n",
              "    <tr>\n",
              "      <th>282</th>\n",
              "      <td>Donc le gouvernement ferme les discothèques mais aucun pass sanitaire, ni rien pour les meetings qui rassemble plusieurs milliers de personnes... bon ok... on va s'en sortir un jour ? #COVID19 #PasseSanitaire</td>\n",
              "      <td>Positive</td>\n",
              "      <td>Positive</td>\n",
              "    </tr>\n",
              "    <tr>\n",
              "      <th>189</th>\n",
              "      <td>\"Il faut sauver Noël, l'été, l'Horeca... mais on oublie le plus important\" \\n@lalibrebe #COVID19\\nhttps://t.co/GjcvDra7k6</td>\n",
              "      <td>Positive</td>\n",
              "      <td>Positive</td>\n",
              "    </tr>\n",
              "    <tr>\n",
              "      <th>227</th>\n",
              "      <td>Il y a 2 semaines, on était plus forts que soit disant l’Allemagne et les pays d’Europe de l’Est, aujourd’hui on a droit aux discours alarmistes ??!!!??? 😳😬#COVID19 https://t.co/73n5lEwxDY</td>\n",
              "      <td>Positive</td>\n",
              "      <td>Negative</td>\n",
              "    </tr>\n",
              "    <tr>\n",
              "      <th>90</th>\n",
              "      <td>[A défaut de #prime] Quelques douceurs pour toute l’équipe médico-soignante… 🍫🍬\\n🗓Calendrier de l’avent créé par une #AideSoignante 😍 @CHUBordeaux \\n\\n#médecine #COVID19 #DIY \\n🔛Join us ==&amp;gt;\\nbienvenueauxsoignants@chu-bordeaux.fr \\n\\n👋🏻 #hôpital #infirmière #VaccinezVous https://t.co/tp6WbCJsLd</td>\n",
              "      <td>Positive</td>\n",
              "      <td>Positive</td>\n",
              "    </tr>\n",
              "    <tr>\n",
              "      <th>164</th>\n",
              "      <td>2/2 - après avoir longuement réfléchi sur les risques d'attraper le Covid19 où accepter la vaccination, mais pour l'emmerder LUI, cet élu de Dieu (et non du peuple). LUI, celui qui SAIT ce qui est bon pour nous. Lui, le protecteur suprême de l'Europe !</td>\n",
              "      <td>Positive</td>\n",
              "      <td>Positive</td>\n",
              "    </tr>\n",
              "    <tr>\n",
              "      <th>43</th>\n",
              "      <td>@+ Les #Twittos et Bon #8janvier2022  - #8janviertousdanslarue  = C'est une boucle temporelle, la boucle sera donc bouclée. 😎🙃Un-Forme-A-Sion (Lumière) #Liberté #Covid19 #Vaccin #PassVaccinal de la honte. #Doctor - #Docteur à la bonne heure.  \\nhttps://t.co/UbnqXJPVxQ</td>\n",
              "      <td>Positive</td>\n",
              "      <td>Positive</td>\n",
              "    </tr>\n",
              "  </tbody>\n",
              "</table>\n",
              "</div>\n",
              "      <button class=\"colab-df-convert\" onclick=\"convertToInteractive('df-3a475eca-e1e7-47b4-b9fe-d94d747bb8b7')\"\n",
              "              title=\"Convert this dataframe to an interactive table.\"\n",
              "              style=\"display:none;\">\n",
              "        \n",
              "  <svg xmlns=\"http://www.w3.org/2000/svg\" height=\"24px\"viewBox=\"0 0 24 24\"\n",
              "       width=\"24px\">\n",
              "    <path d=\"M0 0h24v24H0V0z\" fill=\"none\"/>\n",
              "    <path d=\"M18.56 5.44l.94 2.06.94-2.06 2.06-.94-2.06-.94-.94-2.06-.94 2.06-2.06.94zm-11 1L8.5 8.5l.94-2.06 2.06-.94-2.06-.94L8.5 2.5l-.94 2.06-2.06.94zm10 10l.94 2.06.94-2.06 2.06-.94-2.06-.94-.94-2.06-.94 2.06-2.06.94z\"/><path d=\"M17.41 7.96l-1.37-1.37c-.4-.4-.92-.59-1.43-.59-.52 0-1.04.2-1.43.59L10.3 9.45l-7.72 7.72c-.78.78-.78 2.05 0 2.83L4 21.41c.39.39.9.59 1.41.59.51 0 1.02-.2 1.41-.59l7.78-7.78 2.81-2.81c.8-.78.8-2.07 0-2.86zM5.41 20L4 18.59l7.72-7.72 1.47 1.35L5.41 20z\"/>\n",
              "  </svg>\n",
              "      </button>\n",
              "      \n",
              "  <style>\n",
              "    .colab-df-container {\n",
              "      display:flex;\n",
              "      flex-wrap:wrap;\n",
              "      gap: 12px;\n",
              "    }\n",
              "\n",
              "    .colab-df-convert {\n",
              "      background-color: #E8F0FE;\n",
              "      border: none;\n",
              "      border-radius: 50%;\n",
              "      cursor: pointer;\n",
              "      display: none;\n",
              "      fill: #1967D2;\n",
              "      height: 32px;\n",
              "      padding: 0 0 0 0;\n",
              "      width: 32px;\n",
              "    }\n",
              "\n",
              "    .colab-df-convert:hover {\n",
              "      background-color: #E2EBFA;\n",
              "      box-shadow: 0px 1px 2px rgba(60, 64, 67, 0.3), 0px 1px 3px 1px rgba(60, 64, 67, 0.15);\n",
              "      fill: #174EA6;\n",
              "    }\n",
              "\n",
              "    [theme=dark] .colab-df-convert {\n",
              "      background-color: #3B4455;\n",
              "      fill: #D2E3FC;\n",
              "    }\n",
              "\n",
              "    [theme=dark] .colab-df-convert:hover {\n",
              "      background-color: #434B5C;\n",
              "      box-shadow: 0px 1px 3px 1px rgba(0, 0, 0, 0.15);\n",
              "      filter: drop-shadow(0px 1px 2px rgba(0, 0, 0, 0.3));\n",
              "      fill: #FFFFFF;\n",
              "    }\n",
              "  </style>\n",
              "\n",
              "      <script>\n",
              "        const buttonEl =\n",
              "          document.querySelector('#df-3a475eca-e1e7-47b4-b9fe-d94d747bb8b7 button.colab-df-convert');\n",
              "        buttonEl.style.display =\n",
              "          google.colab.kernel.accessAllowed ? 'block' : 'none';\n",
              "\n",
              "        async function convertToInteractive(key) {\n",
              "          const element = document.querySelector('#df-3a475eca-e1e7-47b4-b9fe-d94d747bb8b7');\n",
              "          const dataTable =\n",
              "            await google.colab.kernel.invokeFunction('convertToInteractive',\n",
              "                                                     [key], {});\n",
              "          if (!dataTable) return;\n",
              "\n",
              "          const docLinkHtml = 'Like what you see? Visit the ' +\n",
              "            '<a target=\"_blank\" href=https://colab.research.google.com/notebooks/data_table.ipynb>data table notebook</a>'\n",
              "            + ' to learn more about interactive tables.';\n",
              "          element.innerHTML = '';\n",
              "          dataTable['output_type'] = 'display_data';\n",
              "          await google.colab.output.renderOutput(dataTable, element);\n",
              "          const docLink = document.createElement('div');\n",
              "          docLink.innerHTML = docLinkHtml;\n",
              "          element.appendChild(docLink);\n",
              "        }\n",
              "      </script>\n",
              "    </div>\n",
              "  </div>\n",
              "  "
            ],
            "text/plain": [
              "                                                                                                                                                                                                                                                                                                         tweet  ... sentiment_vader\n",
              "285                                                                                                                                              @lionnelluca06 NORMAL, DANS LE VACCIN CONTRE LA COVID19 IL Y A DES EMBRYONS DE CHIMPANZÉS ET DES OGM GÉNÉTIQUEMENT MODIFIÉS, ET JE VOUS PARLE PAS DU RESTE 😁😁  ...        Positive\n",
              "41                                                                                                                                             Un bon et joyeux Noël🎄 aux petits Français de 5 à 11 ans qui auront comme cadeau par l’état Français une dose Pfizer !! #PassDeLaHonte #COVID19 #VeranDemission  ...        Positive\n",
              "166                                                                                                                                       La France... \\nCe pays qui n'a pas de vaccin #COVID19\\nMais qui fait presque 40 #conseildedefense !!\\nC'est beau la Macronie.\\nC'est beau... https://t.co/bpCfLQLxon  ...        Positive\n",
              "155                                                                                                                                                                           Fermeture des #discothèques !! Merci monsieur #Castex on va pas m’obliger à aller « en boîte » le soir du 31 !!! 👏👏👏😂😂😂 #COVID19  ...        Negative\n",
              "282                                                                                           Donc le gouvernement ferme les discothèques mais aucun pass sanitaire, ni rien pour les meetings qui rassemble plusieurs milliers de personnes... bon ok... on va s'en sortir un jour ? #COVID19 #PasseSanitaire  ...        Positive\n",
              "189                                                                                                                                                                                  \"Il faut sauver Noël, l'été, l'Horeca... mais on oublie le plus important\" \\n@lalibrebe #COVID19\\nhttps://t.co/GjcvDra7k6  ...        Positive\n",
              "227                                                                                                               Il y a 2 semaines, on était plus forts que soit disant l’Allemagne et les pays d’Europe de l’Est, aujourd’hui on a droit aux discours alarmistes ??!!!??? 😳😬#COVID19 https://t.co/73n5lEwxDY  ...        Negative\n",
              "90   [A défaut de #prime] Quelques douceurs pour toute l’équipe médico-soignante… 🍫🍬\\n🗓Calendrier de l’avent créé par une #AideSoignante 😍 @CHUBordeaux \\n\\n#médecine #COVID19 #DIY \\n🔛Join us ==&gt;\\nbienvenueauxsoignants@chu-bordeaux.fr \\n\\n👋🏻 #hôpital #infirmière #VaccinezVous https://t.co/tp6WbCJsLd  ...        Positive\n",
              "164                                               2/2 - après avoir longuement réfléchi sur les risques d'attraper le Covid19 où accepter la vaccination, mais pour l'emmerder LUI, cet élu de Dieu (et non du peuple). LUI, celui qui SAIT ce qui est bon pour nous. Lui, le protecteur suprême de l'Europe !  ...        Positive\n",
              "43                                @+ Les #Twittos et Bon #8janvier2022  - #8janviertousdanslarue  = C'est une boucle temporelle, la boucle sera donc bouclée. 😎🙃Un-Forme-A-Sion (Lumière) #Liberté #Covid19 #Vaccin #PassVaccinal de la honte. #Doctor - #Docteur à la bonne heure.  \\nhttps://t.co/UbnqXJPVxQ  ...        Positive\n",
              "\n",
              "[10 rows x 3 columns]"
            ]
          },
          "metadata": {},
          "execution_count": 528
        }
      ]
    },
    {
      "cell_type": "code",
      "source": [
        "tweets['sentiment_simple'].hist( bins = 40, color = 'red', alpha = 1)\n",
        "tweets['sentiment_vader'].hist( bins = 40, color = 'tan',  alpha = 0.7)\n",
        "plt.legend([\"Simple analyzer\",\"veder\"])"
      ],
      "metadata": {
        "colab": {
          "base_uri": "https://localhost:8080/",
          "height": 282
        },
        "id": "L_NctNnZNkMg",
        "outputId": "b515efa1-53a5-4bf9-83fa-a5e771a885a1"
      },
      "execution_count": 529,
      "outputs": [
        {
          "output_type": "execute_result",
          "data": {
            "text/plain": [
              "<matplotlib.legend.Legend at 0x7f7c77ac3a50>"
            ]
          },
          "metadata": {},
          "execution_count": 529
        },
        {
          "output_type": "display_data",
          "data": {
            "image/png": "[encoded data removed]",
            "text/plain": [
              "<Figure size 432x288 with 1 Axes>"
            ]
          },
          "metadata": {
            "needs_background": "light"
          }
        }
      ]
    },
    {
      "cell_type": "markdown",
      "source": [
        "> *Vader* donne des résultats plus précis"
      ],
      "metadata": {
        "id": "TJJ_iMmvB-mG"
      }
    },
    {
      "cell_type": "code",
      "source": [
        "tweets.drop(['tweet_emojis', 'polarité_simple', 'sentiment_simple', 'polarité_vader'], axis = 1, inplace = True)\n",
        "tweets.rename(columns = {'sentiment_vader': 'sentiment'}, inplace = True)"
      ],
      "metadata": {
        "id": "B5S58NBRB6Ic",
        "execution": {
          "iopub.status.busy": "2022-01-26T14:43:45.719651Z",
          "iopub.execute_input": "2022-01-26T14:43:45.720371Z",
          "iopub.status.idle": "2022-01-26T14:43:45.729268Z",
          "shell.execute_reply.started": "2022-01-26T14:43:45.720340Z",
          "shell.execute_reply": "2022-01-26T14:43:45.728814Z"
        },
        "trusted": true
      },
      "execution_count": 530,
      "outputs": []
    },
    {
      "cell_type": "code",
      "source": [
        "tweets.sample(10)"
      ],
      "metadata": {
        "id": "dTTps3gRoY2c",
        "outputId": "3b54ec32-0eb2-4c51-92e5-4883884904de",
        "execution": {
          "iopub.status.busy": "2022-01-26T14:44:10.647847Z",
          "iopub.execute_input": "2022-01-26T14:44:10.648297Z",
          "iopub.status.idle": "2022-01-26T14:44:10.657930Z",
          "shell.execute_reply.started": "2022-01-26T14:44:10.648267Z",
          "shell.execute_reply": "2022-01-26T14:44:10.657393Z"
        },
        "trusted": true,
        "colab": {
          "base_uri": "https://localhost:8080/",
          "height": 406
        }
      },
      "execution_count": 531,
      "outputs": [
        {
          "output_type": "execute_result",
          "data": {
            "text/html": [
              "\n",
              "  <div id=\"df-a0b564ce-693f-4aba-85c3-733149bad5cd\">\n",
              "    <div class=\"colab-df-container\">\n",
              "      <div>\n",
              "<style scoped>\n",
              "    .dataframe tbody tr th:only-of-type {\n",
              "        vertical-align: middle;\n",
              "    }\n",
              "\n",
              "    .dataframe tbody tr th {\n",
              "        vertical-align: top;\n",
              "    }\n",
              "\n",
              "    .dataframe thead th {\n",
              "        text-align: right;\n",
              "    }\n",
              "</style>\n",
              "<table border=\"1\" class=\"dataframe\">\n",
              "  <thead>\n",
              "    <tr style=\"text-align: right;\">\n",
              "      <th></th>\n",
              "      <th>tweet</th>\n",
              "      <th>sentiment</th>\n",
              "    </tr>\n",
              "  </thead>\n",
              "  <tbody>\n",
              "    <tr>\n",
              "      <th>58</th>\n",
              "      <td>Monde humaine!!!\\nCe monde ne passera pas !!!\\nA choisir le diable n'a rien à perdre sur un déluge planétaire.\\nVus CoviD19,etc. https://t.co/cINvmboVS9</td>\n",
              "      <td>Negative</td>\n",
              "    </tr>\n",
              "    <tr>\n",
              "      <th>113</th>\n",
              "      <td>Evolution du nb d'hospitalisations #COVID19 le 6 dec par dept.\\n6789 hospi en 7 J +42 %\\n1041  réa en 7J  +39%\\n457 décès en 7J  +51%\\nEncore une très forte hausse  des hospitalisations, réa décès en 1 semaine plutôt dans le sud-est.\\nhttps://t.co/Fg5kFh4F0Y https://t.co/G63fkrvmjw</td>\n",
              "      <td>Positive</td>\n",
              "    </tr>\n",
              "    <tr>\n",
              "      <th>171</th>\n",
              "      <td>C’est pas le 1er, à votre avis pk le gvt est si gentils avec les #RS Le blocage de #Booba montre que dire la vérité est un motif de censure maintenant.#booba #PasseVaccinalDeLaHonte #COVID19 https://t.co/lfppcfibUd https://t.co/P80PeewN1A</td>\n",
              "      <td>Positive</td>\n",
              "    </tr>\n",
              "    <tr>\n",
              "      <th>182</th>\n",
              "      <td>@kmatreyek Quand allez-vous arrêter de collecter des échantillons de virus capables de déclencher une #Pandemie ?\\n\\n#COVID19 #SARS_CoV_2 #SARS_CoV</td>\n",
              "      <td>Negative</td>\n",
              "    </tr>\n",
              "    <tr>\n",
              "      <th>31</th>\n",
              "      <td>Les intoxicateurs sur le podium : #FranceSoir, Sputnik, RT France... Meilleurs alliés du #COVID19 et de l'extrême-droite 😬 https://t.co/h4uWPoBQH7</td>\n",
              "      <td>Positive</td>\n",
              "    </tr>\n",
              "    <tr>\n",
              "      <th>46</th>\n",
              "      <td>Le Gouvernement Macron, en association avec l’équipe du Savant de Marseille, vient d’inventer une solution miracle pour éviter de se contaminer contre le Covid19: « la Bulle sanitaire ».\\n\\nAmi.e.s https://t.co/59XO279bA9 n’hésitez pas à en commander sur « https://t.co/BZudpbaQdw »</td>\n",
              "      <td>Positive</td>\n",
              "    </tr>\n",
              "    <tr>\n",
              "      <th>32</th>\n",
              "      <td>La récompense de cette 3ème dose : l'impression du nouveau pass sanitaire ! 🎉\\n\\n#Vaccin #Vacciné #vaccination #COVID19 #Covid</td>\n",
              "      <td>Positive</td>\n",
              "    </tr>\n",
              "    <tr>\n",
              "      <th>25</th>\n",
              "      <td>Si la rentrée n’est pas repoussée je ss obligé de me rendre au lycée et donner cours à mes élèves en étant cas contact car en tant que contractuel je dois faire bonne figure auprès de ma hiérarchie et ne ps m’absenter pr pouvoir retrouver ce poste et ce lycée l’année pro #COVID19</td>\n",
              "      <td>Positive</td>\n",
              "    </tr>\n",
              "    <tr>\n",
              "      <th>279</th>\n",
              "      <td>Bon ben rien pour les vacances des primaires et les lycéens.... #COVID19 #conseildedefense #Vacances</td>\n",
              "      <td>Positive</td>\n",
              "    </tr>\n",
              "    <tr>\n",
              "      <th>247</th>\n",
              "      <td>Rappel amical, notre foire aux questions #COVID19 pour nos compatriotes au Canada est régulièrement mise à jour.\\nConsultez-la. \\nhttps://t.co/PEh4a1ymkZ\\nSuivez également @FR_Consulaire et @ConseilsVoyages. https://t.co/DOaxlvM8Y8</td>\n",
              "      <td>Neutre</td>\n",
              "    </tr>\n",
              "  </tbody>\n",
              "</table>\n",
              "</div>\n",
              "      <button class=\"colab-df-convert\" onclick=\"convertToInteractive('df-a0b564ce-693f-4aba-85c3-733149bad5cd')\"\n",
              "              title=\"Convert this dataframe to an interactive table.\"\n",
              "              style=\"display:none;\">\n",
              "        \n",
              "  <svg xmlns=\"http://www.w3.org/2000/svg\" height=\"24px\"viewBox=\"0 0 24 24\"\n",
              "       width=\"24px\">\n",
              "    <path d=\"M0 0h24v24H0V0z\" fill=\"none\"/>\n",
              "    <path d=\"M18.56 5.44l.94 2.06.94-2.06 2.06-.94-2.06-.94-.94-2.06-.94 2.06-2.06.94zm-11 1L8.5 8.5l.94-2.06 2.06-.94-2.06-.94L8.5 2.5l-.94 2.06-2.06.94zm10 10l.94 2.06.94-2.06 2.06-.94-2.06-.94-.94-2.06-.94 2.06-2.06.94z\"/><path d=\"M17.41 7.96l-1.37-1.37c-.4-.4-.92-.59-1.43-.59-.52 0-1.04.2-1.43.59L10.3 9.45l-7.72 7.72c-.78.78-.78 2.05 0 2.83L4 21.41c.39.39.9.59 1.41.59.51 0 1.02-.2 1.41-.59l7.78-7.78 2.81-2.81c.8-.78.8-2.07 0-2.86zM5.41 20L4 18.59l7.72-7.72 1.47 1.35L5.41 20z\"/>\n",
              "  </svg>\n",
              "      </button>\n",
              "      \n",
              "  <style>\n",
              "    .colab-df-container {\n",
              "      display:flex;\n",
              "      flex-wrap:wrap;\n",
              "      gap: 12px;\n",
              "    }\n",
              "\n",
              "    .colab-df-convert {\n",
              "      background-color: #E8F0FE;\n",
              "      border: none;\n",
              "      border-radius: 50%;\n",
              "      cursor: pointer;\n",
              "      display: none;\n",
              "      fill: #1967D2;\n",
              "      height: 32px;\n",
              "      padding: 0 0 0 0;\n",
              "      width: 32px;\n",
              "    }\n",
              "\n",
              "    .colab-df-convert:hover {\n",
              "      background-color: #E2EBFA;\n",
              "      box-shadow: 0px 1px 2px rgba(60, 64, 67, 0.3), 0px 1px 3px 1px rgba(60, 64, 67, 0.15);\n",
              "      fill: #174EA6;\n",
              "    }\n",
              "\n",
              "    [theme=dark] .colab-df-convert {\n",
              "      background-color: #3B4455;\n",
              "      fill: #D2E3FC;\n",
              "    }\n",
              "\n",
              "    [theme=dark] .colab-df-convert:hover {\n",
              "      background-color: #434B5C;\n",
              "      box-shadow: 0px 1px 3px 1px rgba(0, 0, 0, 0.15);\n",
              "      filter: drop-shadow(0px 1px 2px rgba(0, 0, 0, 0.3));\n",
              "      fill: #FFFFFF;\n",
              "    }\n",
              "  </style>\n",
              "\n",
              "      <script>\n",
              "        const buttonEl =\n",
              "          document.querySelector('#df-a0b564ce-693f-4aba-85c3-733149bad5cd button.colab-df-convert');\n",
              "        buttonEl.style.display =\n",
              "          google.colab.kernel.accessAllowed ? 'block' : 'none';\n",
              "\n",
              "        async function convertToInteractive(key) {\n",
              "          const element = document.querySelector('#df-a0b564ce-693f-4aba-85c3-733149bad5cd');\n",
              "          const dataTable =\n",
              "            await google.colab.kernel.invokeFunction('convertToInteractive',\n",
              "                                                     [key], {});\n",
              "          if (!dataTable) return;\n",
              "\n",
              "          const docLinkHtml = 'Like what you see? Visit the ' +\n",
              "            '<a target=\"_blank\" href=https://colab.research.google.com/notebooks/data_table.ipynb>data table notebook</a>'\n",
              "            + ' to learn more about interactive tables.';\n",
              "          element.innerHTML = '';\n",
              "          dataTable['output_type'] = 'display_data';\n",
              "          await google.colab.output.renderOutput(dataTable, element);\n",
              "          const docLink = document.createElement('div');\n",
              "          docLink.innerHTML = docLinkHtml;\n",
              "          element.appendChild(docLink);\n",
              "        }\n",
              "      </script>\n",
              "    </div>\n",
              "  </div>\n",
              "  "
            ],
            "text/plain": [
              "                                                                                                                                                                                                                                                                                          tweet sentiment\n",
              "58                                                                                                                                     Monde humaine!!!\\nCe monde ne passera pas !!!\\nA choisir le diable n'a rien à perdre sur un déluge planétaire.\\nVus CoviD19,etc. https://t.co/cINvmboVS9  Negative\n",
              "113  Evolution du nb d'hospitalisations #COVID19 le 6 dec par dept.\\n6789 hospi en 7 J +42 %\\n1041  réa en 7J  +39%\\n457 décès en 7J  +51%\\nEncore une très forte hausse  des hospitalisations, réa décès en 1 semaine plutôt dans le sud-est.\\nhttps://t.co/Fg5kFh4F0Y https://t.co/G63fkrvmjw  Positive\n",
              "171                                              C’est pas le 1er, à votre avis pk le gvt est si gentils avec les #RS Le blocage de #Booba montre que dire la vérité est un motif de censure maintenant.#booba #PasseVaccinalDeLaHonte #COVID19 https://t.co/lfppcfibUd https://t.co/P80PeewN1A  Positive\n",
              "182                                                                                                                                         @kmatreyek Quand allez-vous arrêter de collecter des échantillons de virus capables de déclencher une #Pandemie ?\\n\\n#COVID19 #SARS_CoV_2 #SARS_CoV  Negative\n",
              "31                                                                                                                                           Les intoxicateurs sur le podium : #FranceSoir, Sputnik, RT France... Meilleurs alliés du #COVID19 et de l'extrême-droite 😬 https://t.co/h4uWPoBQH7  Positive\n",
              "46   Le Gouvernement Macron, en association avec l’équipe du Savant de Marseille, vient d’inventer une solution miracle pour éviter de se contaminer contre le Covid19: « la Bulle sanitaire ».\\n\\nAmi.e.s https://t.co/59XO279bA9 n’hésitez pas à en commander sur « https://t.co/BZudpbaQdw »  Positive\n",
              "32                                                                                                                                                               La récompense de cette 3ème dose : l'impression du nouveau pass sanitaire ! 🎉\\n\\n#Vaccin #Vacciné #vaccination #COVID19 #Covid  Positive\n",
              "25     Si la rentrée n’est pas repoussée je ss obligé de me rendre au lycée et donner cours à mes élèves en étant cas contact car en tant que contractuel je dois faire bonne figure auprès de ma hiérarchie et ne ps m’absenter pr pouvoir retrouver ce poste et ce lycée l’année pro #COVID19  Positive\n",
              "279                                                                                                                                                                                        Bon ben rien pour les vacances des primaires et les lycéens.... #COVID19 #conseildedefense #Vacances  Positive\n",
              "247                                                     Rappel amical, notre foire aux questions #COVID19 pour nos compatriotes au Canada est régulièrement mise à jour.\\nConsultez-la. \\nhttps://t.co/PEh4a1ymkZ\\nSuivez également @FR_Consulaire et @ConseilsVoyages. https://t.co/DOaxlvM8Y8    Neutre"
            ]
          },
          "metadata": {},
          "execution_count": 531
        }
      ]
    },
    {
      "cell_type": "code",
      "source": [
        "tweets['sentiment'].value_counts().plot.bar()"
      ],
      "metadata": {
        "id": "1DzN6uLustJx",
        "outputId": "c22b4a91-15a1-40fd-e9bf-f18bb18800ee",
        "execution": {
          "iopub.status.busy": "2022-01-26T14:46:51.004040Z",
          "iopub.execute_input": "2022-01-26T14:46:51.004362Z",
          "iopub.status.idle": "2022-01-26T14:46:51.572526Z",
          "shell.execute_reply.started": "2022-01-26T14:46:51.004325Z",
          "shell.execute_reply": "2022-01-26T14:46:51.571797Z"
        },
        "trusted": true,
        "colab": {
          "base_uri": "https://localhost:8080/",
          "height": 318
        }
      },
      "execution_count": 532,
      "outputs": [
        {
          "output_type": "execute_result",
          "data": {
            "text/plain": [
              "<matplotlib.axes._subplots.AxesSubplot at 0x7f7c716646d0>"
            ]
          },
          "metadata": {},
          "execution_count": 532
        },
        {
          "output_type": "display_data",
          "data": {
            "image/png": "[encoded data removed]",
            "text/plain": [
              "<Figure size 432x288 with 1 Axes>"
            ]
          },
          "metadata": {
            "needs_background": "light"
          }
        }
      ]
    },
    {
      "cell_type": "markdown",
      "source": [
        "> En moyenne, l'opinion des francophones sur la situation covid est positive"
      ],
      "metadata": {
        "id": "JmfvqRUSxP0m"
      }
    },
    {
      "cell_type": "markdown",
      "source": [
        "## Exportation des tweets avec les sentiments que nous avons obtenus"
      ],
      "metadata": {
        "id": "dcpGoskfe8H6"
      }
    },
    {
      "cell_type": "code",
      "source": [
        "! pip install -q -U openpyxl\n",
        "tweets.to_excel(export_dir + 'tweets_sentiment_data.xlsx', index = False)"
      ],
      "metadata": {
        "id": "uH13d2usxNy5",
        "_kg_hide-output": true,
        "trusted": true
      },
      "execution_count": 533,
      "outputs": []
    },
    {
      "cell_type": "markdown",
      "source": [
        "# Prétraitement"
      ],
      "metadata": {
        "id": "8i2UQYt2TXeC"
      }
    },
    {
      "cell_type": "markdown",
      "source": [
        "## Chargement des *Stop-words*"
      ],
      "metadata": {
        "id": "QMy4aE-2TjNw"
      }
    },
    {
      "cell_type": "markdown",
      "source": [
        "#### Chargement des *Stop-words* français"
      ],
      "metadata": {
        "id": "Gu7spiU7xBNI"
      }
    },
    {
      "cell_type": "code",
      "source": [
        "stopwords = nltk.corpus.stopwords.words('french')\n",
        "len(stopwords)"
      ],
      "metadata": {
        "id": "E-2W0kw0tyPq",
        "outputId": "00edaa1f-a0f6-4d05-9a93-5bac517fd520",
        "execution": {
          "iopub.status.busy": "2022-01-26T14:48:23.637188Z",
          "iopub.execute_input": "2022-01-26T14:48:23.637442Z",
          "iopub.status.idle": "2022-01-26T14:48:23.646405Z",
          "shell.execute_reply.started": "2022-01-26T14:48:23.637414Z",
          "shell.execute_reply": "2022-01-26T14:48:23.645560Z"
        },
        "trusted": true,
        "colab": {
          "base_uri": "https://localhost:8080/"
        }
      },
      "execution_count": 534,
      "outputs": [
        {
          "output_type": "execute_result",
          "data": {
            "text/plain": [
              "157"
            ]
          },
          "metadata": {},
          "execution_count": 534
        }
      ]
    },
    {
      "cell_type": "code",
      "source": [
        "stopwords = fr_stop.STOP_WORDS\n",
        "len(stopwords)"
      ],
      "metadata": {
        "execution": {
          "iopub.status.busy": "2022-01-26T14:48:27.269576Z",
          "iopub.execute_input": "2022-01-26T14:48:27.269875Z",
          "iopub.status.idle": "2022-01-26T14:48:27.275423Z",
          "shell.execute_reply.started": "2022-01-26T14:48:27.269843Z",
          "shell.execute_reply": "2022-01-26T14:48:27.274768Z"
        },
        "trusted": true,
        "colab": {
          "base_uri": "https://localhost:8080/"
        },
        "id": "JDUvZclOxP0n",
        "outputId": "de6c4875-df18-42f3-b754-84de2d8d9db6"
      },
      "execution_count": 535,
      "outputs": [
        {
          "output_type": "execute_result",
          "data": {
            "text/plain": [
              "507"
            ]
          },
          "metadata": {},
          "execution_count": 535
        }
      ]
    },
    {
      "cell_type": "markdown",
      "source": [
        "#### Étant donné que les *Stop-words* de NLTK ne sont pas nombreux, nous allons les importer d'une source différente"
      ],
      "metadata": {
        "id": "gmcQw7vUTuO9"
      }
    },
    {
      "cell_type": "code",
      "source": [
        "stopwords = stopwordsiso.stopwords(\"fr\")\n",
        "len(stopwords)"
      ],
      "metadata": {
        "id": "zhOl0tdSBmWO",
        "outputId": "93bfe1fd-5743-478e-8d96-84e6069ef83b",
        "execution": {
          "iopub.status.busy": "2022-01-26T14:48:50.094376Z",
          "iopub.execute_input": "2022-01-26T14:48:50.094644Z",
          "iopub.status.idle": "2022-01-26T14:48:50.099694Z",
          "shell.execute_reply.started": "2022-01-26T14:48:50.094616Z",
          "shell.execute_reply": "2022-01-26T14:48:50.099108Z"
        },
        "trusted": true,
        "colab": {
          "base_uri": "https://localhost:8080/"
        }
      },
      "execution_count": 536,
      "outputs": [
        {
          "output_type": "execute_result",
          "data": {
            "text/plain": [
              "691"
            ]
          },
          "metadata": {},
          "execution_count": 536
        }
      ]
    },
    {
      "cell_type": "markdown",
      "source": [
        "#### Nous pouvons ajouter d'autres *Stop-words*"
      ],
      "metadata": {
        "id": "Kbx8XHgDxP0n"
      }
    },
    {
      "cell_type": "code",
      "source": [
        "stopwords.update({'janvier', 'février', 'mars', 'avril', 'mai', 'juin', 'juillet', 'août', 'septembre', 'octobre', 'novembre', 'décembre'})\n",
        "stopwords.update({'lundi', 'mardi', 'mercredi', 'jeudi', 'vendredi', 'samedi', 'dimanche'})\n",
        "stopwords.update({'aaaaah', 'aaaah'})"
      ],
      "metadata": {
        "execution": {
          "iopub.status.busy": "2022-01-26T15:01:54.019382Z",
          "iopub.execute_input": "2022-01-26T15:01:54.019671Z",
          "iopub.status.idle": "2022-01-26T15:01:54.026588Z",
          "shell.execute_reply.started": "2022-01-26T15:01:54.019642Z",
          "shell.execute_reply": "2022-01-26T15:01:54.025788Z"
        },
        "trusted": true,
        "id": "3812DfU-xP0n"
      },
      "execution_count": 537,
      "outputs": []
    },
    {
      "cell_type": "markdown",
      "source": [
        "## Suppression des noms personnels"
      ],
      "metadata": {
        "id": "BCHwFrl-JA-n"
      }
    },
    {
      "cell_type": "code",
      "source": [
        "names = []\n",
        "table = pd.read_table('https://www.usna.edu/Users/cs/roche/courses/s15si335/proj1/files.php%3Ff=names.txt&downloadcode=yes', header = None)\n",
        "names.extend([name.lower() for _ in table.values.tolist() for name in _])\n",
        "names = set(names)"
      ],
      "metadata": {
        "id": "rvhy2ZpFJFJm",
        "execution": {
          "iopub.status.busy": "2022-01-26T15:01:58.029578Z",
          "iopub.execute_input": "2022-01-26T15:01:58.029898Z",
          "iopub.status.idle": "2022-01-26T15:01:58.480736Z",
          "shell.execute_reply.started": "2022-01-26T15:01:58.029864Z",
          "shell.execute_reply": "2022-01-26T15:01:58.479719Z"
        },
        "trusted": true
      },
      "execution_count": 538,
      "outputs": []
    },
    {
      "cell_type": "markdown",
      "source": [
        "## Correcteur d'orthographe"
      ],
      "metadata": {
        "id": "P5ziasncJKI3"
      }
    },
    {
      "cell_type": "code",
      "source": [
        "spell = SpellChecker(language = 'fr')\n",
        "spell.word_frequency.load_words(['covid']) # autoriser d'autres mots non français"
      ],
      "metadata": {
        "id": "kcRSRNGZJNQP",
        "execution": {
          "iopub.status.busy": "2022-01-26T15:02:00.776777Z",
          "iopub.execute_input": "2022-01-26T15:02:00.777026Z",
          "iopub.status.idle": "2022-01-26T15:02:00.909865Z",
          "shell.execute_reply.started": "2022-01-26T15:02:00.776998Z",
          "shell.execute_reply": "2022-01-26T15:02:00.909158Z"
        },
        "trusted": true
      },
      "execution_count": 539,
      "outputs": []
    },
    {
      "cell_type": "markdown",
      "source": [
        "## French Lemmatizer"
      ],
      "metadata": {
        "id": "PIY8Pz1CJYOO"
      }
    },
    {
      "cell_type": "code",
      "source": [
        "lemmatizer = FrenchLefffLemmatizer()"
      ],
      "metadata": {
        "id": "3QFBEsaBJZ4u",
        "execution": {
          "iopub.status.busy": "2022-01-26T15:02:03.394306Z",
          "iopub.execute_input": "2022-01-26T15:02:03.395617Z",
          "iopub.status.idle": "2022-01-26T15:02:05.433935Z",
          "shell.execute_reply.started": "2022-01-26T15:02:03.395551Z",
          "shell.execute_reply": "2022-01-26T15:02:05.433113Z"
        },
        "trusted": true
      },
      "execution_count": 540,
      "outputs": []
    },
    {
      "cell_type": "markdown",
      "source": [
        "## French Stemmer"
      ],
      "metadata": {
        "id": "LWnLsAxcJdpV"
      }
    },
    {
      "cell_type": "code",
      "source": [
        "stemmer = SnowballStemmer('french')"
      ],
      "metadata": {
        "id": "7nLJkyVZJfa4",
        "execution": {
          "iopub.status.busy": "2022-01-26T15:02:10.479842Z",
          "iopub.execute_input": "2022-01-26T15:02:10.480378Z",
          "iopub.status.idle": "2022-01-26T15:02:10.483650Z",
          "shell.execute_reply.started": "2022-01-26T15:02:10.480352Z",
          "shell.execute_reply": "2022-01-26T15:02:10.482955Z"
        },
        "trusted": true
      },
      "execution_count": 541,
      "outputs": []
    },
    {
      "cell_type": "markdown",
      "source": [
        "## Nettoyage"
      ],
      "metadata": {
        "id": "O4TyMRJixgEK"
      }
    },
    {
      "cell_type": "markdown",
      "source": [
        "- Suppression des identifiants Twitter (@user)\n",
        "- Suppression des URLs du texte\n",
        "- Suppression des hashtags\n",
        "- Suppression des ponctuations, des chiffres et des caractères spéciaux\n",
        "- Suppression des émojis\n",
        "- Suppression des mots de longueur <= 3\n",
        "- Suppression des *Stop-words*\n",
        "- Supprimer des noms de personnels\n",
        "- Filtrer les mots français\n",
        "- Correction d'orthographe\n",
        "- Lemmatisation\n",
        "- Stemming"
      ],
      "metadata": {
        "id": "7g5g78NIxP0o"
      }
    },
    {
      "cell_type": "code",
      "source": [
        "def nettoyage(text):\n",
        "  global stopwords\n",
        "  global names\n",
        "  global spell\n",
        "  global lemmatizer\n",
        "  global stemmer\n",
        "\n",
        "  text = re.sub(r'@[\\w]*', '', text)\n",
        "  text = re.sub(r'http\\S+', '', text)\n",
        "  text = re.sub(r'#[\\w]*', '', text)\n",
        "  text = re.sub(r'[^A-Za-z#çéâêîôûàèìòùëïü\\-]', ' ', text)\n",
        "  text = [word for word in word_tokenize(text.lower()) if word not in stopwords and len(word) > 3]\n",
        "  text = [word for word in text if word not in names]\n",
        "  text = [word for word in text if word not in spell.unknown(text)]\n",
        "  text = [spell.correction(word) for word in text]\n",
        "  text = [lemmatizer.lemmatize(word, 'n') for word in text]\n",
        "  text = [stemmer.stem(word) for word in text]\n",
        "\n",
        "  return \" \".join(text)"
      ],
      "metadata": {
        "id": "9zGcltiRIJ6v",
        "execution": {
          "iopub.status.busy": "2022-01-26T15:15:58.389021Z",
          "iopub.execute_input": "2022-01-26T15:15:58.389380Z",
          "iopub.status.idle": "2022-01-26T15:15:58.396524Z",
          "shell.execute_reply.started": "2022-01-26T15:15:58.389352Z",
          "shell.execute_reply": "2022-01-26T15:15:58.395757Z"
        },
        "trusted": true
      },
      "execution_count": 542,
      "outputs": []
    },
    {
      "cell_type": "code",
      "source": [
        "tweets['processed_tweet'] = tweets['tweet'].apply(lambda tweet: nettoyage(tweet))"
      ],
      "metadata": {
        "id": "LKqG4YjnJv8I",
        "execution": {
          "iopub.status.busy": "2022-01-26T15:16:02.003119Z",
          "iopub.execute_input": "2022-01-26T15:16:02.003386Z",
          "iopub.status.idle": "2022-01-26T15:16:13.784970Z",
          "shell.execute_reply.started": "2022-01-26T15:16:02.003359Z",
          "shell.execute_reply": "2022-01-26T15:16:13.784164Z"
        },
        "trusted": true
      },
      "execution_count": 543,
      "outputs": []
    },
    {
      "cell_type": "code",
      "source": [
        "tweets.sample(10)"
      ],
      "metadata": {
        "id": "mRJgC5PnFn-l",
        "outputId": "e9319cd1-f5be-4461-e6e5-5edc6215002b",
        "execution": {
          "iopub.status.busy": "2022-01-26T15:17:38.859685Z",
          "iopub.execute_input": "2022-01-26T15:17:38.860434Z",
          "iopub.status.idle": "2022-01-26T15:17:38.870605Z",
          "shell.execute_reply.started": "2022-01-26T15:17:38.860360Z",
          "shell.execute_reply": "2022-01-26T15:17:38.870098Z"
        },
        "trusted": true,
        "colab": {
          "base_uri": "https://localhost:8080/",
          "height": 476
        }
      },
      "execution_count": 544,
      "outputs": [
        {
          "output_type": "execute_result",
          "data": {
            "text/html": [
              "\n",
              "  <div id=\"df-d3f166a8-46c0-4516-a81c-e82ba341c64c\">\n",
              "    <div class=\"colab-df-container\">\n",
              "      <div>\n",
              "<style scoped>\n",
              "    .dataframe tbody tr th:only-of-type {\n",
              "        vertical-align: middle;\n",
              "    }\n",
              "\n",
              "    .dataframe tbody tr th {\n",
              "        vertical-align: top;\n",
              "    }\n",
              "\n",
              "    .dataframe thead th {\n",
              "        text-align: right;\n",
              "    }\n",
              "</style>\n",
              "<table border=\"1\" class=\"dataframe\">\n",
              "  <thead>\n",
              "    <tr style=\"text-align: right;\">\n",
              "      <th></th>\n",
              "      <th>tweet</th>\n",
              "      <th>sentiment</th>\n",
              "      <th>processed_tweet</th>\n",
              "    </tr>\n",
              "  </thead>\n",
              "  <tbody>\n",
              "    <tr>\n",
              "      <th>84</th>\n",
              "      <td>#COVID19 \"Un nouveau traitement est sur le point d'arriver. Il est commercialisé par le laboratoire Pfizer et sera destiné uniquement aux personnes à forts risques\" @olivierveran #PasseVaccinal #Vaccin https://t.co/bdb2BCdTJx</td>\n",
              "      <td>Negative</td>\n",
              "      <td>trait point arriv commercialis laboratoir destin uniqu fort risqu</td>\n",
              "    </tr>\n",
              "    <tr>\n",
              "      <th>129</th>\n",
              "      <td>[Presse] Après avoir réactivé sa cellule de crise le 25/11, l’@HNordOuest, le CH de Belleville et l’hôpital de Beaujeu, déclenchent aujourd’hui le niveau 2 du #PlanBlanc pour faire face à une situation de forte tension ➡️ https://t.co/D0hQ8kflzm\\n#COVID19</td>\n",
              "      <td>Negative</td>\n",
              "      <td>press réactiv cellul cris hôpital déclenchent niveau fair fac situat fort tension</td>\n",
              "    </tr>\n",
              "    <tr>\n",
              "      <th>154</th>\n",
              "      <td>Magnifique documentaire pour comprendre l’escroquerie du #COVID19 #8janviertousdanslarue \\n#passvaccinnal https://t.co/fGpgL8t9RF</td>\n",
              "      <td>Positive</td>\n",
              "      <td>magnif documentair comprendr escroquer</td>\n",
              "    </tr>\n",
              "    <tr>\n",
              "      <th>215</th>\n",
              "      <td>Clair, intelligent, précis bravo Mme 👌👏 #passvaccinal #COVID19 https://t.co/AWwaYEfmuS</td>\n",
              "      <td>Positive</td>\n",
              "      <td>intelligent prec</td>\n",
              "    </tr>\n",
              "    <tr>\n",
              "      <th>136</th>\n",
              "      <td>@gkierzek Excellent... c'est dire l'ampleur de ka confusion populaire face au défilé des spécialistes du covid19.</td>\n",
              "      <td>Positive</td>\n",
              "      <td>excellent ampleur confus populair fac défil spécial covid</td>\n",
              "    </tr>\n",
              "    <tr>\n",
              "      <th>159</th>\n",
              "      <td>Posez vous les bonnes questions, il en va de votre avenir ! #COVID19 https://t.co/y2kiGAbi4L</td>\n",
              "      <td>Positive</td>\n",
              "      <td>pos bon question aven</td>\n",
              "    </tr>\n",
              "    <tr>\n",
              "      <th>87</th>\n",
              "      <td>#COVID19 bon; regarder Castex (après avoir mis sont chir dans poche et faire des grimaces) expliquer \"gnagn nous on confine pas comme les pays, gnagn les vax!, ce qui compte c'est les capacité hospit...tout est mild!\"; c'est comme regarder un clown faire de la physique quantique</td>\n",
              "      <td>Positive</td>\n",
              "      <td>regard chir poch fair grimac expliqu confin pay compt capac regard clown fair physiqu quantiqu</td>\n",
              "    </tr>\n",
              "    <tr>\n",
              "      <th>134</th>\n",
              "      <td>Une bonne façon de faire le ménage sans payer !!! #covid19 #VaccinationObligatoire\\nÇa va devenir la nouvelle méthode de licenciement pour 2022 !!! https://t.co/q1Jud2XYuI</td>\n",
              "      <td>Positive</td>\n",
              "      <td>bon fair ménag pai deven nouvel méthod licenci</td>\n",
              "    </tr>\n",
              "    <tr>\n",
              "      <th>239</th>\n",
              "      <td>Est-ce que des medias vont parler de la hausse des hospitalisations #COVID19 des enfants ?!\\n\\nOu doit-on se résoudre à laisser nos enfants au bon vouloir du #ProtocoleTousInfectes ?!\\n\\n@AnneLeGall_ @FrancoisBeguin @AnissaBmd @boylandry @sandrine_cabut @EmmanuelleLuca1 @MarcGozlan @ https://t.co/3RI0JxuPfn</td>\n",
              "      <td>Positive</td>\n",
              "      <td>medi hauss hospitalis enfant résoudr enfant vouloir</td>\n",
              "    </tr>\n",
              "    <tr>\n",
              "      <th>243</th>\n",
              "      <td>#COVID19 : le #masque #FFP2 plus efficace que le masque chirurgical ?\\nVia @LePoint https://t.co/bIk9TUby2N</td>\n",
              "      <td>Negative</td>\n",
              "      <td>efficac masqu chirurgical</td>\n",
              "    </tr>\n",
              "  </tbody>\n",
              "</table>\n",
              "</div>\n",
              "      <button class=\"colab-df-convert\" onclick=\"convertToInteractive('df-d3f166a8-46c0-4516-a81c-e82ba341c64c')\"\n",
              "              title=\"Convert this dataframe to an interactive table.\"\n",
              "              style=\"display:none;\">\n",
              "        \n",
              "  <svg xmlns=\"http://www.w3.org/2000/svg\" height=\"24px\"viewBox=\"0 0 24 24\"\n",
              "       width=\"24px\">\n",
              "    <path d=\"M0 0h24v24H0V0z\" fill=\"none\"/>\n",
              "    <path d=\"M18.56 5.44l.94 2.06.94-2.06 2.06-.94-2.06-.94-.94-2.06-.94 2.06-2.06.94zm-11 1L8.5 8.5l.94-2.06 2.06-.94-2.06-.94L8.5 2.5l-.94 2.06-2.06.94zm10 10l.94 2.06.94-2.06 2.06-.94-2.06-.94-.94-2.06-.94 2.06-2.06.94z\"/><path d=\"M17.41 7.96l-1.37-1.37c-.4-.4-.92-.59-1.43-.59-.52 0-1.04.2-1.43.59L10.3 9.45l-7.72 7.72c-.78.78-.78 2.05 0 2.83L4 21.41c.39.39.9.59 1.41.59.51 0 1.02-.2 1.41-.59l7.78-7.78 2.81-2.81c.8-.78.8-2.07 0-2.86zM5.41 20L4 18.59l7.72-7.72 1.47 1.35L5.41 20z\"/>\n",
              "  </svg>\n",
              "      </button>\n",
              "      \n",
              "  <style>\n",
              "    .colab-df-container {\n",
              "      display:flex;\n",
              "      flex-wrap:wrap;\n",
              "      gap: 12px;\n",
              "    }\n",
              "\n",
              "    .colab-df-convert {\n",
              "      background-color: #E8F0FE;\n",
              "      border: none;\n",
              "      border-radius: 50%;\n",
              "      cursor: pointer;\n",
              "      display: none;\n",
              "      fill: #1967D2;\n",
              "      height: 32px;\n",
              "      padding: 0 0 0 0;\n",
              "      width: 32px;\n",
              "    }\n",
              "\n",
              "    .colab-df-convert:hover {\n",
              "      background-color: #E2EBFA;\n",
              "      box-shadow: 0px 1px 2px rgba(60, 64, 67, 0.3), 0px 1px 3px 1px rgba(60, 64, 67, 0.15);\n",
              "      fill: #174EA6;\n",
              "    }\n",
              "\n",
              "    [theme=dark] .colab-df-convert {\n",
              "      background-color: #3B4455;\n",
              "      fill: #D2E3FC;\n",
              "    }\n",
              "\n",
              "    [theme=dark] .colab-df-convert:hover {\n",
              "      background-color: #434B5C;\n",
              "      box-shadow: 0px 1px 3px 1px rgba(0, 0, 0, 0.15);\n",
              "      filter: drop-shadow(0px 1px 2px rgba(0, 0, 0, 0.3));\n",
              "      fill: #FFFFFF;\n",
              "    }\n",
              "  </style>\n",
              "\n",
              "      <script>\n",
              "        const buttonEl =\n",
              "          document.querySelector('#df-d3f166a8-46c0-4516-a81c-e82ba341c64c button.colab-df-convert');\n",
              "        buttonEl.style.display =\n",
              "          google.colab.kernel.accessAllowed ? 'block' : 'none';\n",
              "\n",
              "        async function convertToInteractive(key) {\n",
              "          const element = document.querySelector('#df-d3f166a8-46c0-4516-a81c-e82ba341c64c');\n",
              "          const dataTable =\n",
              "            await google.colab.kernel.invokeFunction('convertToInteractive',\n",
              "                                                     [key], {});\n",
              "          if (!dataTable) return;\n",
              "\n",
              "          const docLinkHtml = 'Like what you see? Visit the ' +\n",
              "            '<a target=\"_blank\" href=https://colab.research.google.com/notebooks/data_table.ipynb>data table notebook</a>'\n",
              "            + ' to learn more about interactive tables.';\n",
              "          element.innerHTML = '';\n",
              "          dataTable['output_type'] = 'display_data';\n",
              "          await google.colab.output.renderOutput(dataTable, element);\n",
              "          const docLink = document.createElement('div');\n",
              "          docLink.innerHTML = docLinkHtml;\n",
              "          element.appendChild(docLink);\n",
              "        }\n",
              "      </script>\n",
              "    </div>\n",
              "  </div>\n",
              "  "
            ],
            "text/plain": [
              "                                                                                                                                                                                                                                                                                                                    tweet  ...                                                                                 processed_tweet\n",
              "84                                                                                      #COVID19 \"Un nouveau traitement est sur le point d'arriver. Il est commercialisé par le laboratoire Pfizer et sera destiné uniquement aux personnes à forts risques\" @olivierveran #PasseVaccinal #Vaccin https://t.co/bdb2BCdTJx  ...                               trait point arriv commercialis laboratoir destin uniqu fort risqu\n",
              "129                                                       [Presse] Après avoir réactivé sa cellule de crise le 25/11, l’@HNordOuest, le CH de Belleville et l’hôpital de Beaujeu, déclenchent aujourd’hui le niveau 2 du #PlanBlanc pour faire face à une situation de forte tension ➡️ https://t.co/D0hQ8kflzm\\n#COVID19  ...               press réactiv cellul cris hôpital déclenchent niveau fair fac situat fort tension\n",
              "154                                                                                                                                                                                     Magnifique documentaire pour comprendre l’escroquerie du #COVID19 #8janviertousdanslarue \\n#passvaccinnal https://t.co/fGpgL8t9RF  ...                                                          magnif documentair comprendr escroquer\n",
              "215                                                                                                                                                                                                                                Clair, intelligent, précis bravo Mme 👌👏 #passvaccinal #COVID19 https://t.co/AWwaYEfmuS  ...                                                                                intelligent prec\n",
              "136                                                                                                                                                                                                     @gkierzek Excellent... c'est dire l'ampleur de ka confusion populaire face au défilé des spécialistes du covid19.  ...                                       excellent ampleur confus populair fac défil spécial covid\n",
              "159                                                                                                                                                                                                                          Posez vous les bonnes questions, il en va de votre avenir ! #COVID19 https://t.co/y2kiGAbi4L  ...                                                                           pos bon question aven\n",
              "87                                #COVID19 bon; regarder Castex (après avoir mis sont chir dans poche et faire des grimaces) expliquer \"gnagn nous on confine pas comme les pays, gnagn les vax!, ce qui compte c'est les capacité hospit...tout est mild!\"; c'est comme regarder un clown faire de la physique quantique  ...  regard chir poch fair grimac expliqu confin pay compt capac regard clown fair physiqu quantiqu\n",
              "134                                                                                                                                           Une bonne façon de faire le ménage sans payer !!! #covid19 #VaccinationObligatoire\\nÇa va devenir la nouvelle méthode de licenciement pour 2022 !!! https://t.co/q1Jud2XYuI  ...                                                  bon fair ménag pai deven nouvel méthod licenci\n",
              "239  Est-ce que des medias vont parler de la hausse des hospitalisations #COVID19 des enfants ?!\\n\\nOu doit-on se résoudre à laisser nos enfants au bon vouloir du #ProtocoleTousInfectes ?!\\n\\n@AnneLeGall_ @FrancoisBeguin @AnissaBmd @boylandry @sandrine_cabut @EmmanuelleLuca1 @MarcGozlan @ https://t.co/3RI0JxuPfn  ...                                             medi hauss hospitalis enfant résoudr enfant vouloir\n",
              "243                                                                                                                                                                                                           #COVID19 : le #masque #FFP2 plus efficace que le masque chirurgical ?\\nVia @LePoint https://t.co/bIk9TUby2N  ...                                                                       efficac masqu chirurgical\n",
              "\n",
              "[10 rows x 3 columns]"
            ]
          },
          "metadata": {},
          "execution_count": 544
        }
      ]
    },
    {
      "cell_type": "markdown",
      "source": [
        "# Modèles de représentation"
      ],
      "metadata": {
        "id": "myuHJKzvukgg"
      }
    },
    {
      "cell_type": "markdown",
      "source": [
        "## Diviser les données"
      ],
      "metadata": {
        "id": "LKDnHdkLdeXM"
      }
    },
    {
      "cell_type": "code",
      "source": [
        "X = tweets['processed_tweet']\n",
        "y = tweets['sentiment']\n",
        "\n",
        "X_train, X_test, y_train, y_test = train_test_split(X, y, test_size = 0.3, random_state = 42)"
      ],
      "metadata": {
        "id": "75VexWB5dfS0",
        "execution": {
          "iopub.status.busy": "2022-01-26T15:17:51.913924Z",
          "iopub.execute_input": "2022-01-26T15:17:51.914287Z",
          "iopub.status.idle": "2022-01-26T15:17:51.923420Z",
          "shell.execute_reply.started": "2022-01-26T15:17:51.914261Z",
          "shell.execute_reply": "2022-01-26T15:17:51.922680Z"
        },
        "trusted": true
      },
      "execution_count": 545,
      "outputs": []
    },
    {
      "cell_type": "markdown",
      "source": [
        "## Tokénisation"
      ],
      "metadata": {
        "id": "nPCM8iZ-xP0q"
      }
    },
    {
      "cell_type": "code",
      "source": [
        "word_tokens = X.apply(lambda tweet: word_tokenize(tweet))\n",
        "train_tokens = X_train.apply(lambda tweet: word_tokenize(tweet))\n",
        "test_tokens = X_test.apply(lambda tweet: word_tokenize(tweet))"
      ],
      "metadata": {
        "execution": {
          "iopub.status.busy": "2022-01-26T15:17:53.948981Z",
          "iopub.execute_input": "2022-01-26T15:17:53.949400Z",
          "iopub.status.idle": "2022-01-26T15:17:57.225301Z",
          "shell.execute_reply.started": "2022-01-26T15:17:53.949359Z",
          "shell.execute_reply": "2022-01-26T15:17:57.224335Z"
        },
        "trusted": true,
        "id": "JzgN-N94xP0q"
      },
      "execution_count": 546,
      "outputs": []
    },
    {
      "cell_type": "markdown",
      "source": [
        "## Modèles de représentation"
      ],
      "metadata": {
        "id": "nxwGrsEfFvJW"
      }
    },
    {
      "cell_type": "markdown",
      "source": [
        "### BoW - *Bag-of-Words*"
      ],
      "metadata": {
        "id": "U3l8EvuAzLz4"
      }
    },
    {
      "cell_type": "code",
      "source": [
        "vectorizer = CountVectorizer()\n",
        "X_train_bow = vectorizer.fit_transform(X_train)\n",
        "X_test_bow = vectorizer.transform(X_test)"
      ],
      "metadata": {
        "id": "eVnj26zJ2px2",
        "execution": {
          "iopub.status.busy": "2022-01-26T15:17:59.600992Z",
          "iopub.execute_input": "2022-01-26T15:17:59.601229Z",
          "iopub.status.idle": "2022-01-26T15:17:59.787054Z",
          "shell.execute_reply.started": "2022-01-26T15:17:59.601204Z",
          "shell.execute_reply": "2022-01-26T15:17:59.786261Z"
        },
        "trusted": true
      },
      "execution_count": 547,
      "outputs": []
    },
    {
      "cell_type": "markdown",
      "source": [
        "### Word2Vec"
      ],
      "metadata": {
        "id": "VB2kPzqyVtTF"
      }
    },
    {
      "cell_type": "code",
      "source": [
        "w2vec_model = Word2Vec(vector_size = 300, window = 20, workers = cpu_count())\n",
        "w2vec_model.build_vocab(word_tokens)\n",
        "w2vec_model.train(word_tokens, total_examples = len(word_tokens), epochs = 15)"
      ],
      "metadata": {
        "id": "hlCJ6ekdzNuQ",
        "outputId": "f9f388fa-e704-4eac-bc6d-f3127aa8c3e3",
        "execution": {
          "iopub.status.busy": "2022-01-26T15:18:01.862729Z",
          "iopub.execute_input": "2022-01-26T15:18:01.862988Z",
          "iopub.status.idle": "2022-01-26T15:18:04.401757Z",
          "shell.execute_reply.started": "2022-01-26T15:18:01.862961Z",
          "shell.execute_reply": "2022-01-26T15:18:04.401170Z"
        },
        "trusted": true,
        "colab": {
          "base_uri": "https://localhost:8080/"
        }
      },
      "execution_count": 548,
      "outputs": [
        {
          "output_type": "execute_result",
          "data": {
            "text/plain": [
              "(2888, 30645)"
            ]
          },
          "metadata": {},
          "execution_count": 548
        }
      ]
    },
    {
      "cell_type": "markdown",
      "source": [
        "### Fast Text"
      ],
      "metadata": {
        "id": "xkMF3IV7Vu8-"
      }
    },
    {
      "cell_type": "code",
      "source": [
        "fastText_model = FastText(vector_size = 300, window = 20, workers = cpu_count())\n",
        "fastText_model.build_vocab(word_tokens)\n",
        "fastText_model.train(word_tokens, total_examples = len(word_tokens), epochs=15)"
      ],
      "metadata": {
        "id": "ot9YvjMW2rCm",
        "outputId": "c140d28f-0ffd-489b-9c10-c7b91cf1c666",
        "execution": {
          "iopub.status.busy": "2022-01-26T15:18:06.758321Z",
          "iopub.execute_input": "2022-01-26T15:18:06.758648Z",
          "iopub.status.idle": "2022-01-26T15:18:27.923367Z",
          "shell.execute_reply.started": "2022-01-26T15:18:06.758608Z",
          "shell.execute_reply": "2022-01-26T15:18:27.922913Z"
        },
        "trusted": true,
        "colab": {
          "base_uri": "https://localhost:8080/"
        }
      },
      "execution_count": 549,
      "outputs": [
        {
          "output_type": "execute_result",
          "data": {
            "text/plain": [
              "(2888, 30645)"
            ]
          },
          "metadata": {},
          "execution_count": 549
        }
      ]
    },
    {
      "cell_type": "code",
      "source": [
        "def get_embedding(model, words):\n",
        "  valid_words = [word for word in words if word in model.wv.index_to_key]\n",
        "  if valid_words:\n",
        "      embedding = np.zeros((len(valid_words), 300), dtype=np.float32)\n",
        "      for idx, word in enumerate(valid_words):\n",
        "          embedding[idx] = model.wv[word]\n",
        "\n",
        "      return np.mean(embedding, axis=0)\n",
        "  else:\n",
        "      return np.zeros(300)\n",
        "\n",
        "def vectoriser_avg(model, X):\n",
        "  X_embeddings = np.array([get_embedding(model, words) for words in X])\n",
        "  return X_embeddings\n"
      ],
      "metadata": {
        "id": "3X42v0J_mmd2",
        "execution": {
          "iopub.status.busy": "2022-01-26T15:18:31.011819Z",
          "iopub.execute_input": "2022-01-26T15:18:31.012117Z",
          "iopub.status.idle": "2022-01-26T15:18:31.021357Z",
          "shell.execute_reply.started": "2022-01-26T15:18:31.012082Z",
          "shell.execute_reply": "2022-01-26T15:18:31.020135Z"
        },
        "trusted": true
      },
      "execution_count": 550,
      "outputs": []
    },
    {
      "cell_type": "markdown",
      "source": [
        "> Pour chaque document (tweet), on calcule la somme des vecteurs associés aux mots qui le composent, on met des zéros si le mot n'est pas dans le vocabulaire"
      ],
      "metadata": {
        "id": "NjplmRsvxP0r"
      }
    },
    {
      "cell_type": "markdown",
      "source": [
        "## Vectorisation des données d'entrainement et du test"
      ],
      "metadata": {
        "id": "t_1D2ZAT2YrQ"
      }
    },
    {
      "cell_type": "code",
      "source": [
        "X_train_w2v = vectoriser_avg(w2vec_model, train_tokens)\n",
        "X_test_w2v = vectoriser_avg(w2vec_model, test_tokens)"
      ],
      "metadata": {
        "id": "5FVMx5aw2UFR",
        "execution": {
          "iopub.status.busy": "2022-01-26T15:18:34.387458Z",
          "iopub.execute_input": "2022-01-26T15:18:34.388170Z",
          "iopub.status.idle": "2022-01-26T15:18:38.370212Z",
          "shell.execute_reply.started": "2022-01-26T15:18:34.388119Z",
          "shell.execute_reply": "2022-01-26T15:18:38.369445Z"
        },
        "trusted": true
      },
      "execution_count": 551,
      "outputs": []
    },
    {
      "cell_type": "code",
      "source": [
        "X_train_ftxt = vectoriser_avg(fastText_model, train_tokens)\n",
        "X_test_ftxt = vectoriser_avg(fastText_model, test_tokens)"
      ],
      "metadata": {
        "id": "OlFf04oYn0Lw",
        "execution": {
          "iopub.status.busy": "2022-01-26T15:18:39.891702Z",
          "iopub.execute_input": "2022-01-26T15:18:39.892013Z",
          "iopub.status.idle": "2022-01-26T15:18:42.588389Z",
          "shell.execute_reply.started": "2022-01-26T15:18:39.891986Z",
          "shell.execute_reply": "2022-01-26T15:18:42.587570Z"
        },
        "trusted": true
      },
      "execution_count": 552,
      "outputs": []
    },
    {
      "cell_type": "markdown",
      "source": [
        "### Visualisation"
      ],
      "metadata": {
        "id": "ny42r7rloWD4"
      }
    },
    {
      "cell_type": "code",
      "source": [
        "sum_words = X_train_bow.sum(axis=0).tolist()\n",
        "sum_words.extend(X_test_bow.sum(axis=0).tolist())\n",
        "sum_words = np.array(sum_words)\n",
        "\n",
        "words_freq = [(word, sum_words[0, i]) for word, i in vectorizer.vocabulary_.items()]\n",
        "words_freq = sorted(words_freq, key = lambda x: x[1], reverse = True)\n",
        "\n",
        "frequency = pd.DataFrame(words_freq, columns=['word', 'freq'])\n",
        "\n",
        "frequency.head(30).plot(x='word', y='freq', kind='bar', figsize=(15, 7), color = 'blue')\n",
        "plt.title(\"Most Frequently Occuring Words - Top 30\")"
      ],
      "metadata": {
        "id": "Ysz20WGRV74F",
        "outputId": "02120ee4-d9f6-49e5-c3e4-d5b4883af07d",
        "execution": {
          "iopub.status.busy": "2022-01-26T15:18:44.178911Z",
          "iopub.execute_input": "2022-01-26T15:18:44.179163Z",
          "iopub.status.idle": "2022-01-26T15:18:44.634322Z",
          "shell.execute_reply.started": "2022-01-26T15:18:44.179135Z",
          "shell.execute_reply": "2022-01-26T15:18:44.633531Z"
        },
        "trusted": true,
        "colab": {
          "base_uri": "https://localhost:8080/",
          "height": 509
        }
      },
      "execution_count": 553,
      "outputs": [
        {
          "output_type": "execute_result",
          "data": {
            "text/plain": [
              "Text(0.5, 1.0, 'Most Frequently Occuring Words - Top 30')"
            ]
          },
          "metadata": {},
          "execution_count": 553
        },
        {
          "output_type": "display_data",
          "data": {
            "image/png": "[encoded data removed]",
            "text/plain": [
              "<Figure size 1080x504 with 1 Axes>"
            ]
          },
          "metadata": {
            "needs_background": "light"
          }
        }
      ]
    },
    {
      "cell_type": "markdown",
      "source": [
        "#### *Bag-of-Words*"
      ],
      "metadata": {
        "id": "8alXo9mG3k0u"
      }
    },
    {
      "cell_type": "code",
      "source": [
        "pd1 = pd.DataFrame(X_train_bow.toarray())\n",
        "pd2 = pd.DataFrame(X_test_bow.toarray())\n",
        "bow_df = pd.concat([pd1, pd2])\n",
        "bow_df.columns = vectorizer.get_feature_names()"
      ],
      "metadata": {
        "id": "TivalyJleTLG",
        "execution": {
          "iopub.status.busy": "2022-01-26T15:18:50.570576Z",
          "iopub.execute_input": "2022-01-26T15:18:50.571067Z",
          "iopub.status.idle": "2022-01-26T15:18:51.228817Z",
          "shell.execute_reply.started": "2022-01-26T15:18:50.571025Z",
          "shell.execute_reply": "2022-01-26T15:18:51.228051Z"
        },
        "trusted": true
      },
      "execution_count": 554,
      "outputs": []
    },
    {
      "cell_type": "markdown",
      "source": [
        "#### Exportation (*Bag-of-Words*)"
      ],
      "metadata": {
        "id": "CZNnURQhxP0s"
      }
    },
    {
      "cell_type": "code",
      "source": [
        "bow_df.to_csv(export_dir + 'bow.csv', index = False)"
      ],
      "metadata": {
        "execution": {
          "iopub.status.busy": "2022-01-26T15:18:53.087617Z",
          "iopub.execute_input": "2022-01-26T15:18:53.087882Z",
          "iopub.status.idle": "2022-01-26T15:19:53.536803Z",
          "shell.execute_reply.started": "2022-01-26T15:18:53.087854Z",
          "shell.execute_reply": "2022-01-26T15:19:53.534854Z"
        },
        "trusted": true,
        "id": "Q90Uihb0xP0s"
      },
      "execution_count": 555,
      "outputs": []
    },
    {
      "cell_type": "code",
      "source": [
        "bow_df.sample(10)"
      ],
      "metadata": {
        "id": "wX2CwCo_1x7M",
        "outputId": "a86f8e1a-1778-43fe-fe27-b95434fabef0",
        "execution": {
          "iopub.status.busy": "2022-01-26T15:20:46.338669Z",
          "iopub.execute_input": "2022-01-26T15:20:46.339063Z",
          "iopub.status.idle": "2022-01-26T15:20:46.356186Z",
          "shell.execute_reply.started": "2022-01-26T15:20:46.339036Z",
          "shell.execute_reply": "2022-01-26T15:20:46.355750Z"
        },
        "trusted": true,
        "colab": {
          "base_uri": "https://localhost:8080/",
          "height": 456
        }
      },
      "execution_count": 556,
      "outputs": [
        {
          "output_type": "execute_result",
          "data": {
            "text/html": [
              "\n",
              "  <div id=\"df-218547a5-86fd-4f79-ab9f-96f9cfa860c7\">\n",
              "    <div class=\"colab-df-container\">\n",
              "      <div>\n",
              "<style scoped>\n",
              "    .dataframe tbody tr th:only-of-type {\n",
              "        vertical-align: middle;\n",
              "    }\n",
              "\n",
              "    .dataframe tbody tr th {\n",
              "        vertical-align: top;\n",
              "    }\n",
              "\n",
              "    .dataframe thead th {\n",
              "        text-align: right;\n",
              "    }\n",
              "</style>\n",
              "<table border=\"1\" class=\"dataframe\">\n",
              "  <thead>\n",
              "    <tr style=\"text-align: right;\">\n",
              "      <th></th>\n",
              "      <th>abeil</th>\n",
              "      <th>aberr</th>\n",
              "      <th>accord</th>\n",
              "      <th>accueil</th>\n",
              "      <th>achat</th>\n",
              "      <th>achet</th>\n",
              "      <th>activ</th>\n",
              "      <th>admettr</th>\n",
              "      <th>adopt</th>\n",
              "      <th>ador</th>\n",
              "      <th>affirm</th>\n",
              "      <th>afflig</th>\n",
              "      <th>affluenc</th>\n",
              "      <th>agré</th>\n",
              "      <th>aid</th>\n",
              "      <th>aigr</th>\n",
              "      <th>aillent</th>\n",
              "      <th>alib</th>\n",
              "      <th>aller</th>\n",
              "      <th>allez</th>\n",
              "      <th>alli</th>\n",
              "      <th>allumag</th>\n",
              "      <th>alpag</th>\n",
              "      <th>ami</th>\n",
              "      <th>amical</th>\n",
              "      <th>among</th>\n",
              "      <th>amour</th>\n",
              "      <th>ampleur</th>\n",
              "      <th>analys</th>\n",
              "      <th>ancien</th>\n",
              "      <th>angin</th>\n",
              "      <th>animal</th>\n",
              "      <th>anniversair</th>\n",
              "      <th>annonc</th>\n",
              "      <th>annul</th>\n",
              "      <th>anné</th>\n",
              "      <th>antiviral</th>\n",
              "      <th>apais</th>\n",
              "      <th>apparaissent</th>\n",
              "      <th>apprendr</th>\n",
              "      <th>...</th>\n",
              "      <th>vient</th>\n",
              "      <th>vieux</th>\n",
              "      <th>vill</th>\n",
              "      <th>virus</th>\n",
              "      <th>vit</th>\n",
              "      <th>viv</th>\n",
              "      <th>vivon</th>\n",
              "      <th>vivr</th>\n",
              "      <th>volontair</th>\n",
              "      <th>vouloir</th>\n",
              "      <th>vrai</th>\n",
              "      <th>vérif</th>\n",
              "      <th>vérit</th>\n",
              "      <th>week</th>\n",
              "      <th>yolo</th>\n",
              "      <th>zizan</th>\n",
              "      <th>âgé</th>\n",
              "      <th>écart</th>\n",
              "      <th>échantillon</th>\n",
              "      <th>échec</th>\n",
              "      <th>échel</th>\n",
              "      <th>écol</th>\n",
              "      <th>écout</th>\n",
              "      <th>égal</th>\n",
              "      <th>élev</th>\n",
              "      <th>élit</th>\n",
              "      <th>émiss</th>\n",
              "      <th>émot</th>\n",
              "      <th>épidem</th>\n",
              "      <th>épidémiolog</th>\n",
              "      <th>épisod</th>\n",
              "      <th>époqu</th>\n",
              "      <th>épuis</th>\n",
              "      <th>établ</th>\n",
              "      <th>étap</th>\n",
              "      <th>éven</th>\n",
              "      <th>évit</th>\n",
              "      <th>évitent</th>\n",
              "      <th>évolu</th>\n",
              "      <th>évoquent</th>\n",
              "    </tr>\n",
              "  </thead>\n",
              "  <tbody>\n",
              "    <tr>\n",
              "      <th>8</th>\n",
              "      <td>0</td>\n",
              "      <td>0</td>\n",
              "      <td>0</td>\n",
              "      <td>0</td>\n",
              "      <td>0</td>\n",
              "      <td>0</td>\n",
              "      <td>0</td>\n",
              "      <td>0</td>\n",
              "      <td>0</td>\n",
              "      <td>1</td>\n",
              "      <td>0</td>\n",
              "      <td>0</td>\n",
              "      <td>0</td>\n",
              "      <td>0</td>\n",
              "      <td>0</td>\n",
              "      <td>0</td>\n",
              "      <td>0</td>\n",
              "      <td>0</td>\n",
              "      <td>0</td>\n",
              "      <td>0</td>\n",
              "      <td>0</td>\n",
              "      <td>0</td>\n",
              "      <td>0</td>\n",
              "      <td>0</td>\n",
              "      <td>0</td>\n",
              "      <td>0</td>\n",
              "      <td>0</td>\n",
              "      <td>0</td>\n",
              "      <td>0</td>\n",
              "      <td>0</td>\n",
              "      <td>0</td>\n",
              "      <td>0</td>\n",
              "      <td>0</td>\n",
              "      <td>0</td>\n",
              "      <td>0</td>\n",
              "      <td>0</td>\n",
              "      <td>0</td>\n",
              "      <td>0</td>\n",
              "      <td>0</td>\n",
              "      <td>0</td>\n",
              "      <td>...</td>\n",
              "      <td>0</td>\n",
              "      <td>0</td>\n",
              "      <td>0</td>\n",
              "      <td>0</td>\n",
              "      <td>0</td>\n",
              "      <td>0</td>\n",
              "      <td>0</td>\n",
              "      <td>0</td>\n",
              "      <td>0</td>\n",
              "      <td>0</td>\n",
              "      <td>0</td>\n",
              "      <td>0</td>\n",
              "      <td>0</td>\n",
              "      <td>0</td>\n",
              "      <td>0</td>\n",
              "      <td>0</td>\n",
              "      <td>0</td>\n",
              "      <td>0</td>\n",
              "      <td>0</td>\n",
              "      <td>0</td>\n",
              "      <td>0</td>\n",
              "      <td>0</td>\n",
              "      <td>0</td>\n",
              "      <td>0</td>\n",
              "      <td>0</td>\n",
              "      <td>0</td>\n",
              "      <td>0</td>\n",
              "      <td>0</td>\n",
              "      <td>0</td>\n",
              "      <td>0</td>\n",
              "      <td>0</td>\n",
              "      <td>0</td>\n",
              "      <td>0</td>\n",
              "      <td>0</td>\n",
              "      <td>0</td>\n",
              "      <td>0</td>\n",
              "      <td>0</td>\n",
              "      <td>0</td>\n",
              "      <td>0</td>\n",
              "      <td>0</td>\n",
              "    </tr>\n",
              "    <tr>\n",
              "      <th>95</th>\n",
              "      <td>0</td>\n",
              "      <td>0</td>\n",
              "      <td>0</td>\n",
              "      <td>0</td>\n",
              "      <td>0</td>\n",
              "      <td>0</td>\n",
              "      <td>0</td>\n",
              "      <td>0</td>\n",
              "      <td>0</td>\n",
              "      <td>0</td>\n",
              "      <td>0</td>\n",
              "      <td>0</td>\n",
              "      <td>0</td>\n",
              "      <td>0</td>\n",
              "      <td>0</td>\n",
              "      <td>0</td>\n",
              "      <td>0</td>\n",
              "      <td>0</td>\n",
              "      <td>0</td>\n",
              "      <td>0</td>\n",
              "      <td>0</td>\n",
              "      <td>0</td>\n",
              "      <td>0</td>\n",
              "      <td>0</td>\n",
              "      <td>0</td>\n",
              "      <td>0</td>\n",
              "      <td>0</td>\n",
              "      <td>0</td>\n",
              "      <td>0</td>\n",
              "      <td>0</td>\n",
              "      <td>0</td>\n",
              "      <td>0</td>\n",
              "      <td>0</td>\n",
              "      <td>0</td>\n",
              "      <td>0</td>\n",
              "      <td>0</td>\n",
              "      <td>0</td>\n",
              "      <td>0</td>\n",
              "      <td>0</td>\n",
              "      <td>0</td>\n",
              "      <td>...</td>\n",
              "      <td>0</td>\n",
              "      <td>0</td>\n",
              "      <td>0</td>\n",
              "      <td>1</td>\n",
              "      <td>0</td>\n",
              "      <td>0</td>\n",
              "      <td>0</td>\n",
              "      <td>0</td>\n",
              "      <td>0</td>\n",
              "      <td>0</td>\n",
              "      <td>0</td>\n",
              "      <td>0</td>\n",
              "      <td>0</td>\n",
              "      <td>0</td>\n",
              "      <td>0</td>\n",
              "      <td>0</td>\n",
              "      <td>0</td>\n",
              "      <td>0</td>\n",
              "      <td>1</td>\n",
              "      <td>0</td>\n",
              "      <td>0</td>\n",
              "      <td>0</td>\n",
              "      <td>0</td>\n",
              "      <td>0</td>\n",
              "      <td>0</td>\n",
              "      <td>0</td>\n",
              "      <td>0</td>\n",
              "      <td>0</td>\n",
              "      <td>0</td>\n",
              "      <td>0</td>\n",
              "      <td>0</td>\n",
              "      <td>0</td>\n",
              "      <td>0</td>\n",
              "      <td>0</td>\n",
              "      <td>0</td>\n",
              "      <td>0</td>\n",
              "      <td>0</td>\n",
              "      <td>0</td>\n",
              "      <td>0</td>\n",
              "      <td>0</td>\n",
              "    </tr>\n",
              "    <tr>\n",
              "      <th>111</th>\n",
              "      <td>0</td>\n",
              "      <td>0</td>\n",
              "      <td>0</td>\n",
              "      <td>0</td>\n",
              "      <td>0</td>\n",
              "      <td>0</td>\n",
              "      <td>0</td>\n",
              "      <td>0</td>\n",
              "      <td>0</td>\n",
              "      <td>0</td>\n",
              "      <td>0</td>\n",
              "      <td>0</td>\n",
              "      <td>0</td>\n",
              "      <td>0</td>\n",
              "      <td>0</td>\n",
              "      <td>0</td>\n",
              "      <td>0</td>\n",
              "      <td>0</td>\n",
              "      <td>0</td>\n",
              "      <td>0</td>\n",
              "      <td>0</td>\n",
              "      <td>0</td>\n",
              "      <td>0</td>\n",
              "      <td>0</td>\n",
              "      <td>0</td>\n",
              "      <td>0</td>\n",
              "      <td>0</td>\n",
              "      <td>0</td>\n",
              "      <td>0</td>\n",
              "      <td>0</td>\n",
              "      <td>0</td>\n",
              "      <td>0</td>\n",
              "      <td>0</td>\n",
              "      <td>1</td>\n",
              "      <td>0</td>\n",
              "      <td>0</td>\n",
              "      <td>0</td>\n",
              "      <td>0</td>\n",
              "      <td>0</td>\n",
              "      <td>0</td>\n",
              "      <td>...</td>\n",
              "      <td>0</td>\n",
              "      <td>0</td>\n",
              "      <td>0</td>\n",
              "      <td>0</td>\n",
              "      <td>0</td>\n",
              "      <td>0</td>\n",
              "      <td>0</td>\n",
              "      <td>0</td>\n",
              "      <td>0</td>\n",
              "      <td>0</td>\n",
              "      <td>0</td>\n",
              "      <td>0</td>\n",
              "      <td>0</td>\n",
              "      <td>0</td>\n",
              "      <td>0</td>\n",
              "      <td>0</td>\n",
              "      <td>0</td>\n",
              "      <td>0</td>\n",
              "      <td>0</td>\n",
              "      <td>0</td>\n",
              "      <td>0</td>\n",
              "      <td>0</td>\n",
              "      <td>0</td>\n",
              "      <td>0</td>\n",
              "      <td>0</td>\n",
              "      <td>0</td>\n",
              "      <td>0</td>\n",
              "      <td>0</td>\n",
              "      <td>0</td>\n",
              "      <td>0</td>\n",
              "      <td>0</td>\n",
              "      <td>0</td>\n",
              "      <td>0</td>\n",
              "      <td>0</td>\n",
              "      <td>0</td>\n",
              "      <td>0</td>\n",
              "      <td>0</td>\n",
              "      <td>0</td>\n",
              "      <td>0</td>\n",
              "      <td>0</td>\n",
              "    </tr>\n",
              "    <tr>\n",
              "      <th>183</th>\n",
              "      <td>0</td>\n",
              "      <td>0</td>\n",
              "      <td>0</td>\n",
              "      <td>0</td>\n",
              "      <td>0</td>\n",
              "      <td>0</td>\n",
              "      <td>0</td>\n",
              "      <td>0</td>\n",
              "      <td>0</td>\n",
              "      <td>0</td>\n",
              "      <td>0</td>\n",
              "      <td>0</td>\n",
              "      <td>0</td>\n",
              "      <td>0</td>\n",
              "      <td>0</td>\n",
              "      <td>0</td>\n",
              "      <td>0</td>\n",
              "      <td>0</td>\n",
              "      <td>0</td>\n",
              "      <td>0</td>\n",
              "      <td>0</td>\n",
              "      <td>0</td>\n",
              "      <td>0</td>\n",
              "      <td>0</td>\n",
              "      <td>0</td>\n",
              "      <td>0</td>\n",
              "      <td>0</td>\n",
              "      <td>0</td>\n",
              "      <td>0</td>\n",
              "      <td>0</td>\n",
              "      <td>0</td>\n",
              "      <td>0</td>\n",
              "      <td>0</td>\n",
              "      <td>0</td>\n",
              "      <td>0</td>\n",
              "      <td>0</td>\n",
              "      <td>0</td>\n",
              "      <td>0</td>\n",
              "      <td>0</td>\n",
              "      <td>0</td>\n",
              "      <td>...</td>\n",
              "      <td>0</td>\n",
              "      <td>0</td>\n",
              "      <td>0</td>\n",
              "      <td>0</td>\n",
              "      <td>0</td>\n",
              "      <td>1</td>\n",
              "      <td>0</td>\n",
              "      <td>0</td>\n",
              "      <td>0</td>\n",
              "      <td>0</td>\n",
              "      <td>0</td>\n",
              "      <td>0</td>\n",
              "      <td>0</td>\n",
              "      <td>0</td>\n",
              "      <td>0</td>\n",
              "      <td>0</td>\n",
              "      <td>0</td>\n",
              "      <td>0</td>\n",
              "      <td>0</td>\n",
              "      <td>0</td>\n",
              "      <td>0</td>\n",
              "      <td>0</td>\n",
              "      <td>0</td>\n",
              "      <td>0</td>\n",
              "      <td>0</td>\n",
              "      <td>0</td>\n",
              "      <td>0</td>\n",
              "      <td>0</td>\n",
              "      <td>0</td>\n",
              "      <td>0</td>\n",
              "      <td>0</td>\n",
              "      <td>0</td>\n",
              "      <td>0</td>\n",
              "      <td>0</td>\n",
              "      <td>0</td>\n",
              "      <td>0</td>\n",
              "      <td>0</td>\n",
              "      <td>0</td>\n",
              "      <td>0</td>\n",
              "      <td>0</td>\n",
              "    </tr>\n",
              "    <tr>\n",
              "      <th>33</th>\n",
              "      <td>0</td>\n",
              "      <td>0</td>\n",
              "      <td>0</td>\n",
              "      <td>0</td>\n",
              "      <td>0</td>\n",
              "      <td>0</td>\n",
              "      <td>0</td>\n",
              "      <td>0</td>\n",
              "      <td>0</td>\n",
              "      <td>0</td>\n",
              "      <td>0</td>\n",
              "      <td>0</td>\n",
              "      <td>0</td>\n",
              "      <td>0</td>\n",
              "      <td>0</td>\n",
              "      <td>0</td>\n",
              "      <td>0</td>\n",
              "      <td>0</td>\n",
              "      <td>0</td>\n",
              "      <td>0</td>\n",
              "      <td>0</td>\n",
              "      <td>0</td>\n",
              "      <td>0</td>\n",
              "      <td>0</td>\n",
              "      <td>0</td>\n",
              "      <td>0</td>\n",
              "      <td>0</td>\n",
              "      <td>0</td>\n",
              "      <td>0</td>\n",
              "      <td>0</td>\n",
              "      <td>0</td>\n",
              "      <td>0</td>\n",
              "      <td>0</td>\n",
              "      <td>0</td>\n",
              "      <td>0</td>\n",
              "      <td>0</td>\n",
              "      <td>0</td>\n",
              "      <td>0</td>\n",
              "      <td>0</td>\n",
              "      <td>0</td>\n",
              "      <td>...</td>\n",
              "      <td>0</td>\n",
              "      <td>0</td>\n",
              "      <td>0</td>\n",
              "      <td>0</td>\n",
              "      <td>0</td>\n",
              "      <td>0</td>\n",
              "      <td>0</td>\n",
              "      <td>0</td>\n",
              "      <td>0</td>\n",
              "      <td>0</td>\n",
              "      <td>0</td>\n",
              "      <td>0</td>\n",
              "      <td>0</td>\n",
              "      <td>0</td>\n",
              "      <td>0</td>\n",
              "      <td>0</td>\n",
              "      <td>0</td>\n",
              "      <td>0</td>\n",
              "      <td>0</td>\n",
              "      <td>0</td>\n",
              "      <td>0</td>\n",
              "      <td>0</td>\n",
              "      <td>0</td>\n",
              "      <td>0</td>\n",
              "      <td>0</td>\n",
              "      <td>0</td>\n",
              "      <td>0</td>\n",
              "      <td>0</td>\n",
              "      <td>0</td>\n",
              "      <td>0</td>\n",
              "      <td>0</td>\n",
              "      <td>0</td>\n",
              "      <td>0</td>\n",
              "      <td>0</td>\n",
              "      <td>0</td>\n",
              "      <td>0</td>\n",
              "      <td>0</td>\n",
              "      <td>0</td>\n",
              "      <td>0</td>\n",
              "      <td>0</td>\n",
              "    </tr>\n",
              "    <tr>\n",
              "      <th>36</th>\n",
              "      <td>0</td>\n",
              "      <td>0</td>\n",
              "      <td>0</td>\n",
              "      <td>0</td>\n",
              "      <td>0</td>\n",
              "      <td>0</td>\n",
              "      <td>0</td>\n",
              "      <td>0</td>\n",
              "      <td>0</td>\n",
              "      <td>0</td>\n",
              "      <td>0</td>\n",
              "      <td>0</td>\n",
              "      <td>0</td>\n",
              "      <td>0</td>\n",
              "      <td>0</td>\n",
              "      <td>0</td>\n",
              "      <td>0</td>\n",
              "      <td>0</td>\n",
              "      <td>0</td>\n",
              "      <td>0</td>\n",
              "      <td>0</td>\n",
              "      <td>0</td>\n",
              "      <td>0</td>\n",
              "      <td>0</td>\n",
              "      <td>0</td>\n",
              "      <td>0</td>\n",
              "      <td>0</td>\n",
              "      <td>0</td>\n",
              "      <td>0</td>\n",
              "      <td>0</td>\n",
              "      <td>0</td>\n",
              "      <td>0</td>\n",
              "      <td>0</td>\n",
              "      <td>0</td>\n",
              "      <td>0</td>\n",
              "      <td>0</td>\n",
              "      <td>0</td>\n",
              "      <td>0</td>\n",
              "      <td>0</td>\n",
              "      <td>0</td>\n",
              "      <td>...</td>\n",
              "      <td>0</td>\n",
              "      <td>0</td>\n",
              "      <td>0</td>\n",
              "      <td>0</td>\n",
              "      <td>0</td>\n",
              "      <td>0</td>\n",
              "      <td>0</td>\n",
              "      <td>0</td>\n",
              "      <td>0</td>\n",
              "      <td>0</td>\n",
              "      <td>0</td>\n",
              "      <td>0</td>\n",
              "      <td>0</td>\n",
              "      <td>0</td>\n",
              "      <td>0</td>\n",
              "      <td>0</td>\n",
              "      <td>0</td>\n",
              "      <td>0</td>\n",
              "      <td>0</td>\n",
              "      <td>0</td>\n",
              "      <td>0</td>\n",
              "      <td>0</td>\n",
              "      <td>0</td>\n",
              "      <td>0</td>\n",
              "      <td>0</td>\n",
              "      <td>0</td>\n",
              "      <td>0</td>\n",
              "      <td>0</td>\n",
              "      <td>0</td>\n",
              "      <td>0</td>\n",
              "      <td>0</td>\n",
              "      <td>0</td>\n",
              "      <td>0</td>\n",
              "      <td>0</td>\n",
              "      <td>0</td>\n",
              "      <td>0</td>\n",
              "      <td>0</td>\n",
              "      <td>0</td>\n",
              "      <td>0</td>\n",
              "      <td>0</td>\n",
              "    </tr>\n",
              "    <tr>\n",
              "      <th>50</th>\n",
              "      <td>0</td>\n",
              "      <td>0</td>\n",
              "      <td>0</td>\n",
              "      <td>0</td>\n",
              "      <td>0</td>\n",
              "      <td>0</td>\n",
              "      <td>0</td>\n",
              "      <td>0</td>\n",
              "      <td>0</td>\n",
              "      <td>0</td>\n",
              "      <td>0</td>\n",
              "      <td>0</td>\n",
              "      <td>0</td>\n",
              "      <td>0</td>\n",
              "      <td>0</td>\n",
              "      <td>0</td>\n",
              "      <td>0</td>\n",
              "      <td>0</td>\n",
              "      <td>0</td>\n",
              "      <td>0</td>\n",
              "      <td>0</td>\n",
              "      <td>0</td>\n",
              "      <td>0</td>\n",
              "      <td>0</td>\n",
              "      <td>0</td>\n",
              "      <td>0</td>\n",
              "      <td>0</td>\n",
              "      <td>0</td>\n",
              "      <td>0</td>\n",
              "      <td>0</td>\n",
              "      <td>0</td>\n",
              "      <td>0</td>\n",
              "      <td>0</td>\n",
              "      <td>0</td>\n",
              "      <td>0</td>\n",
              "      <td>0</td>\n",
              "      <td>0</td>\n",
              "      <td>0</td>\n",
              "      <td>0</td>\n",
              "      <td>0</td>\n",
              "      <td>...</td>\n",
              "      <td>0</td>\n",
              "      <td>0</td>\n",
              "      <td>0</td>\n",
              "      <td>0</td>\n",
              "      <td>0</td>\n",
              "      <td>0</td>\n",
              "      <td>0</td>\n",
              "      <td>0</td>\n",
              "      <td>0</td>\n",
              "      <td>0</td>\n",
              "      <td>0</td>\n",
              "      <td>0</td>\n",
              "      <td>0</td>\n",
              "      <td>0</td>\n",
              "      <td>0</td>\n",
              "      <td>0</td>\n",
              "      <td>0</td>\n",
              "      <td>0</td>\n",
              "      <td>0</td>\n",
              "      <td>0</td>\n",
              "      <td>0</td>\n",
              "      <td>0</td>\n",
              "      <td>0</td>\n",
              "      <td>0</td>\n",
              "      <td>0</td>\n",
              "      <td>0</td>\n",
              "      <td>0</td>\n",
              "      <td>0</td>\n",
              "      <td>0</td>\n",
              "      <td>0</td>\n",
              "      <td>0</td>\n",
              "      <td>0</td>\n",
              "      <td>0</td>\n",
              "      <td>0</td>\n",
              "      <td>0</td>\n",
              "      <td>0</td>\n",
              "      <td>0</td>\n",
              "      <td>0</td>\n",
              "      <td>0</td>\n",
              "      <td>0</td>\n",
              "    </tr>\n",
              "    <tr>\n",
              "      <th>105</th>\n",
              "      <td>0</td>\n",
              "      <td>0</td>\n",
              "      <td>0</td>\n",
              "      <td>0</td>\n",
              "      <td>0</td>\n",
              "      <td>0</td>\n",
              "      <td>0</td>\n",
              "      <td>0</td>\n",
              "      <td>0</td>\n",
              "      <td>0</td>\n",
              "      <td>0</td>\n",
              "      <td>0</td>\n",
              "      <td>0</td>\n",
              "      <td>0</td>\n",
              "      <td>0</td>\n",
              "      <td>0</td>\n",
              "      <td>0</td>\n",
              "      <td>0</td>\n",
              "      <td>0</td>\n",
              "      <td>1</td>\n",
              "      <td>0</td>\n",
              "      <td>0</td>\n",
              "      <td>0</td>\n",
              "      <td>0</td>\n",
              "      <td>0</td>\n",
              "      <td>0</td>\n",
              "      <td>0</td>\n",
              "      <td>0</td>\n",
              "      <td>0</td>\n",
              "      <td>0</td>\n",
              "      <td>0</td>\n",
              "      <td>0</td>\n",
              "      <td>0</td>\n",
              "      <td>0</td>\n",
              "      <td>0</td>\n",
              "      <td>0</td>\n",
              "      <td>0</td>\n",
              "      <td>0</td>\n",
              "      <td>0</td>\n",
              "      <td>0</td>\n",
              "      <td>...</td>\n",
              "      <td>0</td>\n",
              "      <td>0</td>\n",
              "      <td>0</td>\n",
              "      <td>0</td>\n",
              "      <td>0</td>\n",
              "      <td>0</td>\n",
              "      <td>0</td>\n",
              "      <td>0</td>\n",
              "      <td>0</td>\n",
              "      <td>0</td>\n",
              "      <td>0</td>\n",
              "      <td>0</td>\n",
              "      <td>1</td>\n",
              "      <td>0</td>\n",
              "      <td>0</td>\n",
              "      <td>0</td>\n",
              "      <td>0</td>\n",
              "      <td>0</td>\n",
              "      <td>0</td>\n",
              "      <td>0</td>\n",
              "      <td>0</td>\n",
              "      <td>0</td>\n",
              "      <td>0</td>\n",
              "      <td>0</td>\n",
              "      <td>0</td>\n",
              "      <td>0</td>\n",
              "      <td>0</td>\n",
              "      <td>0</td>\n",
              "      <td>0</td>\n",
              "      <td>0</td>\n",
              "      <td>0</td>\n",
              "      <td>0</td>\n",
              "      <td>0</td>\n",
              "      <td>0</td>\n",
              "      <td>0</td>\n",
              "      <td>0</td>\n",
              "      <td>0</td>\n",
              "      <td>0</td>\n",
              "      <td>0</td>\n",
              "      <td>0</td>\n",
              "    </tr>\n",
              "    <tr>\n",
              "      <th>137</th>\n",
              "      <td>0</td>\n",
              "      <td>0</td>\n",
              "      <td>0</td>\n",
              "      <td>0</td>\n",
              "      <td>0</td>\n",
              "      <td>0</td>\n",
              "      <td>0</td>\n",
              "      <td>0</td>\n",
              "      <td>0</td>\n",
              "      <td>0</td>\n",
              "      <td>0</td>\n",
              "      <td>0</td>\n",
              "      <td>0</td>\n",
              "      <td>0</td>\n",
              "      <td>0</td>\n",
              "      <td>0</td>\n",
              "      <td>0</td>\n",
              "      <td>0</td>\n",
              "      <td>0</td>\n",
              "      <td>0</td>\n",
              "      <td>0</td>\n",
              "      <td>0</td>\n",
              "      <td>0</td>\n",
              "      <td>0</td>\n",
              "      <td>0</td>\n",
              "      <td>0</td>\n",
              "      <td>0</td>\n",
              "      <td>0</td>\n",
              "      <td>0</td>\n",
              "      <td>0</td>\n",
              "      <td>0</td>\n",
              "      <td>0</td>\n",
              "      <td>0</td>\n",
              "      <td>0</td>\n",
              "      <td>0</td>\n",
              "      <td>0</td>\n",
              "      <td>0</td>\n",
              "      <td>0</td>\n",
              "      <td>0</td>\n",
              "      <td>0</td>\n",
              "      <td>...</td>\n",
              "      <td>1</td>\n",
              "      <td>0</td>\n",
              "      <td>0</td>\n",
              "      <td>0</td>\n",
              "      <td>0</td>\n",
              "      <td>0</td>\n",
              "      <td>0</td>\n",
              "      <td>0</td>\n",
              "      <td>0</td>\n",
              "      <td>0</td>\n",
              "      <td>0</td>\n",
              "      <td>0</td>\n",
              "      <td>0</td>\n",
              "      <td>0</td>\n",
              "      <td>0</td>\n",
              "      <td>0</td>\n",
              "      <td>0</td>\n",
              "      <td>0</td>\n",
              "      <td>0</td>\n",
              "      <td>0</td>\n",
              "      <td>0</td>\n",
              "      <td>0</td>\n",
              "      <td>0</td>\n",
              "      <td>0</td>\n",
              "      <td>0</td>\n",
              "      <td>0</td>\n",
              "      <td>0</td>\n",
              "      <td>0</td>\n",
              "      <td>0</td>\n",
              "      <td>0</td>\n",
              "      <td>0</td>\n",
              "      <td>0</td>\n",
              "      <td>0</td>\n",
              "      <td>0</td>\n",
              "      <td>0</td>\n",
              "      <td>0</td>\n",
              "      <td>0</td>\n",
              "      <td>0</td>\n",
              "      <td>0</td>\n",
              "      <td>0</td>\n",
              "    </tr>\n",
              "    <tr>\n",
              "      <th>18</th>\n",
              "      <td>0</td>\n",
              "      <td>0</td>\n",
              "      <td>0</td>\n",
              "      <td>0</td>\n",
              "      <td>0</td>\n",
              "      <td>0</td>\n",
              "      <td>0</td>\n",
              "      <td>0</td>\n",
              "      <td>0</td>\n",
              "      <td>0</td>\n",
              "      <td>0</td>\n",
              "      <td>0</td>\n",
              "      <td>0</td>\n",
              "      <td>0</td>\n",
              "      <td>0</td>\n",
              "      <td>0</td>\n",
              "      <td>0</td>\n",
              "      <td>0</td>\n",
              "      <td>0</td>\n",
              "      <td>0</td>\n",
              "      <td>0</td>\n",
              "      <td>0</td>\n",
              "      <td>0</td>\n",
              "      <td>0</td>\n",
              "      <td>0</td>\n",
              "      <td>0</td>\n",
              "      <td>0</td>\n",
              "      <td>0</td>\n",
              "      <td>0</td>\n",
              "      <td>0</td>\n",
              "      <td>0</td>\n",
              "      <td>0</td>\n",
              "      <td>0</td>\n",
              "      <td>0</td>\n",
              "      <td>0</td>\n",
              "      <td>0</td>\n",
              "      <td>0</td>\n",
              "      <td>0</td>\n",
              "      <td>0</td>\n",
              "      <td>0</td>\n",
              "      <td>...</td>\n",
              "      <td>0</td>\n",
              "      <td>0</td>\n",
              "      <td>0</td>\n",
              "      <td>0</td>\n",
              "      <td>0</td>\n",
              "      <td>0</td>\n",
              "      <td>0</td>\n",
              "      <td>0</td>\n",
              "      <td>0</td>\n",
              "      <td>0</td>\n",
              "      <td>0</td>\n",
              "      <td>0</td>\n",
              "      <td>0</td>\n",
              "      <td>0</td>\n",
              "      <td>0</td>\n",
              "      <td>0</td>\n",
              "      <td>0</td>\n",
              "      <td>0</td>\n",
              "      <td>0</td>\n",
              "      <td>0</td>\n",
              "      <td>0</td>\n",
              "      <td>0</td>\n",
              "      <td>0</td>\n",
              "      <td>0</td>\n",
              "      <td>0</td>\n",
              "      <td>0</td>\n",
              "      <td>0</td>\n",
              "      <td>0</td>\n",
              "      <td>0</td>\n",
              "      <td>0</td>\n",
              "      <td>0</td>\n",
              "      <td>0</td>\n",
              "      <td>0</td>\n",
              "      <td>0</td>\n",
              "      <td>0</td>\n",
              "      <td>0</td>\n",
              "      <td>0</td>\n",
              "      <td>0</td>\n",
              "      <td>0</td>\n",
              "      <td>0</td>\n",
              "    </tr>\n",
              "  </tbody>\n",
              "</table>\n",
              "<p>10 rows × 828 columns</p>\n",
              "</div>\n",
              "      <button class=\"colab-df-convert\" onclick=\"convertToInteractive('df-218547a5-86fd-4f79-ab9f-96f9cfa860c7')\"\n",
              "              title=\"Convert this dataframe to an interactive table.\"\n",
              "              style=\"display:none;\">\n",
              "        \n",
              "  <svg xmlns=\"http://www.w3.org/2000/svg\" height=\"24px\"viewBox=\"0 0 24 24\"\n",
              "       width=\"24px\">\n",
              "    <path d=\"M0 0h24v24H0V0z\" fill=\"none\"/>\n",
              "    <path d=\"M18.56 5.44l.94 2.06.94-2.06 2.06-.94-2.06-.94-.94-2.06-.94 2.06-2.06.94zm-11 1L8.5 8.5l.94-2.06 2.06-.94-2.06-.94L8.5 2.5l-.94 2.06-2.06.94zm10 10l.94 2.06.94-2.06 2.06-.94-2.06-.94-.94-2.06-.94 2.06-2.06.94z\"/><path d=\"M17.41 7.96l-1.37-1.37c-.4-.4-.92-.59-1.43-.59-.52 0-1.04.2-1.43.59L10.3 9.45l-7.72 7.72c-.78.78-.78 2.05 0 2.83L4 21.41c.39.39.9.59 1.41.59.51 0 1.02-.2 1.41-.59l7.78-7.78 2.81-2.81c.8-.78.8-2.07 0-2.86zM5.41 20L4 18.59l7.72-7.72 1.47 1.35L5.41 20z\"/>\n",
              "  </svg>\n",
              "      </button>\n",
              "      \n",
              "  <style>\n",
              "    .colab-df-container {\n",
              "      display:flex;\n",
              "      flex-wrap:wrap;\n",
              "      gap: 12px;\n",
              "    }\n",
              "\n",
              "    .colab-df-convert {\n",
              "      background-color: #E8F0FE;\n",
              "      border: none;\n",
              "      border-radius: 50%;\n",
              "      cursor: pointer;\n",
              "      display: none;\n",
              "      fill: #1967D2;\n",
              "      height: 32px;\n",
              "      padding: 0 0 0 0;\n",
              "      width: 32px;\n",
              "    }\n",
              "\n",
              "    .colab-df-convert:hover {\n",
              "      background-color: #E2EBFA;\n",
              "      box-shadow: 0px 1px 2px rgba(60, 64, 67, 0.3), 0px 1px 3px 1px rgba(60, 64, 67, 0.15);\n",
              "      fill: #174EA6;\n",
              "    }\n",
              "\n",
              "    [theme=dark] .colab-df-convert {\n",
              "      background-color: #3B4455;\n",
              "      fill: #D2E3FC;\n",
              "    }\n",
              "\n",
              "    [theme=dark] .colab-df-convert:hover {\n",
              "      background-color: #434B5C;\n",
              "      box-shadow: 0px 1px 3px 1px rgba(0, 0, 0, 0.15);\n",
              "      filter: drop-shadow(0px 1px 2px rgba(0, 0, 0, 0.3));\n",
              "      fill: #FFFFFF;\n",
              "    }\n",
              "  </style>\n",
              "\n",
              "      <script>\n",
              "        const buttonEl =\n",
              "          document.querySelector('#df-218547a5-86fd-4f79-ab9f-96f9cfa860c7 button.colab-df-convert');\n",
              "        buttonEl.style.display =\n",
              "          google.colab.kernel.accessAllowed ? 'block' : 'none';\n",
              "\n",
              "        async function convertToInteractive(key) {\n",
              "          const element = document.querySelector('#df-218547a5-86fd-4f79-ab9f-96f9cfa860c7');\n",
              "          const dataTable =\n",
              "            await google.colab.kernel.invokeFunction('convertToInteractive',\n",
              "                                                     [key], {});\n",
              "          if (!dataTable) return;\n",
              "\n",
              "          const docLinkHtml = 'Like what you see? Visit the ' +\n",
              "            '<a target=\"_blank\" href=https://colab.research.google.com/notebooks/data_table.ipynb>data table notebook</a>'\n",
              "            + ' to learn more about interactive tables.';\n",
              "          element.innerHTML = '';\n",
              "          dataTable['output_type'] = 'display_data';\n",
              "          await google.colab.output.renderOutput(dataTable, element);\n",
              "          const docLink = document.createElement('div');\n",
              "          docLink.innerHTML = docLinkHtml;\n",
              "          element.appendChild(docLink);\n",
              "        }\n",
              "      </script>\n",
              "    </div>\n",
              "  </div>\n",
              "  "
            ],
            "text/plain": [
              "     abeil  aberr  accord  accueil  achat  ...  éven  évit  évitent  évolu  évoquent\n",
              "8        0      0       0        0      0  ...     0     0        0      0         0\n",
              "95       0      0       0        0      0  ...     0     0        0      0         0\n",
              "111      0      0       0        0      0  ...     0     0        0      0         0\n",
              "183      0      0       0        0      0  ...     0     0        0      0         0\n",
              "33       0      0       0        0      0  ...     0     0        0      0         0\n",
              "36       0      0       0        0      0  ...     0     0        0      0         0\n",
              "50       0      0       0        0      0  ...     0     0        0      0         0\n",
              "105      0      0       0        0      0  ...     0     0        0      0         0\n",
              "137      0      0       0        0      0  ...     0     0        0      0         0\n",
              "18       0      0       0        0      0  ...     0     0        0      0         0\n",
              "\n",
              "[10 rows x 828 columns]"
            ]
          },
          "metadata": {},
          "execution_count": 556
        }
      ]
    },
    {
      "cell_type": "markdown",
      "source": [
        "### Déclaration des fonctions de visualisation pour les vecteurs de mots"
      ],
      "metadata": {
        "id": "15qsVEwmOraP"
      }
    },
    {
      "cell_type": "code",
      "source": [
        "def TSNE_plot_vocab(model):\n",
        "  labels = []\n",
        "  tokens = []\n",
        "\n",
        "  for word in model.wv.index_to_key:\n",
        "      tokens.append(model.wv[word])\n",
        "      labels.append(word)\n",
        "  \n",
        "  tsne_model = TSNE(perplexity=40, n_components=2, init='pca', n_iter=2500, random_state=23, n_jobs = cpu_count())\n",
        "  new_values = tsne_model.fit_transform(tokens)\n",
        "\n",
        "  x = []\n",
        "  y = []\n",
        "  for value in new_values:\n",
        "    x.append(value[0])\n",
        "    y.append(value[1])\n",
        "      \n",
        "  plt.figure(figsize=(16, 16)) \n",
        "  for i in range(len(x)):\n",
        "    plt.scatter(x[i],y[i])\n",
        "    plt.annotate(labels[i],\n",
        "                xy=(x[i], y[i]),\n",
        "                xytext=(5, 2),\n",
        "                textcoords='offset points',\n",
        "                ha='right',\n",
        "                va='bottom')\n",
        "  plt.show()\n",
        "\n",
        "def TSNE_mots_similaires(model, word):\n",
        "  arr = np.empty((0,300), dtype='f')\n",
        "  word_labels = [word]\n",
        "  nb_sim_words = 10\n",
        "  close_words = model.wv.similar_by_word(word)[:nb_sim_words]\n",
        "\n",
        "  arr = np.append(arr, np.array([model.wv[word]]), axis=0)\n",
        "  for wrd_score in close_words:\n",
        "    wrd_vector = model.wv[wrd_score[0]]\n",
        "    word_labels.append(wrd_score[0])\n",
        "    arr = np.append(arr, np.array([wrd_vector]), axis=0)\n",
        "\n",
        "  tsne = TSNE(n_components=2, random_state=0)\n",
        "  np.set_printoptions(suppress=True)\n",
        "  Y = tsne.fit_transform(arr)\n",
        "\n",
        "  x_coords = Y[:, 0]\n",
        "  y_coords = Y[:, 1]\n",
        "\n",
        "  color = ['red']\n",
        "  for i in range(nb_sim_words):\n",
        "    color.append('blue')\n",
        "\n",
        "  plt.scatter(x_coords, y_coords, c = color)\n",
        "\n",
        "  for label, x, y in zip(word_labels, x_coords, y_coords):\n",
        "    plt.annotate(label, xy=(x, y), xytext=(1, 5), textcoords='offset points')\n",
        "  plt.xlim(min(x_coords)-100, max(x_coords)+100)\n",
        "  plt.ylim(min(y_coords)-100, max(y_coords)+100)\n",
        "  plt.show()"
      ],
      "metadata": {
        "id": "W85VJ6RL3n2V",
        "execution": {
          "iopub.status.busy": "2022-01-26T15:20:50.924900Z",
          "iopub.execute_input": "2022-01-26T15:20:50.925312Z",
          "iopub.status.idle": "2022-01-26T15:20:50.937750Z",
          "shell.execute_reply.started": "2022-01-26T15:20:50.925284Z",
          "shell.execute_reply": "2022-01-26T15:20:50.936732Z"
        },
        "trusted": true
      },
      "execution_count": 557,
      "outputs": []
    },
    {
      "cell_type": "markdown",
      "source": [
        "#### *Word2vec*"
      ],
      "metadata": {
        "id": "fhv1jjd_3l5d"
      }
    },
    {
      "cell_type": "code",
      "source": [
        "TSNE_plot_vocab(w2vec_model)"
      ],
      "metadata": {
        "id": "4mB2hpiVPWZd",
        "outputId": "83ee469d-55bd-4c15-d44c-0b34c0567cb3",
        "execution": {
          "iopub.status.busy": "2022-01-26T15:20:55.954206Z",
          "iopub.execute_input": "2022-01-26T15:20:55.954447Z",
          "iopub.status.idle": "2022-01-26T15:23:00.846429Z",
          "shell.execute_reply.started": "2022-01-26T15:20:55.954422Z",
          "shell.execute_reply": "2022-01-26T15:23:00.845779Z"
        },
        "trusted": true,
        "colab": {
          "base_uri": "https://localhost:8080/",
          "height": 918
        }
      },
      "execution_count": 558,
      "outputs": [
        {
          "output_type": "display_data",
          "data": {
            "image/png": "[encoded data removed]",
            "text/plain": [
              "<Figure size 1152x1152 with 1 Axes>"
            ]
          },
          "metadata": {
            "needs_background": "light"
          }
        }
      ]
    },
    {
      "cell_type": "code",
      "source": [
        "w2vec_model.wv.most_similar('vaccin')"
      ],
      "metadata": {
        "id": "rRDexMP128AA",
        "outputId": "3ef817c2-29cb-4b01-beb2-f8402a31f8e4",
        "execution": {
          "iopub.status.busy": "2022-01-26T15:23:34.911594Z",
          "iopub.execute_input": "2022-01-26T15:23:34.911876Z",
          "iopub.status.idle": "2022-01-26T15:23:34.925145Z",
          "shell.execute_reply.started": "2022-01-26T15:23:34.911841Z",
          "shell.execute_reply": "2022-01-26T15:23:34.924413Z"
        },
        "trusted": true,
        "colab": {
          "base_uri": "https://localhost:8080/"
        }
      },
      "execution_count": 559,
      "outputs": [
        {
          "output_type": "execute_result",
          "data": {
            "text/plain": [
              "[('gouvern', 0.2257436364889145),\n",
              " ('vari', 0.20270119607448578),\n",
              " ('form', 0.13613738119602203),\n",
              " ('pens', 0.1312275528907776),\n",
              " ('fair', 0.11890861392021179),\n",
              " ('virus', 0.11326742172241211),\n",
              " ('semain', 0.10458063334226608),\n",
              " ('soir', 0.09786596894264221),\n",
              " ('ministr', 0.0974099189043045),\n",
              " ('franc', 0.08470477908849716)]"
            ]
          },
          "metadata": {},
          "execution_count": 559
        }
      ]
    },
    {
      "cell_type": "markdown",
      "source": [
        "> Les mots les plus corrélés avec *vaccin* et leurs seuils de corrélation"
      ],
      "metadata": {
        "id": "LE48odgpxP0t"
      }
    },
    {
      "cell_type": "code",
      "source": [
        "TSNE_mots_similaires(w2vec_model, \"vaccin\")"
      ],
      "metadata": {
        "id": "2_NbiD4C30Io",
        "outputId": "ac4f7bdc-f8d8-4b8f-feff-ecd171d07664",
        "execution": {
          "iopub.status.busy": "2022-01-26T15:25:35.676072Z",
          "iopub.execute_input": "2022-01-26T15:25:35.676339Z",
          "iopub.status.idle": "2022-01-26T15:25:36.102590Z",
          "shell.execute_reply.started": "2022-01-26T15:25:35.676312Z",
          "shell.execute_reply": "2022-01-26T15:25:36.101743Z"
        },
        "trusted": true,
        "colab": {
          "base_uri": "https://localhost:8080/",
          "height": 264
        }
      },
      "execution_count": 560,
      "outputs": [
        {
          "output_type": "display_data",
          "data": {
            "image/png": "[encoded data removed]",
            "text/plain": [
              "<Figure size 432x288 with 1 Axes>"
            ]
          },
          "metadata": {
            "needs_background": "light"
          }
        }
      ]
    },
    {
      "cell_type": "markdown",
      "source": [
        "#### *Fast Text*"
      ],
      "metadata": {
        "id": "_JeI1FQH4SMx"
      }
    },
    {
      "cell_type": "code",
      "source": [
        "TSNE_plot_vocab(fastText_model)"
      ],
      "metadata": {
        "id": "vOTBreIGPYzU",
        "outputId": "d0c6b1c9-441f-42ef-cb43-70571d93a5ef",
        "execution": {
          "iopub.status.busy": "2022-01-26T15:25:55.939745Z",
          "iopub.execute_input": "2022-01-26T15:25:55.940000Z",
          "iopub.status.idle": "2022-01-26T15:27:54.009375Z",
          "shell.execute_reply.started": "2022-01-26T15:25:55.939973Z",
          "shell.execute_reply": "2022-01-26T15:27:54.008653Z"
        },
        "trusted": true,
        "colab": {
          "base_uri": "https://localhost:8080/",
          "height": 918
        }
      },
      "execution_count": 561,
      "outputs": [
        {
          "output_type": "display_data",
          "data": {
            "image/png": "[encoded data removed]",
            "text/plain": [
              "<Figure size 1152x1152 with 1 Axes>"
            ]
          },
          "metadata": {
            "needs_background": "light"
          }
        }
      ]
    },
    {
      "cell_type": "code",
      "source": [
        "fastText_model.wv.most_similar('vaccin')"
      ],
      "metadata": {
        "id": "R0p3GSDz4UJ1",
        "outputId": "5e3f9c9a-fab3-4478-a8d1-efc818ea8b30",
        "execution": {
          "iopub.status.busy": "2022-01-26T15:28:03.066790Z",
          "iopub.execute_input": "2022-01-26T15:28:03.067230Z",
          "iopub.status.idle": "2022-01-26T15:28:03.078208Z",
          "shell.execute_reply.started": "2022-01-26T15:28:03.067191Z",
          "shell.execute_reply": "2022-01-26T15:28:03.077065Z"
        },
        "trusted": true,
        "colab": {
          "base_uri": "https://localhost:8080/"
        }
      },
      "execution_count": 562,
      "outputs": [
        {
          "output_type": "execute_result",
          "data": {
            "text/plain": [
              "[('dos', 0.13282303512096405),\n",
              " ('pens', 0.13034150004386902),\n",
              " ('heureux', 0.1269383728504181),\n",
              " ('indispens', 0.11780335009098053),\n",
              " ('aller', 0.11453504860401154),\n",
              " ('moment', 0.11200413852930069),\n",
              " ('évit', 0.11035245656967163),\n",
              " ('faut', 0.11003785580396652),\n",
              " ('mort', 0.10440515726804733),\n",
              " ('grav', 0.09844818711280823)]"
            ]
          },
          "metadata": {},
          "execution_count": 562
        }
      ]
    },
    {
      "cell_type": "code",
      "source": [
        "TSNE_mots_similaires(fastText_model, \"vaccin\")"
      ],
      "metadata": {
        "id": "yL5eEH894Xrh",
        "outputId": "d82db7c7-cf0b-4bd8-84c1-0358b6c6be02",
        "execution": {
          "iopub.status.busy": "2022-01-26T15:28:19.347806Z",
          "iopub.execute_input": "2022-01-26T15:28:19.348064Z",
          "iopub.status.idle": "2022-01-26T15:28:19.755484Z",
          "shell.execute_reply.started": "2022-01-26T15:28:19.348038Z",
          "shell.execute_reply": "2022-01-26T15:28:19.754051Z"
        },
        "trusted": true,
        "colab": {
          "base_uri": "https://localhost:8080/",
          "height": 264
        }
      },
      "execution_count": 563,
      "outputs": [
        {
          "output_type": "display_data",
          "data": {
            "image/png": "[encoded data removed]",
            "text/plain": [
              "<Figure size 432x288 with 1 Axes>"
            ]
          },
          "metadata": {
            "needs_background": "light"
          }
        }
      ]
    },
    {
      "cell_type": "markdown",
      "source": [
        "# Réduction de la dimensionnalité"
      ],
      "metadata": {
        "id": "6hQEvzJFxP0u"
      }
    },
    {
      "cell_type": "markdown",
      "source": [
        "## *Latent Semantic Analysis/Index*"
      ],
      "metadata": {
        "id": "imllOncFxP0u"
      }
    },
    {
      "cell_type": "markdown",
      "source": [
        "> Nous utiliserons LSA pour réduire la dimensionnalité des données avant de les intégrer dans un modèle"
      ],
      "metadata": {
        "id": "4ywuQkmvxP0v"
      }
    },
    {
      "cell_type": "markdown",
      "source": [
        "### *Bag of words*"
      ],
      "metadata": {
        "id": "qyvXm0zMxP0v"
      }
    },
    {
      "cell_type": "code",
      "source": [
        "print(f'dimension initiale {X_train_bow.shape[1]}')"
      ],
      "metadata": {
        "execution": {
          "iopub.status.busy": "2022-01-26T15:44:09.383035Z",
          "iopub.execute_input": "2022-01-26T15:44:09.383737Z",
          "iopub.status.idle": "2022-01-26T15:44:09.388148Z",
          "shell.execute_reply.started": "2022-01-26T15:44:09.383680Z",
          "shell.execute_reply": "2022-01-26T15:44:09.387422Z"
        },
        "trusted": true,
        "colab": {
          "base_uri": "https://localhost:8080/"
        },
        "id": "9CAG5-FBxP0v",
        "outputId": "b4c27161-09e5-4358-de20-0380e8573293"
      },
      "execution_count": 564,
      "outputs": [
        {
          "output_type": "stream",
          "name": "stdout",
          "text": [
            "dimension initiale 828\n"
          ]
        }
      ]
    },
    {
      "cell_type": "markdown",
      "source": [
        "#### Nous appliquons *LSA*"
      ],
      "metadata": {
        "id": "klM4QUFpxP0v"
      }
    },
    {
      "cell_type": "code",
      "source": [
        "lsa_obj = TruncatedSVD(n_components=300, n_iter=100, random_state=42)\n",
        "lsa_obj.fit(X_train_bow)"
      ],
      "metadata": {
        "execution": {
          "iopub.status.busy": "2022-01-26T15:44:11.545673Z",
          "iopub.execute_input": "2022-01-26T15:44:11.546179Z",
          "iopub.status.idle": "2022-01-26T15:46:47.493784Z",
          "shell.execute_reply.started": "2022-01-26T15:44:11.546136Z",
          "shell.execute_reply": "2022-01-26T15:46:47.492754Z"
        },
        "trusted": true,
        "colab": {
          "base_uri": "https://localhost:8080/"
        },
        "id": "8sGsKMjkxP0w",
        "outputId": "9eab0e2a-5865-4daa-8730-56d7dd1961f4"
      },
      "execution_count": 565,
      "outputs": [
        {
          "output_type": "execute_result",
          "data": {
            "text/plain": [
              "TruncatedSVD(n_components=300, n_iter=100, random_state=42)"
            ]
          },
          "metadata": {},
          "execution_count": 565
        }
      ]
    },
    {
      "cell_type": "markdown",
      "source": [
        "#### Informations"
      ],
      "metadata": {
        "id": "0a6_CId6xP0w"
      }
    },
    {
      "cell_type": "code",
      "source": [
        "lsa_obj.explained_variance_ratio_.sum()"
      ],
      "metadata": {
        "execution": {
          "iopub.status.busy": "2022-01-26T15:33:09.455677Z",
          "iopub.execute_input": "2022-01-26T15:33:09.455928Z",
          "iopub.status.idle": "2022-01-26T15:33:09.460974Z",
          "shell.execute_reply.started": "2022-01-26T15:33:09.455903Z",
          "shell.execute_reply": "2022-01-26T15:33:09.460115Z"
        },
        "trusted": true,
        "colab": {
          "base_uri": "https://localhost:8080/"
        },
        "id": "F3bEZRKzxP0w",
        "outputId": "573eb759-c59c-425e-f3df-e5ba6a007950"
      },
      "execution_count": 566,
      "outputs": [
        {
          "output_type": "execute_result",
          "data": {
            "text/plain": [
              "1.0"
            ]
          },
          "metadata": {},
          "execution_count": 566
        }
      ]
    },
    {
      "cell_type": "markdown",
      "source": [
        "> 87% de l'inertie est conservée après la réduction"
      ],
      "metadata": {
        "id": "_l2LdEAtxP0x"
      }
    },
    {
      "cell_type": "markdown",
      "source": [
        "#### Transformation"
      ],
      "metadata": {
        "id": "90OnEvECxP0x"
      }
    },
    {
      "cell_type": "code",
      "source": [
        "X_train_bow_lsa = lsa_obj.transform(X_train_bow)\n",
        "X_test_bow_lsa = lsa_obj.transform(X_test_bow)"
      ],
      "metadata": {
        "execution": {
          "iopub.status.busy": "2022-01-26T15:47:18.592036Z",
          "iopub.execute_input": "2022-01-26T15:47:18.592747Z",
          "iopub.status.idle": "2022-01-26T15:47:18.842146Z",
          "shell.execute_reply.started": "2022-01-26T15:47:18.592680Z",
          "shell.execute_reply": "2022-01-26T15:47:18.841098Z"
        },
        "trusted": true,
        "id": "mR1mhboxxP0x"
      },
      "execution_count": 567,
      "outputs": []
    },
    {
      "cell_type": "markdown",
      "source": [
        "### *Word2vec*"
      ],
      "metadata": {
        "id": "nxKo9D35xP0x"
      }
    },
    {
      "cell_type": "code",
      "source": [
        "print(f'dimension initiale {X_train_w2v.shape[1]}')"
      ],
      "metadata": {
        "execution": {
          "iopub.status.busy": "2022-01-26T15:47:26.551443Z",
          "iopub.execute_input": "2022-01-26T15:47:26.552292Z",
          "iopub.status.idle": "2022-01-26T15:47:26.556031Z",
          "shell.execute_reply.started": "2022-01-26T15:47:26.552260Z",
          "shell.execute_reply": "2022-01-26T15:47:26.555541Z"
        },
        "trusted": true,
        "colab": {
          "base_uri": "https://localhost:8080/"
        },
        "id": "D7oq1UAmxP0x",
        "outputId": "107a1b0d-e6b4-492c-88c7-b60f1be6b861"
      },
      "execution_count": 568,
      "outputs": [
        {
          "output_type": "stream",
          "name": "stdout",
          "text": [
            "dimension initiale 300\n"
          ]
        }
      ]
    },
    {
      "cell_type": "code",
      "source": [
        "lsa_obj = TruncatedSVD(n_components=50, n_iter=100, random_state=42)\n",
        "lsa_obj.fit(X_train_w2v)"
      ],
      "metadata": {
        "execution": {
          "iopub.status.busy": "2022-01-26T15:47:29.930638Z",
          "iopub.execute_input": "2022-01-26T15:47:29.930975Z",
          "iopub.status.idle": "2022-01-26T15:47:32.894078Z",
          "shell.execute_reply.started": "2022-01-26T15:47:29.930941Z",
          "shell.execute_reply": "2022-01-26T15:47:32.893573Z"
        },
        "trusted": true,
        "colab": {
          "base_uri": "https://localhost:8080/"
        },
        "id": "H7GpQYjyxP0x",
        "outputId": "de5eda17-3637-41ac-f47c-33e2cd727b88"
      },
      "execution_count": 569,
      "outputs": [
        {
          "output_type": "execute_result",
          "data": {
            "text/plain": [
              "TruncatedSVD(n_components=50, n_iter=100, random_state=42)"
            ]
          },
          "metadata": {},
          "execution_count": 569
        }
      ]
    },
    {
      "cell_type": "code",
      "source": [
        "lsa_obj.explained_variance_ratio_.sum()"
      ],
      "metadata": {
        "execution": {
          "iopub.status.busy": "2022-01-26T15:47:56.165056Z",
          "iopub.execute_input": "2022-01-26T15:47:56.165457Z",
          "iopub.status.idle": "2022-01-26T15:47:56.170479Z",
          "shell.execute_reply.started": "2022-01-26T15:47:56.165417Z",
          "shell.execute_reply": "2022-01-26T15:47:56.170024Z"
        },
        "trusted": true,
        "colab": {
          "base_uri": "https://localhost:8080/"
        },
        "id": "hCtjPqvmxP0x",
        "outputId": "f53f4f83-28ac-4872-9753-dfad5e823be4"
      },
      "execution_count": 570,
      "outputs": [
        {
          "output_type": "execute_result",
          "data": {
            "text/plain": [
              "0.963384629118383"
            ]
          },
          "metadata": {},
          "execution_count": 570
        }
      ]
    },
    {
      "cell_type": "markdown",
      "source": [
        "> 99% de l'inertie est conservée après la réduction"
      ],
      "metadata": {
        "id": "XKgZmzecxP0y"
      }
    },
    {
      "cell_type": "code",
      "source": [
        "X_train_w2v_lsa = lsa_obj.transform(X_train_w2v)\n",
        "X_test_w2v_lsa = lsa_obj.transform(X_test_w2v)"
      ],
      "metadata": {
        "execution": {
          "iopub.status.busy": "2022-01-26T15:48:15.771571Z",
          "iopub.execute_input": "2022-01-26T15:48:15.772044Z",
          "iopub.status.idle": "2022-01-26T15:48:15.794151Z",
          "shell.execute_reply.started": "2022-01-26T15:48:15.772008Z",
          "shell.execute_reply": "2022-01-26T15:48:15.793462Z"
        },
        "trusted": true,
        "id": "YZlPLfATxP0y"
      },
      "execution_count": 571,
      "outputs": []
    },
    {
      "cell_type": "markdown",
      "source": [
        "### *Fast Text*"
      ],
      "metadata": {
        "id": "j2VHdtUBxP0y"
      }
    },
    {
      "cell_type": "code",
      "source": [
        "print(f'dimension initiale {X_train_ftxt.shape[1]}')"
      ],
      "metadata": {
        "execution": {
          "iopub.status.busy": "2022-01-26T15:48:21.481232Z",
          "iopub.execute_input": "2022-01-26T15:48:21.482062Z",
          "iopub.status.idle": "2022-01-26T15:48:21.489132Z",
          "shell.execute_reply.started": "2022-01-26T15:48:21.482020Z",
          "shell.execute_reply": "2022-01-26T15:48:21.488526Z"
        },
        "trusted": true,
        "colab": {
          "base_uri": "https://localhost:8080/"
        },
        "id": "yz2f5BUkxP0y",
        "outputId": "22ff60c2-1d7f-4ff1-8474-3e7d36c7b3dc"
      },
      "execution_count": 572,
      "outputs": [
        {
          "output_type": "stream",
          "name": "stdout",
          "text": [
            "dimension initiale 300\n"
          ]
        }
      ]
    },
    {
      "cell_type": "code",
      "source": [
        "lsa_obj = TruncatedSVD(n_components=50, n_iter=100, random_state=42)\n",
        "lsa_obj.fit(X_train_ftxt)"
      ],
      "metadata": {
        "execution": {
          "iopub.status.busy": "2022-01-26T15:48:24.433810Z",
          "iopub.execute_input": "2022-01-26T15:48:24.434649Z",
          "iopub.status.idle": "2022-01-26T15:48:27.471614Z",
          "shell.execute_reply.started": "2022-01-26T15:48:24.434611Z",
          "shell.execute_reply": "2022-01-26T15:48:27.470923Z"
        },
        "trusted": true,
        "colab": {
          "base_uri": "https://localhost:8080/"
        },
        "id": "YSGFNKchxP0y",
        "outputId": "6c2bdebd-343f-4ca2-dd60-521142191c52"
      },
      "execution_count": 573,
      "outputs": [
        {
          "output_type": "execute_result",
          "data": {
            "text/plain": [
              "TruncatedSVD(n_components=50, n_iter=100, random_state=42)"
            ]
          },
          "metadata": {},
          "execution_count": 573
        }
      ]
    },
    {
      "cell_type": "code",
      "source": [
        "lsa_obj.explained_variance_ratio_.sum()"
      ],
      "metadata": {
        "execution": {
          "iopub.status.busy": "2022-01-26T15:48:30.300367Z",
          "iopub.execute_input": "2022-01-26T15:48:30.300613Z",
          "iopub.status.idle": "2022-01-26T15:48:30.305989Z",
          "shell.execute_reply.started": "2022-01-26T15:48:30.300587Z",
          "shell.execute_reply": "2022-01-26T15:48:30.305464Z"
        },
        "trusted": true,
        "colab": {
          "base_uri": "https://localhost:8080/"
        },
        "id": "bKsa6ul1xP0y",
        "outputId": "c595cfb0-568c-4247-c870-e069f5ccd3a6"
      },
      "execution_count": 574,
      "outputs": [
        {
          "output_type": "execute_result",
          "data": {
            "text/plain": [
              "0.9714836409298114"
            ]
          },
          "metadata": {},
          "execution_count": 574
        }
      ]
    },
    {
      "cell_type": "markdown",
      "source": [
        "> 87% de l'inertie est conservée après la réduction"
      ],
      "metadata": {
        "id": "tC9GpPNZxP0y"
      }
    },
    {
      "cell_type": "code",
      "source": [
        "X_train_ftxt_lsa = lsa_obj.transform(X_train_ftxt)\n",
        "X_test_ftxt_lsa = lsa_obj.transform(X_test_ftxt)"
      ],
      "metadata": {
        "execution": {
          "iopub.status.busy": "2022-01-26T15:48:36.769391Z",
          "iopub.execute_input": "2022-01-26T15:48:36.769879Z",
          "iopub.status.idle": "2022-01-26T15:48:36.795178Z",
          "shell.execute_reply.started": "2022-01-26T15:48:36.769846Z",
          "shell.execute_reply": "2022-01-26T15:48:36.794498Z"
        },
        "trusted": true,
        "id": "ur7XIvI0xP0y"
      },
      "execution_count": 575,
      "outputs": []
    },
    {
      "cell_type": "markdown",
      "source": [
        "# Entrainement du modèle"
      ],
      "metadata": {
        "id": "1oLOpnSo12_t"
      }
    },
    {
      "cell_type": "markdown",
      "source": [
        "## Métriques"
      ],
      "metadata": {
        "id": "9pSjhIx_sdaD"
      }
    },
    {
      "cell_type": "code",
      "source": [
        "metrics_bow = pd.DataFrame(\n",
        "    columns = ['model', 'train accuracy', 'accuracy', 'f1', 'precision', 'recall']\n",
        ")\n",
        "\n",
        "metrics_w2v = pd.DataFrame(\n",
        "    columns = ['model', 'train accuracy', 'accuracy', 'f1', 'precision', 'recall']\n",
        ")\n",
        "\n",
        "metrics_ftxt = pd.DataFrame(\n",
        "    columns = ['model', 'train accuracy', 'accuracy', 'f1', 'precision', 'recall']\n",
        ")"
      ],
      "metadata": {
        "id": "Z8DOehJgseeM",
        "execution": {
          "iopub.status.busy": "2022-01-26T15:48:39.437319Z",
          "iopub.execute_input": "2022-01-26T15:48:39.437601Z",
          "iopub.status.idle": "2022-01-26T15:48:39.449056Z",
          "shell.execute_reply.started": "2022-01-26T15:48:39.437570Z",
          "shell.execute_reply": "2022-01-26T15:48:39.448337Z"
        },
        "trusted": true
      },
      "execution_count": 576,
      "outputs": []
    },
    {
      "cell_type": "markdown",
      "source": [
        "## *Linear Support Vector Machine*\n",
        "> *Linear SVM* est plus compatible avec les données textuelles\n"
      ],
      "metadata": {
        "id": "4d_f8mRV6kVl"
      }
    },
    {
      "cell_type": "markdown",
      "source": [
        "#### Paramètres"
      ],
      "metadata": {
        "id": "4z5MaK406zDf"
      }
    },
    {
      "cell_type": "code",
      "source": [
        "param_svm = {\n",
        "  \"loss\" : [\"hinge\", \"log\"], # La fonction de perte à utiliser. La valeur par défaut est \"hinge\", ce qui donne un SVM linéaire, la perte « log » donne une régression logistique, un classificateur probabiliste.\n",
        "  \"alpha\" : [0.0001, 0.001, 0.01, 0.1, 1, 10, 100], # Constante qui multiplie le terme de régularisation. Plus la valeur est élevée, plus la régularisation est forte.\n",
        "  \"penalty\" : [\"l1\", \"l2\"] # Spécifie la norme utilisée dans la pénalisation.\n",
        "}"
      ],
      "metadata": {
        "id": "mWFpN7YC60c5",
        "execution": {
          "iopub.status.busy": "2022-01-26T16:19:43.626845Z",
          "iopub.execute_input": "2022-01-26T16:19:43.628842Z",
          "iopub.status.idle": "2022-01-26T16:19:43.635342Z",
          "shell.execute_reply.started": "2022-01-26T16:19:43.628806Z",
          "shell.execute_reply": "2022-01-26T16:19:43.634677Z"
        },
        "trusted": true
      },
      "execution_count": 577,
      "outputs": []
    },
    {
      "cell_type": "markdown",
      "source": [
        "### *Bag-of-Words*"
      ],
      "metadata": {
        "id": "hYPmsSgy7Fk1"
      }
    },
    {
      "cell_type": "code",
      "source": [
        "svm_grid_bow = GridSearchCV(SGDClassifier(), param_svm, n_jobs = cpu_count())\n",
        "svm_grid_bow.fit(X_train_bow_lsa, y_train)"
      ],
      "metadata": {
        "id": "vT78E8_97DgF",
        "execution": {
          "iopub.status.busy": "2022-01-26T15:48:46.263491Z",
          "iopub.execute_input": "2022-01-26T15:48:46.264145Z",
          "iopub.status.idle": "2022-01-26T15:51:39.821943Z",
          "shell.execute_reply.started": "2022-01-26T15:48:46.264108Z",
          "shell.execute_reply": "2022-01-26T15:51:39.821202Z"
        },
        "trusted": true,
        "colab": {
          "base_uri": "https://localhost:8080/"
        },
        "outputId": "0e07a025-721e-4f04-b475-f94664e69ab6"
      },
      "execution_count": 578,
      "outputs": [
        {
          "output_type": "execute_result",
          "data": {
            "text/plain": [
              "GridSearchCV(estimator=SGDClassifier(), n_jobs=2,\n",
              "             param_grid={'alpha': [0.0001, 0.001, 0.01, 0.1, 1, 10, 100],\n",
              "                         'loss': ['hinge', 'log'], 'penalty': ['l1', 'l2']})"
            ]
          },
          "metadata": {},
          "execution_count": 578
        }
      ]
    },
    {
      "cell_type": "code",
      "source": [
        "model_svm_bow = svm_grid_bow.best_estimator_"
      ],
      "metadata": {
        "id": "_ESdfLapdbbU",
        "execution": {
          "iopub.status.busy": "2022-01-26T15:51:48.848312Z",
          "iopub.execute_input": "2022-01-26T15:51:48.848857Z",
          "iopub.status.idle": "2022-01-26T15:51:48.852276Z",
          "shell.execute_reply.started": "2022-01-26T15:51:48.848828Z",
          "shell.execute_reply": "2022-01-26T15:51:48.851541Z"
        },
        "trusted": true
      },
      "execution_count": 579,
      "outputs": []
    },
    {
      "cell_type": "code",
      "source": [
        "y_pred = model_svm_bow.predict(X_test_bow_lsa)"
      ],
      "metadata": {
        "id": "jleytoakd8iU",
        "execution": {
          "iopub.status.busy": "2022-01-26T15:51:52.613642Z",
          "iopub.execute_input": "2022-01-26T15:51:52.614274Z",
          "iopub.status.idle": "2022-01-26T15:51:52.630263Z",
          "shell.execute_reply.started": "2022-01-26T15:51:52.614241Z",
          "shell.execute_reply": "2022-01-26T15:51:52.629676Z"
        },
        "trusted": true
      },
      "execution_count": 580,
      "outputs": []
    },
    {
      "cell_type": "code",
      "source": [
        "metrics_bow.loc[len(metrics_bow)] = [\n",
        "  'SVM',\n",
        "  svm_grid_bow.best_score_,\n",
        "  accuracy_score(y_test, y_pred),\n",
        "  f1_score(y_test, y_pred, average = 'weighted', labels = np.unique(y_pred)),\n",
        "  precision_score(y_test, y_pred, average = 'weighted', labels = np.unique(y_pred)),\n",
        "  recall_score(y_test, y_pred, average = 'weighted', labels = np.unique(y_pred)),\n",
        "]"
      ],
      "metadata": {
        "id": "7DMm1FSbdVQb",
        "execution": {
          "iopub.status.busy": "2022-01-26T15:52:30.469772Z",
          "iopub.execute_input": "2022-01-26T15:52:30.470172Z",
          "iopub.status.idle": "2022-01-26T15:52:30.534398Z",
          "shell.execute_reply.started": "2022-01-26T15:52:30.470141Z",
          "shell.execute_reply": "2022-01-26T15:52:30.533658Z"
        },
        "trusted": true
      },
      "execution_count": 581,
      "outputs": []
    },
    {
      "cell_type": "markdown",
      "source": [
        "### *Word2vec*"
      ],
      "metadata": {
        "id": "_dYHQLSFCIv6"
      }
    },
    {
      "cell_type": "code",
      "source": [
        "svm_grid_w2v = GridSearchCV(SGDClassifier(), param_svm, n_jobs = cpu_count())\n",
        "svm_grid_w2v.fit(X_train_w2v_lsa, y_train)"
      ],
      "metadata": {
        "id": "QQimjK4DCNf7",
        "execution": {
          "iopub.status.busy": "2022-01-26T15:52:42.188748Z",
          "iopub.execute_input": "2022-01-26T15:52:42.189475Z",
          "iopub.status.idle": "2022-01-26T15:52:51.555644Z",
          "shell.execute_reply.started": "2022-01-26T15:52:42.189434Z",
          "shell.execute_reply": "2022-01-26T15:52:51.554956Z"
        },
        "trusted": true,
        "colab": {
          "base_uri": "https://localhost:8080/"
        },
        "outputId": "fdb74e24-bd5c-4034-8b5c-daf798ddaa46"
      },
      "execution_count": 582,
      "outputs": [
        {
          "output_type": "execute_result",
          "data": {
            "text/plain": [
              "GridSearchCV(estimator=SGDClassifier(), n_jobs=2,\n",
              "             param_grid={'alpha': [0.0001, 0.001, 0.01, 0.1, 1, 10, 100],\n",
              "                         'loss': ['hinge', 'log'], 'penalty': ['l1', 'l2']})"
            ]
          },
          "metadata": {},
          "execution_count": 582
        }
      ]
    },
    {
      "cell_type": "code",
      "source": [
        "model_svm_w2v = svm_grid_w2v.best_estimator_"
      ],
      "metadata": {
        "id": "lOgtgZo3CPAK",
        "execution": {
          "iopub.status.busy": "2022-01-26T15:52:58.605588Z",
          "iopub.execute_input": "2022-01-26T15:52:58.605956Z",
          "iopub.status.idle": "2022-01-26T15:52:58.609880Z",
          "shell.execute_reply.started": "2022-01-26T15:52:58.605911Z",
          "shell.execute_reply": "2022-01-26T15:52:58.609116Z"
        },
        "trusted": true
      },
      "execution_count": 583,
      "outputs": []
    },
    {
      "cell_type": "code",
      "source": [
        "y_pred = model_svm_w2v.predict(X_test_w2v_lsa)"
      ],
      "metadata": {
        "id": "dZd8ruGrCQL7",
        "execution": {
          "iopub.status.busy": "2022-01-26T15:53:01.376395Z",
          "iopub.execute_input": "2022-01-26T15:53:01.377100Z",
          "iopub.status.idle": "2022-01-26T15:53:01.381964Z",
          "shell.execute_reply.started": "2022-01-26T15:53:01.377062Z",
          "shell.execute_reply": "2022-01-26T15:53:01.381413Z"
        },
        "trusted": true
      },
      "execution_count": 584,
      "outputs": []
    },
    {
      "cell_type": "code",
      "source": [
        "metrics_w2v.loc[len(metrics_w2v)] = [\n",
        "  'SVM',\n",
        "  svm_grid_w2v.best_score_,\n",
        "  accuracy_score(y_test, y_pred),\n",
        "  f1_score(y_test, y_pred, average = 'weighted', labels = np.unique(y_pred)),\n",
        "  precision_score(y_test, y_pred, average = 'weighted', labels = np.unique(y_pred)),\n",
        "  recall_score(y_test, y_pred, average = 'weighted', labels = np.unique(y_pred)),\n",
        "]"
      ],
      "metadata": {
        "id": "kkhGLrctCRvi",
        "execution": {
          "iopub.status.busy": "2022-01-26T15:53:05.571200Z",
          "iopub.execute_input": "2022-01-26T15:53:05.571444Z",
          "iopub.status.idle": "2022-01-26T15:53:05.634411Z",
          "shell.execute_reply.started": "2022-01-26T15:53:05.571417Z",
          "shell.execute_reply": "2022-01-26T15:53:05.633901Z"
        },
        "trusted": true
      },
      "execution_count": 585,
      "outputs": []
    },
    {
      "cell_type": "markdown",
      "source": [
        "### *Fast Text*"
      ],
      "metadata": {
        "id": "KzqGtfdiCj6S"
      }
    },
    {
      "cell_type": "code",
      "source": [
        "svm_grid_ftxt = GridSearchCV(SGDClassifier(), param_svm, n_jobs = cpu_count())\n",
        "svm_grid_ftxt.fit(X_train_ftxt_lsa, y_train)"
      ],
      "metadata": {
        "id": "iN1LLtUnCljD",
        "execution": {
          "iopub.status.busy": "2022-01-26T15:53:08.355875Z",
          "iopub.execute_input": "2022-01-26T15:53:08.356619Z",
          "iopub.status.idle": "2022-01-26T15:53:18.497648Z",
          "shell.execute_reply.started": "2022-01-26T15:53:08.356587Z",
          "shell.execute_reply": "2022-01-26T15:53:18.496763Z"
        },
        "trusted": true,
        "colab": {
          "base_uri": "https://localhost:8080/"
        },
        "outputId": "5ed76d21-f963-4996-b4e4-27193f34f3bc"
      },
      "execution_count": 586,
      "outputs": [
        {
          "output_type": "execute_result",
          "data": {
            "text/plain": [
              "GridSearchCV(estimator=SGDClassifier(), n_jobs=2,\n",
              "             param_grid={'alpha': [0.0001, 0.001, 0.01, 0.1, 1, 10, 100],\n",
              "                         'loss': ['hinge', 'log'], 'penalty': ['l1', 'l2']})"
            ]
          },
          "metadata": {},
          "execution_count": 586
        }
      ]
    },
    {
      "cell_type": "code",
      "source": [
        "model_svm_ftxt = svm_grid_ftxt.best_estimator_"
      ],
      "metadata": {
        "id": "hHGedV3WCn3q",
        "execution": {
          "iopub.status.busy": "2022-01-26T15:53:32.308125Z",
          "iopub.execute_input": "2022-01-26T15:53:32.308682Z",
          "iopub.status.idle": "2022-01-26T15:53:32.312524Z",
          "shell.execute_reply.started": "2022-01-26T15:53:32.308641Z",
          "shell.execute_reply": "2022-01-26T15:53:32.312036Z"
        },
        "trusted": true
      },
      "execution_count": 587,
      "outputs": []
    },
    {
      "cell_type": "code",
      "source": [
        "y_pred = model_svm_ftxt.predict(X_test_ftxt_lsa)"
      ],
      "metadata": {
        "id": "zcRuBcQkCpKp",
        "execution": {
          "iopub.status.busy": "2022-01-26T15:53:34.896693Z",
          "iopub.execute_input": "2022-01-26T15:53:34.896964Z",
          "iopub.status.idle": "2022-01-26T15:53:34.904321Z",
          "shell.execute_reply.started": "2022-01-26T15:53:34.896937Z",
          "shell.execute_reply": "2022-01-26T15:53:34.903699Z"
        },
        "trusted": true
      },
      "execution_count": 588,
      "outputs": []
    },
    {
      "cell_type": "code",
      "source": [
        "metrics_ftxt.loc[len(metrics_ftxt)] = [\n",
        "  'SVM',\n",
        "  svm_grid_ftxt.best_score_,\n",
        "  accuracy_score(y_test, y_pred),\n",
        "  f1_score(y_test, y_pred, average = 'weighted', labels = np.unique(y_pred)),\n",
        "  precision_score(y_test, y_pred, average = 'weighted', labels = np.unique(y_pred)),\n",
        "  recall_score(y_test, y_pred, average = 'weighted', labels = np.unique(y_pred)),\n",
        "]"
      ],
      "metadata": {
        "id": "ae0dBDYUCqQj",
        "execution": {
          "iopub.status.busy": "2022-01-26T15:53:49.174987Z",
          "iopub.execute_input": "2022-01-26T15:53:49.175530Z",
          "iopub.status.idle": "2022-01-26T15:53:49.237567Z",
          "shell.execute_reply.started": "2022-01-26T15:53:49.175490Z",
          "shell.execute_reply": "2022-01-26T15:53:49.237113Z"
        },
        "trusted": true
      },
      "execution_count": 589,
      "outputs": []
    },
    {
      "cell_type": "markdown",
      "source": [
        "## *Logistic Regression*"
      ],
      "metadata": {
        "id": "kM7_atu3hYw7"
      }
    },
    {
      "cell_type": "markdown",
      "source": [
        "#### Paramètres"
      ],
      "metadata": {
        "id": "w3vnWz9Q66Sm"
      }
    },
    {
      "cell_type": "code",
      "source": [
        "param_lr = {\n",
        "  \"C\": [1e-5, 1e-4, 1e-3, 1e-2, 1e-1, 1, 10, 100], # Inverse de la force de régularisation ; doit être un flottant positif, les valeurs plus petites spécifient une régularisation plus forte.\n",
        "  \"solver\": ['newton-cg', 'liblinear'], # Algorithme à utiliser dans le problème d'optimisation\n",
        "  \"penalty\": [\"l2\"], # L2 \"Ridge regression\" ajoute la \"magnitude au carré\" du coefficient comme terme de pénalité à la fonction de perte\n",
        "  \"max_iter\": [2000] # Nombre maximal d'itérations nécessaires pour que les solveurs convergent\n",
        "}"
      ],
      "metadata": {
        "id": "ESeC3BF267eO",
        "execution": {
          "iopub.status.busy": "2022-01-26T15:54:03.901856Z",
          "iopub.execute_input": "2022-01-26T15:54:03.902198Z",
          "iopub.status.idle": "2022-01-26T15:54:03.905693Z",
          "shell.execute_reply.started": "2022-01-26T15:54:03.902171Z",
          "shell.execute_reply": "2022-01-26T15:54:03.905226Z"
        },
        "trusted": true
      },
      "execution_count": 590,
      "outputs": []
    },
    {
      "cell_type": "markdown",
      "source": [
        "### *Bag-of-Words*"
      ],
      "metadata": {
        "id": "eXD6o_WqDHhb"
      }
    },
    {
      "cell_type": "code",
      "source": [
        "lr_grid_bow = GridSearchCV(LogisticRegression(), param_lr, n_jobs = 4)\n",
        "lr_grid_bow.fit(X_train_bow_lsa, y_train)"
      ],
      "metadata": {
        "id": "joN9Gq1wDDRK",
        "execution": {
          "iopub.status.busy": "2022-01-26T15:54:06.255299Z",
          "iopub.execute_input": "2022-01-26T15:54:06.255766Z",
          "iopub.status.idle": "2022-01-26T16:00:41.831764Z",
          "shell.execute_reply.started": "2022-01-26T15:54:06.255723Z",
          "shell.execute_reply": "2022-01-26T16:00:41.831081Z"
        },
        "trusted": true,
        "colab": {
          "base_uri": "https://localhost:8080/"
        },
        "outputId": "fd3e543f-93c8-48b2-e0fb-fb11548c4568"
      },
      "execution_count": 591,
      "outputs": [
        {
          "output_type": "execute_result",
          "data": {
            "text/plain": [
              "GridSearchCV(estimator=LogisticRegression(), n_jobs=4,\n",
              "             param_grid={'C': [1e-05, 0.0001, 0.001, 0.01, 0.1, 1, 10, 100],\n",
              "                         'max_iter': [2000], 'penalty': ['l2'],\n",
              "                         'solver': ['newton-cg', 'liblinear']})"
            ]
          },
          "metadata": {},
          "execution_count": 591
        }
      ]
    },
    {
      "cell_type": "code",
      "source": [
        "model_lr_bow = lr_grid_bow.best_estimator_"
      ],
      "metadata": {
        "id": "jo65N9Y0DUV7",
        "execution": {
          "iopub.status.busy": "2022-01-26T16:02:55.484043Z",
          "iopub.execute_input": "2022-01-26T16:02:55.484749Z",
          "iopub.status.idle": "2022-01-26T16:02:55.488450Z",
          "shell.execute_reply.started": "2022-01-26T16:02:55.484695Z",
          "shell.execute_reply": "2022-01-26T16:02:55.487656Z"
        },
        "trusted": true
      },
      "execution_count": 592,
      "outputs": []
    },
    {
      "cell_type": "code",
      "source": [
        "y_pred = model_lr_bow.predict(X_test_bow_lsa)"
      ],
      "metadata": {
        "id": "MBi1o_IpDV26",
        "execution": {
          "iopub.status.busy": "2022-01-26T16:02:57.755774Z",
          "iopub.execute_input": "2022-01-26T16:02:57.756426Z",
          "iopub.status.idle": "2022-01-26T16:02:57.774960Z",
          "shell.execute_reply.started": "2022-01-26T16:02:57.756382Z",
          "shell.execute_reply": "2022-01-26T16:02:57.774215Z"
        },
        "trusted": true
      },
      "execution_count": 593,
      "outputs": []
    },
    {
      "cell_type": "code",
      "source": [
        "metrics_bow.loc[len(metrics_bow)] = [\n",
        "  'Logistic Regression',\n",
        "  lr_grid_bow.best_score_,\n",
        "  accuracy_score(y_test, y_pred),\n",
        "  f1_score(y_test, y_pred, average = 'weighted', labels = np.unique(y_pred)),\n",
        "  precision_score(y_test, y_pred, average = 'weighted', labels = np.unique(y_pred)),\n",
        "  recall_score(y_test, y_pred, average = 'weighted', labels = np.unique(y_pred)),\n",
        "]"
      ],
      "metadata": {
        "id": "9Nhuh0klDXfR",
        "execution": {
          "iopub.status.busy": "2022-01-26T16:02:59.888004Z",
          "iopub.execute_input": "2022-01-26T16:02:59.888279Z",
          "iopub.status.idle": "2022-01-26T16:02:59.975414Z",
          "shell.execute_reply.started": "2022-01-26T16:02:59.888249Z",
          "shell.execute_reply": "2022-01-26T16:02:59.974926Z"
        },
        "trusted": true
      },
      "execution_count": 594,
      "outputs": []
    },
    {
      "cell_type": "markdown",
      "source": [
        "### *Word2Vec*"
      ],
      "metadata": {
        "id": "Sp0ThhQdD756"
      }
    },
    {
      "cell_type": "code",
      "source": [
        "lr_grid_w2v = GridSearchCV(LogisticRegression(), param_lr, n_jobs = cpu_count())\n",
        "lr_grid_w2v.fit(X_train_w2v_lsa, y_train)"
      ],
      "metadata": {
        "id": "jQe4SNHOD-Pz",
        "execution": {
          "iopub.status.busy": "2022-01-26T16:03:03.857133Z",
          "iopub.execute_input": "2022-01-26T16:03:03.857849Z",
          "iopub.status.idle": "2022-01-26T16:03:23.305385Z",
          "shell.execute_reply.started": "2022-01-26T16:03:03.857814Z",
          "shell.execute_reply": "2022-01-26T16:03:23.304455Z"
        },
        "trusted": true,
        "colab": {
          "base_uri": "https://localhost:8080/"
        },
        "outputId": "d6ecd789-3cd9-4abe-f769-c7a768acb294"
      },
      "execution_count": 595,
      "outputs": [
        {
          "output_type": "execute_result",
          "data": {
            "text/plain": [
              "GridSearchCV(estimator=LogisticRegression(), n_jobs=2,\n",
              "             param_grid={'C': [1e-05, 0.0001, 0.001, 0.01, 0.1, 1, 10, 100],\n",
              "                         'max_iter': [2000], 'penalty': ['l2'],\n",
              "                         'solver': ['newton-cg', 'liblinear']})"
            ]
          },
          "metadata": {},
          "execution_count": 595
        }
      ]
    },
    {
      "cell_type": "code",
      "source": [
        "model_lr_w2v = lr_grid_w2v.best_estimator_"
      ],
      "metadata": {
        "id": "yR2rpOGkEBHi",
        "execution": {
          "iopub.status.busy": "2022-01-26T16:03:38.724086Z",
          "iopub.execute_input": "2022-01-26T16:03:38.724340Z",
          "iopub.status.idle": "2022-01-26T16:03:38.728182Z",
          "shell.execute_reply.started": "2022-01-26T16:03:38.724312Z",
          "shell.execute_reply": "2022-01-26T16:03:38.727287Z"
        },
        "trusted": true
      },
      "execution_count": 596,
      "outputs": []
    },
    {
      "cell_type": "code",
      "source": [
        "y_pred = model_lr_w2v.predict(X_test_w2v_lsa)"
      ],
      "metadata": {
        "id": "PxPLHzbaECNL",
        "execution": {
          "iopub.status.busy": "2022-01-26T16:03:40.565159Z",
          "iopub.execute_input": "2022-01-26T16:03:40.565533Z",
          "iopub.status.idle": "2022-01-26T16:03:40.570109Z",
          "shell.execute_reply.started": "2022-01-26T16:03:40.565506Z",
          "shell.execute_reply": "2022-01-26T16:03:40.569590Z"
        },
        "trusted": true
      },
      "execution_count": 597,
      "outputs": []
    },
    {
      "cell_type": "code",
      "source": [
        "metrics_w2v.loc[len(metrics_w2v)] = [\n",
        "  'Logistic Regression',\n",
        "  lr_grid_w2v.best_score_,\n",
        "  accuracy_score(y_test, y_pred),\n",
        "  f1_score(y_test, y_pred, average = 'weighted', labels = np.unique(y_pred)),\n",
        "  precision_score(y_test, y_pred, average = 'weighted', labels = np.unique(y_pred)),\n",
        "  recall_score(y_test, y_pred, average = 'weighted', labels = np.unique(y_pred)),\n",
        "]"
      ],
      "metadata": {
        "id": "_loZdfrbEDT0",
        "execution": {
          "iopub.status.busy": "2022-01-26T16:03:42.794855Z",
          "iopub.execute_input": "2022-01-26T16:03:42.795352Z",
          "iopub.status.idle": "2022-01-26T16:03:42.881422Z",
          "shell.execute_reply.started": "2022-01-26T16:03:42.795318Z",
          "shell.execute_reply": "2022-01-26T16:03:42.880570Z"
        },
        "trusted": true
      },
      "execution_count": 598,
      "outputs": []
    },
    {
      "cell_type": "markdown",
      "source": [
        "## *Fast Text*"
      ],
      "metadata": {
        "id": "Ci0gdChHFgrq"
      }
    },
    {
      "cell_type": "code",
      "source": [
        "lr_grid_ftxt = GridSearchCV(LogisticRegression(), param_lr, n_jobs = cpu_count())\n",
        "lr_grid_ftxt.fit(X_train_ftxt_lsa, y_train)"
      ],
      "metadata": {
        "id": "VmfrqqdIFiKh",
        "execution": {
          "iopub.status.busy": "2022-01-26T16:03:46.178887Z",
          "iopub.execute_input": "2022-01-26T16:03:46.179227Z",
          "iopub.status.idle": "2022-01-26T16:04:12.307296Z",
          "shell.execute_reply.started": "2022-01-26T16:03:46.179201Z",
          "shell.execute_reply": "2022-01-26T16:04:12.306585Z"
        },
        "trusted": true,
        "colab": {
          "base_uri": "https://localhost:8080/"
        },
        "outputId": "a1becc22-24ff-48d3-ac18-64366bbf96fa"
      },
      "execution_count": 599,
      "outputs": [
        {
          "output_type": "execute_result",
          "data": {
            "text/plain": [
              "GridSearchCV(estimator=LogisticRegression(), n_jobs=2,\n",
              "             param_grid={'C': [1e-05, 0.0001, 0.001, 0.01, 0.1, 1, 10, 100],\n",
              "                         'max_iter': [2000], 'penalty': ['l2'],\n",
              "                         'solver': ['newton-cg', 'liblinear']})"
            ]
          },
          "metadata": {},
          "execution_count": 599
        }
      ]
    },
    {
      "cell_type": "code",
      "source": [
        "model_lr_ftxt = lr_grid_ftxt.best_estimator_"
      ],
      "metadata": {
        "id": "WRaHEX_unDzR",
        "execution": {
          "iopub.status.busy": "2022-01-26T16:04:35.456302Z",
          "iopub.execute_input": "2022-01-26T16:04:35.457047Z",
          "iopub.status.idle": "2022-01-26T16:04:35.461423Z",
          "shell.execute_reply.started": "2022-01-26T16:04:35.457016Z",
          "shell.execute_reply": "2022-01-26T16:04:35.460554Z"
        },
        "trusted": true
      },
      "execution_count": 600,
      "outputs": []
    },
    {
      "cell_type": "code",
      "source": [
        "y_pred = model_lr_ftxt.predict(X_test_ftxt_lsa)"
      ],
      "metadata": {
        "id": "p4r98T9WnCjq",
        "execution": {
          "iopub.status.busy": "2022-01-26T16:04:36.984927Z",
          "iopub.execute_input": "2022-01-26T16:04:36.985755Z",
          "iopub.status.idle": "2022-01-26T16:04:36.993012Z",
          "shell.execute_reply.started": "2022-01-26T16:04:36.985663Z",
          "shell.execute_reply": "2022-01-26T16:04:36.992370Z"
        },
        "trusted": true
      },
      "execution_count": 601,
      "outputs": []
    },
    {
      "cell_type": "code",
      "source": [
        "metrics_ftxt.loc[len(metrics_ftxt)] = [\n",
        "  'Logistic Regression',\n",
        "  lr_grid_ftxt.best_score_,\n",
        "  accuracy_score(y_test, y_pred),\n",
        "  f1_score(y_test, y_pred, average = 'weighted', labels = np.unique(y_pred)),\n",
        "  precision_score(y_test, y_pred, average = 'weighted', labels = np.unique(y_pred)),\n",
        "  recall_score(y_test, y_pred, average = 'weighted', labels = np.unique(y_pred)),\n",
        "]"
      ],
      "metadata": {
        "id": "KCBOHwcAnLQb",
        "execution": {
          "iopub.status.busy": "2022-01-26T16:04:39.006705Z",
          "iopub.execute_input": "2022-01-26T16:04:39.007073Z",
          "iopub.status.idle": "2022-01-26T16:04:39.219948Z",
          "shell.execute_reply.started": "2022-01-26T16:04:39.007048Z",
          "shell.execute_reply": "2022-01-26T16:04:39.219157Z"
        },
        "trusted": true
      },
      "execution_count": 602,
      "outputs": []
    },
    {
      "cell_type": "markdown",
      "source": [
        "## *Decision Tree*"
      ],
      "metadata": {
        "id": "u9QAy7I0nQpB"
      }
    },
    {
      "cell_type": "markdown",
      "source": [
        "#### Paramètres"
      ],
      "metadata": {
        "id": "rO33QoYX6_S5"
      }
    },
    {
      "cell_type": "code",
      "source": [
        "param_dt = {\n",
        "    'criterion': ['gini','entropy'], # La fonction pour mesurer la qualité d'une division. Les critères pris en charge sont \"gini\" pour l'impureté Gini et \"entropie\" pour le gain d'information.\n",
        "    'max_depth': np.arange(3, 15) # La profondeur maximale de l'arbre. Si None, les nœuds sont développés jusqu'à ce que toutes les feuilles soient pures ou jusqu'à ce que toutes les feuilles contiennent moins de min_samples_split échantillons.\n",
        "}"
      ],
      "metadata": {
        "id": "rgjjuYlE7AVv",
        "execution": {
          "iopub.status.busy": "2022-01-26T16:06:22.633014Z",
          "iopub.execute_input": "2022-01-26T16:06:22.633342Z",
          "iopub.status.idle": "2022-01-26T16:06:22.638451Z",
          "shell.execute_reply.started": "2022-01-26T16:06:22.633305Z",
          "shell.execute_reply": "2022-01-26T16:06:22.637897Z"
        },
        "trusted": true
      },
      "execution_count": 603,
      "outputs": []
    },
    {
      "cell_type": "markdown",
      "source": [
        "### *Bag-of-Words*"
      ],
      "metadata": {
        "id": "HMBJpys8ow4Y"
      }
    },
    {
      "cell_type": "code",
      "source": [
        "dt_grid_bow = GridSearchCV(DecisionTreeClassifier(), param_dt, n_jobs = cpu_count())\n",
        "dt_grid_bow.fit(X_train_bow_lsa, y_train)"
      ],
      "metadata": {
        "id": "XST_sUjlnU_B",
        "execution": {
          "iopub.status.busy": "2022-01-26T16:06:25.628319Z",
          "iopub.execute_input": "2022-01-26T16:06:25.628755Z",
          "iopub.status.idle": "2022-01-26T16:19:43.594025Z",
          "shell.execute_reply.started": "2022-01-26T16:06:25.628719Z",
          "shell.execute_reply": "2022-01-26T16:19:43.593248Z"
        },
        "trusted": true,
        "colab": {
          "base_uri": "https://localhost:8080/"
        },
        "outputId": "8ac59c43-279e-43d5-e3c0-97030ab6d207"
      },
      "execution_count": 604,
      "outputs": [
        {
          "output_type": "execute_result",
          "data": {
            "text/plain": [
              "GridSearchCV(estimator=DecisionTreeClassifier(), n_jobs=2,\n",
              "             param_grid={'criterion': ['gini', 'entropy'],\n",
              "                         'max_depth': array([ 3,  4,  5,  6,  7,  8,  9, 10, 11, 12, 13, 14])})"
            ]
          },
          "metadata": {},
          "execution_count": 604
        }
      ]
    },
    {
      "cell_type": "code",
      "source": [
        "model_dt_bow = dt_grid_bow.best_estimator_"
      ],
      "metadata": {
        "id": "n0i8MKiZoHhm",
        "execution": {
          "iopub.status.busy": "2022-01-26T16:21:52.807828Z",
          "iopub.execute_input": "2022-01-26T16:21:52.808141Z",
          "iopub.status.idle": "2022-01-26T16:21:52.811482Z",
          "shell.execute_reply.started": "2022-01-26T16:21:52.808106Z",
          "shell.execute_reply": "2022-01-26T16:21:52.811027Z"
        },
        "trusted": true
      },
      "execution_count": 605,
      "outputs": []
    },
    {
      "cell_type": "code",
      "source": [
        "y_pred = model_dt_bow.predict(X_test_bow_lsa)"
      ],
      "metadata": {
        "id": "k-97cILooIpM",
        "execution": {
          "iopub.status.busy": "2022-01-26T16:21:54.743024Z",
          "iopub.execute_input": "2022-01-26T16:21:54.743379Z",
          "iopub.status.idle": "2022-01-26T16:21:54.762267Z",
          "shell.execute_reply.started": "2022-01-26T16:21:54.743352Z",
          "shell.execute_reply": "2022-01-26T16:21:54.761759Z"
        },
        "trusted": true
      },
      "execution_count": 606,
      "outputs": []
    },
    {
      "cell_type": "code",
      "source": [
        "metrics_bow.loc[len(metrics_bow)] = [\n",
        "  'Decision Tree',\n",
        "  dt_grid_bow.best_score_,\n",
        "  accuracy_score(y_test, y_pred),\n",
        "  f1_score(y_test, y_pred, average = 'weighted', labels = np.unique(y_pred)),\n",
        "  precision_score(y_test, y_pred, average = 'weighted', labels = np.unique(y_pred)),\n",
        "  recall_score(y_test, y_pred, average = 'weighted', labels = np.unique(y_pred)),\n",
        "]"
      ],
      "metadata": {
        "id": "Yh2uRpEfoJpJ",
        "execution": {
          "iopub.status.busy": "2022-01-26T16:21:58.877906Z",
          "iopub.execute_input": "2022-01-26T16:21:58.878292Z",
          "iopub.status.idle": "2022-01-26T16:21:58.965646Z",
          "shell.execute_reply.started": "2022-01-26T16:21:58.878263Z",
          "shell.execute_reply": "2022-01-26T16:21:58.965105Z"
        },
        "trusted": true
      },
      "execution_count": 607,
      "outputs": []
    },
    {
      "cell_type": "markdown",
      "source": [
        "### *Word2Vec*"
      ],
      "metadata": {
        "id": "4E3Jje7Ho0k6"
      }
    },
    {
      "cell_type": "code",
      "source": [
        "dt_grid_w2v = GridSearchCV(DecisionTreeClassifier(), param_dt, n_jobs = cpu_count())\n",
        "dt_grid_w2v.fit(X_train_w2v_lsa, y_train)"
      ],
      "metadata": {
        "id": "DGyCnfSeo2bh",
        "execution": {
          "iopub.status.busy": "2022-01-26T16:22:02.232974Z",
          "iopub.execute_input": "2022-01-26T16:22:02.233399Z",
          "iopub.status.idle": "2022-01-26T16:22:26.978308Z",
          "shell.execute_reply.started": "2022-01-26T16:22:02.233370Z",
          "shell.execute_reply": "2022-01-26T16:22:26.977650Z"
        },
        "trusted": true,
        "colab": {
          "base_uri": "https://localhost:8080/"
        },
        "outputId": "f15869c3-4c61-49c8-850f-44af54d9f1eb"
      },
      "execution_count": 608,
      "outputs": [
        {
          "output_type": "execute_result",
          "data": {
            "text/plain": [
              "GridSearchCV(estimator=DecisionTreeClassifier(), n_jobs=2,\n",
              "             param_grid={'criterion': ['gini', 'entropy'],\n",
              "                         'max_depth': array([ 3,  4,  5,  6,  7,  8,  9, 10, 11, 12, 13, 14])})"
            ]
          },
          "metadata": {},
          "execution_count": 608
        }
      ]
    },
    {
      "cell_type": "code",
      "source": [
        "model_dt_w2v = dt_grid_w2v.best_estimator_"
      ],
      "metadata": {
        "id": "D3YJ-nATo4AT",
        "execution": {
          "iopub.status.busy": "2022-01-26T16:22:37.734606Z",
          "iopub.execute_input": "2022-01-26T16:22:37.734992Z",
          "iopub.status.idle": "2022-01-26T16:22:37.738184Z",
          "shell.execute_reply.started": "2022-01-26T16:22:37.734959Z",
          "shell.execute_reply": "2022-01-26T16:22:37.737669Z"
        },
        "trusted": true
      },
      "execution_count": 609,
      "outputs": []
    },
    {
      "cell_type": "code",
      "source": [
        "y_pred = model_dt_w2v.predict(X_test_w2v_lsa)"
      ],
      "metadata": {
        "id": "k6CeWWSJo46K",
        "execution": {
          "iopub.status.busy": "2022-01-26T16:22:39.031681Z",
          "iopub.execute_input": "2022-01-26T16:22:39.032133Z",
          "iopub.status.idle": "2022-01-26T16:22:39.035700Z",
          "shell.execute_reply.started": "2022-01-26T16:22:39.032103Z",
          "shell.execute_reply": "2022-01-26T16:22:39.035174Z"
        },
        "trusted": true
      },
      "execution_count": 610,
      "outputs": []
    },
    {
      "cell_type": "code",
      "source": [
        "metrics_w2v.loc[len(metrics_w2v)] = [\n",
        "  'Decision Tree',\n",
        "  dt_grid_w2v.best_score_,\n",
        "  accuracy_score(y_test, y_pred),\n",
        "  f1_score(y_test, y_pred, average = 'weighted', labels = np.unique(y_pred)),\n",
        "  precision_score(y_test, y_pred, average = 'weighted', labels = np.unique(y_pred)),\n",
        "  recall_score(y_test, y_pred, average = 'weighted', labels = np.unique(y_pred)),\n",
        "]"
      ],
      "metadata": {
        "id": "NXM4nZL1o5_J",
        "execution": {
          "iopub.status.busy": "2022-01-26T16:22:41.005372Z",
          "iopub.execute_input": "2022-01-26T16:22:41.005608Z",
          "iopub.status.idle": "2022-01-26T16:22:41.093032Z",
          "shell.execute_reply.started": "2022-01-26T16:22:41.005582Z",
          "shell.execute_reply": "2022-01-26T16:22:41.092276Z"
        },
        "trusted": true
      },
      "execution_count": 611,
      "outputs": []
    },
    {
      "cell_type": "markdown",
      "source": [
        "### *Fast Text*"
      ],
      "metadata": {
        "id": "oIQu_uIVplK2"
      }
    },
    {
      "cell_type": "code",
      "source": [
        "dt_grid_ftxt = GridSearchCV(DecisionTreeClassifier(), param_dt, n_jobs = cpu_count())\n",
        "dt_grid_ftxt.fit(X_train_ftxt_lsa, y_train)"
      ],
      "metadata": {
        "id": "s6R6ND3Rpm1q",
        "execution": {
          "iopub.status.busy": "2022-01-26T16:22:43.656033Z",
          "iopub.execute_input": "2022-01-26T16:22:43.656508Z",
          "iopub.status.idle": "2022-01-26T16:23:09.005048Z",
          "shell.execute_reply.started": "2022-01-26T16:22:43.656475Z",
          "shell.execute_reply": "2022-01-26T16:23:09.004366Z"
        },
        "trusted": true,
        "colab": {
          "base_uri": "https://localhost:8080/"
        },
        "outputId": "df8c4cb1-0e41-4b22-e555-0417ffb8e1cd"
      },
      "execution_count": 612,
      "outputs": [
        {
          "output_type": "execute_result",
          "data": {
            "text/plain": [
              "GridSearchCV(estimator=DecisionTreeClassifier(), n_jobs=2,\n",
              "             param_grid={'criterion': ['gini', 'entropy'],\n",
              "                         'max_depth': array([ 3,  4,  5,  6,  7,  8,  9, 10, 11, 12, 13, 14])})"
            ]
          },
          "metadata": {},
          "execution_count": 612
        }
      ]
    },
    {
      "cell_type": "code",
      "source": [
        "model_dt_ftxt = dt_grid_ftxt.best_estimator_"
      ],
      "metadata": {
        "id": "noJ_OAp6prVa",
        "execution": {
          "iopub.status.busy": "2022-01-26T16:24:41.741601Z",
          "iopub.execute_input": "2022-01-26T16:24:41.741880Z",
          "iopub.status.idle": "2022-01-26T16:24:41.746125Z",
          "shell.execute_reply.started": "2022-01-26T16:24:41.741852Z",
          "shell.execute_reply": "2022-01-26T16:24:41.744999Z"
        },
        "trusted": true
      },
      "execution_count": 613,
      "outputs": []
    },
    {
      "cell_type": "code",
      "source": [
        "y_pred = model_dt_ftxt.predict(X_test_ftxt_lsa)"
      ],
      "metadata": {
        "id": "iLJgIfEApsWT",
        "execution": {
          "iopub.status.busy": "2022-01-26T16:24:43.944507Z",
          "iopub.execute_input": "2022-01-26T16:24:43.945064Z",
          "iopub.status.idle": "2022-01-26T16:24:43.950079Z",
          "shell.execute_reply.started": "2022-01-26T16:24:43.945029Z",
          "shell.execute_reply": "2022-01-26T16:24:43.949386Z"
        },
        "trusted": true
      },
      "execution_count": 614,
      "outputs": []
    },
    {
      "cell_type": "code",
      "source": [
        "metrics_ftxt.loc[len(metrics_ftxt)] = [\n",
        "  'Decision Tree',\n",
        "  dt_grid_ftxt.best_score_,\n",
        "  accuracy_score(y_test, y_pred),\n",
        "  f1_score(y_test, y_pred, average = 'weighted', labels = np.unique(y_pred)),\n",
        "  precision_score(y_test, y_pred, average = 'weighted', labels = np.unique(y_pred)),\n",
        "  recall_score(y_test, y_pred, average = 'weighted', labels = np.unique(y_pred)),\n",
        "]"
      ],
      "metadata": {
        "id": "8yww449yptbP",
        "execution": {
          "iopub.status.busy": "2022-01-26T16:24:46.059209Z",
          "iopub.execute_input": "2022-01-26T16:24:46.059700Z",
          "iopub.status.idle": "2022-01-26T16:24:46.147547Z",
          "shell.execute_reply.started": "2022-01-26T16:24:46.059662Z",
          "shell.execute_reply": "2022-01-26T16:24:46.146848Z"
        },
        "trusted": true
      },
      "execution_count": 615,
      "outputs": []
    },
    {
      "cell_type": "markdown",
      "source": [
        "## *KNN - K-Nearest Neighbors*"
      ],
      "metadata": {
        "id": "Yg6mFBBaxP07"
      }
    },
    {
      "cell_type": "markdown",
      "source": [
        "#### Paramètres"
      ],
      "metadata": {
        "id": "InLbdkSIxP07"
      }
    },
    {
      "cell_type": "code",
      "source": [
        "param_knn = {\n",
        "    'weights': ['uniform', 'distance'], # Fonction de pondération utilisée dans la prédiction.\n",
        "                    #‘uniforme’ : poids uniformes. Tous les points de chaque voisinage sont pondérés de manière égale.\n",
        "                    #‘distance’ : les voisins les plus proches d'un point de requête auront une plus grande influence que les voisins qui sont plus éloignés.\n",
        "    'n_neighbors': range(1, 31) # Nombre de voisins à utiliser\n",
        "}"
      ],
      "metadata": {
        "execution": {
          "iopub.status.busy": "2022-01-26T16:24:59.224869Z",
          "iopub.execute_input": "2022-01-26T16:24:59.225261Z",
          "iopub.status.idle": "2022-01-26T16:24:59.229229Z",
          "shell.execute_reply.started": "2022-01-26T16:24:59.225229Z",
          "shell.execute_reply": "2022-01-26T16:24:59.228726Z"
        },
        "trusted": true,
        "id": "vHqWYjE6xP07"
      },
      "execution_count": 616,
      "outputs": []
    },
    {
      "cell_type": "markdown",
      "source": [
        "### *Bag-of-Words*"
      ],
      "metadata": {
        "id": "bQfFQmdcxP07"
      }
    },
    {
      "cell_type": "code",
      "source": [
        "knn_grid_bow = GridSearchCV(KNeighborsClassifier(), param_knn, n_jobs = cpu_count()) \n",
        "knn_grid_bow.fit(X_train_bow_lsa, y_train)"
      ],
      "metadata": {
        "execution": {
          "iopub.status.busy": "2022-01-26T16:25:01.534549Z",
          "iopub.execute_input": "2022-01-26T16:25:01.534881Z",
          "iopub.status.idle": "2022-01-26T16:30:09.528978Z",
          "shell.execute_reply.started": "2022-01-26T16:25:01.534846Z",
          "shell.execute_reply": "2022-01-26T16:30:09.528244Z"
        },
        "trusted": true,
        "colab": {
          "base_uri": "https://localhost:8080/"
        },
        "id": "opK3OZ7zxP07",
        "outputId": "79d61960-7077-4206-fbb4-c714f7d74e54"
      },
      "execution_count": 617,
      "outputs": [
        {
          "output_type": "execute_result",
          "data": {
            "text/plain": [
              "GridSearchCV(estimator=KNeighborsClassifier(), n_jobs=2,\n",
              "             param_grid={'n_neighbors': range(1, 31),\n",
              "                         'weights': ['uniform', 'distance']})"
            ]
          },
          "metadata": {},
          "execution_count": 617
        }
      ]
    },
    {
      "cell_type": "code",
      "source": [
        "model_knn_bow = knn_grid_bow.best_estimator_"
      ],
      "metadata": {
        "execution": {
          "iopub.status.busy": "2022-01-26T16:53:12.420506Z",
          "iopub.execute_input": "2022-01-26T16:53:12.421592Z",
          "iopub.status.idle": "2022-01-26T16:53:12.426606Z",
          "shell.execute_reply.started": "2022-01-26T16:53:12.421553Z",
          "shell.execute_reply": "2022-01-26T16:53:12.425564Z"
        },
        "trusted": true,
        "id": "yYXvfAiwxP08"
      },
      "execution_count": 618,
      "outputs": []
    },
    {
      "cell_type": "code",
      "source": [
        "y_pred = model_knn_bow.predict(X_test_bow_lsa)"
      ],
      "metadata": {
        "execution": {
          "iopub.status.busy": "2022-01-26T16:53:15.464400Z",
          "iopub.execute_input": "2022-01-26T16:53:15.464646Z",
          "iopub.status.idle": "2022-01-26T16:53:19.299774Z",
          "shell.execute_reply.started": "2022-01-26T16:53:15.464620Z",
          "shell.execute_reply": "2022-01-26T16:53:19.298998Z"
        },
        "trusted": true,
        "id": "WtYK1bkYxP08"
      },
      "execution_count": 619,
      "outputs": []
    },
    {
      "cell_type": "code",
      "source": [
        "metrics_bow.loc[len(metrics_bow)] = [\n",
        "  'KNN',\n",
        "  knn_grid_bow.best_score_,\n",
        "  accuracy_score(y_test, y_pred),\n",
        "  f1_score(y_test, y_pred, average = 'weighted', labels = np.unique(y_pred)),\n",
        "  precision_score(y_test, y_pred, average = 'weighted', labels = np.unique(y_pred)),\n",
        "  recall_score(y_test, y_pred, average = 'weighted', labels = np.unique(y_pred)),\n",
        "]"
      ],
      "metadata": {
        "execution": {
          "iopub.status.busy": "2022-01-26T16:53:23.328462Z",
          "iopub.execute_input": "2022-01-26T16:53:23.328737Z",
          "iopub.status.idle": "2022-01-26T16:53:23.500480Z",
          "shell.execute_reply.started": "2022-01-26T16:53:23.328693Z",
          "shell.execute_reply": "2022-01-26T16:53:23.499656Z"
        },
        "trusted": true,
        "id": "k3fQyZAGxP08"
      },
      "execution_count": 620,
      "outputs": []
    },
    {
      "cell_type": "markdown",
      "source": [
        "### *Word2Vec*"
      ],
      "metadata": {
        "id": "87Y4GiGvxP08"
      }
    },
    {
      "cell_type": "code",
      "source": [
        "knn_grid_bow = GridSearchCV(KNeighborsClassifier(), param_knn, n_jobs = cpu_count()) \n",
        "knn_grid_bow.fit(X_train_w2v_lsa, y_train)"
      ],
      "metadata": {
        "execution": {
          "iopub.status.busy": "2022-01-26T16:53:26.457401Z",
          "iopub.execute_input": "2022-01-26T16:53:26.457672Z",
          "iopub.status.idle": "2022-01-26T16:54:17.929627Z",
          "shell.execute_reply.started": "2022-01-26T16:53:26.457643Z",
          "shell.execute_reply": "2022-01-26T16:54:17.928830Z"
        },
        "trusted": true,
        "colab": {
          "base_uri": "https://localhost:8080/"
        },
        "id": "PNWsD3-kxP08",
        "outputId": "26237cf8-5272-49ed-9028-754f647c1b5c"
      },
      "execution_count": 621,
      "outputs": [
        {
          "output_type": "execute_result",
          "data": {
            "text/plain": [
              "GridSearchCV(estimator=KNeighborsClassifier(), n_jobs=2,\n",
              "             param_grid={'n_neighbors': range(1, 31),\n",
              "                         'weights': ['uniform', 'distance']})"
            ]
          },
          "metadata": {},
          "execution_count": 621
        }
      ]
    },
    {
      "cell_type": "code",
      "source": [
        "model_knn_w2v = knn_grid_bow.best_estimator_"
      ],
      "metadata": {
        "execution": {
          "iopub.status.busy": "2022-01-26T16:56:44.729893Z",
          "iopub.execute_input": "2022-01-26T16:56:44.730520Z",
          "iopub.status.idle": "2022-01-26T16:56:44.734596Z",
          "shell.execute_reply.started": "2022-01-26T16:56:44.730484Z",
          "shell.execute_reply": "2022-01-26T16:56:44.733867Z"
        },
        "trusted": true,
        "id": "cskUVDnAxP08"
      },
      "execution_count": 622,
      "outputs": []
    },
    {
      "cell_type": "code",
      "source": [
        "y_pred = model_knn_w2v.predict(X_test_w2v_lsa)"
      ],
      "metadata": {
        "execution": {
          "iopub.status.busy": "2022-01-26T16:56:47.238701Z",
          "iopub.execute_input": "2022-01-26T16:56:47.238978Z",
          "iopub.status.idle": "2022-01-26T16:56:48.192227Z",
          "shell.execute_reply.started": "2022-01-26T16:56:47.238950Z",
          "shell.execute_reply": "2022-01-26T16:56:48.191432Z"
        },
        "trusted": true,
        "id": "u0md8fXUxP08"
      },
      "execution_count": 623,
      "outputs": []
    },
    {
      "cell_type": "code",
      "source": [
        "metrics_w2v.loc[len(metrics_w2v)] = [\n",
        "  'KNN',\n",
        "  knn_grid_bow.best_score_,\n",
        "  accuracy_score(y_test, y_pred),\n",
        "  f1_score(y_test, y_pred, average = 'weighted', labels = np.unique(y_pred)),\n",
        "  precision_score(y_test, y_pred, average = 'weighted', labels = np.unique(y_pred)),\n",
        "  recall_score(y_test, y_pred, average = 'weighted', labels = np.unique(y_pred)),\n",
        "]"
      ],
      "metadata": {
        "execution": {
          "iopub.status.busy": "2022-01-26T16:56:54.933342Z",
          "iopub.execute_input": "2022-01-26T16:56:54.933573Z",
          "iopub.status.idle": "2022-01-26T16:56:55.021972Z",
          "shell.execute_reply.started": "2022-01-26T16:56:54.933549Z",
          "shell.execute_reply": "2022-01-26T16:56:55.021095Z"
        },
        "trusted": true,
        "id": "SwuUGoe5xP09"
      },
      "execution_count": 624,
      "outputs": []
    },
    {
      "cell_type": "markdown",
      "source": [
        "### *Fast Text*"
      ],
      "metadata": {
        "id": "GLfJbF9IxP09"
      }
    },
    {
      "cell_type": "code",
      "source": [
        "knn_grid_bow = GridSearchCV(KNeighborsClassifier(), param_knn, n_jobs = cpu_count()) \n",
        "knn_grid_bow.fit(X_train_ftxt_lsa, y_train)"
      ],
      "metadata": {
        "execution": {
          "iopub.status.busy": "2022-01-26T16:57:01.289628Z",
          "iopub.execute_input": "2022-01-26T16:57:01.289923Z",
          "iopub.status.idle": "2022-01-26T16:57:49.314538Z",
          "shell.execute_reply.started": "2022-01-26T16:57:01.289893Z",
          "shell.execute_reply": "2022-01-26T16:57:49.313628Z"
        },
        "trusted": true,
        "colab": {
          "base_uri": "https://localhost:8080/"
        },
        "id": "HDRIn7U3xP09",
        "outputId": "2fedaea6-e2fa-4aa1-a623-b2aa616d11c0"
      },
      "execution_count": 625,
      "outputs": [
        {
          "output_type": "execute_result",
          "data": {
            "text/plain": [
              "GridSearchCV(estimator=KNeighborsClassifier(), n_jobs=2,\n",
              "             param_grid={'n_neighbors': range(1, 31),\n",
              "                         'weights': ['uniform', 'distance']})"
            ]
          },
          "metadata": {},
          "execution_count": 625
        }
      ]
    },
    {
      "cell_type": "code",
      "source": [
        "model_knn_ftxt = knn_grid_bow.best_estimator_"
      ],
      "metadata": {
        "execution": {
          "iopub.status.busy": "2022-01-26T17:09:07.858703Z",
          "iopub.execute_input": "2022-01-26T17:09:07.859072Z",
          "iopub.status.idle": "2022-01-26T17:09:07.864364Z",
          "shell.execute_reply.started": "2022-01-26T17:09:07.859036Z",
          "shell.execute_reply": "2022-01-26T17:09:07.863300Z"
        },
        "trusted": true,
        "id": "UXgCmDYUxP09"
      },
      "execution_count": 626,
      "outputs": []
    },
    {
      "cell_type": "code",
      "source": [
        "y_pred = model_knn_ftxt.predict(X_test_ftxt_lsa)"
      ],
      "metadata": {
        "execution": {
          "iopub.status.busy": "2022-01-26T17:09:10.037250Z",
          "iopub.execute_input": "2022-01-26T17:09:10.037642Z",
          "iopub.status.idle": "2022-01-26T17:09:10.980936Z",
          "shell.execute_reply.started": "2022-01-26T17:09:10.037604Z",
          "shell.execute_reply": "2022-01-26T17:09:10.980197Z"
        },
        "trusted": true,
        "id": "dGOwqf0dxP09"
      },
      "execution_count": 627,
      "outputs": []
    },
    {
      "cell_type": "code",
      "source": [
        "metrics_ftxt.loc[len(metrics_ftxt)] = [\n",
        "  'KNN',\n",
        "  knn_grid_bow.best_score_,\n",
        "  accuracy_score(y_test, y_pred),\n",
        "  f1_score(y_test, y_pred, average = 'weighted', labels = np.unique(y_pred)),\n",
        "  precision_score(y_test, y_pred, average = 'weighted', labels = np.unique(y_pred)),\n",
        "  recall_score(y_test, y_pred, average = 'weighted', labels = np.unique(y_pred)),\n",
        "]"
      ],
      "metadata": {
        "execution": {
          "iopub.status.busy": "2022-01-26T17:09:12.509823Z",
          "iopub.execute_input": "2022-01-26T17:09:12.510282Z",
          "iopub.status.idle": "2022-01-26T17:09:12.597548Z",
          "shell.execute_reply.started": "2022-01-26T17:09:12.510245Z",
          "shell.execute_reply": "2022-01-26T17:09:12.596962Z"
        },
        "trusted": true,
        "id": "m1vYa_E1xP09"
      },
      "execution_count": 628,
      "outputs": []
    },
    {
      "cell_type": "markdown",
      "source": [
        "## *Random Forest*"
      ],
      "metadata": {
        "id": "XI_Kem-r85li"
      }
    },
    {
      "cell_type": "markdown",
      "source": [
        "> Paramètres"
      ],
      "metadata": {
        "id": "GToAxCKI7Jln"
      }
    },
    {
      "cell_type": "code",
      "source": [
        "param_rf = { \n",
        "    'n_estimators': [200, 300],\n",
        "    'max_features': ['sqrt', 'log2'],\n",
        "    'max_depth' : [4,5,6,7,8],\n",
        "    'criterion' :['gini', 'entropy']\n",
        "}"
      ],
      "metadata": {
        "id": "anFkBvxs7Mlq",
        "execution": {
          "iopub.status.busy": "2022-01-26T13:23:19.299385Z",
          "iopub.status.idle": "2022-01-26T13:23:19.299702Z",
          "shell.execute_reply.started": "2022-01-26T13:23:19.299526Z",
          "shell.execute_reply": "2022-01-26T13:23:19.29955Z"
        },
        "trusted": true
      },
      "execution_count": 629,
      "outputs": []
    },
    {
      "cell_type": "markdown",
      "source": [
        "### *Bag-of-Words*"
      ],
      "metadata": {
        "id": "vmQKN5tY92aa"
      }
    },
    {
      "cell_type": "code",
      "source": [
        "rf_grid_bow = GridSearchCV(RandomForestClassifier(), param_rf, n_jobs = cpu_count())\n",
        "rf_grid_bow.fit(X_train_bow_lsa, y_train)"
      ],
      "metadata": {
        "id": "XEvOjwVP870K",
        "execution": {
          "iopub.status.busy": "2022-01-26T13:23:19.300593Z",
          "iopub.status.idle": "2022-01-26T13:23:19.300917Z",
          "shell.execute_reply.started": "2022-01-26T13:23:19.300723Z",
          "shell.execute_reply": "2022-01-26T13:23:19.300739Z"
        },
        "trusted": true,
        "colab": {
          "base_uri": "https://localhost:8080/"
        },
        "outputId": "72b713dc-efbf-4a39-f060-00215e3d8d29"
      },
      "execution_count": 630,
      "outputs": [
        {
          "output_type": "execute_result",
          "data": {
            "text/plain": [
              "GridSearchCV(estimator=RandomForestClassifier(), n_jobs=2,\n",
              "             param_grid={'criterion': ['gini', 'entropy'],\n",
              "                         'max_depth': [4, 5, 6, 7, 8],\n",
              "                         'max_features': ['sqrt', 'log2'],\n",
              "                         'n_estimators': [200, 300]})"
            ]
          },
          "metadata": {},
          "execution_count": 630
        }
      ]
    },
    {
      "cell_type": "code",
      "source": [
        "model_rf_bow = rf_grid_bow.best_estimator_"
      ],
      "metadata": {
        "id": "N0gWsnRq9-OC",
        "execution": {
          "iopub.status.busy": "2022-01-26T13:23:19.301852Z",
          "iopub.status.idle": "2022-01-26T13:23:19.302171Z",
          "shell.execute_reply.started": "2022-01-26T13:23:19.301985Z",
          "shell.execute_reply": "2022-01-26T13:23:19.302001Z"
        },
        "trusted": true
      },
      "execution_count": 631,
      "outputs": []
    },
    {
      "cell_type": "code",
      "source": [
        "y_pred = model_rf_bow.predict(X_test_bow_lsa)"
      ],
      "metadata": {
        "id": "xQuwFuLM9_Qy",
        "execution": {
          "iopub.status.busy": "2022-01-26T13:23:19.303062Z",
          "iopub.status.idle": "2022-01-26T13:23:19.303361Z",
          "shell.execute_reply.started": "2022-01-26T13:23:19.303192Z",
          "shell.execute_reply": "2022-01-26T13:23:19.303208Z"
        },
        "trusted": true
      },
      "execution_count": 632,
      "outputs": []
    },
    {
      "cell_type": "code",
      "source": [
        "metrics_bow.loc[len(metrics_bow)] = [\n",
        "  'Random Forest',\n",
        "  rf_grid_bow.best_score_,\n",
        "  accuracy_score(y_test, y_pred),\n",
        "  f1_score(y_test, y_pred, average = 'weighted', labels = np.unique(y_pred)),\n",
        "  precision_score(y_test, y_pred, average = 'weighted', labels = np.unique(y_pred)),\n",
        "  recall_score(y_test, y_pred, average = 'weighted', labels = np.unique(y_pred)),\n",
        "]"
      ],
      "metadata": {
        "id": "M4ikbwOR-AJy",
        "execution": {
          "iopub.status.busy": "2022-01-26T13:23:19.304724Z",
          "iopub.status.idle": "2022-01-26T13:23:19.305043Z",
          "shell.execute_reply.started": "2022-01-26T13:23:19.304882Z",
          "shell.execute_reply": "2022-01-26T13:23:19.304899Z"
        },
        "trusted": true
      },
      "execution_count": 633,
      "outputs": []
    },
    {
      "cell_type": "markdown",
      "source": [
        "### *Word2vec*"
      ],
      "metadata": {
        "id": "ugSS--JPQ09F"
      }
    },
    {
      "cell_type": "code",
      "source": [
        "rf_grid_w2v = GridSearchCV(RandomForestClassifier(), param_rf, n_jobs = 4)\n",
        "rf_grid_w2v.fit(X_train_w2v_lsa, y_train)"
      ],
      "metadata": {
        "id": "ysaD8ZBAQ5bR",
        "execution": {
          "iopub.status.busy": "2022-01-26T13:23:19.305849Z",
          "iopub.status.idle": "2022-01-26T13:23:19.306145Z",
          "shell.execute_reply.started": "2022-01-26T13:23:19.305988Z",
          "shell.execute_reply": "2022-01-26T13:23:19.306003Z"
        },
        "trusted": true,
        "colab": {
          "base_uri": "https://localhost:8080/"
        },
        "outputId": "80e3d377-2b8e-49ed-fb98-264e3c0b60cd"
      },
      "execution_count": 634,
      "outputs": [
        {
          "output_type": "execute_result",
          "data": {
            "text/plain": [
              "GridSearchCV(estimator=RandomForestClassifier(), n_jobs=4,\n",
              "             param_grid={'criterion': ['gini', 'entropy'],\n",
              "                         'max_depth': [4, 5, 6, 7, 8],\n",
              "                         'max_features': ['sqrt', 'log2'],\n",
              "                         'n_estimators': [200, 300]})"
            ]
          },
          "metadata": {},
          "execution_count": 634
        }
      ]
    },
    {
      "cell_type": "code",
      "source": [
        "model_rf_w2v = rf_grid_w2v.best_estimator_"
      ],
      "metadata": {
        "id": "Lb67rRXMQ_9f",
        "execution": {
          "iopub.status.busy": "2022-01-26T13:23:19.307059Z",
          "iopub.status.idle": "2022-01-26T13:23:19.307342Z",
          "shell.execute_reply.started": "2022-01-26T13:23:19.307189Z",
          "shell.execute_reply": "2022-01-26T13:23:19.307204Z"
        },
        "trusted": true
      },
      "execution_count": 635,
      "outputs": []
    },
    {
      "cell_type": "code",
      "source": [
        "y_pred = model_rf_w2v.predict(X_test_w2v_lsa)"
      ],
      "metadata": {
        "id": "XrsIFfo0RCcN",
        "execution": {
          "iopub.status.busy": "2022-01-26T13:23:19.308408Z",
          "iopub.status.idle": "2022-01-26T13:23:19.30872Z",
          "shell.execute_reply.started": "2022-01-26T13:23:19.308539Z",
          "shell.execute_reply": "2022-01-26T13:23:19.308553Z"
        },
        "trusted": true
      },
      "execution_count": 636,
      "outputs": []
    },
    {
      "cell_type": "code",
      "source": [
        "metrics_w2v.loc[len(metrics_w2v)] = [\n",
        "  'Random Forest',\n",
        "  rf_grid_w2v.best_score_,\n",
        "  accuracy_score(y_test, y_pred),\n",
        "  f1_score(y_test, y_pred, average = 'weighted', labels = np.unique(y_pred)),\n",
        "  precision_score(y_test, y_pred, average = 'weighted', labels = np.unique(y_pred)),\n",
        "  recall_score(y_test, y_pred, average = 'weighted', labels = np.unique(y_pred)),\n",
        "]"
      ],
      "metadata": {
        "id": "arhz8OEaRDnN",
        "execution": {
          "iopub.status.busy": "2022-01-26T13:23:19.310233Z",
          "iopub.status.idle": "2022-01-26T13:23:19.310648Z",
          "shell.execute_reply.started": "2022-01-26T13:23:19.310456Z",
          "shell.execute_reply": "2022-01-26T13:23:19.310478Z"
        },
        "trusted": true
      },
      "execution_count": 637,
      "outputs": []
    },
    {
      "cell_type": "markdown",
      "source": [
        "### *Fast Text*"
      ],
      "metadata": {
        "id": "-Itk5T64RGvu"
      }
    },
    {
      "cell_type": "code",
      "source": [
        "rf_grid_ftxt = GridSearchCV(RandomForestClassifier(), param_rf, n_jobs = 4)\n",
        "rf_grid_ftxt.fit(X_train_ftxt_lsa, y_train)"
      ],
      "metadata": {
        "id": "m3rk7tP2RIAV",
        "execution": {
          "iopub.status.busy": "2022-01-26T13:23:19.312121Z",
          "iopub.status.idle": "2022-01-26T13:23:19.312601Z",
          "shell.execute_reply.started": "2022-01-26T13:23:19.312329Z",
          "shell.execute_reply": "2022-01-26T13:23:19.312353Z"
        },
        "trusted": true,
        "colab": {
          "base_uri": "https://localhost:8080/"
        },
        "outputId": "b905b600-f5b8-4c76-ba96-0b7d3d8c3f0a"
      },
      "execution_count": 638,
      "outputs": [
        {
          "output_type": "execute_result",
          "data": {
            "text/plain": [
              "GridSearchCV(estimator=RandomForestClassifier(), n_jobs=4,\n",
              "             param_grid={'criterion': ['gini', 'entropy'],\n",
              "                         'max_depth': [4, 5, 6, 7, 8],\n",
              "                         'max_features': ['sqrt', 'log2'],\n",
              "                         'n_estimators': [200, 300]})"
            ]
          },
          "metadata": {},
          "execution_count": 638
        }
      ]
    },
    {
      "cell_type": "code",
      "source": [
        "model_rf_ftxt = rf_grid_ftxt.best_estimator_"
      ],
      "metadata": {
        "id": "kj0nKQjbRMkF",
        "execution": {
          "iopub.status.busy": "2022-01-26T13:23:19.314038Z",
          "iopub.status.idle": "2022-01-26T13:23:19.314351Z",
          "shell.execute_reply.started": "2022-01-26T13:23:19.314184Z",
          "shell.execute_reply": "2022-01-26T13:23:19.3142Z"
        },
        "trusted": true
      },
      "execution_count": 639,
      "outputs": []
    },
    {
      "cell_type": "code",
      "source": [
        "y_pred = model_rf_ftxt.predict(X_test_ftxt_lsa)"
      ],
      "metadata": {
        "id": "HzAhswBrRNWV",
        "execution": {
          "iopub.status.busy": "2022-01-26T13:23:19.315305Z",
          "iopub.status.idle": "2022-01-26T13:23:19.3156Z",
          "shell.execute_reply.started": "2022-01-26T13:23:19.315436Z",
          "shell.execute_reply": "2022-01-26T13:23:19.315452Z"
        },
        "trusted": true
      },
      "execution_count": 640,
      "outputs": []
    },
    {
      "cell_type": "code",
      "source": [
        "metrics_ftxt.loc[len(metrics_ftxt)] = [\n",
        "  'Random Forest',\n",
        "  rf_grid_ftxt.best_score_,\n",
        "  accuracy_score(y_test, y_pred),\n",
        "  f1_score(y_test, y_pred, average = 'weighted', labels = np.unique(y_pred)),\n",
        "  precision_score(y_test, y_pred, average = 'weighted', labels = np.unique(y_pred)),\n",
        "  recall_score(y_test, y_pred, average = 'weighted', labels = np.unique(y_pred)),\n",
        "]"
      ],
      "metadata": {
        "id": "YhP8Pq3HROFt",
        "execution": {
          "iopub.status.busy": "2022-01-26T13:23:19.316463Z",
          "iopub.status.idle": "2022-01-26T13:23:19.316756Z",
          "shell.execute_reply.started": "2022-01-26T13:23:19.316601Z",
          "shell.execute_reply": "2022-01-26T13:23:19.316617Z"
        },
        "trusted": true
      },
      "execution_count": 641,
      "outputs": []
    },
    {
      "cell_type": "markdown",
      "source": [
        "# Evaluation"
      ],
      "metadata": {
        "id": "JVj-J8gO7fli"
      }
    },
    {
      "cell_type": "markdown",
      "source": [
        "## *Bag-of-Words"
      ],
      "metadata": {
        "id": "VpCtdvOBxP0_"
      }
    },
    {
      "cell_type": "code",
      "source": [
        "font = {'family': 'serif',\n",
        "        'color':  'darkred',\n",
        "        'weight': 'normal',\n",
        "        'size': 16,\n",
        "        }"
      ],
      "metadata": {
        "id": "WyGId2Boif97"
      },
      "execution_count": 662,
      "outputs": []
    },
    {
      "cell_type": "code",
      "source": [
        "metrics_bow"
      ],
      "metadata": {
        "id": "fIEbS9tg7epM",
        "execution": {
          "iopub.status.busy": "2022-01-26T13:23:19.31767Z",
          "iopub.status.idle": "2022-01-26T13:23:19.317991Z",
          "shell.execute_reply.started": "2022-01-26T13:23:19.317801Z",
          "shell.execute_reply": "2022-01-26T13:23:19.317841Z"
        },
        "trusted": true,
        "colab": {
          "base_uri": "https://localhost:8080/",
          "height": 205
        },
        "outputId": "fda648cf-74f4-4149-9edb-7753f625ce29"
      },
      "execution_count": 642,
      "outputs": [
        {
          "output_type": "execute_result",
          "data": {
            "text/html": [
              "\n",
              "  <div id=\"df-b800c604-f25c-49ee-ac43-202aba42e97f\">\n",
              "    <div class=\"colab-df-container\">\n",
              "      <div>\n",
              "<style scoped>\n",
              "    .dataframe tbody tr th:only-of-type {\n",
              "        vertical-align: middle;\n",
              "    }\n",
              "\n",
              "    .dataframe tbody tr th {\n",
              "        vertical-align: top;\n",
              "    }\n",
              "\n",
              "    .dataframe thead th {\n",
              "        text-align: right;\n",
              "    }\n",
              "</style>\n",
              "<table border=\"1\" class=\"dataframe\">\n",
              "  <thead>\n",
              "    <tr style=\"text-align: right;\">\n",
              "      <th></th>\n",
              "      <th>model</th>\n",
              "      <th>train accuracy</th>\n",
              "      <th>accuracy</th>\n",
              "      <th>f1</th>\n",
              "      <th>precision</th>\n",
              "      <th>recall</th>\n",
              "    </tr>\n",
              "  </thead>\n",
              "  <tbody>\n",
              "    <tr>\n",
              "      <th>0</th>\n",
              "      <td>SVM</td>\n",
              "      <td>0.740</td>\n",
              "      <td>0.558140</td>\n",
              "      <td>0.465416</td>\n",
              "      <td>0.453488</td>\n",
              "      <td>0.558140</td>\n",
              "    </tr>\n",
              "    <tr>\n",
              "      <th>1</th>\n",
              "      <td>Logistic Regression</td>\n",
              "      <td>0.720</td>\n",
              "      <td>0.581395</td>\n",
              "      <td>0.502992</td>\n",
              "      <td>0.495172</td>\n",
              "      <td>0.581395</td>\n",
              "    </tr>\n",
              "    <tr>\n",
              "      <th>2</th>\n",
              "      <td>Decision Tree</td>\n",
              "      <td>0.635</td>\n",
              "      <td>0.639535</td>\n",
              "      <td>0.587337</td>\n",
              "      <td>0.664190</td>\n",
              "      <td>0.639535</td>\n",
              "    </tr>\n",
              "    <tr>\n",
              "      <th>3</th>\n",
              "      <td>KNN</td>\n",
              "      <td>0.710</td>\n",
              "      <td>0.627907</td>\n",
              "      <td>0.564525</td>\n",
              "      <td>0.742733</td>\n",
              "      <td>0.701299</td>\n",
              "    </tr>\n",
              "    <tr>\n",
              "      <th>4</th>\n",
              "      <td>Random Forest</td>\n",
              "      <td>0.700</td>\n",
              "      <td>0.604651</td>\n",
              "      <td>0.753623</td>\n",
              "      <td>0.604651</td>\n",
              "      <td>1.000000</td>\n",
              "    </tr>\n",
              "  </tbody>\n",
              "</table>\n",
              "</div>\n",
              "      <button class=\"colab-df-convert\" onclick=\"convertToInteractive('df-b800c604-f25c-49ee-ac43-202aba42e97f')\"\n",
              "              title=\"Convert this dataframe to an interactive table.\"\n",
              "              style=\"display:none;\">\n",
              "        \n",
              "  <svg xmlns=\"http://www.w3.org/2000/svg\" height=\"24px\"viewBox=\"0 0 24 24\"\n",
              "       width=\"24px\">\n",
              "    <path d=\"M0 0h24v24H0V0z\" fill=\"none\"/>\n",
              "    <path d=\"M18.56 5.44l.94 2.06.94-2.06 2.06-.94-2.06-.94-.94-2.06-.94 2.06-2.06.94zm-11 1L8.5 8.5l.94-2.06 2.06-.94-2.06-.94L8.5 2.5l-.94 2.06-2.06.94zm10 10l.94 2.06.94-2.06 2.06-.94-2.06-.94-.94-2.06-.94 2.06-2.06.94z\"/><path d=\"M17.41 7.96l-1.37-1.37c-.4-.4-.92-.59-1.43-.59-.52 0-1.04.2-1.43.59L10.3 9.45l-7.72 7.72c-.78.78-.78 2.05 0 2.83L4 21.41c.39.39.9.59 1.41.59.51 0 1.02-.2 1.41-.59l7.78-7.78 2.81-2.81c.8-.78.8-2.07 0-2.86zM5.41 20L4 18.59l7.72-7.72 1.47 1.35L5.41 20z\"/>\n",
              "  </svg>\n",
              "      </button>\n",
              "      \n",
              "  <style>\n",
              "    .colab-df-container {\n",
              "      display:flex;\n",
              "      flex-wrap:wrap;\n",
              "      gap: 12px;\n",
              "    }\n",
              "\n",
              "    .colab-df-convert {\n",
              "      background-color: #E8F0FE;\n",
              "      border: none;\n",
              "      border-radius: 50%;\n",
              "      cursor: pointer;\n",
              "      display: none;\n",
              "      fill: #1967D2;\n",
              "      height: 32px;\n",
              "      padding: 0 0 0 0;\n",
              "      width: 32px;\n",
              "    }\n",
              "\n",
              "    .colab-df-convert:hover {\n",
              "      background-color: #E2EBFA;\n",
              "      box-shadow: 0px 1px 2px rgba(60, 64, 67, 0.3), 0px 1px 3px 1px rgba(60, 64, 67, 0.15);\n",
              "      fill: #174EA6;\n",
              "    }\n",
              "\n",
              "    [theme=dark] .colab-df-convert {\n",
              "      background-color: #3B4455;\n",
              "      fill: #D2E3FC;\n",
              "    }\n",
              "\n",
              "    [theme=dark] .colab-df-convert:hover {\n",
              "      background-color: #434B5C;\n",
              "      box-shadow: 0px 1px 3px 1px rgba(0, 0, 0, 0.15);\n",
              "      filter: drop-shadow(0px 1px 2px rgba(0, 0, 0, 0.3));\n",
              "      fill: #FFFFFF;\n",
              "    }\n",
              "  </style>\n",
              "\n",
              "      <script>\n",
              "        const buttonEl =\n",
              "          document.querySelector('#df-b800c604-f25c-49ee-ac43-202aba42e97f button.colab-df-convert');\n",
              "        buttonEl.style.display =\n",
              "          google.colab.kernel.accessAllowed ? 'block' : 'none';\n",
              "\n",
              "        async function convertToInteractive(key) {\n",
              "          const element = document.querySelector('#df-b800c604-f25c-49ee-ac43-202aba42e97f');\n",
              "          const dataTable =\n",
              "            await google.colab.kernel.invokeFunction('convertToInteractive',\n",
              "                                                     [key], {});\n",
              "          if (!dataTable) return;\n",
              "\n",
              "          const docLinkHtml = 'Like what you see? Visit the ' +\n",
              "            '<a target=\"_blank\" href=https://colab.research.google.com/notebooks/data_table.ipynb>data table notebook</a>'\n",
              "            + ' to learn more about interactive tables.';\n",
              "          element.innerHTML = '';\n",
              "          dataTable['output_type'] = 'display_data';\n",
              "          await google.colab.output.renderOutput(dataTable, element);\n",
              "          const docLink = document.createElement('div');\n",
              "          docLink.innerHTML = docLinkHtml;\n",
              "          element.appendChild(docLink);\n",
              "        }\n",
              "      </script>\n",
              "    </div>\n",
              "  </div>\n",
              "  "
            ],
            "text/plain": [
              "                 model  train accuracy  accuracy        f1  precision    recall\n",
              "0                  SVM           0.740  0.558140  0.465416   0.453488  0.558140\n",
              "1  Logistic Regression           0.720  0.581395  0.502992   0.495172  0.581395\n",
              "2        Decision Tree           0.635  0.639535  0.587337   0.664190  0.639535\n",
              "3                  KNN           0.710  0.627907  0.564525   0.742733  0.701299\n",
              "4        Random Forest           0.700  0.604651  0.753623   0.604651  1.000000"
            ]
          },
          "metadata": {},
          "execution_count": 642
        }
      ]
    },
    {
      "cell_type": "code",
      "source": [
        "\n",
        "plt.figure(figsize=(10,5))\n",
        "plt.plot(metrics_bow['model'],metrics_bow['accuracy'],'bo',linestyle='solid',linewidth=2, markersize=10)\n",
        "plt.xlabel(\"Models\",fontdict=font)\n",
        "plt.ylabel(\"Accuracy\", fontdict=font)\n",
        "plt.title(\"Models vs Accuracy\" , fontdict=font)\n",
        "plt.show()\n"
      ],
      "metadata": {
        "colab": {
          "base_uri": "https://localhost:8080/",
          "height": 360
        },
        "id": "T9_-t2etcoAy",
        "outputId": "897fa393-a6af-44e8-b071-d6d24f015ea6"
      },
      "execution_count": 663,
      "outputs": [
        {
          "output_type": "display_data",
          "data": {
            "image/png": "[encoded data removed]",
            "text/plain": [
              "<Figure size 720x360 with 1 Axes>"
            ]
          },
          "metadata": {
            "needs_background": "light"
          }
        }
      ]
    },
    {
      "cell_type": "markdown",
      "source": [
        "## *Word2Vec*"
      ],
      "metadata": {
        "id": "yG0INMW6xP0_"
      }
    },
    {
      "cell_type": "code",
      "source": [
        "metrics_w2v"
      ],
      "metadata": {
        "id": "VyjOZR1ORXH1",
        "execution": {
          "iopub.status.busy": "2022-01-26T13:23:19.319153Z",
          "iopub.status.idle": "2022-01-26T13:23:19.319455Z",
          "shell.execute_reply.started": "2022-01-26T13:23:19.319295Z",
          "shell.execute_reply": "2022-01-26T13:23:19.319311Z"
        },
        "trusted": true,
        "colab": {
          "base_uri": "https://localhost:8080/",
          "height": 205
        },
        "outputId": "221b5e1c-7e86-4331-b995-1af3f51e9fb1"
      },
      "execution_count": 643,
      "outputs": [
        {
          "output_type": "execute_result",
          "data": {
            "text/html": [
              "\n",
              "  <div id=\"df-bb68e4dc-9da9-4001-9f1b-f7e39d528dd9\">\n",
              "    <div class=\"colab-df-container\">\n",
              "      <div>\n",
              "<style scoped>\n",
              "    .dataframe tbody tr th:only-of-type {\n",
              "        vertical-align: middle;\n",
              "    }\n",
              "\n",
              "    .dataframe tbody tr th {\n",
              "        vertical-align: top;\n",
              "    }\n",
              "\n",
              "    .dataframe thead th {\n",
              "        text-align: right;\n",
              "    }\n",
              "</style>\n",
              "<table border=\"1\" class=\"dataframe\">\n",
              "  <thead>\n",
              "    <tr style=\"text-align: right;\">\n",
              "      <th></th>\n",
              "      <th>model</th>\n",
              "      <th>train accuracy</th>\n",
              "      <th>accuracy</th>\n",
              "      <th>f1</th>\n",
              "      <th>precision</th>\n",
              "      <th>recall</th>\n",
              "    </tr>\n",
              "  </thead>\n",
              "  <tbody>\n",
              "    <tr>\n",
              "      <th>0</th>\n",
              "      <td>SVM</td>\n",
              "      <td>0.705</td>\n",
              "      <td>0.604651</td>\n",
              "      <td>0.753623</td>\n",
              "      <td>0.604651</td>\n",
              "      <td>1.000000</td>\n",
              "    </tr>\n",
              "    <tr>\n",
              "      <th>1</th>\n",
              "      <td>Logistic Regression</td>\n",
              "      <td>0.700</td>\n",
              "      <td>0.604651</td>\n",
              "      <td>0.753623</td>\n",
              "      <td>0.604651</td>\n",
              "      <td>1.000000</td>\n",
              "    </tr>\n",
              "    <tr>\n",
              "      <th>2</th>\n",
              "      <td>Decision Tree</td>\n",
              "      <td>0.670</td>\n",
              "      <td>0.581395</td>\n",
              "      <td>0.499997</td>\n",
              "      <td>0.496744</td>\n",
              "      <td>0.581395</td>\n",
              "    </tr>\n",
              "    <tr>\n",
              "      <th>3</th>\n",
              "      <td>KNN</td>\n",
              "      <td>0.710</td>\n",
              "      <td>0.604651</td>\n",
              "      <td>0.530544</td>\n",
              "      <td>0.572356</td>\n",
              "      <td>0.675325</td>\n",
              "    </tr>\n",
              "    <tr>\n",
              "      <th>4</th>\n",
              "      <td>Random Forest</td>\n",
              "      <td>0.725</td>\n",
              "      <td>0.604651</td>\n",
              "      <td>0.523961</td>\n",
              "      <td>0.527234</td>\n",
              "      <td>0.604651</td>\n",
              "    </tr>\n",
              "  </tbody>\n",
              "</table>\n",
              "</div>\n",
              "      <button class=\"colab-df-convert\" onclick=\"convertToInteractive('df-bb68e4dc-9da9-4001-9f1b-f7e39d528dd9')\"\n",
              "              title=\"Convert this dataframe to an interactive table.\"\n",
              "              style=\"display:none;\">\n",
              "        \n",
              "  <svg xmlns=\"http://www.w3.org/2000/svg\" height=\"24px\"viewBox=\"0 0 24 24\"\n",
              "       width=\"24px\">\n",
              "    <path d=\"M0 0h24v24H0V0z\" fill=\"none\"/>\n",
              "    <path d=\"M18.56 5.44l.94 2.06.94-2.06 2.06-.94-2.06-.94-.94-2.06-.94 2.06-2.06.94zm-11 1L8.5 8.5l.94-2.06 2.06-.94-2.06-.94L8.5 2.5l-.94 2.06-2.06.94zm10 10l.94 2.06.94-2.06 2.06-.94-2.06-.94-.94-2.06-.94 2.06-2.06.94z\"/><path d=\"M17.41 7.96l-1.37-1.37c-.4-.4-.92-.59-1.43-.59-.52 0-1.04.2-1.43.59L10.3 9.45l-7.72 7.72c-.78.78-.78 2.05 0 2.83L4 21.41c.39.39.9.59 1.41.59.51 0 1.02-.2 1.41-.59l7.78-7.78 2.81-2.81c.8-.78.8-2.07 0-2.86zM5.41 20L4 18.59l7.72-7.72 1.47 1.35L5.41 20z\"/>\n",
              "  </svg>\n",
              "      </button>\n",
              "      \n",
              "  <style>\n",
              "    .colab-df-container {\n",
              "      display:flex;\n",
              "      flex-wrap:wrap;\n",
              "      gap: 12px;\n",
              "    }\n",
              "\n",
              "    .colab-df-convert {\n",
              "      background-color: #E8F0FE;\n",
              "      border: none;\n",
              "      border-radius: 50%;\n",
              "      cursor: pointer;\n",
              "      display: none;\n",
              "      fill: #1967D2;\n",
              "      height: 32px;\n",
              "      padding: 0 0 0 0;\n",
              "      width: 32px;\n",
              "    }\n",
              "\n",
              "    .colab-df-convert:hover {\n",
              "      background-color: #E2EBFA;\n",
              "      box-shadow: 0px 1px 2px rgba(60, 64, 67, 0.3), 0px 1px 3px 1px rgba(60, 64, 67, 0.15);\n",
              "      fill: #174EA6;\n",
              "    }\n",
              "\n",
              "    [theme=dark] .colab-df-convert {\n",
              "      background-color: #3B4455;\n",
              "      fill: #D2E3FC;\n",
              "    }\n",
              "\n",
              "    [theme=dark] .colab-df-convert:hover {\n",
              "      background-color: #434B5C;\n",
              "      box-shadow: 0px 1px 3px 1px rgba(0, 0, 0, 0.15);\n",
              "      filter: drop-shadow(0px 1px 2px rgba(0, 0, 0, 0.3));\n",
              "      fill: #FFFFFF;\n",
              "    }\n",
              "  </style>\n",
              "\n",
              "      <script>\n",
              "        const buttonEl =\n",
              "          document.querySelector('#df-bb68e4dc-9da9-4001-9f1b-f7e39d528dd9 button.colab-df-convert');\n",
              "        buttonEl.style.display =\n",
              "          google.colab.kernel.accessAllowed ? 'block' : 'none';\n",
              "\n",
              "        async function convertToInteractive(key) {\n",
              "          const element = document.querySelector('#df-bb68e4dc-9da9-4001-9f1b-f7e39d528dd9');\n",
              "          const dataTable =\n",
              "            await google.colab.kernel.invokeFunction('convertToInteractive',\n",
              "                                                     [key], {});\n",
              "          if (!dataTable) return;\n",
              "\n",
              "          const docLinkHtml = 'Like what you see? Visit the ' +\n",
              "            '<a target=\"_blank\" href=https://colab.research.google.com/notebooks/data_table.ipynb>data table notebook</a>'\n",
              "            + ' to learn more about interactive tables.';\n",
              "          element.innerHTML = '';\n",
              "          dataTable['output_type'] = 'display_data';\n",
              "          await google.colab.output.renderOutput(dataTable, element);\n",
              "          const docLink = document.createElement('div');\n",
              "          docLink.innerHTML = docLinkHtml;\n",
              "          element.appendChild(docLink);\n",
              "        }\n",
              "      </script>\n",
              "    </div>\n",
              "  </div>\n",
              "  "
            ],
            "text/plain": [
              "                 model  train accuracy  accuracy        f1  precision    recall\n",
              "0                  SVM           0.705  0.604651  0.753623   0.604651  1.000000\n",
              "1  Logistic Regression           0.700  0.604651  0.753623   0.604651  1.000000\n",
              "2        Decision Tree           0.670  0.581395  0.499997   0.496744  0.581395\n",
              "3                  KNN           0.710  0.604651  0.530544   0.572356  0.675325\n",
              "4        Random Forest           0.725  0.604651  0.523961   0.527234  0.604651"
            ]
          },
          "metadata": {},
          "execution_count": 643
        }
      ]
    },
    {
      "cell_type": "code",
      "source": [
        "plt.figure(figsize=(10,5))\n",
        "plt.plot(metrics_w2v['model'],metrics_w2v['accuracy'],'bo',linestyle='solid',linewidth=2, markersize=10)\n",
        "plt.xlabel(\"Models used\", fontdict=font)\n",
        "plt.ylabel(\"Accuracy\", fontdict=font)\n",
        "plt.title(\"Models vs Accuracy\", fontdict=font)\n",
        "plt.show()\n"
      ],
      "metadata": {
        "colab": {
          "base_uri": "https://localhost:8080/",
          "height": 360
        },
        "id": "W4-Jf7y8ei1O",
        "outputId": "86a9e81c-efc5-478a-b233-c96ed048c26c"
      },
      "execution_count": 656,
      "outputs": [
        {
          "output_type": "display_data",
          "data": {
            "image/png": "[encoded data removed]",
            "text/plain": [
              "<Figure size 720x360 with 1 Axes>"
            ]
          },
          "metadata": {
            "needs_background": "light"
          }
        }
      ]
    },
    {
      "cell_type": "markdown",
      "source": [
        "## *Fast Text*"
      ],
      "metadata": {
        "id": "xTiOntNWxP1A"
      }
    },
    {
      "cell_type": "code",
      "source": [
        "metrics_ftxt"
      ],
      "metadata": {
        "id": "vVspCAAfRYPd",
        "execution": {
          "iopub.status.busy": "2022-01-26T13:23:19.320369Z",
          "iopub.status.idle": "2022-01-26T13:23:19.320658Z",
          "shell.execute_reply.started": "2022-01-26T13:23:19.320496Z",
          "shell.execute_reply": "2022-01-26T13:23:19.320511Z"
        },
        "trusted": true,
        "colab": {
          "base_uri": "https://localhost:8080/",
          "height": 205
        },
        "outputId": "a76762b3-8258-4ec7-f022-fac322434b4e"
      },
      "execution_count": 644,
      "outputs": [
        {
          "output_type": "execute_result",
          "data": {
            "text/html": [
              "\n",
              "  <div id=\"df-0cd6a93c-9ea7-4301-af48-4d08b2e7192c\">\n",
              "    <div class=\"colab-df-container\">\n",
              "      <div>\n",
              "<style scoped>\n",
              "    .dataframe tbody tr th:only-of-type {\n",
              "        vertical-align: middle;\n",
              "    }\n",
              "\n",
              "    .dataframe tbody tr th {\n",
              "        vertical-align: top;\n",
              "    }\n",
              "\n",
              "    .dataframe thead th {\n",
              "        text-align: right;\n",
              "    }\n",
              "</style>\n",
              "<table border=\"1\" class=\"dataframe\">\n",
              "  <thead>\n",
              "    <tr style=\"text-align: right;\">\n",
              "      <th></th>\n",
              "      <th>model</th>\n",
              "      <th>train accuracy</th>\n",
              "      <th>accuracy</th>\n",
              "      <th>f1</th>\n",
              "      <th>precision</th>\n",
              "      <th>recall</th>\n",
              "    </tr>\n",
              "  </thead>\n",
              "  <tbody>\n",
              "    <tr>\n",
              "      <th>0</th>\n",
              "      <td>SVM</td>\n",
              "      <td>0.700</td>\n",
              "      <td>0.604651</td>\n",
              "      <td>0.753623</td>\n",
              "      <td>0.604651</td>\n",
              "      <td>1.000000</td>\n",
              "    </tr>\n",
              "    <tr>\n",
              "      <th>1</th>\n",
              "      <td>Logistic Regression</td>\n",
              "      <td>0.700</td>\n",
              "      <td>0.604651</td>\n",
              "      <td>0.753623</td>\n",
              "      <td>0.604651</td>\n",
              "      <td>1.000000</td>\n",
              "    </tr>\n",
              "    <tr>\n",
              "      <th>2</th>\n",
              "      <td>Decision Tree</td>\n",
              "      <td>0.675</td>\n",
              "      <td>0.581395</td>\n",
              "      <td>0.469647</td>\n",
              "      <td>0.404651</td>\n",
              "      <td>0.581395</td>\n",
              "    </tr>\n",
              "    <tr>\n",
              "      <th>3</th>\n",
              "      <td>KNN</td>\n",
              "      <td>0.710</td>\n",
              "      <td>0.593023</td>\n",
              "      <td>0.502796</td>\n",
              "      <td>0.405195</td>\n",
              "      <td>0.662338</td>\n",
              "    </tr>\n",
              "    <tr>\n",
              "      <th>4</th>\n",
              "      <td>Random Forest</td>\n",
              "      <td>0.720</td>\n",
              "      <td>0.581395</td>\n",
              "      <td>0.481863</td>\n",
              "      <td>0.483662</td>\n",
              "      <td>0.581395</td>\n",
              "    </tr>\n",
              "  </tbody>\n",
              "</table>\n",
              "</div>\n",
              "      <button class=\"colab-df-convert\" onclick=\"convertToInteractive('df-0cd6a93c-9ea7-4301-af48-4d08b2e7192c')\"\n",
              "              title=\"Convert this dataframe to an interactive table.\"\n",
              "              style=\"display:none;\">\n",
              "        \n",
              "  <svg xmlns=\"http://www.w3.org/2000/svg\" height=\"24px\"viewBox=\"0 0 24 24\"\n",
              "       width=\"24px\">\n",
              "    <path d=\"M0 0h24v24H0V0z\" fill=\"none\"/>\n",
              "    <path d=\"M18.56 5.44l.94 2.06.94-2.06 2.06-.94-2.06-.94-.94-2.06-.94 2.06-2.06.94zm-11 1L8.5 8.5l.94-2.06 2.06-.94-2.06-.94L8.5 2.5l-.94 2.06-2.06.94zm10 10l.94 2.06.94-2.06 2.06-.94-2.06-.94-.94-2.06-.94 2.06-2.06.94z\"/><path d=\"M17.41 7.96l-1.37-1.37c-.4-.4-.92-.59-1.43-.59-.52 0-1.04.2-1.43.59L10.3 9.45l-7.72 7.72c-.78.78-.78 2.05 0 2.83L4 21.41c.39.39.9.59 1.41.59.51 0 1.02-.2 1.41-.59l7.78-7.78 2.81-2.81c.8-.78.8-2.07 0-2.86zM5.41 20L4 18.59l7.72-7.72 1.47 1.35L5.41 20z\"/>\n",
              "  </svg>\n",
              "      </button>\n",
              "      \n",
              "  <style>\n",
              "    .colab-df-container {\n",
              "      display:flex;\n",
              "      flex-wrap:wrap;\n",
              "      gap: 12px;\n",
              "    }\n",
              "\n",
              "    .colab-df-convert {\n",
              "      background-color: #E8F0FE;\n",
              "      border: none;\n",
              "      border-radius: 50%;\n",
              "      cursor: pointer;\n",
              "      display: none;\n",
              "      fill: #1967D2;\n",
              "      height: 32px;\n",
              "      padding: 0 0 0 0;\n",
              "      width: 32px;\n",
              "    }\n",
              "\n",
              "    .colab-df-convert:hover {\n",
              "      background-color: #E2EBFA;\n",
              "      box-shadow: 0px 1px 2px rgba(60, 64, 67, 0.3), 0px 1px 3px 1px rgba(60, 64, 67, 0.15);\n",
              "      fill: #174EA6;\n",
              "    }\n",
              "\n",
              "    [theme=dark] .colab-df-convert {\n",
              "      background-color: #3B4455;\n",
              "      fill: #D2E3FC;\n",
              "    }\n",
              "\n",
              "    [theme=dark] .colab-df-convert:hover {\n",
              "      background-color: #434B5C;\n",
              "      box-shadow: 0px 1px 3px 1px rgba(0, 0, 0, 0.15);\n",
              "      filter: drop-shadow(0px 1px 2px rgba(0, 0, 0, 0.3));\n",
              "      fill: #FFFFFF;\n",
              "    }\n",
              "  </style>\n",
              "\n",
              "      <script>\n",
              "        const buttonEl =\n",
              "          document.querySelector('#df-0cd6a93c-9ea7-4301-af48-4d08b2e7192c button.colab-df-convert');\n",
              "        buttonEl.style.display =\n",
              "          google.colab.kernel.accessAllowed ? 'block' : 'none';\n",
              "\n",
              "        async function convertToInteractive(key) {\n",
              "          const element = document.querySelector('#df-0cd6a93c-9ea7-4301-af48-4d08b2e7192c');\n",
              "          const dataTable =\n",
              "            await google.colab.kernel.invokeFunction('convertToInteractive',\n",
              "                                                     [key], {});\n",
              "          if (!dataTable) return;\n",
              "\n",
              "          const docLinkHtml = 'Like what you see? Visit the ' +\n",
              "            '<a target=\"_blank\" href=https://colab.research.google.com/notebooks/data_table.ipynb>data table notebook</a>'\n",
              "            + ' to learn more about interactive tables.';\n",
              "          element.innerHTML = '';\n",
              "          dataTable['output_type'] = 'display_data';\n",
              "          await google.colab.output.renderOutput(dataTable, element);\n",
              "          const docLink = document.createElement('div');\n",
              "          docLink.innerHTML = docLinkHtml;\n",
              "          element.appendChild(docLink);\n",
              "        }\n",
              "      </script>\n",
              "    </div>\n",
              "  </div>\n",
              "  "
            ],
            "text/plain": [
              "                 model  train accuracy  accuracy        f1  precision    recall\n",
              "0                  SVM           0.700  0.604651  0.753623   0.604651  1.000000\n",
              "1  Logistic Regression           0.700  0.604651  0.753623   0.604651  1.000000\n",
              "2        Decision Tree           0.675  0.581395  0.469647   0.404651  0.581395\n",
              "3                  KNN           0.710  0.593023  0.502796   0.405195  0.662338\n",
              "4        Random Forest           0.720  0.581395  0.481863   0.483662  0.581395"
            ]
          },
          "metadata": {},
          "execution_count": 644
        }
      ]
    },
    {
      "cell_type": "code",
      "source": [
        "plt.figure(figsize=(10,5))\n",
        "plt.plot(metrics_ftxt['model'],metrics_ftxt['accuracy'],'bo',linestyle='solid',linewidth=2, markersize=10)\n",
        "plt.xlabel(\"Models used\", fontdict=font)\n",
        "plt.ylabel(\"Accuracy\", fontdict=font)\n",
        "plt.title(\"Models vs Accuracy\", fontdict=font)\n",
        "plt.show()\n"
      ],
      "metadata": {
        "colab": {
          "base_uri": "https://localhost:8080/",
          "height": 360
        },
        "id": "WQ82NhAJeqGK",
        "outputId": "c8b53fed-7e2d-4c77-cc21-f091dd1b7f28"
      },
      "execution_count": 655,
      "outputs": [
        {
          "output_type": "display_data",
          "data": {
            "image/png": "[encoded data removed]",
            "text/plain": [
              "<Figure size 720x360 with 1 Axes>"
            ]
          },
          "metadata": {
            "needs_background": "light"
          }
        }
      ]
    }
  ]
}